{
 "cells": [
  {
   "cell_type": "markdown",
   "metadata": {},
   "source": [
    "\n",
    "### 【Pandas Tutorial】Lesson 1 数据读取和储存 - 知乎专栏\n",
    "https://zhuanlan.zhihu.com/p/26218273\n",
    "\n",
    "### 【Pandas Tutorial】Lesson 2 索引与切片 - 知乎专栏\n",
    "https://zhuanlan.zhihu.com/p/26309877\n"
   ]
  },
  {
   "cell_type": "code",
   "execution_count": 1,
   "metadata": {
    "ExecuteTime": {
     "end_time": "2017-05-17T14:24:47.113837",
     "start_time": "2017-05-17T14:24:47.099801"
    },
    "collapsed": false
   },
   "outputs": [
    {
     "data": {
      "application/javascript": [
       "Jupyter.keyboard_manager.command_shortcuts.add_shortcut('f5', {\n",
       "    help : 'run cell',\n",
       "    handler : function (event) {\n",
       "        IPython.notebook.execute_cell();\n",
       "        return false;}});\n",
       "Jupyter.keyboard_manager.command_shortcuts.add_shortcut('ctrl-.', {\n",
       "    help : 'run cell',\n",
       "    handler : function (event) {\n",
       "        IPython.notebook.execute_cell();\n",
       "        return false;}});\n",
       "Jupyter.keyboard_manager.edit_shortcuts.add_shortcut('f5', {\n",
       "    help : 'run cell',\n",
       "    handler : function (event) {\n",
       "        IPython.notebook.execute_cell();\n",
       "        return false;}});\n",
       "Jupyter.keyboard_manager.edit_shortcuts.add_shortcut('ctrl-.', {\n",
       "    help : 'run cell',\n",
       "    handler : function (event) {\n",
       "        IPython.notebook.execute_cell();\n",
       "        return false;}});\n",
       "Jupyter.keyboard_manager.edit_shortcuts.add_shortcut('ctrl-enter', {\n",
       "    help : 'none',\n",
       "    // 防止与 Sublime hotkey Ctrl+Enter 冲突\n",
       "    handler : function (event) {\n",
       "        return false;}});\n",
       "\n",
       "var patch = {CodeCell: {cm_config:{indentUnit: 2}}}\n",
       "Jupyter.notebook.get_selected_cell().config.update(patch)\n",
       "\n",
       "// 依据 ipynb 文件名, 给 cell 加上特定的背景色\n",
       "String.prototype.hashCode = function() {\n",
       "  var hash = 0, i, chr;\n",
       "  if (this.length === 0) return hash;\n",
       "  for (i = 0; i < this.length; i++) {\n",
       "    chr   = this.charCodeAt(i);\n",
       "    hash  = ((hash << 5) - hash) + chr;\n",
       "    hash |= 0; // Convert to 32bit integer\n",
       "  }\n",
       "  return hash;\n",
       "};\n",
       "\n",
       "function random_hue_color(label, s, l) {\n",
       "  // console.log(Math.abs(label.hashCode()))\n",
       "  var hash_color = (Math.abs(label.hashCode()) % 360) / 360 * 100\n",
       "  return `hsl(${hash_color}, ${s}%, ${l}%)`\n",
       "}\n",
       "\n",
       "var notebook_path = IPython.notebook.notebook_path\n",
       "var color1 = random_hue_color(notebook_path, 20, 90)\n",
       "var color2 = random_hue_color(notebook_path, 40, 80)\n",
       "\n",
       "var css = document.createElement(\"style\")\n",
       "css.type = \"text/css\"\n",
       "css.innerHTML = `div.cell {background-color: ${color1};}`\n",
       "css.innerHTML +=`div.running {background-color: ${color2};}`\n",
       "css.innerHTML +=`div.running.selected {background-color: ${color2};}`\n",
       "css.innerHTML +='</style>'\n",
       "document.body.appendChild(css);\n",
       "\n"
      ],
      "text/plain": [
       "<IPython.core.display.Javascript object>"
      ]
     },
     "metadata": {},
     "output_type": "display_data"
    }
   ],
   "source": [
    "\n",
    "%%javascript\n",
    "Jupyter.keyboard_manager.command_shortcuts.add_shortcut('f5', {\n",
    "    help : 'run cell',\n",
    "    handler : function (event) {\n",
    "        IPython.notebook.execute_cell();\n",
    "        return false;}});\n",
    "Jupyter.keyboard_manager.command_shortcuts.add_shortcut('ctrl-.', {\n",
    "    help : 'run cell',\n",
    "    handler : function (event) {\n",
    "        IPython.notebook.execute_cell();\n",
    "        return false;}});\n",
    "Jupyter.keyboard_manager.edit_shortcuts.add_shortcut('f5', {\n",
    "    help : 'run cell',\n",
    "    handler : function (event) {\n",
    "        IPython.notebook.execute_cell();\n",
    "        return false;}});\n",
    "Jupyter.keyboard_manager.edit_shortcuts.add_shortcut('ctrl-.', {\n",
    "    help : 'run cell',\n",
    "    handler : function (event) {\n",
    "        IPython.notebook.execute_cell();\n",
    "        return false;}});\n",
    "Jupyter.keyboard_manager.edit_shortcuts.add_shortcut('ctrl-enter', {\n",
    "    help : 'none',\n",
    "    // 防止与 Sublime hotkey Ctrl+Enter 冲突\n",
    "    handler : function (event) {\n",
    "        return false;}});\n",
    "\n",
    "var patch = {CodeCell: {cm_config:{indentUnit: 2}}}\n",
    "Jupyter.notebook.get_selected_cell().config.update(patch)\n",
    "\n",
    "// 依据 ipynb 文件名, 给 cell 加上特定的背景色\n",
    "String.prototype.hashCode = function() {\n",
    "  var hash = 0, i, chr;\n",
    "  if (this.length === 0) return hash;\n",
    "  for (i = 0; i < this.length; i++) {\n",
    "    chr   = this.charCodeAt(i);\n",
    "    hash  = ((hash << 5) - hash) + chr;\n",
    "    hash |= 0; // Convert to 32bit integer\n",
    "  }\n",
    "  return hash;\n",
    "};\n",
    "\n",
    "function random_hue_color(label, s, l) {\n",
    "  // console.log(Math.abs(label.hashCode()))\n",
    "  var hash_color = (Math.abs(label.hashCode()) % 360) / 360 * 100\n",
    "  return `hsl(${hash_color}, ${s}%, ${l}%)`\n",
    "}\n",
    "\n",
    "var notebook_path = IPython.notebook.notebook_path\n",
    "var color1 = random_hue_color(notebook_path, 20, 90)\n",
    "var color2 = random_hue_color(notebook_path, 40, 80)\n",
    "\n",
    "var css = document.createElement(\"style\")\n",
    "css.type = \"text/css\"\n",
    "css.innerHTML = `div.cell {background-color: ${color1};}`\n",
    "css.innerHTML +=`div.running {background-color: ${color2};}`\n",
    "css.innerHTML +=`div.running.selected {background-color: ${color2};}`\n",
    "css.innerHTML +='</style>'\n",
    "document.body.appendChild(css);\n",
    "\n",
    "\n"
   ]
  },
  {
   "cell_type": "markdown",
   "metadata": {},
   "source": [
    "### 生成DataFrame"
   ]
  },
  {
   "cell_type": "code",
   "execution_count": 2,
   "metadata": {
    "ExecuteTime": {
     "end_time": "2017-05-17T14:24:50.845987",
     "start_time": "2017-05-17T14:24:50.379692"
    },
    "collapsed": true
   },
   "outputs": [],
   "source": [
    "# 首先先载入pandas包：\n",
    "\n",
    "import pandas as pd "
   ]
  },
  {
   "cell_type": "code",
   "execution_count": 4,
   "metadata": {
    "ExecuteTime": {
     "end_time": "2017-05-17T14:24:52.145508",
     "start_time": "2017-05-17T14:24:52.112386"
    },
    "collapsed": false
   },
   "outputs": [],
   "source": [
    "import sein as s"
   ]
  },
  {
   "cell_type": "code",
   "execution_count": 6,
   "metadata": {
    "ExecuteTime": {
     "end_time": "2017-05-17T14:25:19.844418",
     "start_time": "2017-05-17T14:25:19.837422"
    },
    "collapsed": false
   },
   "outputs": [
    {
     "name": "stdout",
     "output_type": "stream",
     "text": [
      "[(Bob, 968), (Jessica, 155), (Mary, 77), (John, 578), (Mel, 973)]\n"
     ]
    }
   ],
   "source": [
    "# 之后我们创建一个DataFrame：\n",
    "\n",
    "names = ['Bob','Jessica','Mary','John','Mel']\n",
    "births = [968, 155, 77, 578, 973]\n",
    "BabyDataSet = list(zip(names,births)) /s"
   ]
  },
  {
   "cell_type": "code",
   "execution_count": 9,
   "metadata": {
    "ExecuteTime": {
     "end_time": "2017-05-17T14:26:07.782800",
     "start_time": "2017-05-17T14:26:07.772772"
    },
    "collapsed": false
   },
   "outputs": [
    {
     "data": {
      "text/html": [
       "<div>\n",
       "<table border=\"1\" class=\"dataframe\">\n",
       "  <thead>\n",
       "    <tr style=\"text-align: right;\">\n",
       "      <th></th>\n",
       "      <th>Names</th>\n",
       "      <th>Births</th>\n",
       "    </tr>\n",
       "  </thead>\n",
       "  <tbody>\n",
       "    <tr>\n",
       "      <th>0</th>\n",
       "      <td>Bob</td>\n",
       "      <td>968</td>\n",
       "    </tr>\n",
       "    <tr>\n",
       "      <th>1</th>\n",
       "      <td>Jessica</td>\n",
       "      <td>155</td>\n",
       "    </tr>\n",
       "    <tr>\n",
       "      <th>2</th>\n",
       "      <td>Mary</td>\n",
       "      <td>77</td>\n",
       "    </tr>\n",
       "    <tr>\n",
       "      <th>3</th>\n",
       "      <td>John</td>\n",
       "      <td>578</td>\n",
       "    </tr>\n",
       "    <tr>\n",
       "      <th>4</th>\n",
       "      <td>Mel</td>\n",
       "      <td>973</td>\n",
       "    </tr>\n",
       "  </tbody>\n",
       "</table>\n",
       "</div>"
      ],
      "text/plain": [
       "     Names  Births\n",
       "0      Bob     968\n",
       "1  Jessica     155\n",
       "2     Mary      77\n",
       "3     John     578\n",
       "4      Mel     973"
      ]
     },
     "execution_count": 9,
     "metadata": {},
     "output_type": "execute_result"
    }
   ],
   "source": [
    "# 我们先是创建了names和births两个向量，然后将这两个向量通过zip函数合并，BabyDataSet现在是长这个样子的：\n",
    "# [('Bob', 968), ('Jessica', 155), ('Mary', 77), ('John', 578), ('Mel', 973)]\n",
    "# 后，我们可以使用BabyDataSet创建一个DataFrame，命名为df：\n",
    "\n",
    "df = pd.DataFrame(data=BabyDataSet, columns=['Names', 'Births'])\n",
    "df"
   ]
  },
  {
   "cell_type": "markdown",
   "metadata": {},
   "source": [
    "### 储存文件"
   ]
  },
  {
   "cell_type": "code",
   "execution_count": 10,
   "metadata": {
    "ExecuteTime": {
     "end_time": "2017-05-17T14:27:06.694383",
     "start_time": "2017-05-17T14:27:06.686363"
    },
    "collapsed": true
   },
   "outputs": [],
   "source": [
    "# 接下来，我们可以用pandas.to_csv函数，把这个DataFrame存为一个csv文件，\n",
    "# pandas里面存文件的函数名称基本都是这样一个格式，比如pandas.to_pickle等。\n",
    "# 这里有两个参数index和header，选False的话，index和columns的名称就不会存入文件。\n",
    "\n",
    "df.to_csv('births1880.csv', index=False, header=False)"
   ]
  }
 ],
 "metadata": {
  "kernelspec": {
   "display_name": "Python 3",
   "language": "python",
   "name": "python3"
  },
  "language_info": {
   "codemirror_mode": {
    "name": "ipython",
    "version": 3
   },
   "file_extension": ".py",
   "mimetype": "text/x-python",
   "name": "python",
   "nbconvert_exporter": "python",
   "pygments_lexer": "ipython3",
   "version": "3.5.2"
  }
 },
 "nbformat": 4,
 "nbformat_minor": 2
}
