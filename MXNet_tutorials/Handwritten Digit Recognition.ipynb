{
 "cells": [
  {
   "cell_type": "code",
   "execution_count": 1,
   "metadata": {
    "ExecuteTime": {
     "end_time": "2017-02-17T13:27:24.752344",
     "start_time": "2017-02-17T13:27:23.467742"
    },
    "collapsed": false,
    "deletable": true,
    "editable": true
   },
   "outputs": [],
   "source": [
    "import numpy as np\n",
    "import os\n",
    "import urllib\n",
    "import gzip\n",
    "import struct\n",
    "import requests\n",
    "\n",
    "\n",
    "        \n",
    "def download_data(url, force_download=False): \n",
    "    fname = url.split(\"/\")[-1]\n",
    "    if force_download or not os.path.exists(fname):\n",
    "        r = requests.get(url, stream=True)\n",
    "        if r.status_code == 200:\n",
    "            with open(fname, 'wb') as f:\n",
    "                r.raw.decode_content = True\n",
    "                shutil.copyfileobj(r.raw, f)\n",
    "    return fname\n",
    "\n",
    "def read_data(label_url, image_url):\n",
    "    with gzip.open(download_data(label_url)) as flbl:\n",
    "        magic, num = struct.unpack(\">II\", flbl.read(8))\n",
    "        label = np.fromstring(flbl.read(), dtype=np.int8)\n",
    "    with gzip.open(download_data(image_url), 'rb') as fimg:\n",
    "        magic, num, rows, cols = struct.unpack(\">IIII\", fimg.read(16))\n",
    "        image = np.fromstring(fimg.read(), dtype=np.uint8).reshape(len(label), rows, cols)\n",
    "    return (label, image)\n",
    "\n",
    "  \n",
    "path='http://yann.lecun.com/exdb/mnist/'\n",
    "train_lbl, train_img = read_data(path+'train-labels-idx1-ubyte.gz', path+'train-images-idx3-ubyte.gz')\n",
    "val_lbl, val_img = read_data(path+'t10k-labels-idx1-ubyte.gz', path+'t10k-images-idx3-ubyte.gz')\n",
    "\n",
    "\n",
    "\n",
    "\n",
    "\n",
    "\n"
   ]
  },
  {
   "cell_type": "code",
   "execution_count": 2,
   "metadata": {
    "ExecuteTime": {
     "end_time": "2017-02-17T13:27:26.234491",
     "start_time": "2017-02-17T13:27:26.218947"
    },
    "collapsed": false,
    "deletable": true,
    "editable": true
   },
   "outputs": [
    {
     "data": {
      "application/javascript": [
       "Jupyter.keyboard_manager.command_shortcuts.add_shortcut('f5', {\n",
       "    help : 'run cell',\n",
       "    handler : function (event) {\n",
       "        IPython.notebook.execute_cell();\n",
       "        return false;\n",
       "    }}                                               \n",
       ");\n",
       "\n",
       "\n",
       "\n",
       "Jupyter.keyboard_manager.command_shortcuts.add_shortcut('ctrl-.', {\n",
       "    help : 'run cell',\n",
       "    handler : function (event) {\n",
       "        IPython.notebook.execute_cell();\n",
       "        return false;\n",
       "    }}                                               \n",
       ");\n",
       "Jupyter.keyboard_manager.edit_shortcuts.add_shortcut('f5', {\n",
       "    help : 'run cell',\n",
       "    handler : function (event) {\n",
       "        IPython.notebook.execute_cell();\n",
       "        return false;\n",
       "    }}                                               \n",
       ");\n",
       "Jupyter.keyboard_manager.edit_shortcuts.add_shortcut('ctrl-.', {\n",
       "    help : 'run cell',\n",
       "    handler : function (event) {\n",
       "        IPython.notebook.execute_cell();\n",
       "        return false;\n",
       "    }}                                                                                        \n",
       ");\n",
       "\n",
       "Jupyter.keyboard_manager.edit_shortcuts.add_shortcut('ctrl-enter', {\n",
       "    help : 'none',\n",
       "    // 防止与 Sublime hotkey Ctrl+Enter 冲突\n",
       "    handler : function (event) {\n",
       "        return false;\n",
       "    }}\n",
       ");\n",
       "\n",
       "var cell = Jupyter.notebook.get_selected_cell();\n",
       "var config = cell.config;\n",
       "var patch = {\n",
       "      CodeCell: {\n",
       "        cm_config:{indentUnit: 2}\n",
       "      }\n",
       "    }\n",
       "config.update(patch)\n",
       "\n",
       "\n",
       "\n"
      ],
      "text/plain": [
       "<IPython.core.display.Javascript object>"
      ]
     },
     "metadata": {},
     "output_type": "display_data"
    }
   ],
   "source": [
    "%%javascript\n",
    "Jupyter.keyboard_manager.command_shortcuts.add_shortcut('f5', {\n",
    "    help : 'run cell',\n",
    "    handler : function (event) {\n",
    "        IPython.notebook.execute_cell();\n",
    "        return false;\n",
    "    }}                                               \n",
    ");\n",
    "\n",
    "\n",
    "\n",
    "Jupyter.keyboard_manager.command_shortcuts.add_shortcut('ctrl-.', {\n",
    "    help : 'run cell',\n",
    "    handler : function (event) {\n",
    "        IPython.notebook.execute_cell();\n",
    "        return false;\n",
    "    }}                                               \n",
    ");\n",
    "Jupyter.keyboard_manager.edit_shortcuts.add_shortcut('f5', {\n",
    "    help : 'run cell',\n",
    "    handler : function (event) {\n",
    "        IPython.notebook.execute_cell();\n",
    "        return false;\n",
    "    }}                                               \n",
    ");\n",
    "Jupyter.keyboard_manager.edit_shortcuts.add_shortcut('ctrl-.', {\n",
    "    help : 'run cell',\n",
    "    handler : function (event) {\n",
    "        IPython.notebook.execute_cell();\n",
    "        return false;\n",
    "    }}                                                                                        \n",
    ");\n",
    "\n",
    "Jupyter.keyboard_manager.edit_shortcuts.add_shortcut('ctrl-enter', {\n",
    "    help : 'none',\n",
    "    // 防止与 Sublime hotkey Ctrl+Enter 冲突\n",
    "    handler : function (event) {\n",
    "        return false;\n",
    "    }}\n",
    ");\n",
    "\n",
    "var cell = Jupyter.notebook.get_selected_cell();\n",
    "var config = cell.config;\n",
    "var patch = {\n",
    "      CodeCell: {\n",
    "        cm_config:{indentUnit: 2}\n",
    "      }\n",
    "    }\n",
    "config.update(patch)\n",
    "\n",
    "\n",
    "\n",
    "\n"
   ]
  },
  {
   "cell_type": "code",
   "execution_count": 3,
   "metadata": {
    "ExecuteTime": {
     "end_time": "2017-02-17T13:27:30.780665",
     "start_time": "2017-02-17T13:27:28.467269"
    },
    "collapsed": false,
    "deletable": true,
    "editable": true
   },
   "outputs": [
    {
     "data": {
      "image/png": "[encoded data removed]",
      "text/plain": [
       "<matplotlib.figure.Figure at 0x2103cae0470>"
      ]
     },
     "metadata": {},
     "output_type": "display_data"
    },
    {
     "name": "stdout",
     "output_type": "stream",
     "text": [
      "label: [5 0 4 1 9 2 1 3 1 4]\n"
     ]
    }
   ],
   "source": [
    "%matplotlib inline\n",
    "import matplotlib.pyplot as plt\n",
    "for i in range(10):\n",
    "    plt.subplot(1,10,i+1)\n",
    "    plt.imshow(train_img[i], cmap='Greys_r')\n",
    "    plt.axis('off')\n",
    "plt.show()\n",
    "print('label: %s' % (train_lbl[0:10],))\n",
    "\n"
   ]
  },
  {
   "cell_type": "code",
   "execution_count": null,
   "metadata": {
    "ExecuteTime": {
     "end_time": "2017-02-17T11:53:35.754925",
     "start_time": "2017-02-17T11:53:35.712784"
    },
    "collapsed": false,
    "deletable": true,
    "editable": true
   },
   "outputs": [],
   "source": [
    "train_img.shape\n"
   ]
  },
  {
   "cell_type": "code",
   "execution_count": 4,
   "metadata": {
    "ExecuteTime": {
     "end_time": "2017-02-17T13:27:32.086736",
     "start_time": "2017-02-17T13:27:30.784675"
    },
    "collapsed": false,
    "deletable": true,
    "editable": true
   },
   "outputs": [],
   "source": [
    "import mxnet as mx\n",
    "\n",
    "def to4d(img):\n",
    "    return img.reshape(img.shape[0], 1, 28, 28).astype(np.float32)/255\n",
    "\n",
    "batch_size = 100\n",
    "train_iter = mx.io.NDArrayIter(to4d(train_img), train_lbl, batch_size, shuffle=True)\n",
    "val_iter = mx.io.NDArrayIter(to4d(val_img), val_lbl, batch_size)\n",
    "\n",
    "\n"
   ]
  },
  {
   "cell_type": "markdown",
   "metadata": {},
   "source": [
    "```bash\n",
    "conda install graphviz\n",
    "pip install graphviz\n",
    "```\n",
    "\n",
    "都需要, 前者是 bin 程序, 后者是 python binding, 虽然都叫一个名字\n",
    "\n",
    "完之后要在 System Path 里添加 `C:\\ProgramData\\Anaconda3\\Library\\bin\\graphviz`\n",
    "\n",
    "好让 Python 找到 graphviz 的 bin 程序\n",
    "\n",
    "完后需要重新开启 shell, 仅仅重启 Jupyter kernel 是不够的\n",
    "\n",
    "\n",
    "\n",
    "另, 这个路径也是一堆 bin bat, 不知什么用, 不需要添加到 Path `C:\\ProgramData\\Anaconda3\\pkgs\\graphviz-2.38.0-4\\Library\\bin`\n",
    "\n"
   ]
  },
  {
   "cell_type": "code",
   "execution_count": 5,
   "metadata": {
    "ExecuteTime": {
     "end_time": "2017-02-17T13:27:33.010215",
     "start_time": "2017-02-17T13:27:32.399055"
    },
    "collapsed": false,
    "deletable": true,
    "editable": true
   },
   "outputs": [
    {
     "data": {
      "image/svg+xml": [
       "<?xml version=\"1.0\" encoding=\"UTF-8\" standalone=\"no\"?>\r\n",
       "<!DOCTYPE svg PUBLIC \"-//W3C//DTD SVG 1.1//EN\"\r\n",
       " \"http://www.w3.org/Graphics/SVG/1.1/DTD/svg11.dtd\">\r\n",
       "<!-- Generated by graphviz version 2.38.0 (20140413.2041)\r\n",
       " -->\r\n",
       "<!-- Title: plot Pages: 1 -->\r\n",
       "<svg width=\"102pt\" height=\"720pt\"\r\n",
       " viewBox=\"0.00 0.00 102.00 720.00\" xmlns=\"http://www.w3.org/2000/svg\" xmlns:xlink=\"http://www.w3.org/1999/xlink\">\r\n",
       "<g id=\"graph0\" class=\"graph\" transform=\"scale(1 1) rotate(0) translate(4 716)\">\r\n",
       "<title>plot</title>\r\n",
       "<polygon fill=\"white\" stroke=\"none\" points=\"-4,4 -4,-716 98,-716 98,4 -4,4\"/>\r\n",
       "<!-- flatten0 -->\r\n",
       "<g id=\"node1\" class=\"node\"><title>flatten0</title>\r\n",
       "<polygon fill=\"#fdb462\" stroke=\"black\" points=\"94,-58 -7.10543e-015,-58 -7.10543e-015,-0 94,-0 94,-58\"/>\r\n",
       "<text text-anchor=\"middle\" x=\"47\" y=\"-25.3\" font-family=\"Times New Roman,serif\" font-size=\"14.00\">Flatten</text>\r\n",
       "</g>\r\n",
       "<!-- fc1 -->\r\n",
       "<g id=\"node2\" class=\"node\"><title>fc1</title>\r\n",
       "<polygon fill=\"#fb8072\" stroke=\"black\" points=\"94,-167 -7.10543e-015,-167 -7.10543e-015,-109 94,-109 94,-167\"/>\r\n",
       "<text text-anchor=\"middle\" x=\"47\" y=\"-141.8\" font-family=\"Times New Roman,serif\" font-size=\"14.00\">FullyConnected</text>\r\n",
       "<text text-anchor=\"middle\" x=\"47\" y=\"-126.8\" font-family=\"Times New Roman,serif\" font-size=\"14.00\">128</text>\r\n",
       "</g>\r\n",
       "<!-- fc1&#45;&gt;flatten0 -->\r\n",
       "<g id=\"edge1\" class=\"edge\"><title>fc1&#45;&gt;flatten0</title>\r\n",
       "<path fill=\"none\" stroke=\"black\" d=\"M47,-98.5824C47,-85.2841 47,-70.632 47,-58.2967\"/>\r\n",
       "<polygon fill=\"black\" stroke=\"black\" points=\"47,-108.887 42.5001,-98.887 47,-103.887 47.0001,-98.887 47.0001,-98.887 47.0001,-98.887 47,-103.887 51.5001,-98.8871 47,-108.887 47,-108.887\"/>\r\n",
       "<text text-anchor=\"middle\" x=\"57.5\" y=\"-79.8\" font-family=\"Times New Roman,serif\" font-size=\"14.00\">784</text>\r\n",
       "</g>\r\n",
       "<!-- relu1 -->\r\n",
       "<g id=\"node3\" class=\"node\"><title>relu1</title>\r\n",
       "<polygon fill=\"#ffffb3\" stroke=\"black\" points=\"94,-276 -7.10543e-015,-276 -7.10543e-015,-218 94,-218 94,-276\"/>\r\n",
       "<text text-anchor=\"middle\" x=\"47\" y=\"-250.8\" font-family=\"Times New Roman,serif\" font-size=\"14.00\">Activation</text>\r\n",
       "<text text-anchor=\"middle\" x=\"47\" y=\"-235.8\" font-family=\"Times New Roman,serif\" font-size=\"14.00\">relu</text>\r\n",
       "</g>\r\n",
       "<!-- relu1&#45;&gt;fc1 -->\r\n",
       "<g id=\"edge2\" class=\"edge\"><title>relu1&#45;&gt;fc1</title>\r\n",
       "<path fill=\"none\" stroke=\"black\" d=\"M47,-207.582C47,-194.284 47,-179.632 47,-167.297\"/>\r\n",
       "<polygon fill=\"black\" stroke=\"black\" points=\"47,-217.887 42.5001,-207.887 47,-212.887 47.0001,-207.887 47.0001,-207.887 47.0001,-207.887 47,-212.887 51.5001,-207.887 47,-217.887 47,-217.887\"/>\r\n",
       "<text text-anchor=\"middle\" x=\"57.5\" y=\"-188.8\" font-family=\"Times New Roman,serif\" font-size=\"14.00\">128</text>\r\n",
       "</g>\r\n",
       "<!-- fc2 -->\r\n",
       "<g id=\"node4\" class=\"node\"><title>fc2</title>\r\n",
       "<polygon fill=\"#fb8072\" stroke=\"black\" points=\"94,-385 -7.10543e-015,-385 -7.10543e-015,-327 94,-327 94,-385\"/>\r\n",
       "<text text-anchor=\"middle\" x=\"47\" y=\"-359.8\" font-family=\"Times New Roman,serif\" font-size=\"14.00\">FullyConnected</text>\r\n",
       "<text text-anchor=\"middle\" x=\"47\" y=\"-344.8\" font-family=\"Times New Roman,serif\" font-size=\"14.00\">64</text>\r\n",
       "</g>\r\n",
       "<!-- fc2&#45;&gt;relu1 -->\r\n",
       "<g id=\"edge3\" class=\"edge\"><title>fc2&#45;&gt;relu1</title>\r\n",
       "<path fill=\"none\" stroke=\"black\" d=\"M47,-316.582C47,-303.284 47,-288.632 47,-276.297\"/>\r\n",
       "<polygon fill=\"black\" stroke=\"black\" points=\"47,-326.887 42.5001,-316.887 47,-321.887 47.0001,-316.887 47.0001,-316.887 47.0001,-316.887 47,-321.887 51.5001,-316.887 47,-326.887 47,-326.887\"/>\r\n",
       "<text text-anchor=\"middle\" x=\"57.5\" y=\"-297.8\" font-family=\"Times New Roman,serif\" font-size=\"14.00\">128</text>\r\n",
       "</g>\r\n",
       "<!-- relu2 -->\r\n",
       "<g id=\"node5\" class=\"node\"><title>relu2</title>\r\n",
       "<polygon fill=\"#ffffb3\" stroke=\"black\" points=\"94,-494 -7.10543e-015,-494 -7.10543e-015,-436 94,-436 94,-494\"/>\r\n",
       "<text text-anchor=\"middle\" x=\"47\" y=\"-468.8\" font-family=\"Times New Roman,serif\" font-size=\"14.00\">Activation</text>\r\n",
       "<text text-anchor=\"middle\" x=\"47\" y=\"-453.8\" font-family=\"Times New Roman,serif\" font-size=\"14.00\">relu</text>\r\n",
       "</g>\r\n",
       "<!-- relu2&#45;&gt;fc2 -->\r\n",
       "<g id=\"edge4\" class=\"edge\"><title>relu2&#45;&gt;fc2</title>\r\n",
       "<path fill=\"none\" stroke=\"black\" d=\"M47,-425.582C47,-412.284 47,-397.632 47,-385.297\"/>\r\n",
       "<polygon fill=\"black\" stroke=\"black\" points=\"47,-435.887 42.5001,-425.887 47,-430.887 47.0001,-425.887 47.0001,-425.887 47.0001,-425.887 47,-430.887 51.5001,-425.887 47,-435.887 47,-435.887\"/>\r\n",
       "<text text-anchor=\"middle\" x=\"54\" y=\"-406.8\" font-family=\"Times New Roman,serif\" font-size=\"14.00\">64</text>\r\n",
       "</g>\r\n",
       "<!-- fc3 -->\r\n",
       "<g id=\"node6\" class=\"node\"><title>fc3</title>\r\n",
       "<polygon fill=\"#fb8072\" stroke=\"black\" points=\"94,-603 -7.10543e-015,-603 -7.10543e-015,-545 94,-545 94,-603\"/>\r\n",
       "<text text-anchor=\"middle\" x=\"47\" y=\"-577.8\" font-family=\"Times New Roman,serif\" font-size=\"14.00\">FullyConnected</text>\r\n",
       "<text text-anchor=\"middle\" x=\"47\" y=\"-562.8\" font-family=\"Times New Roman,serif\" font-size=\"14.00\">10</text>\r\n",
       "</g>\r\n",
       "<!-- fc3&#45;&gt;relu2 -->\r\n",
       "<g id=\"edge5\" class=\"edge\"><title>fc3&#45;&gt;relu2</title>\r\n",
       "<path fill=\"none\" stroke=\"black\" d=\"M47,-534.582C47,-521.284 47,-506.632 47,-494.297\"/>\r\n",
       "<polygon fill=\"black\" stroke=\"black\" points=\"47,-544.887 42.5001,-534.887 47,-539.887 47.0001,-534.887 47.0001,-534.887 47.0001,-534.887 47,-539.887 51.5001,-534.887 47,-544.887 47,-544.887\"/>\r\n",
       "<text text-anchor=\"middle\" x=\"54\" y=\"-515.8\" font-family=\"Times New Roman,serif\" font-size=\"14.00\">64</text>\r\n",
       "</g>\r\n",
       "<!-- softmax -->\r\n",
       "<g id=\"node7\" class=\"node\"><title>softmax</title>\r\n",
       "<polygon fill=\"#fccde5\" stroke=\"black\" points=\"94,-712 -7.10543e-015,-712 -7.10543e-015,-654 94,-654 94,-712\"/>\r\n",
       "<text text-anchor=\"middle\" x=\"47\" y=\"-679.3\" font-family=\"Times New Roman,serif\" font-size=\"14.00\">SoftmaxOutput</text>\r\n",
       "</g>\r\n",
       "<!-- softmax&#45;&gt;fc3 -->\r\n",
       "<g id=\"edge6\" class=\"edge\"><title>softmax&#45;&gt;fc3</title>\r\n",
       "<path fill=\"none\" stroke=\"black\" d=\"M47,-643.582C47,-630.284 47,-615.632 47,-603.297\"/>\r\n",
       "<polygon fill=\"black\" stroke=\"black\" points=\"47,-653.887 42.5001,-643.887 47,-648.887 47.0001,-643.887 47.0001,-643.887 47.0001,-643.887 47,-648.887 51.5001,-643.887 47,-653.887 47,-653.887\"/>\r\n",
       "<text text-anchor=\"middle\" x=\"54\" y=\"-624.8\" font-family=\"Times New Roman,serif\" font-size=\"14.00\">10</text>\r\n",
       "</g>\r\n",
       "</g>\r\n",
       "</svg>\r\n"
      ],
      "text/plain": [
       "<graphviz.dot.Digraph at 0x210575bdcc0>"
      ]
     },
     "execution_count": 5,
     "metadata": {},
     "output_type": "execute_result"
    }
   ],
   "source": [
    "import mxnet as mx\n",
    "# Create a place holder variable for the input data\n",
    "data = mx.sym.Variable('data')\n",
    "# Flatten the data from 4-D shape (batch_size, num_channel, width, height) \n",
    "# into 2-D (batch_size, num_channel*width*height)\n",
    "data = mx.sym.Flatten(data=data)\n",
    "\n",
    "# The first fully-connected layer\n",
    "fc1  = mx.sym.FullyConnected(data=data, name='fc1', num_hidden=128)\n",
    "# Apply relu to the output of the first fully-connnected layer\n",
    "act1 = mx.sym.Activation(data=fc1, name='relu1', act_type=\"relu\")\n",
    "\n",
    "# The second fully-connected layer and the according activation function\n",
    "fc2  = mx.sym.FullyConnected(data=act1, name='fc2', num_hidden=64)\n",
    "act2 = mx.sym.Activation(data=fc2, name='relu2', act_type=\"relu\")\n",
    "\n",
    "# The thrid fully-connected layer, \n",
    "# note that the hidden size should be 10, which is the number of unique digits\n",
    "fc3  = mx.sym.FullyConnected(data=act2, name='fc3', num_hidden=10)\n",
    "# The softmax and loss layer\n",
    "mlp  = mx.sym.SoftmaxOutput(data=fc3, name='softmax')\n",
    "\n",
    "# We visualize the network structure with output size (the batch_size is ignored.)\n",
    "shape = {\"data\" : (batch_size, 1, 28, 28)}\n",
    "mx.viz.plot_network(symbol=mlp, shape=shape)\n",
    "\n"
   ]
  },
  {
   "cell_type": "code",
   "execution_count": 6,
   "metadata": {
    "ExecuteTime": {
     "end_time": "2017-02-17T13:32:11.523435",
     "start_time": "2017-02-17T13:31:47.417154"
    },
    "collapsed": false
   },
   "outputs": [
    {
     "name": "stderr",
     "output_type": "stream",
     "text": [
      "INFO:root:Start training with [cpu(0)]\n",
      "INFO:root:Epoch[0] Batch [200]\tSpeed: 27742.05 samples/sec\tTrain-accuracy=0.116300\n",
      "INFO:root:Epoch[0] Batch [400]\tSpeed: 28333.55 samples/sec\tTrain-accuracy=0.109650\n",
      "INFO:root:Epoch[0] Batch [600]\tSpeed: 22361.90 samples/sec\tTrain-accuracy=0.223950\n",
      "INFO:root:Epoch[0] Resetting Data Iterator\n",
      "INFO:root:Epoch[0] Time cost=2.350\n",
      "INFO:root:Epoch[0] Validation-accuracy=0.472100\n",
      "INFO:root:Epoch[1] Batch [200]\tSpeed: 27839.26 samples/sec\tTrain-accuracy=0.611200\n",
      "INFO:root:Epoch[1] Batch [400]\tSpeed: 27917.14 samples/sec\tTrain-accuracy=0.799100\n",
      "INFO:root:Epoch[1] Batch [600]\tSpeed: 26560.29 samples/sec\tTrain-accuracy=0.843800\n",
      "INFO:root:Epoch[1] Resetting Data Iterator\n",
      "INFO:root:Epoch[1] Time cost=2.201\n",
      "INFO:root:Epoch[1] Validation-accuracy=0.863800\n",
      "INFO:root:Epoch[2] Batch [200]\tSpeed: 28700.46 samples/sec\tTrain-accuracy=0.868600\n",
      "INFO:root:Epoch[2] Batch [400]\tSpeed: 29660.66 samples/sec\tTrain-accuracy=0.893500\n",
      "INFO:root:Epoch[2] Batch [600]\tSpeed: 29793.58 samples/sec\tTrain-accuracy=0.911700\n",
      "INFO:root:Epoch[2] Resetting Data Iterator\n",
      "INFO:root:Epoch[2] Time cost=2.054\n",
      "INFO:root:Epoch[2] Validation-accuracy=0.917900\n",
      "INFO:root:Epoch[3] Batch [200]\tSpeed: 30499.68 samples/sec\tTrain-accuracy=0.920800\n",
      "INFO:root:Epoch[3] Batch [400]\tSpeed: 30640.26 samples/sec\tTrain-accuracy=0.930650\n",
      "INFO:root:Epoch[3] Batch [600]\tSpeed: 25655.02 samples/sec\tTrain-accuracy=0.938350\n",
      "INFO:root:Epoch[3] Resetting Data Iterator\n",
      "INFO:root:Epoch[3] Time cost=2.105\n",
      "INFO:root:Epoch[3] Validation-accuracy=0.942300\n",
      "INFO:root:Epoch[4] Batch [200]\tSpeed: 24964.71 samples/sec\tTrain-accuracy=0.943300\n",
      "INFO:root:Epoch[4] Batch [400]\tSpeed: 30569.84 samples/sec\tTrain-accuracy=0.948600\n",
      "INFO:root:Epoch[4] Batch [600]\tSpeed: 30453.14 samples/sec\tTrain-accuracy=0.952000\n",
      "INFO:root:Epoch[4] Resetting Data Iterator\n",
      "INFO:root:Epoch[4] Time cost=2.123\n",
      "INFO:root:Epoch[4] Validation-accuracy=0.952300\n",
      "INFO:root:Epoch[5] Batch [200]\tSpeed: 25137.75 samples/sec\tTrain-accuracy=0.955900\n",
      "INFO:root:Epoch[5] Batch [400]\tSpeed: 29311.99 samples/sec\tTrain-accuracy=0.958250\n",
      "INFO:root:Epoch[5] Batch [600]\tSpeed: 25058.79 samples/sec\tTrain-accuracy=0.961550\n",
      "INFO:root:Epoch[5] Resetting Data Iterator\n",
      "INFO:root:Epoch[5] Time cost=2.286\n",
      "INFO:root:Epoch[5] Validation-accuracy=0.959700\n",
      "INFO:root:Epoch[6] Batch [200]\tSpeed: 24824.93 samples/sec\tTrain-accuracy=0.963900\n",
      "INFO:root:Epoch[6] Batch [400]\tSpeed: 28659.20 samples/sec\tTrain-accuracy=0.964400\n",
      "INFO:root:Epoch[6] Batch [600]\tSpeed: 23843.52 samples/sec\tTrain-accuracy=0.968100\n",
      "INFO:root:Epoch[6] Resetting Data Iterator\n",
      "INFO:root:Epoch[6] Time cost=2.353\n",
      "INFO:root:Epoch[6] Validation-accuracy=0.962600\n",
      "INFO:root:Epoch[7] Batch [200]\tSpeed: 26774.23 samples/sec\tTrain-accuracy=0.969950\n",
      "INFO:root:Epoch[7] Batch [400]\tSpeed: 29882.84 samples/sec\tTrain-accuracy=0.969700\n",
      "INFO:root:Epoch[7] Batch [600]\tSpeed: 23760.34 samples/sec\tTrain-accuracy=0.973450\n",
      "INFO:root:Epoch[7] Resetting Data Iterator\n",
      "INFO:root:Epoch[7] Time cost=2.270\n",
      "INFO:root:Epoch[7] Validation-accuracy=0.967100\n",
      "INFO:root:Epoch[8] Batch [200]\tSpeed: 25153.62 samples/sec\tTrain-accuracy=0.973850\n",
      "INFO:root:Epoch[8] Batch [400]\tSpeed: 26074.25 samples/sec\tTrain-accuracy=0.973700\n",
      "INFO:root:Epoch[8] Batch [600]\tSpeed: 27588.95 samples/sec\tTrain-accuracy=0.977150\n",
      "INFO:root:Epoch[8] Resetting Data Iterator\n",
      "INFO:root:Epoch[8] Time cost=2.300\n",
      "INFO:root:Epoch[8] Validation-accuracy=0.969000\n",
      "INFO:root:Epoch[9] Batch [200]\tSpeed: 25572.83 samples/sec\tTrain-accuracy=0.976600\n",
      "INFO:root:Epoch[9] Batch [400]\tSpeed: 29704.85 samples/sec\tTrain-accuracy=0.977100\n",
      "INFO:root:Epoch[9] Batch [600]\tSpeed: 30085.65 samples/sec\tTrain-accuracy=0.979150\n",
      "INFO:root:Epoch[9] Resetting Data Iterator\n",
      "INFO:root:Epoch[9] Time cost=2.132\n",
      "INFO:root:Epoch[9] Validation-accuracy=0.970400\n"
     ]
    }
   ],
   "source": [
    "# @@@ AUTOTEST_OUTPUT_IGNORED_CELL\n",
    "import logging\n",
    "logging.getLogger().setLevel(logging.DEBUG)\n",
    "\n",
    "model = mx.model.FeedForward(\n",
    "    symbol = mlp,       # network structure\n",
    "    num_epoch = 10,     # number of data passes for training \n",
    "    learning_rate = 0.1 # learning rate of SGD \n",
    ")\n",
    "model.fit(\n",
    "    X=train_iter,       # training data\n",
    "    eval_data=val_iter, # validation data\n",
    "    batch_end_callback = mx.callback.Speedometer(batch_size, 200) # output progress for each 200 data batches\n",
    ")"
   ]
  },
  {
   "cell_type": "code",
   "execution_count": 7,
   "metadata": {
    "ExecuteTime": {
     "end_time": "2017-02-17T13:32:57.198084",
     "start_time": "2017-02-17T13:32:56.912054"
    },
    "collapsed": false
   },
   "outputs": [
    {
     "data": {
      "image/png": "[encoded data removed]",
      "text/plain": [
       "<matplotlib.figure.Figure at 0x210579e0048>"
      ]
     },
     "metadata": {},
     "output_type": "display_data"
    },
    {
     "name": "stdout",
     "output_type": "stream",
     "text": [
      "Classified as 7 with probability 0.999477\n"
     ]
    }
   ],
   "source": [
    "# After training is done, we can predict a single image.\n",
    "\n",
    "plt.imshow(val_img[0], cmap='Greys_r')\n",
    "plt.axis('off')\n",
    "plt.show()\n",
    "prob = model.predict(val_img[0:1].astype(np.float32)/255)[0]\n",
    "assert max(prob) > 0.99, \"Low prediction accuracy.\"\n",
    "print ('Classified as %d with probability %f' % (prob.argmax(), max(prob)))"
   ]
  },
  {
   "cell_type": "code",
   "execution_count": 8,
   "metadata": {
    "ExecuteTime": {
     "end_time": "2017-02-17T13:34:04.379242",
     "start_time": "2017-02-17T13:34:04.111539"
    },
    "collapsed": false
   },
   "outputs": [
    {
     "name": "stdout",
     "output_type": "stream",
     "text": [
      "Validation accuracy: 97.040000%\n"
     ]
    }
   ],
   "source": [
    "# We can also evaluate the accuracy given a data iterator.\n",
    "\n",
    "valid_acc = model.score(val_iter)\n",
    "print ('Validation accuracy: %f%%' % (valid_acc *100,))\n",
    "assert valid_acc > 0.95, \"Low validation accuracy.\""
   ]
  },
  {
   "cell_type": "code",
   "execution_count": 10,
   "metadata": {
    "ExecuteTime": {
     "end_time": "2017-02-17T13:34:48.241365",
     "start_time": "2017-02-17T13:34:46.855218"
    },
    "collapsed": false
   },
   "outputs": [
    {
     "data": {
      "text/plain": [
       "0.98096666666666665"
      ]
     },
     "execution_count": 10,
     "metadata": {},
     "output_type": "execute_result"
    }
   ],
   "source": [
    "model.score(train_iter)"
   ]
  },
  {
   "cell_type": "code",
   "execution_count": 12,
   "metadata": {
    "ExecuteTime": {
     "end_time": "2017-02-17T13:37:23.019373",
     "start_time": "2017-02-17T13:37:22.992287"
    },
    "collapsed": false
   },
   "outputs": [
    {
     "data": {
      "text/html": [
       "<style type=\"text/css\">\n",
       "  canvas { border: 1px solid black; }\n",
       "</style>\n",
       "\n",
       "<div id=\"board\">\n",
       "\n",
       "  <canvas id=\"myCanvas\" width=\"100px\" height=\"100px\">\n",
       "    Sorry, your browser doesn't support canvas technology.\n",
       "  </canvas>\n",
       "\n",
       "  <p>\n",
       "\n",
       "    <button id=\"classify\" onclick=\"classify()\">\n",
       "      Classify\n",
       "    </button>\n",
       "\n",
       "    <button id=\"clear\" onclick=\"myClear()\">\n",
       "      Clear\n",
       "    </button>\n",
       "    Result:\n",
       "    <input type=\"text\" id=\"result_output\" size=\"5\" value=\"\">\n",
       "\n",
       "  </p>\n",
       "\n",
       "</div>\n",
       "\n",
       "<script type = \"text/JavaScript\" src = \"https://ajax.googleapis.com/ajax/libs/jquery/1.4.2/jquery.min.js?ver=1.4.2\" > </script>\n",
       "\n",
       "<script type = \"text/javascript\" >\n",
       "    function init() {\n",
       "        var myCanvas = document.getElementById(\"myCanvas\");\n",
       "        var curColor = $('#selectColor option:selected').val();\n",
       "        if (myCanvas) {\n",
       "            var isDown = false;\n",
       "            var ctx = myCanvas.getContext(\"2d\");\n",
       "            var canvasX, canvasY;\n",
       "            ctx.lineWidth = 8;\n",
       "            $(myCanvas).mousedown(function(e) {\n",
       "                isDown = true;\n",
       "                ctx.beginPath();\n",
       "                var parentOffset = $(this).parent().offset();\n",
       "                canvasX = e.pageX - parentOffset.left;\n",
       "                canvasY = e.pageY - parentOffset.top;\n",
       "                ctx.moveTo(canvasX, canvasY);\n",
       "            }).mousemove(function(e) {\n",
       "                if (isDown != false) {\n",
       "                    var parentOffset = $(this).parent().offset();\n",
       "                    canvasX = e.pageX - parentOffset.left;\n",
       "                    canvasY = e.pageY - parentOffset.top;\n",
       "                    ctx.lineTo(canvasX, canvasY);\n",
       "                    ctx.strokeStyle = curColor;\n",
       "                    ctx.stroke();\n",
       "                }\n",
       "            }).mouseup(function(e) {\n",
       "                isDown = false;\n",
       "                ctx.closePath();\n",
       "            });\n",
       "        }\n",
       "        $('#selectColor').change(function() {\n",
       "            curColor = $('#selectColor option:selected').val();\n",
       "        });\n",
       "    }\n",
       "init();\n",
       "function handle_output(out) {\n",
       "    document.getElementById(\"result_output\").value = out.content.data[\"text/plain\"];\n",
       "}\n",
       "function classify() {\n",
       "    var kernel = IPython.notebook.kernel;\n",
       "    var myCanvas = document.getElementById(\"myCanvas\");\n",
       "    data = myCanvas.toDataURL('image/png');\n",
       "    document.getElementById(\"result_output\").value = \"\";\n",
       "    kernel.execute(\"classify('\" + data + \"')\", {\n",
       "        'iopub': {\n",
       "            'output': handle_output\n",
       "        }\n",
       "    }, {\n",
       "        silent: false\n",
       "    });\n",
       "}\n",
       "function myClear() {\n",
       "    var myCanvas = document.getElementById(\"myCanvas\");\n",
       "    myCanvas.getContext(\"2d\").clearRect(0, 0, myCanvas.width, myCanvas.height);\n",
       "}\n",
       "</script>"
      ],
      "text/plain": [
       "<IPython.core.display.HTML object>"
      ]
     },
     "execution_count": 12,
     "metadata": {},
     "output_type": "execute_result"
    }
   ],
   "source": [
    "from IPython.display import HTML\n",
    "import cv2\n",
    "import numpy as np\n",
    "\n",
    "def classify(img):\n",
    "    img = img[len('data:image/png;base64,'):].decode('base64')\n",
    "    img = cv2.imdecode(np.fromstring(img, np.uint8), -1)\n",
    "    img = cv2.resize(img[:,:,3], (28,28))\n",
    "    img = img.astype(np.float32).reshape((1,1,28,28))/255.0\n",
    "    return model.predict(img)[0].argmax()\n",
    "\n",
    "'''\n",
    "To see the model in action, run the demo notebook at\n",
    "https://github.com/dmlc/mxnet-notebooks/blob/master/python/tutorials/mnist.ipynb.\n",
    "'''\n",
    "HTML(filename=\"mnist_demo.html\")"
   ]
  },
  {
   "cell_type": "code",
   "execution_count": 13,
   "metadata": {
    "ExecuteTime": {
     "end_time": "2017-02-17T13:48:00.193397",
     "start_time": "2017-02-17T13:47:59.841581"
    },
    "collapsed": false
   },
   "outputs": [
    {
     "data": {
      "image/svg+xml": [
       "<?xml version=\"1.0\" encoding=\"UTF-8\" standalone=\"no\"?>\r\n",
       "<!DOCTYPE svg PUBLIC \"-//W3C//DTD SVG 1.1//EN\"\r\n",
       " \"http://www.w3.org/Graphics/SVG/1.1/DTD/svg11.dtd\">\r\n",
       "<!-- Generated by graphviz version 2.38.0 (20140413.2041)\r\n",
       " -->\r\n",
       "<!-- Title: plot Pages: 1 -->\r\n",
       "<svg width=\"110pt\" height=\"1156pt\"\r\n",
       " viewBox=\"0.00 0.00 110.00 1156.00\" xmlns=\"http://www.w3.org/2000/svg\" xmlns:xlink=\"http://www.w3.org/1999/xlink\">\r\n",
       "<g id=\"graph0\" class=\"graph\" transform=\"scale(1 1) rotate(0) translate(4 1152)\">\r\n",
       "<title>plot</title>\r\n",
       "<polygon fill=\"white\" stroke=\"none\" points=\"-4,4 -4,-1152 106,-1152 106,4 -4,4\"/>\r\n",
       "<!-- convolution0 -->\r\n",
       "<g id=\"node1\" class=\"node\"><title>convolution0</title>\r\n",
       "<polygon fill=\"#fb8072\" stroke=\"black\" points=\"94,-58 -7.10543e-015,-58 -7.10543e-015,-0 94,-0 94,-58\"/>\r\n",
       "<text text-anchor=\"middle\" x=\"47\" y=\"-32.8\" font-family=\"Times New Roman,serif\" font-size=\"14.00\">Convolution</text>\r\n",
       "<text text-anchor=\"middle\" x=\"47\" y=\"-17.8\" font-family=\"Times New Roman,serif\" font-size=\"14.00\">5x5/1, 20</text>\r\n",
       "</g>\r\n",
       "<!-- activation0 -->\r\n",
       "<g id=\"node2\" class=\"node\"><title>activation0</title>\r\n",
       "<polygon fill=\"#ffffb3\" stroke=\"black\" points=\"94,-167 -7.10543e-015,-167 -7.10543e-015,-109 94,-109 94,-167\"/>\r\n",
       "<text text-anchor=\"middle\" x=\"47\" y=\"-141.8\" font-family=\"Times New Roman,serif\" font-size=\"14.00\">Activation</text>\r\n",
       "<text text-anchor=\"middle\" x=\"47\" y=\"-126.8\" font-family=\"Times New Roman,serif\" font-size=\"14.00\">tanh</text>\r\n",
       "</g>\r\n",
       "<!-- activation0&#45;&gt;convolution0 -->\r\n",
       "<g id=\"edge1\" class=\"edge\"><title>activation0&#45;&gt;convolution0</title>\r\n",
       "<path fill=\"none\" stroke=\"black\" d=\"M47,-98.5824C47,-85.2841 47,-70.632 47,-58.2967\"/>\r\n",
       "<polygon fill=\"black\" stroke=\"black\" points=\"47,-108.887 42.5001,-98.887 47,-103.887 47.0001,-98.887 47.0001,-98.887 47.0001,-98.887 47,-103.887 51.5001,-98.8871 47,-108.887 47,-108.887\"/>\r\n",
       "<text text-anchor=\"middle\" x=\"74.5\" y=\"-79.8\" font-family=\"Times New Roman,serif\" font-size=\"14.00\">20x24x24</text>\r\n",
       "</g>\r\n",
       "<!-- pooling0 -->\r\n",
       "<g id=\"node3\" class=\"node\"><title>pooling0</title>\r\n",
       "<polygon fill=\"#80b1d3\" stroke=\"black\" points=\"94,-276 -7.10543e-015,-276 -7.10543e-015,-218 94,-218 94,-276\"/>\r\n",
       "<text text-anchor=\"middle\" x=\"47\" y=\"-250.8\" font-family=\"Times New Roman,serif\" font-size=\"14.00\">Pooling</text>\r\n",
       "<text text-anchor=\"middle\" x=\"47\" y=\"-235.8\" font-family=\"Times New Roman,serif\" font-size=\"14.00\">max, 2x2/2</text>\r\n",
       "</g>\r\n",
       "<!-- pooling0&#45;&gt;activation0 -->\r\n",
       "<g id=\"edge2\" class=\"edge\"><title>pooling0&#45;&gt;activation0</title>\r\n",
       "<path fill=\"none\" stroke=\"black\" d=\"M47,-207.582C47,-194.284 47,-179.632 47,-167.297\"/>\r\n",
       "<polygon fill=\"black\" stroke=\"black\" points=\"47,-217.887 42.5001,-207.887 47,-212.887 47.0001,-207.887 47.0001,-207.887 47.0001,-207.887 47,-212.887 51.5001,-207.887 47,-217.887 47,-217.887\"/>\r\n",
       "<text text-anchor=\"middle\" x=\"74.5\" y=\"-188.8\" font-family=\"Times New Roman,serif\" font-size=\"14.00\">20x24x24</text>\r\n",
       "</g>\r\n",
       "<!-- convolution1 -->\r\n",
       "<g id=\"node4\" class=\"node\"><title>convolution1</title>\r\n",
       "<polygon fill=\"#fb8072\" stroke=\"black\" points=\"94,-385 -7.10543e-015,-385 -7.10543e-015,-327 94,-327 94,-385\"/>\r\n",
       "<text text-anchor=\"middle\" x=\"47\" y=\"-359.8\" font-family=\"Times New Roman,serif\" font-size=\"14.00\">Convolution</text>\r\n",
       "<text text-anchor=\"middle\" x=\"47\" y=\"-344.8\" font-family=\"Times New Roman,serif\" font-size=\"14.00\">5x5/1, 50</text>\r\n",
       "</g>\r\n",
       "<!-- convolution1&#45;&gt;pooling0 -->\r\n",
       "<g id=\"edge3\" class=\"edge\"><title>convolution1&#45;&gt;pooling0</title>\r\n",
       "<path fill=\"none\" stroke=\"black\" d=\"M47,-316.582C47,-303.284 47,-288.632 47,-276.297\"/>\r\n",
       "<polygon fill=\"black\" stroke=\"black\" points=\"47,-326.887 42.5001,-316.887 47,-321.887 47.0001,-316.887 47.0001,-316.887 47.0001,-316.887 47,-321.887 51.5001,-316.887 47,-326.887 47,-326.887\"/>\r\n",
       "<text text-anchor=\"middle\" x=\"74.5\" y=\"-297.8\" font-family=\"Times New Roman,serif\" font-size=\"14.00\">20x12x12</text>\r\n",
       "</g>\r\n",
       "<!-- activation1 -->\r\n",
       "<g id=\"node5\" class=\"node\"><title>activation1</title>\r\n",
       "<polygon fill=\"#ffffb3\" stroke=\"black\" points=\"94,-494 -7.10543e-015,-494 -7.10543e-015,-436 94,-436 94,-494\"/>\r\n",
       "<text text-anchor=\"middle\" x=\"47\" y=\"-468.8\" font-family=\"Times New Roman,serif\" font-size=\"14.00\">Activation</text>\r\n",
       "<text text-anchor=\"middle\" x=\"47\" y=\"-453.8\" font-family=\"Times New Roman,serif\" font-size=\"14.00\">tanh</text>\r\n",
       "</g>\r\n",
       "<!-- activation1&#45;&gt;convolution1 -->\r\n",
       "<g id=\"edge4\" class=\"edge\"><title>activation1&#45;&gt;convolution1</title>\r\n",
       "<path fill=\"none\" stroke=\"black\" d=\"M47,-425.582C47,-412.284 47,-397.632 47,-385.297\"/>\r\n",
       "<polygon fill=\"black\" stroke=\"black\" points=\"47,-435.887 42.5001,-425.887 47,-430.887 47.0001,-425.887 47.0001,-425.887 47.0001,-425.887 47,-430.887 51.5001,-425.887 47,-435.887 47,-435.887\"/>\r\n",
       "<text text-anchor=\"middle\" x=\"67.5\" y=\"-406.8\" font-family=\"Times New Roman,serif\" font-size=\"14.00\">50x8x8</text>\r\n",
       "</g>\r\n",
       "<!-- pooling1 -->\r\n",
       "<g id=\"node6\" class=\"node\"><title>pooling1</title>\r\n",
       "<polygon fill=\"#80b1d3\" stroke=\"black\" points=\"94,-603 -7.10543e-015,-603 -7.10543e-015,-545 94,-545 94,-603\"/>\r\n",
       "<text text-anchor=\"middle\" x=\"47\" y=\"-577.8\" font-family=\"Times New Roman,serif\" font-size=\"14.00\">Pooling</text>\r\n",
       "<text text-anchor=\"middle\" x=\"47\" y=\"-562.8\" font-family=\"Times New Roman,serif\" font-size=\"14.00\">max, 2x2/2</text>\r\n",
       "</g>\r\n",
       "<!-- pooling1&#45;&gt;activation1 -->\r\n",
       "<g id=\"edge5\" class=\"edge\"><title>pooling1&#45;&gt;activation1</title>\r\n",
       "<path fill=\"none\" stroke=\"black\" d=\"M47,-534.582C47,-521.284 47,-506.632 47,-494.297\"/>\r\n",
       "<polygon fill=\"black\" stroke=\"black\" points=\"47,-544.887 42.5001,-534.887 47,-539.887 47.0001,-534.887 47.0001,-534.887 47.0001,-534.887 47,-539.887 51.5001,-534.887 47,-544.887 47,-544.887\"/>\r\n",
       "<text text-anchor=\"middle\" x=\"67.5\" y=\"-515.8\" font-family=\"Times New Roman,serif\" font-size=\"14.00\">50x8x8</text>\r\n",
       "</g>\r\n",
       "<!-- flatten1 -->\r\n",
       "<g id=\"node7\" class=\"node\"><title>flatten1</title>\r\n",
       "<polygon fill=\"#fdb462\" stroke=\"black\" points=\"94,-712 -7.10543e-015,-712 -7.10543e-015,-654 94,-654 94,-712\"/>\r\n",
       "<text text-anchor=\"middle\" x=\"47\" y=\"-679.3\" font-family=\"Times New Roman,serif\" font-size=\"14.00\">Flatten</text>\r\n",
       "</g>\r\n",
       "<!-- flatten1&#45;&gt;pooling1 -->\r\n",
       "<g id=\"edge6\" class=\"edge\"><title>flatten1&#45;&gt;pooling1</title>\r\n",
       "<path fill=\"none\" stroke=\"black\" d=\"M47,-643.582C47,-630.284 47,-615.632 47,-603.297\"/>\r\n",
       "<polygon fill=\"black\" stroke=\"black\" points=\"47,-653.887 42.5001,-643.887 47,-648.887 47.0001,-643.887 47.0001,-643.887 47.0001,-643.887 47,-648.887 51.5001,-643.887 47,-653.887 47,-653.887\"/>\r\n",
       "<text text-anchor=\"middle\" x=\"67.5\" y=\"-624.8\" font-family=\"Times New Roman,serif\" font-size=\"14.00\">50x4x4</text>\r\n",
       "</g>\r\n",
       "<!-- fullyconnected0 -->\r\n",
       "<g id=\"node8\" class=\"node\"><title>fullyconnected0</title>\r\n",
       "<polygon fill=\"#fb8072\" stroke=\"black\" points=\"94,-821 -7.10543e-015,-821 -7.10543e-015,-763 94,-763 94,-821\"/>\r\n",
       "<text text-anchor=\"middle\" x=\"47\" y=\"-795.8\" font-family=\"Times New Roman,serif\" font-size=\"14.00\">FullyConnected</text>\r\n",
       "<text text-anchor=\"middle\" x=\"47\" y=\"-780.8\" font-family=\"Times New Roman,serif\" font-size=\"14.00\">500</text>\r\n",
       "</g>\r\n",
       "<!-- fullyconnected0&#45;&gt;flatten1 -->\r\n",
       "<g id=\"edge7\" class=\"edge\"><title>fullyconnected0&#45;&gt;flatten1</title>\r\n",
       "<path fill=\"none\" stroke=\"black\" d=\"M47,-752.582C47,-739.284 47,-724.632 47,-712.297\"/>\r\n",
       "<polygon fill=\"black\" stroke=\"black\" points=\"47,-762.887 42.5001,-752.887 47,-757.887 47.0001,-752.887 47.0001,-752.887 47.0001,-752.887 47,-757.887 51.5001,-752.887 47,-762.887 47,-762.887\"/>\r\n",
       "<text text-anchor=\"middle\" x=\"57.5\" y=\"-733.8\" font-family=\"Times New Roman,serif\" font-size=\"14.00\">800</text>\r\n",
       "</g>\r\n",
       "<!-- activation2 -->\r\n",
       "<g id=\"node9\" class=\"node\"><title>activation2</title>\r\n",
       "<polygon fill=\"#ffffb3\" stroke=\"black\" points=\"94,-930 -7.10543e-015,-930 -7.10543e-015,-872 94,-872 94,-930\"/>\r\n",
       "<text text-anchor=\"middle\" x=\"47\" y=\"-904.8\" font-family=\"Times New Roman,serif\" font-size=\"14.00\">Activation</text>\r\n",
       "<text text-anchor=\"middle\" x=\"47\" y=\"-889.8\" font-family=\"Times New Roman,serif\" font-size=\"14.00\">tanh</text>\r\n",
       "</g>\r\n",
       "<!-- activation2&#45;&gt;fullyconnected0 -->\r\n",
       "<g id=\"edge8\" class=\"edge\"><title>activation2&#45;&gt;fullyconnected0</title>\r\n",
       "<path fill=\"none\" stroke=\"black\" d=\"M47,-861.582C47,-848.284 47,-833.632 47,-821.297\"/>\r\n",
       "<polygon fill=\"black\" stroke=\"black\" points=\"47,-871.887 42.5001,-861.887 47,-866.887 47.0001,-861.887 47.0001,-861.887 47.0001,-861.887 47,-866.887 51.5001,-861.887 47,-871.887 47,-871.887\"/>\r\n",
       "<text text-anchor=\"middle\" x=\"57.5\" y=\"-842.8\" font-family=\"Times New Roman,serif\" font-size=\"14.00\">500</text>\r\n",
       "</g>\r\n",
       "<!-- fullyconnected1 -->\r\n",
       "<g id=\"node10\" class=\"node\"><title>fullyconnected1</title>\r\n",
       "<polygon fill=\"#fb8072\" stroke=\"black\" points=\"94,-1039 -7.10543e-015,-1039 -7.10543e-015,-981 94,-981 94,-1039\"/>\r\n",
       "<text text-anchor=\"middle\" x=\"47\" y=\"-1013.8\" font-family=\"Times New Roman,serif\" font-size=\"14.00\">FullyConnected</text>\r\n",
       "<text text-anchor=\"middle\" x=\"47\" y=\"-998.8\" font-family=\"Times New Roman,serif\" font-size=\"14.00\">10</text>\r\n",
       "</g>\r\n",
       "<!-- fullyconnected1&#45;&gt;activation2 -->\r\n",
       "<g id=\"edge9\" class=\"edge\"><title>fullyconnected1&#45;&gt;activation2</title>\r\n",
       "<path fill=\"none\" stroke=\"black\" d=\"M47,-970.582C47,-957.284 47,-942.632 47,-930.297\"/>\r\n",
       "<polygon fill=\"black\" stroke=\"black\" points=\"47,-980.887 42.5001,-970.887 47,-975.887 47.0001,-970.887 47.0001,-970.887 47.0001,-970.887 47,-975.887 51.5001,-970.887 47,-980.887 47,-980.887\"/>\r\n",
       "<text text-anchor=\"middle\" x=\"57.5\" y=\"-951.8\" font-family=\"Times New Roman,serif\" font-size=\"14.00\">500</text>\r\n",
       "</g>\r\n",
       "<!-- softmax -->\r\n",
       "<g id=\"node11\" class=\"node\"><title>softmax</title>\r\n",
       "<polygon fill=\"#fccde5\" stroke=\"black\" points=\"94,-1148 -7.10543e-015,-1148 -7.10543e-015,-1090 94,-1090 94,-1148\"/>\r\n",
       "<text text-anchor=\"middle\" x=\"47\" y=\"-1115.3\" font-family=\"Times New Roman,serif\" font-size=\"14.00\">SoftmaxOutput</text>\r\n",
       "</g>\r\n",
       "<!-- softmax&#45;&gt;fullyconnected1 -->\r\n",
       "<g id=\"edge10\" class=\"edge\"><title>softmax&#45;&gt;fullyconnected1</title>\r\n",
       "<path fill=\"none\" stroke=\"black\" d=\"M47,-1079.58C47,-1066.28 47,-1051.63 47,-1039.3\"/>\r\n",
       "<polygon fill=\"black\" stroke=\"black\" points=\"47,-1089.89 42.5001,-1079.89 47,-1084.89 47.0001,-1079.89 47.0001,-1079.89 47.0001,-1079.89 47,-1084.89 51.5001,-1079.89 47,-1089.89 47,-1089.89\"/>\r\n",
       "<text text-anchor=\"middle\" x=\"54\" y=\"-1060.8\" font-family=\"Times New Roman,serif\" font-size=\"14.00\">10</text>\r\n",
       "</g>\r\n",
       "</g>\r\n",
       "</svg>\r\n"
      ],
      "text/plain": [
       "<graphviz.dot.Digraph at 0x21057a3e438>"
      ]
     },
     "execution_count": 13,
     "metadata": {},
     "output_type": "execute_result"
    }
   ],
   "source": [
    "# Convolutional Neural Networks\n",
    "\n",
    "data = mx.symbol.Variable('data')\n",
    "# first conv layer\n",
    "conv1 = mx.sym.Convolution(data=data, kernel=(5,5), num_filter=20)\n",
    "tanh1 = mx.sym.Activation(data=conv1, act_type=\"tanh\")\n",
    "pool1 = mx.sym.Pooling(data=tanh1, pool_type=\"max\", kernel=(2,2), stride=(2,2))\n",
    "# second conv layer\n",
    "conv2 = mx.sym.Convolution(data=pool1, kernel=(5,5), num_filter=50)\n",
    "tanh2 = mx.sym.Activation(data=conv2, act_type=\"tanh\")\n",
    "pool2 = mx.sym.Pooling(data=tanh2, pool_type=\"max\", kernel=(2,2), stride=(2,2))\n",
    "# first fullc layer\n",
    "flatten = mx.sym.Flatten(data=pool2)\n",
    "fc1 = mx.symbol.FullyConnected(data=flatten, num_hidden=500)\n",
    "tanh3 = mx.sym.Activation(data=fc1, act_type=\"tanh\")\n",
    "# second fullc\n",
    "fc2 = mx.sym.FullyConnected(data=tanh3, num_hidden=10)\n",
    "# softmax loss\n",
    "lenet = mx.sym.SoftmaxOutput(data=fc2, name='softmax')\n",
    "mx.viz.plot_network(symbol=lenet, shape=shape)"
   ]
  },
  {
   "cell_type": "code",
   "execution_count": 14,
   "metadata": {
    "ExecuteTime": {
     "end_time": "2017-02-17T13:52:32.636017",
     "start_time": "2017-02-17T13:49:27.643356"
    },
    "collapsed": false
   },
   "outputs": [
    {
     "name": "stderr",
     "output_type": "stream",
     "text": [
      "INFO:root:Start training with [cpu(0)]\n",
      "INFO:root:Epoch[0] Batch [200]\tSpeed: 702.05 samples/sec\tTrain-accuracy=0.116500\n",
      "INFO:root:Epoch[0] Batch [400]\tSpeed: 691.80 samples/sec\tTrain-accuracy=0.109650\n",
      "INFO:root:Epoch[0] Batch [600]\tSpeed: 735.17 samples/sec\tTrain-accuracy=0.110450\n",
      "INFO:root:Epoch[0] Resetting Data Iterator\n",
      "INFO:root:Epoch[0] Time cost=84.696\n",
      "INFO:root:Epoch[0] Validation-accuracy=0.113500\n",
      "INFO:root:Epoch[1] Batch [200]\tSpeed: 726.59 samples/sec\tTrain-accuracy=0.138400\n",
      "INFO:root:Epoch[1] Batch [400]\tSpeed: 737.08 samples/sec\tTrain-accuracy=0.791500\n",
      "INFO:root:Epoch[1] Batch [600]\tSpeed: 714.08 samples/sec\tTrain-accuracy=0.915600\n",
      "INFO:root:Epoch[1] Resetting Data Iterator\n",
      "INFO:root:Epoch[1] Time cost=82.735\n",
      "INFO:root:Epoch[1] Validation-accuracy=0.936900\n"
     ]
    },
    {
     "ename": "KeyboardInterrupt",
     "evalue": "",
     "output_type": "error",
     "traceback": [
      "\u001b[0;31m---------------------------------------------------------------------------\u001b[0m",
      "\u001b[0;31mKeyboardInterrupt\u001b[0m                         Traceback (most recent call last)",
      "\u001b[0;32m<ipython-input-14-1910e6cbcd01>\u001b[0m in \u001b[0;36m<module>\u001b[0;34m()\u001b[0m\n\u001b[1;32m     12\u001b[0m     \u001b[0mX\u001b[0m\u001b[1;33m=\u001b[0m\u001b[0mtrain_iter\u001b[0m\u001b[1;33m,\u001b[0m\u001b[1;33m\u001b[0m\u001b[0m\n\u001b[1;32m     13\u001b[0m     \u001b[0meval_data\u001b[0m\u001b[1;33m=\u001b[0m\u001b[0mval_iter\u001b[0m\u001b[1;33m,\u001b[0m\u001b[1;33m\u001b[0m\u001b[0m\n\u001b[0;32m---> 14\u001b[0;31m     \u001b[0mbatch_end_callback\u001b[0m \u001b[1;33m=\u001b[0m \u001b[0mmx\u001b[0m\u001b[1;33m.\u001b[0m\u001b[0mcallback\u001b[0m\u001b[1;33m.\u001b[0m\u001b[0mSpeedometer\u001b[0m\u001b[1;33m(\u001b[0m\u001b[0mbatch_size\u001b[0m\u001b[1;33m,\u001b[0m \u001b[1;36m200\u001b[0m\u001b[1;33m)\u001b[0m\u001b[1;33m\u001b[0m\u001b[0m\n\u001b[0m\u001b[1;32m     15\u001b[0m ) \n\u001b[1;32m     16\u001b[0m \u001b[1;32massert\u001b[0m \u001b[0mmodel\u001b[0m\u001b[1;33m.\u001b[0m\u001b[0mscore\u001b[0m\u001b[1;33m(\u001b[0m\u001b[0mval_iter\u001b[0m\u001b[1;33m)\u001b[0m \u001b[1;33m>\u001b[0m \u001b[1;36m0.98\u001b[0m\u001b[1;33m,\u001b[0m \u001b[1;34m\"Low validation accuracy.\"\u001b[0m\u001b[1;33m\u001b[0m\u001b[0m\n",
      "\u001b[0;32mc:\\programdata\\anaconda3\\lib\\site-packages\\mxnet-0.7.0-py3.6.egg\\mxnet\\model.py\u001b[0m in \u001b[0;36mfit\u001b[0;34m(self, X, y, eval_data, eval_metric, epoch_end_callback, batch_end_callback, kvstore, logger, work_load_list, monitor, eval_batch_end_callback)\u001b[0m\n\u001b[1;32m    782\u001b[0m                             \u001b[0mlogger\u001b[0m\u001b[1;33m=\u001b[0m\u001b[0mlogger\u001b[0m\u001b[1;33m,\u001b[0m \u001b[0mwork_load_list\u001b[0m\u001b[1;33m=\u001b[0m\u001b[0mwork_load_list\u001b[0m\u001b[1;33m,\u001b[0m \u001b[0mmonitor\u001b[0m\u001b[1;33m=\u001b[0m\u001b[0mmonitor\u001b[0m\u001b[1;33m,\u001b[0m\u001b[1;33m\u001b[0m\u001b[0m\n\u001b[1;32m    783\u001b[0m                             \u001b[0meval_batch_end_callback\u001b[0m\u001b[1;33m=\u001b[0m\u001b[0meval_batch_end_callback\u001b[0m\u001b[1;33m,\u001b[0m\u001b[1;33m\u001b[0m\u001b[0m\n\u001b[0;32m--> 784\u001b[0;31m                             sym_gen=self.sym_gen)\n\u001b[0m\u001b[1;32m    785\u001b[0m \u001b[1;33m\u001b[0m\u001b[0m\n\u001b[1;32m    786\u001b[0m \u001b[1;33m\u001b[0m\u001b[0m\n",
      "\u001b[0;32mc:\\programdata\\anaconda3\\lib\\site-packages\\mxnet-0.7.0-py3.6.egg\\mxnet\\model.py\u001b[0m in \u001b[0;36m_train_multi_device\u001b[0;34m(symbol, ctx, arg_names, param_names, aux_names, arg_params, aux_params, begin_epoch, end_epoch, epoch_size, optimizer, kvstore, update_on_kvstore, train_data, eval_data, eval_metric, epoch_end_callback, batch_end_callback, logger, work_load_list, monitor, eval_batch_end_callback, sym_gen)\u001b[0m\n\u001b[1;32m    219\u001b[0m         \u001b[1;32mwhile\u001b[0m \u001b[1;32mTrue\u001b[0m\u001b[1;33m:\u001b[0m\u001b[1;33m\u001b[0m\u001b[0m\n\u001b[1;32m    220\u001b[0m             \u001b[0mdo_reset\u001b[0m \u001b[1;33m=\u001b[0m \u001b[1;32mTrue\u001b[0m\u001b[1;33m\u001b[0m\u001b[0m\n\u001b[0;32m--> 221\u001b[0;31m             \u001b[1;32mfor\u001b[0m \u001b[0mdata_batch\u001b[0m \u001b[1;32min\u001b[0m \u001b[0mtrain_data\u001b[0m\u001b[1;33m:\u001b[0m\u001b[1;33m\u001b[0m\u001b[0m\n\u001b[0m\u001b[1;32m    222\u001b[0m                 \u001b[0mexecutor_manager\u001b[0m\u001b[1;33m.\u001b[0m\u001b[0mload_data_batch\u001b[0m\u001b[1;33m(\u001b[0m\u001b[0mdata_batch\u001b[0m\u001b[1;33m)\u001b[0m\u001b[1;33m\u001b[0m\u001b[0m\n\u001b[1;32m    223\u001b[0m \u001b[1;33m\u001b[0m\u001b[0m\n",
      "\u001b[0;32mc:\\programdata\\anaconda3\\lib\\site-packages\\mxnet-0.7.0-py3.6.egg\\mxnet\\io.py\u001b[0m in \u001b[0;36m__next__\u001b[0;34m(self)\u001b[0m\n\u001b[1;32m     63\u001b[0m \u001b[1;33m\u001b[0m\u001b[0m\n\u001b[1;32m     64\u001b[0m     \u001b[1;32mdef\u001b[0m \u001b[0m__next__\u001b[0m\u001b[1;33m(\u001b[0m\u001b[0mself\u001b[0m\u001b[1;33m)\u001b[0m\u001b[1;33m:\u001b[0m\u001b[1;33m\u001b[0m\u001b[0m\n\u001b[0;32m---> 65\u001b[0;31m         \u001b[1;32mreturn\u001b[0m \u001b[0mself\u001b[0m\u001b[1;33m.\u001b[0m\u001b[0mnext\u001b[0m\u001b[1;33m(\u001b[0m\u001b[1;33m)\u001b[0m\u001b[1;33m\u001b[0m\u001b[0m\n\u001b[0m\u001b[1;32m     66\u001b[0m \u001b[1;33m\u001b[0m\u001b[0m\n\u001b[1;32m     67\u001b[0m     \u001b[1;32mdef\u001b[0m \u001b[0miter_next\u001b[0m\u001b[1;33m(\u001b[0m\u001b[0mself\u001b[0m\u001b[1;33m)\u001b[0m\u001b[1;33m:\u001b[0m\u001b[1;33m\u001b[0m\u001b[0m\n",
      "\u001b[0;32mc:\\programdata\\anaconda3\\lib\\site-packages\\mxnet-0.7.0-py3.6.egg\\mxnet\\io.py\u001b[0m in \u001b[0;36mnext\u001b[0;34m(self)\u001b[0m\n\u001b[1;32m    403\u001b[0m     \u001b[1;32mdef\u001b[0m \u001b[0mnext\u001b[0m\u001b[1;33m(\u001b[0m\u001b[0mself\u001b[0m\u001b[1;33m)\u001b[0m\u001b[1;33m:\u001b[0m\u001b[1;33m\u001b[0m\u001b[0m\n\u001b[1;32m    404\u001b[0m         \u001b[1;32mif\u001b[0m \u001b[0mself\u001b[0m\u001b[1;33m.\u001b[0m\u001b[0miter_next\u001b[0m\u001b[1;33m(\u001b[0m\u001b[1;33m)\u001b[0m\u001b[1;33m:\u001b[0m\u001b[1;33m\u001b[0m\u001b[0m\n\u001b[0;32m--> 405\u001b[0;31m             return DataBatch(data=self.getdata(), label=self.getlabel(), \\\n\u001b[0m\u001b[1;32m    406\u001b[0m                     pad=self.getpad(), index=None)\n\u001b[1;32m    407\u001b[0m         \u001b[1;32melse\u001b[0m\u001b[1;33m:\u001b[0m\u001b[1;33m\u001b[0m\u001b[0m\n",
      "\u001b[0;32mc:\\programdata\\anaconda3\\lib\\site-packages\\mxnet-0.7.0-py3.6.egg\\mxnet\\io.py\u001b[0m in \u001b[0;36mgetlabel\u001b[0;34m(self)\u001b[0m\n\u001b[1;32m    422\u001b[0m \u001b[1;33m\u001b[0m\u001b[0m\n\u001b[1;32m    423\u001b[0m     \u001b[1;32mdef\u001b[0m \u001b[0mgetlabel\u001b[0m\u001b[1;33m(\u001b[0m\u001b[0mself\u001b[0m\u001b[1;33m)\u001b[0m\u001b[1;33m:\u001b[0m\u001b[1;33m\u001b[0m\u001b[0m\n\u001b[0;32m--> 424\u001b[0;31m         \u001b[1;32mreturn\u001b[0m \u001b[0mself\u001b[0m\u001b[1;33m.\u001b[0m\u001b[0m_getdata\u001b[0m\u001b[1;33m(\u001b[0m\u001b[0mself\u001b[0m\u001b[1;33m.\u001b[0m\u001b[0mlabel\u001b[0m\u001b[1;33m)\u001b[0m\u001b[1;33m\u001b[0m\u001b[0m\n\u001b[0m\u001b[1;32m    425\u001b[0m \u001b[1;33m\u001b[0m\u001b[0m\n\u001b[1;32m    426\u001b[0m     \u001b[1;32mdef\u001b[0m \u001b[0mgetpad\u001b[0m\u001b[1;33m(\u001b[0m\u001b[0mself\u001b[0m\u001b[1;33m)\u001b[0m\u001b[1;33m:\u001b[0m\u001b[1;33m\u001b[0m\u001b[0m\n",
      "\u001b[0;32mc:\\programdata\\anaconda3\\lib\\site-packages\\mxnet-0.7.0-py3.6.egg\\mxnet\\io.py\u001b[0m in \u001b[0;36m_getdata\u001b[0;34m(self, data_source)\u001b[0m\n\u001b[1;32m    412\u001b[0m         \u001b[1;32massert\u001b[0m\u001b[1;33m(\u001b[0m\u001b[0mself\u001b[0m\u001b[1;33m.\u001b[0m\u001b[0mcursor\u001b[0m \u001b[1;33m<\u001b[0m \u001b[0mself\u001b[0m\u001b[1;33m.\u001b[0m\u001b[0mnum_data\u001b[0m\u001b[1;33m)\u001b[0m\u001b[1;33m,\u001b[0m \u001b[1;34m\"DataIter needs reset.\"\u001b[0m\u001b[1;33m\u001b[0m\u001b[0m\n\u001b[1;32m    413\u001b[0m         \u001b[1;32mif\u001b[0m \u001b[0mself\u001b[0m\u001b[1;33m.\u001b[0m\u001b[0mcursor\u001b[0m \u001b[1;33m+\u001b[0m \u001b[0mself\u001b[0m\u001b[1;33m.\u001b[0m\u001b[0mbatch_size\u001b[0m \u001b[1;33m<=\u001b[0m \u001b[0mself\u001b[0m\u001b[1;33m.\u001b[0m\u001b[0mnum_data\u001b[0m\u001b[1;33m:\u001b[0m\u001b[1;33m\u001b[0m\u001b[0m\n\u001b[0;32m--> 414\u001b[0;31m             \u001b[1;32mreturn\u001b[0m \u001b[1;33m[\u001b[0m\u001b[0marray\u001b[0m\u001b[1;33m(\u001b[0m\u001b[0mx\u001b[0m\u001b[1;33m[\u001b[0m\u001b[1;36m1\u001b[0m\u001b[1;33m]\u001b[0m\u001b[1;33m[\u001b[0m\u001b[0mself\u001b[0m\u001b[1;33m.\u001b[0m\u001b[0mcursor\u001b[0m\u001b[1;33m:\u001b[0m\u001b[0mself\u001b[0m\u001b[1;33m.\u001b[0m\u001b[0mcursor\u001b[0m\u001b[1;33m+\u001b[0m\u001b[0mself\u001b[0m\u001b[1;33m.\u001b[0m\u001b[0mbatch_size\u001b[0m\u001b[1;33m]\u001b[0m\u001b[1;33m)\u001b[0m \u001b[1;32mfor\u001b[0m \u001b[0mx\u001b[0m \u001b[1;32min\u001b[0m \u001b[0mdata_source\u001b[0m\u001b[1;33m]\u001b[0m\u001b[1;33m\u001b[0m\u001b[0m\n\u001b[0m\u001b[1;32m    415\u001b[0m         \u001b[1;32melse\u001b[0m\u001b[1;33m:\u001b[0m\u001b[1;33m\u001b[0m\u001b[0m\n\u001b[1;32m    416\u001b[0m             \u001b[0mpad\u001b[0m \u001b[1;33m=\u001b[0m \u001b[0mself\u001b[0m\u001b[1;33m.\u001b[0m\u001b[0mbatch_size\u001b[0m \u001b[1;33m-\u001b[0m \u001b[0mself\u001b[0m\u001b[1;33m.\u001b[0m\u001b[0mnum_data\u001b[0m \u001b[1;33m+\u001b[0m \u001b[0mself\u001b[0m\u001b[1;33m.\u001b[0m\u001b[0mcursor\u001b[0m\u001b[1;33m\u001b[0m\u001b[0m\n",
      "\u001b[0;32mc:\\programdata\\anaconda3\\lib\\site-packages\\mxnet-0.7.0-py3.6.egg\\mxnet\\io.py\u001b[0m in \u001b[0;36m<listcomp>\u001b[0;34m(.0)\u001b[0m\n\u001b[1;32m    412\u001b[0m         \u001b[1;32massert\u001b[0m\u001b[1;33m(\u001b[0m\u001b[0mself\u001b[0m\u001b[1;33m.\u001b[0m\u001b[0mcursor\u001b[0m \u001b[1;33m<\u001b[0m \u001b[0mself\u001b[0m\u001b[1;33m.\u001b[0m\u001b[0mnum_data\u001b[0m\u001b[1;33m)\u001b[0m\u001b[1;33m,\u001b[0m \u001b[1;34m\"DataIter needs reset.\"\u001b[0m\u001b[1;33m\u001b[0m\u001b[0m\n\u001b[1;32m    413\u001b[0m         \u001b[1;32mif\u001b[0m \u001b[0mself\u001b[0m\u001b[1;33m.\u001b[0m\u001b[0mcursor\u001b[0m \u001b[1;33m+\u001b[0m \u001b[0mself\u001b[0m\u001b[1;33m.\u001b[0m\u001b[0mbatch_size\u001b[0m \u001b[1;33m<=\u001b[0m \u001b[0mself\u001b[0m\u001b[1;33m.\u001b[0m\u001b[0mnum_data\u001b[0m\u001b[1;33m:\u001b[0m\u001b[1;33m\u001b[0m\u001b[0m\n\u001b[0;32m--> 414\u001b[0;31m             \u001b[1;32mreturn\u001b[0m \u001b[1;33m[\u001b[0m\u001b[0marray\u001b[0m\u001b[1;33m(\u001b[0m\u001b[0mx\u001b[0m\u001b[1;33m[\u001b[0m\u001b[1;36m1\u001b[0m\u001b[1;33m]\u001b[0m\u001b[1;33m[\u001b[0m\u001b[0mself\u001b[0m\u001b[1;33m.\u001b[0m\u001b[0mcursor\u001b[0m\u001b[1;33m:\u001b[0m\u001b[0mself\u001b[0m\u001b[1;33m.\u001b[0m\u001b[0mcursor\u001b[0m\u001b[1;33m+\u001b[0m\u001b[0mself\u001b[0m\u001b[1;33m.\u001b[0m\u001b[0mbatch_size\u001b[0m\u001b[1;33m]\u001b[0m\u001b[1;33m)\u001b[0m \u001b[1;32mfor\u001b[0m \u001b[0mx\u001b[0m \u001b[1;32min\u001b[0m \u001b[0mdata_source\u001b[0m\u001b[1;33m]\u001b[0m\u001b[1;33m\u001b[0m\u001b[0m\n\u001b[0m\u001b[1;32m    415\u001b[0m         \u001b[1;32melse\u001b[0m\u001b[1;33m:\u001b[0m\u001b[1;33m\u001b[0m\u001b[0m\n\u001b[1;32m    416\u001b[0m             \u001b[0mpad\u001b[0m \u001b[1;33m=\u001b[0m \u001b[0mself\u001b[0m\u001b[1;33m.\u001b[0m\u001b[0mbatch_size\u001b[0m \u001b[1;33m-\u001b[0m \u001b[0mself\u001b[0m\u001b[1;33m.\u001b[0m\u001b[0mnum_data\u001b[0m \u001b[1;33m+\u001b[0m \u001b[0mself\u001b[0m\u001b[1;33m.\u001b[0m\u001b[0mcursor\u001b[0m\u001b[1;33m\u001b[0m\u001b[0m\n",
      "\u001b[0;32mc:\\programdata\\anaconda3\\lib\\site-packages\\mxnet-0.7.0-py3.6.egg\\mxnet\\ndarray.py\u001b[0m in \u001b[0;36marray\u001b[0;34m(source_array, ctx, dtype)\u001b[0m\n\u001b[1;32m    826\u001b[0m             \u001b[1;32mraise\u001b[0m \u001b[0mTypeError\u001b[0m\u001b[1;33m(\u001b[0m\u001b[1;34m'source_array must be array like object'\u001b[0m\u001b[1;33m)\u001b[0m\u001b[1;33m\u001b[0m\u001b[0m\n\u001b[1;32m    827\u001b[0m     \u001b[0marr\u001b[0m \u001b[1;33m=\u001b[0m \u001b[0mempty\u001b[0m\u001b[1;33m(\u001b[0m\u001b[0msource_array\u001b[0m\u001b[1;33m.\u001b[0m\u001b[0mshape\u001b[0m\u001b[1;33m,\u001b[0m \u001b[0mctx\u001b[0m\u001b[1;33m,\u001b[0m \u001b[0mdtype\u001b[0m\u001b[1;33m)\u001b[0m\u001b[1;33m\u001b[0m\u001b[0m\n\u001b[0;32m--> 828\u001b[0;31m     \u001b[0marr\u001b[0m\u001b[1;33m[\u001b[0m\u001b[1;33m:\u001b[0m\u001b[1;33m]\u001b[0m \u001b[1;33m=\u001b[0m \u001b[0msource_array\u001b[0m\u001b[1;33m\u001b[0m\u001b[0m\n\u001b[0m\u001b[1;32m    829\u001b[0m     \u001b[1;32mreturn\u001b[0m \u001b[0marr\u001b[0m\u001b[1;33m\u001b[0m\u001b[0m\n\u001b[1;32m    830\u001b[0m \u001b[1;33m\u001b[0m\u001b[0m\n",
      "\u001b[0;32mc:\\programdata\\anaconda3\\lib\\site-packages\\mxnet-0.7.0-py3.6.egg\\mxnet\\ndarray.py\u001b[0m in \u001b[0;36m__setitem__\u001b[0;34m(self, in_slice, value)\u001b[0m\n\u001b[1;32m    203\u001b[0m             \u001b[0mNDArray\u001b[0m\u001b[1;33m.\u001b[0m\u001b[0m_set_value\u001b[0m\u001b[1;33m(\u001b[0m\u001b[0mfloat\u001b[0m\u001b[1;33m(\u001b[0m\u001b[0mvalue\u001b[0m\u001b[1;33m)\u001b[0m\u001b[1;33m,\u001b[0m \u001b[0mout\u001b[0m\u001b[1;33m=\u001b[0m\u001b[0mself\u001b[0m\u001b[1;33m)\u001b[0m\u001b[1;33m\u001b[0m\u001b[0m\n\u001b[1;32m    204\u001b[0m         \u001b[1;32melif\u001b[0m \u001b[0misinstance\u001b[0m\u001b[1;33m(\u001b[0m\u001b[0mvalue\u001b[0m\u001b[1;33m,\u001b[0m \u001b[1;33m(\u001b[0m\u001b[0mnp\u001b[0m\u001b[1;33m.\u001b[0m\u001b[0mndarray\u001b[0m\u001b[1;33m,\u001b[0m \u001b[0mnp\u001b[0m\u001b[1;33m.\u001b[0m\u001b[0mgeneric\u001b[0m\u001b[1;33m)\u001b[0m\u001b[1;33m)\u001b[0m\u001b[1;33m:\u001b[0m\u001b[1;33m\u001b[0m\u001b[0m\n\u001b[0;32m--> 205\u001b[0;31m             \u001b[0mself\u001b[0m\u001b[1;33m.\u001b[0m\u001b[0m_sync_copyfrom\u001b[0m\u001b[1;33m(\u001b[0m\u001b[0mvalue\u001b[0m\u001b[1;33m)\u001b[0m\u001b[1;33m\u001b[0m\u001b[0m\n\u001b[0m\u001b[1;32m    206\u001b[0m         \u001b[1;32melse\u001b[0m\u001b[1;33m:\u001b[0m\u001b[1;33m\u001b[0m\u001b[0m\n\u001b[1;32m    207\u001b[0m             \u001b[1;32mraise\u001b[0m \u001b[0mTypeError\u001b[0m\u001b[1;33m(\u001b[0m\u001b[1;34m'type %s not supported'\u001b[0m \u001b[1;33m%\u001b[0m \u001b[0mstr\u001b[0m\u001b[1;33m(\u001b[0m\u001b[0mtype\u001b[0m\u001b[1;33m(\u001b[0m\u001b[0mvalue\u001b[0m\u001b[1;33m)\u001b[0m\u001b[1;33m)\u001b[0m\u001b[1;33m)\u001b[0m\u001b[1;33m\u001b[0m\u001b[0m\n",
      "\u001b[0;32mc:\\programdata\\anaconda3\\lib\\site-packages\\mxnet-0.7.0-py3.6.egg\\mxnet\\ndarray.py\u001b[0m in \u001b[0;36m_sync_copyfrom\u001b[0;34m(self, source_array)\u001b[0m\n\u001b[1;32m    236\u001b[0m             \u001b[0mself\u001b[0m\u001b[1;33m.\u001b[0m\u001b[0mhandle\u001b[0m\u001b[1;33m,\u001b[0m\u001b[1;33m\u001b[0m\u001b[0m\n\u001b[1;32m    237\u001b[0m             \u001b[0msource_array\u001b[0m\u001b[1;33m.\u001b[0m\u001b[0mctypes\u001b[0m\u001b[1;33m.\u001b[0m\u001b[0mdata_as\u001b[0m\u001b[1;33m(\u001b[0m\u001b[0mctypes\u001b[0m\u001b[1;33m.\u001b[0m\u001b[0mc_void_p\u001b[0m\u001b[1;33m)\u001b[0m\u001b[1;33m,\u001b[0m\u001b[1;33m\u001b[0m\u001b[0m\n\u001b[0;32m--> 238\u001b[0;31m             ctypes.c_size_t(source_array.size)))\n\u001b[0m\u001b[1;32m    239\u001b[0m \u001b[1;33m\u001b[0m\u001b[0m\n\u001b[1;32m    240\u001b[0m     \u001b[1;32mdef\u001b[0m \u001b[0m_slice\u001b[0m\u001b[1;33m(\u001b[0m\u001b[0mself\u001b[0m\u001b[1;33m,\u001b[0m \u001b[0mstart\u001b[0m\u001b[1;33m,\u001b[0m \u001b[0mstop\u001b[0m\u001b[1;33m)\u001b[0m\u001b[1;33m:\u001b[0m\u001b[1;33m\u001b[0m\u001b[0m\n",
      "\u001b[0;31mKeyboardInterrupt\u001b[0m: "
     ]
    }
   ],
   "source": [
    "# Note that LeNet is more complex than the previous multilayer perceptron,\n",
    "# so we use GPU instead of CPU for training.\n",
    "\n",
    "\n",
    "model = mx.model.FeedForward(\n",
    "    # ctx = mx.gpu(0),     \n",
    "    # use GPU 0 for training, others are same as before\n",
    "    symbol = lenet,       \n",
    "    num_epoch = 10,     \n",
    "    learning_rate = 0.1)\n",
    "model.fit(\n",
    "    X=train_iter,  \n",
    "    eval_data=val_iter, \n",
    "    batch_end_callback = mx.callback.Speedometer(batch_size, 200)\n",
    ") \n",
    "assert model.score(val_iter) > 0.98, \"Low validation accuracy.\"\n",
    "\n",
    "\n",
    "\n",
    "# 教程的 CPU 没我快, \n",
    "# 之前每个 epoch 他们 CPU 2.7 秒, 我用 CPU 2.3 秒\n",
    "\n",
    "# 但他们显卡真好啊,\n",
    "# 这里平均每个 epoch 他们显卡 2.6 秒, 我用 CPU 需要 82 秒"
   ]
  }
 ],
 "metadata": {
  "kernelspec": {
   "display_name": "Python 3",
   "language": "python",
   "name": "python3"
  },
  "language_info": {
   "codemirror_mode": {
    "name": "ipython",
    "version": 3
   },
   "file_extension": ".py",
   "mimetype": "text/x-python",
   "name": "python",
   "nbconvert_exporter": "python",
   "pygments_lexer": "ipython3",
   "version": "3.6.0"
  }
 },
 "nbformat": 4,
 "nbformat_minor": 2
}
