{
 "cells": [
  {
   "cell_type": "markdown",
   "metadata": {},
   "source": [
    "# Numpy, Pandas 数据处理之小技巧\n",
    "\n",
    "\n",
    "Edward.Fu · 1 天前\n",
    "\n",
    "https://zhuanlan.zhihu.com/p/21337237\n",
    "\n",
    "今日是端午4天假期的最后一天，自己的2台电脑一台在处理数据，另一台电源适配器也坏掉了。感觉闲来无事，在此就简单聊聊numpy和pandas的各种冷知识、小技巧和疑难杂症。\n",
    "个人觉得关于numpy和pandas的坑太大，不好填，在此就不系统的介绍了，各位可以买些这块的资料先自己看看。\n",
    "\n",
    "这里就着重聊聊一些使用过程中常用到但教科书里找不着的问题，省的各位朋友还跑去stackoverflow找答案。"
   ]
  },
  {
   "cell_type": "markdown",
   "metadata": {},
   "source": [
    "### 问题一、dataframe里面.values，.iloc，.ix，.loc的区别？\n",
    "\n",
    "只有values是将原本dataframe数据强制转化为numpy格式的数据来索引，其他3个都是对dataframe本身的数据来索引，其中iloc是对基于values的位置来索引调用，loc是对index和columns的位置来索引，而ix则是先用loc的方式来索引，索引失败就转成iloc的方式；"
   ]
  },
  {
   "cell_type": "markdown",
   "metadata": {},
   "source": [
    "### 问题二、可否有两层，或2层以上的columns或index？有的话如何索引？\n",
    "\n",
    "可以，索引的话如果用loc或ix，则默认是用第一层的index或columns，最简单的方式是类似这样：\n",
    "\n",
    "```python\n",
    "example.loc[index1, columns1].loc[index2, columns2]\n",
    "```"
   ]
  },
  {
   "cell_type": "markdown",
   "metadata": {},
   "source": [
    "### 问题三、list, dict, numpy.ndarray, dataframe数据格式如何转换？\n",
    "\n",
    "```python\n",
    "# 1. list转化为numpy.ndarray：\n",
    "np.array(example)\n",
    "\n",
    "# 2. numpy.ndarray转化为list：\n",
    "list(example)\n",
    "\n",
    "# 3. dict转化为dataframe:\n",
    "example['a'] = {'bb': 2, 'cc': 3}\n",
    "eee = pd.DataFrame(example)\n",
    "\n",
    "# 4. numpy.ndarray转化为dataframe:\n",
    "pd.DataFrame(example)\n",
    "\n",
    "# 5. dataframe转化为numpy.ndarray：\n",
    "example.values[:, :]\n",
    "```"
   ]
  },
  {
   "cell_type": "markdown",
   "metadata": {},
   "source": [
    "### 问题四、numpy.ndarray和dataframe如何填补nan，inf？\n",
    "\n",
    "```python\n",
    "# 1. 对于numpy.ndarray来说：\n",
    "example = np.where(np.isnan(example), 0, example)\n",
    "example = np.where(np.isnan(example), 0, example)\n",
    "\n",
    "# 2. 对于dataframe来说：\n",
    "example.fillna()\n",
    "# 还可以用\n",
    "example.replace(a, b)\n",
    "```"
   ]
  },
  {
   "cell_type": "markdown",
   "metadata": {},
   "source": [
    "### 问题五、各种IO的效率快慢问题？\n",
    "\n",
    "1. np读写效率最高，但最费硬盘空间，比如np.load(), np.save();\n",
    "\n",
    "2. csv其次，比如pd.Dataframe.to_csv()，pd.load_csv()；\n",
    "\n",
    "3. txt读写，当然也可以很快，但是需要频繁的split，对格式规范的数据比较麻烦；\n",
    "\n",
    "4. 至于简单的excel和word，可以用xlrd,xlwt来操作；"
   ]
  },
  {
   "cell_type": "markdown",
   "metadata": {},
   "source": [
    "### 问题六、关于常见的os操作，包括新建文件夹、遍历文件夹的操作问题？\n",
    "\n",
    "```python\n",
    "# 1. 新建文件夹：\n",
    "if not os.path.isdir(path_out):\n",
    "    os.makedirs(path_out)\n",
    "    \n",
    "# 2. 遍历所有文件和子文件夹：\n",
    "for a, b, filenames in os.walk(path_data):\n",
    "    for filename in filenames:\n",
    "        ...\n",
    "    \n",
    "# 只遍历当前文件，不包含子文件夹：\n",
    "for a, b, filenames in os.walk(path_data):\n",
    "    for filename in filenames:\n",
    "        if a == path_data:\n",
    "            ...\n",
    "```"
   ]
  },
  {
   "cell_type": "markdown",
   "metadata": {},
   "source": [
    "### 问题七、numpy.ndarray和dataframe如何选取满足条件的行和列数据？\n",
    "\n",
    "```python\n",
    "# 1. 根据新的columns来选取：\n",
    "frame_[newcolumns]\n",
    "\n",
    "# 2. 根据新的index来选取：\n",
    "frame_[frame_.index.isin(newindex)]\n",
    "\n",
    "# 3. 根据某一行或者列的条件来选取：\n",
    "# 假如是根据dataframe的第一列，必须大于start_time这个常数，\n",
    "frame_ = frame_.ix[:, frame_.ix[0, :] >= start_date]\n",
    "# 或者是根据dataframe的第一行，必须大于start_time这个常数，\n",
    "frame_ = frame_.ix[frame_.ix[:, 0] >= start_date, :]\n",
    "```"
   ]
  },
  {
   "cell_type": "markdown",
   "metadata": {},
   "source": [
    "### 问题八、如何计算相关性矩阵？\n",
    "\n",
    "将y和所有x放入到`sample = numpy.ndarray`下，然后直接`np.corrcoef(sample)`，默认的是皮尔森相关系数，当然，也可以用ranked correlation，也就是spearman correlation，可以直接用`scipy.stats.spearmanr`。"
   ]
  },
  {
   "cell_type": "markdown",
   "metadata": {},
   "source": [
    "### 问题九、如何取出一串字符串里面的字母或者数字？\n",
    "\n",
    "```python\n",
    "# 1. 取出example里面的数字：\n",
    "int(''.join(x for x in example if x.isdigit()))\n",
    "\n",
    "# 2. 取出example里面的字母：\n",
    "(''.join(x for x in example if x.alpha()))\n",
    "```"
   ]
  },
  {
   "cell_type": "markdown",
   "metadata": {},
   "source": [
    "### 问题十、各种merge操作？\n",
    "\n",
    "```python\n",
    "# 1. 纵向merge格式为numpy.ndarray的数据：\n",
    "np.hstack((example1, example2))\n",
    "\n",
    "# 2. 纵向merge格式为dataframe的数据，\n",
    "#    并根据dataframe的index来merge，merge后保留原本各自列的所有index，\n",
    "#    其他没有该index的列则对应数值为nan：\n",
    "pd.concat([example1, example2], axis=1)\n",
    "\n",
    "# 3. 纵向merge，但是只保留公共的index行：\n",
    "example.sort_index(axis=1, inplace=True)\n",
    "\n",
    "# 4. 横向merge格式为numpy.ndarray的数据：\n",
    "np.vstack((example1, example2))\n",
    "\n",
    "# 5. 横向merge格式为dataframe的数据，\n",
    "#    并根据dataframe的column来merge，merge后保留原本的index和columns，\n",
    "#    其他没有该index或columns的列则对应数值为np.nan：\n",
    "pd.concat([example1, example2], axis=0)\n",
    "\n",
    "# 6. 横向merge，但是只保留公共的columns列：\n",
    "example.sort_index(axis=0, inplace=True)\n",
    "```"
   ]
  },
  {
   "cell_type": "markdown",
   "metadata": {},
   "source": [
    "### 问题十一、对dataframe数据的index统一加一个后缀\n",
    "\n",
    "比如对原本dataframe下的`index=['aa', 'cc', 'dddddd']`的，统一加上一个`_5m`的后缀，通常的操作大家一般就是直接`example.index = [x + '_5m' for x in example.index]`，这个其实会产生些小问题，因为默认的`index`是`pandas.indexes.base.Index`，这个格式可能会默认index里面数据的长度是确定的，导致加`_5m`后缀失败，所以需要先把格式强制转化为list, 像这样：`example.index = [x + '_5m' for x in list(example.index)]`"
   ]
  },
  {
   "cell_type": "code",
   "execution_count": null,
   "metadata": {
    "collapsed": true
   },
   "outputs": [],
   "source": [
    "先就这些吧，其他的想到再慢慢加。"
   ]
  }
 ],
 "metadata": {
  "kernelspec": {
   "display_name": "Python 3",
   "language": "python",
   "name": "python3"
  },
  "language_info": {
   "codemirror_mode": {
    "name": "ipython",
    "version": 3
   },
   "file_extension": ".py",
   "mimetype": "text/x-python",
   "name": "python",
   "nbconvert_exporter": "python",
   "pygments_lexer": "ipython3",
   "version": "3.4.0"
  }
 },
 "nbformat": 4,
 "nbformat_minor": 0
}
