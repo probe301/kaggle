{
 "cells": [
  {
   "cell_type": "markdown",
   "metadata": {},
   "source": [
    "# Titanic: Machine Learning from Disaster"
   ]
  },
  {
   "cell_type": "markdown",
   "metadata": {},
   "source": [
    "* Description:\n",
    "    The sinking of the RMS Titanic is one of the most infamous shipwrecks in history.  On April 15, 1912, during her maiden voyage, the Titanic sank after colliding with an iceberg, killing 1502 out of 2224 passengers and crew. This sensational tragedy shocked the international community and led to better safety regulations for ships.\n",
    "* Problem definition: In this challenge, we ask you to complete the analysis of what sorts of people were likely to survive. In particular, we ask you to apply the tools of machine learning to predict which passengers survived the tragedy."
   ]
  },
  {
   "cell_type": "code",
   "execution_count": 5,
   "metadata": {
    "ExecuteTime": {
     "end_time": "2017-04-13T11:44:27.976821",
     "start_time": "2017-04-13T11:44:15.307547"
    },
    "collapsed": true
   },
   "outputs": [],
   "source": [
    "import numpy as np\n",
    "import pandas as pd\n",
    "import sklearn.linear_model as lm\n",
    "from sklearn.model_selection import GridSearchCV\n",
    "import matplotlib.pyplot as plt\n",
    "%matplotlib inline"
   ]
  },
  {
   "cell_type": "code",
   "execution_count": 63,
   "metadata": {
    "ExecuteTime": {
     "end_time": "2017-04-13T13:00:42.234828",
     "start_time": "2017-04-13T13:00:42.222794"
    },
    "collapsed": false,
    "scrolled": true
   },
   "outputs": [
    {
     "data": {
      "application/javascript": [
       "Jupyter.keyboard_manager.command_shortcuts.add_shortcut('f5', {\n",
       "    help : 'run cell',\n",
       "    handler : function (event) {\n",
       "        IPython.notebook.execute_cell();\n",
       "        return false;\n",
       "    }}                                               \n",
       ");\n",
       "\n",
       "Jupyter.keyboard_manager.command_shortcuts.add_shortcut('ctrl-.', {\n",
       "    help : 'run cell',\n",
       "    handler : function (event) {\n",
       "        IPython.notebook.execute_cell();\n",
       "        return false;\n",
       "    }}                                               \n",
       ");\n",
       "Jupyter.keyboard_manager.edit_shortcuts.add_shortcut('f5', {\n",
       "    help : 'run cell',\n",
       "    handler : function (event) {\n",
       "        IPython.notebook.execute_cell();\n",
       "        return false;\n",
       "    }}                                               \n",
       ");\n",
       "Jupyter.keyboard_manager.edit_shortcuts.add_shortcut('ctrl-.', {\n",
       "    help : 'run cell',\n",
       "    handler : function (event) {\n",
       "        IPython.notebook.execute_cell();\n",
       "        return false;\n",
       "    }}                                                                                        \n",
       ");\n",
       "\n",
       "Jupyter.keyboard_manager.edit_shortcuts.add_shortcut('ctrl-enter', {\n",
       "    help : 'none',\n",
       "    // 防止与 Sublime hotkey Ctrl+Enter 冲突\n",
       "    handler : function (event) {\n",
       "        return false;\n",
       "    }}\n",
       ");\n",
       "\n",
       "var cell = Jupyter.notebook.get_selected_cell();\n",
       "var config = cell.config;\n",
       "var patch = {\n",
       "      CodeCell: {\n",
       "        cm_config:{indentUnit: 2}\n",
       "      }\n",
       "    }\n",
       "config.update(patch)\n",
       "\n",
       "\n",
       "\n",
       "\n",
       "\n",
       "// 依据 ipynb 文件名, 给 cell 加上特定的背景色\n",
       "String.prototype.hashCode = function() {\n",
       "  var hash = 0, i, chr;\n",
       "  if (this.length === 0) return hash;\n",
       "  for (i = 0; i < this.length; i++) {\n",
       "    chr   = this.charCodeAt(i);\n",
       "    hash  = ((hash << 5) - hash) + chr;\n",
       "    hash |= 0; // Convert to 32bit integer\n",
       "  }\n",
       "  return hash;\n",
       "};\n",
       "\n",
       "function random_hue_color(label, s, l) {\n",
       "  // console.log(Math.abs(label.hashCode()))\n",
       "  var hash_color = (Math.abs(label.hashCode()) % 360) / 360 * 100\n",
       "  return `hsl(${hash_color}, ${s}%, ${l}%)`\n",
       "}\n",
       "\n",
       "var notebook_path = IPython.notebook.notebook_path\n",
       "var color1 = random_hue_color(notebook_path, 20, 90)\n",
       "var color2 = random_hue_color(notebook_path, 40, 80)\n",
       "\n",
       "var css = document.createElement(\"style\")\n",
       "css.type = \"text/css\"\n",
       "css.innerHTML = `div.cell {background-color: ${color1};}`\n",
       "css.innerHTML +=`div.running {background-color: ${color2};}`\n",
       "css.innerHTML +=`div.running.selected {background-color: ${color2};}`\n",
       "css.innerHTML +='</style>'\n",
       "document.body.appendChild(css);"
      ],
      "text/plain": [
       "<IPython.core.display.Javascript object>"
      ]
     },
     "metadata": {},
     "output_type": "display_data"
    }
   ],
   "source": [
    "%%javascript\n",
    "Jupyter.keyboard_manager.command_shortcuts.add_shortcut('f5', {\n",
    "    help : 'run cell',\n",
    "    handler : function (event) {\n",
    "        IPython.notebook.execute_cell();\n",
    "        return false;\n",
    "    }}                                               \n",
    ");\n",
    "\n",
    "Jupyter.keyboard_manager.command_shortcuts.add_shortcut('ctrl-.', {\n",
    "    help : 'run cell',\n",
    "    handler : function (event) {\n",
    "        IPython.notebook.execute_cell();\n",
    "        return false;\n",
    "    }}                                               \n",
    ");\n",
    "Jupyter.keyboard_manager.edit_shortcuts.add_shortcut('f5', {\n",
    "    help : 'run cell',\n",
    "    handler : function (event) {\n",
    "        IPython.notebook.execute_cell();\n",
    "        return false;\n",
    "    }}                                               \n",
    ");\n",
    "Jupyter.keyboard_manager.edit_shortcuts.add_shortcut('ctrl-.', {\n",
    "    help : 'run cell',\n",
    "    handler : function (event) {\n",
    "        IPython.notebook.execute_cell();\n",
    "        return false;\n",
    "    }}                                                                                        \n",
    ");\n",
    "\n",
    "Jupyter.keyboard_manager.edit_shortcuts.add_shortcut('ctrl-enter', {\n",
    "    help : 'none',\n",
    "    // 防止与 Sublime hotkey Ctrl+Enter 冲突\n",
    "    handler : function (event) {\n",
    "        return false;\n",
    "    }}\n",
    ");\n",
    "\n",
    "var cell = Jupyter.notebook.get_selected_cell();\n",
    "var config = cell.config;\n",
    "var patch = {\n",
    "      CodeCell: {\n",
    "        cm_config:{indentUnit: 2}\n",
    "      }\n",
    "    }\n",
    "config.update(patch)\n",
    "\n",
    "\n",
    "\n",
    "\n",
    "\n",
    "// 依据 ipynb 文件名, 给 cell 加上特定的背景色\n",
    "String.prototype.hashCode = function() {\n",
    "  var hash = 0, i, chr;\n",
    "  if (this.length === 0) return hash;\n",
    "  for (i = 0; i < this.length; i++) {\n",
    "    chr   = this.charCodeAt(i);\n",
    "    hash  = ((hash << 5) - hash) + chr;\n",
    "    hash |= 0; // Convert to 32bit integer\n",
    "  }\n",
    "  return hash;\n",
    "};\n",
    "\n",
    "function random_hue_color(label, s, l) {\n",
    "  // console.log(Math.abs(label.hashCode()))\n",
    "  var hash_color = (Math.abs(label.hashCode()) % 360) / 360 * 100\n",
    "  return `hsl(${hash_color}, ${s}%, ${l}%)`\n",
    "}\n",
    "\n",
    "var notebook_path = IPython.notebook.notebook_path\n",
    "var color1 = random_hue_color(notebook_path, 20, 90)\n",
    "var color2 = random_hue_color(notebook_path, 40, 80)\n",
    "\n",
    "var css = document.createElement(\"style\")\n",
    "css.type = \"text/css\"\n",
    "css.innerHTML = `div.cell {background-color: ${color1};}`\n",
    "css.innerHTML +=`div.running {background-color: ${color2};}`\n",
    "css.innerHTML +=`div.running.selected {background-color: ${color2};}`\n",
    "css.innerHTML +='</style>'\n",
    "document.body.appendChild(css);\n"
   ]
  },
  {
   "cell_type": "markdown",
   "metadata": {},
   "source": [
    "## Data Exploration"
   ]
  },
  {
   "cell_type": "code",
   "execution_count": 6,
   "metadata": {
    "ExecuteTime": {
     "end_time": "2017-04-13T11:44:30.551424",
     "start_time": "2017-04-13T11:44:30.533381"
    },
    "collapsed": true
   },
   "outputs": [],
   "source": [
    "train = pd.read_csv('train.csv')\n",
    "test = pd.read_csv('test.csv')"
   ]
  },
  {
   "cell_type": "code",
   "execution_count": 7,
   "metadata": {
    "ExecuteTime": {
     "end_time": "2017-04-13T11:44:37.505829",
     "start_time": "2017-04-13T11:44:37.487781"
    },
    "collapsed": false
   },
   "outputs": [
    {
     "name": "stdout",
     "output_type": "stream",
     "text": [
      "Dimension of train data (891, 12)\n",
      "Dimension of test data (418, 11)\n"
     ]
    }
   ],
   "source": [
    "print (\"Dimension of train data {}\".format(train.shape))\n",
    "print (\"Dimension of test data {}\".format(test.shape))"
   ]
  },
  {
   "cell_type": "code",
   "execution_count": 8,
   "metadata": {
    "ExecuteTime": {
     "end_time": "2017-04-13T11:44:43.174059",
     "start_time": "2017-04-13T11:44:43.023974"
    },
    "collapsed": false
   },
   "outputs": [
    {
     "name": "stdout",
     "output_type": "stream",
     "text": [
      "Basic statistical description:\n"
     ]
    },
    {
     "data": {
      "text/html": [
       "<div>\n",
       "<table border=\"1\" class=\"dataframe\">\n",
       "  <thead>\n",
       "    <tr style=\"text-align: right;\">\n",
       "      <th></th>\n",
       "      <th>PassengerId</th>\n",
       "      <th>Survived</th>\n",
       "      <th>Pclass</th>\n",
       "      <th>Age</th>\n",
       "      <th>SibSp</th>\n",
       "      <th>Parch</th>\n",
       "      <th>Fare</th>\n",
       "    </tr>\n",
       "  </thead>\n",
       "  <tbody>\n",
       "    <tr>\n",
       "      <th>count</th>\n",
       "      <td>891.000000</td>\n",
       "      <td>891.000000</td>\n",
       "      <td>891.000000</td>\n",
       "      <td>714.000000</td>\n",
       "      <td>891.000000</td>\n",
       "      <td>891.000000</td>\n",
       "      <td>891.000000</td>\n",
       "    </tr>\n",
       "    <tr>\n",
       "      <th>mean</th>\n",
       "      <td>446.000000</td>\n",
       "      <td>0.383838</td>\n",
       "      <td>2.308642</td>\n",
       "      <td>29.699118</td>\n",
       "      <td>0.523008</td>\n",
       "      <td>0.381594</td>\n",
       "      <td>32.204208</td>\n",
       "    </tr>\n",
       "    <tr>\n",
       "      <th>std</th>\n",
       "      <td>257.353842</td>\n",
       "      <td>0.486592</td>\n",
       "      <td>0.836071</td>\n",
       "      <td>14.526497</td>\n",
       "      <td>1.102743</td>\n",
       "      <td>0.806057</td>\n",
       "      <td>49.693429</td>\n",
       "    </tr>\n",
       "    <tr>\n",
       "      <th>min</th>\n",
       "      <td>1.000000</td>\n",
       "      <td>0.000000</td>\n",
       "      <td>1.000000</td>\n",
       "      <td>0.420000</td>\n",
       "      <td>0.000000</td>\n",
       "      <td>0.000000</td>\n",
       "      <td>0.000000</td>\n",
       "    </tr>\n",
       "    <tr>\n",
       "      <th>25%</th>\n",
       "      <td>223.500000</td>\n",
       "      <td>0.000000</td>\n",
       "      <td>2.000000</td>\n",
       "      <td>20.125000</td>\n",
       "      <td>0.000000</td>\n",
       "      <td>0.000000</td>\n",
       "      <td>7.910400</td>\n",
       "    </tr>\n",
       "    <tr>\n",
       "      <th>50%</th>\n",
       "      <td>446.000000</td>\n",
       "      <td>0.000000</td>\n",
       "      <td>3.000000</td>\n",
       "      <td>28.000000</td>\n",
       "      <td>0.000000</td>\n",
       "      <td>0.000000</td>\n",
       "      <td>14.454200</td>\n",
       "    </tr>\n",
       "    <tr>\n",
       "      <th>75%</th>\n",
       "      <td>668.500000</td>\n",
       "      <td>1.000000</td>\n",
       "      <td>3.000000</td>\n",
       "      <td>38.000000</td>\n",
       "      <td>1.000000</td>\n",
       "      <td>0.000000</td>\n",
       "      <td>31.000000</td>\n",
       "    </tr>\n",
       "    <tr>\n",
       "      <th>max</th>\n",
       "      <td>891.000000</td>\n",
       "      <td>1.000000</td>\n",
       "      <td>3.000000</td>\n",
       "      <td>80.000000</td>\n",
       "      <td>8.000000</td>\n",
       "      <td>6.000000</td>\n",
       "      <td>512.329200</td>\n",
       "    </tr>\n",
       "  </tbody>\n",
       "</table>\n",
       "</div>"
      ],
      "text/plain": [
       "       PassengerId    Survived      Pclass         Age       SibSp  \\\n",
       "count   891.000000  891.000000  891.000000  714.000000  891.000000   \n",
       "mean    446.000000    0.383838    2.308642   29.699118    0.523008   \n",
       "std     257.353842    0.486592    0.836071   14.526497    1.102743   \n",
       "min       1.000000    0.000000    1.000000    0.420000    0.000000   \n",
       "25%     223.500000    0.000000    2.000000   20.125000    0.000000   \n",
       "50%     446.000000    0.000000    3.000000   28.000000    0.000000   \n",
       "75%     668.500000    1.000000    3.000000   38.000000    1.000000   \n",
       "max     891.000000    1.000000    3.000000   80.000000    8.000000   \n",
       "\n",
       "            Parch        Fare  \n",
       "count  891.000000  891.000000  \n",
       "mean     0.381594   32.204208  \n",
       "std      0.806057   49.693429  \n",
       "min      0.000000    0.000000  \n",
       "25%      0.000000    7.910400  \n",
       "50%      0.000000   14.454200  \n",
       "75%      0.000000   31.000000  \n",
       "max      6.000000  512.329200  "
      ]
     },
     "execution_count": 8,
     "metadata": {},
     "output_type": "execute_result"
    }
   ],
   "source": [
    "print (\"Basic statistical description:\")\n",
    "train.describe()"
   ]
  },
  {
   "cell_type": "markdown",
   "metadata": {},
   "source": [
    "### Comparison between test and train data"
   ]
  },
  {
   "cell_type": "markdown",
   "metadata": {},
   "source": [
    "#### From following cells, we could know that train and test data are split by PassengerId."
   ]
  },
  {
   "cell_type": "code",
   "execution_count": 9,
   "metadata": {
    "ExecuteTime": {
     "end_time": "2017-04-13T11:46:40.182038",
     "start_time": "2017-04-13T11:46:40.139950"
    },
    "collapsed": false
   },
   "outputs": [
    {
     "data": {
      "text/html": [
       "<div>\n",
       "<table border=\"1\" class=\"dataframe\">\n",
       "  <thead>\n",
       "    <tr style=\"text-align: right;\">\n",
       "      <th></th>\n",
       "      <th>PassengerId</th>\n",
       "      <th>Survived</th>\n",
       "      <th>Pclass</th>\n",
       "      <th>Name</th>\n",
       "      <th>Sex</th>\n",
       "      <th>Age</th>\n",
       "      <th>SibSp</th>\n",
       "      <th>Parch</th>\n",
       "      <th>Ticket</th>\n",
       "      <th>Fare</th>\n",
       "      <th>Cabin</th>\n",
       "      <th>Embarked</th>\n",
       "    </tr>\n",
       "  </thead>\n",
       "  <tbody>\n",
       "    <tr>\n",
       "      <th>886</th>\n",
       "      <td>887</td>\n",
       "      <td>0</td>\n",
       "      <td>2</td>\n",
       "      <td>Montvila, Rev. Juozas</td>\n",
       "      <td>male</td>\n",
       "      <td>27.0</td>\n",
       "      <td>0</td>\n",
       "      <td>0</td>\n",
       "      <td>211536</td>\n",
       "      <td>13.00</td>\n",
       "      <td>NaN</td>\n",
       "      <td>S</td>\n",
       "    </tr>\n",
       "    <tr>\n",
       "      <th>887</th>\n",
       "      <td>888</td>\n",
       "      <td>1</td>\n",
       "      <td>1</td>\n",
       "      <td>Graham, Miss. Margaret Edith</td>\n",
       "      <td>female</td>\n",
       "      <td>19.0</td>\n",
       "      <td>0</td>\n",
       "      <td>0</td>\n",
       "      <td>112053</td>\n",
       "      <td>30.00</td>\n",
       "      <td>B42</td>\n",
       "      <td>S</td>\n",
       "    </tr>\n",
       "    <tr>\n",
       "      <th>888</th>\n",
       "      <td>889</td>\n",
       "      <td>0</td>\n",
       "      <td>3</td>\n",
       "      <td>Johnston, Miss. Catherine Helen \"Carrie\"</td>\n",
       "      <td>female</td>\n",
       "      <td>NaN</td>\n",
       "      <td>1</td>\n",
       "      <td>2</td>\n",
       "      <td>W./C. 6607</td>\n",
       "      <td>23.45</td>\n",
       "      <td>NaN</td>\n",
       "      <td>S</td>\n",
       "    </tr>\n",
       "    <tr>\n",
       "      <th>889</th>\n",
       "      <td>890</td>\n",
       "      <td>1</td>\n",
       "      <td>1</td>\n",
       "      <td>Behr, Mr. Karl Howell</td>\n",
       "      <td>male</td>\n",
       "      <td>26.0</td>\n",
       "      <td>0</td>\n",
       "      <td>0</td>\n",
       "      <td>111369</td>\n",
       "      <td>30.00</td>\n",
       "      <td>C148</td>\n",
       "      <td>C</td>\n",
       "    </tr>\n",
       "    <tr>\n",
       "      <th>890</th>\n",
       "      <td>891</td>\n",
       "      <td>0</td>\n",
       "      <td>3</td>\n",
       "      <td>Dooley, Mr. Patrick</td>\n",
       "      <td>male</td>\n",
       "      <td>32.0</td>\n",
       "      <td>0</td>\n",
       "      <td>0</td>\n",
       "      <td>370376</td>\n",
       "      <td>7.75</td>\n",
       "      <td>NaN</td>\n",
       "      <td>Q</td>\n",
       "    </tr>\n",
       "  </tbody>\n",
       "</table>\n",
       "</div>"
      ],
      "text/plain": [
       "     PassengerId  Survived  Pclass                                      Name  \\\n",
       "886          887         0       2                     Montvila, Rev. Juozas   \n",
       "887          888         1       1              Graham, Miss. Margaret Edith   \n",
       "888          889         0       3  Johnston, Miss. Catherine Helen \"Carrie\"   \n",
       "889          890         1       1                     Behr, Mr. Karl Howell   \n",
       "890          891         0       3                       Dooley, Mr. Patrick   \n",
       "\n",
       "        Sex   Age  SibSp  Parch      Ticket   Fare Cabin Embarked  \n",
       "886    male  27.0      0      0      211536  13.00   NaN        S  \n",
       "887  female  19.0      0      0      112053  30.00   B42        S  \n",
       "888  female   NaN      1      2  W./C. 6607  23.45   NaN        S  \n",
       "889    male  26.0      0      0      111369  30.00  C148        C  \n",
       "890    male  32.0      0      0      370376   7.75   NaN        Q  "
      ]
     },
     "execution_count": 9,
     "metadata": {},
     "output_type": "execute_result"
    }
   ],
   "source": [
    "train.tail()"
   ]
  },
  {
   "cell_type": "code",
   "execution_count": 10,
   "metadata": {
    "ExecuteTime": {
     "end_time": "2017-04-13T11:46:51.082290",
     "start_time": "2017-04-13T11:46:51.054214"
    },
    "collapsed": false
   },
   "outputs": [
    {
     "data": {
      "text/html": [
       "<div>\n",
       "<table border=\"1\" class=\"dataframe\">\n",
       "  <thead>\n",
       "    <tr style=\"text-align: right;\">\n",
       "      <th></th>\n",
       "      <th>PassengerId</th>\n",
       "      <th>Pclass</th>\n",
       "      <th>Name</th>\n",
       "      <th>Sex</th>\n",
       "      <th>Age</th>\n",
       "      <th>SibSp</th>\n",
       "      <th>Parch</th>\n",
       "      <th>Ticket</th>\n",
       "      <th>Fare</th>\n",
       "      <th>Cabin</th>\n",
       "      <th>Embarked</th>\n",
       "    </tr>\n",
       "  </thead>\n",
       "  <tbody>\n",
       "    <tr>\n",
       "      <th>0</th>\n",
       "      <td>892</td>\n",
       "      <td>3</td>\n",
       "      <td>Kelly, Mr. James</td>\n",
       "      <td>male</td>\n",
       "      <td>34.5</td>\n",
       "      <td>0</td>\n",
       "      <td>0</td>\n",
       "      <td>330911</td>\n",
       "      <td>7.8292</td>\n",
       "      <td>NaN</td>\n",
       "      <td>Q</td>\n",
       "    </tr>\n",
       "    <tr>\n",
       "      <th>1</th>\n",
       "      <td>893</td>\n",
       "      <td>3</td>\n",
       "      <td>Wilkes, Mrs. James (Ellen Needs)</td>\n",
       "      <td>female</td>\n",
       "      <td>47.0</td>\n",
       "      <td>1</td>\n",
       "      <td>0</td>\n",
       "      <td>363272</td>\n",
       "      <td>7.0000</td>\n",
       "      <td>NaN</td>\n",
       "      <td>S</td>\n",
       "    </tr>\n",
       "    <tr>\n",
       "      <th>2</th>\n",
       "      <td>894</td>\n",
       "      <td>2</td>\n",
       "      <td>Myles, Mr. Thomas Francis</td>\n",
       "      <td>male</td>\n",
       "      <td>62.0</td>\n",
       "      <td>0</td>\n",
       "      <td>0</td>\n",
       "      <td>240276</td>\n",
       "      <td>9.6875</td>\n",
       "      <td>NaN</td>\n",
       "      <td>Q</td>\n",
       "    </tr>\n",
       "    <tr>\n",
       "      <th>3</th>\n",
       "      <td>895</td>\n",
       "      <td>3</td>\n",
       "      <td>Wirz, Mr. Albert</td>\n",
       "      <td>male</td>\n",
       "      <td>27.0</td>\n",
       "      <td>0</td>\n",
       "      <td>0</td>\n",
       "      <td>315154</td>\n",
       "      <td>8.6625</td>\n",
       "      <td>NaN</td>\n",
       "      <td>S</td>\n",
       "    </tr>\n",
       "    <tr>\n",
       "      <th>4</th>\n",
       "      <td>896</td>\n",
       "      <td>3</td>\n",
       "      <td>Hirvonen, Mrs. Alexander (Helga E Lindqvist)</td>\n",
       "      <td>female</td>\n",
       "      <td>22.0</td>\n",
       "      <td>1</td>\n",
       "      <td>1</td>\n",
       "      <td>3101298</td>\n",
       "      <td>12.2875</td>\n",
       "      <td>NaN</td>\n",
       "      <td>S</td>\n",
       "    </tr>\n",
       "  </tbody>\n",
       "</table>\n",
       "</div>"
      ],
      "text/plain": [
       "   PassengerId  Pclass                                          Name     Sex  \\\n",
       "0          892       3                              Kelly, Mr. James    male   \n",
       "1          893       3              Wilkes, Mrs. James (Ellen Needs)  female   \n",
       "2          894       2                     Myles, Mr. Thomas Francis    male   \n",
       "3          895       3                              Wirz, Mr. Albert    male   \n",
       "4          896       3  Hirvonen, Mrs. Alexander (Helga E Lindqvist)  female   \n",
       "\n",
       "    Age  SibSp  Parch   Ticket     Fare Cabin Embarked  \n",
       "0  34.5      0      0   330911   7.8292   NaN        Q  \n",
       "1  47.0      1      0   363272   7.0000   NaN        S  \n",
       "2  62.0      0      0   240276   9.6875   NaN        Q  \n",
       "3  27.0      0      0   315154   8.6625   NaN        S  \n",
       "4  22.0      1      1  3101298  12.2875   NaN        S  "
      ]
     },
     "execution_count": 10,
     "metadata": {},
     "output_type": "execute_result"
    }
   ],
   "source": [
    "test.head()"
   ]
  },
  {
   "cell_type": "markdown",
   "metadata": {},
   "source": [
    "#### Let's look at data graphically. We could see that all the distribution of features are similar."
   ]
  },
  {
   "cell_type": "code",
   "execution_count": 64,
   "metadata": {
    "ExecuteTime": {
     "end_time": "2017-04-13T13:02:32.816726",
     "start_time": "2017-04-13T13:02:31.158536"
    },
    "collapsed": false
   },
   "outputs": [
    {
     "data": {
      "image/png": "[encoded data removed]",
      "text/plain": [
       "<matplotlib.figure.Figure at 0x19580b27240>"
      ]
     },
     "metadata": {},
     "output_type": "display_data"
    }
   ],
   "source": [
    "plt.rc('font', size=13)\n",
    "fig = plt.figure(figsize=(18, 8))\n",
    "alpha = 0.6\n",
    "\n",
    "ax1 = plt.subplot2grid((2,3), (0,0))\n",
    "train.Age.value_counts().plot(kind='kde', color='#FA2379', label='train', alpha=alpha)\n",
    "test.Age.value_counts().plot(kind='kde', label='test', alpha=alpha)\n",
    "ax1.set_xlabel('Age')\n",
    "ax1.set_title(\"What's the distribution of age?\" )\n",
    "plt.legend(loc='best')\n",
    "\n",
    "ax2 = plt.subplot2grid((2,3), (0,1))\n",
    "train.Pclass.value_counts().plot(kind='barh', color='#FA2379', label='train', alpha=alpha)\n",
    "test.Pclass.value_counts().plot(kind='barh', label='test', alpha=alpha)\n",
    "ax2.set_ylabel('Pclass')\n",
    "ax2.set_xlabel('Frequency')\n",
    "ax2.set_title(\"What's the distribution of Pclass?\" )\n",
    "plt.legend(loc='best')\n",
    "\n",
    "ax3 = plt.subplot2grid((2,3), (0,2))\n",
    "train.Sex.value_counts().plot(kind='barh', color='#FA2379', label='train', alpha=alpha)\n",
    "test.Sex.value_counts().plot(kind='barh', label='test', alpha=alpha)\n",
    "ax3.set_ylabel('Sex')\n",
    "ax3.set_xlabel('Frequency')\n",
    "ax3.set_title(\"What's the distribution of Sex?\" )\n",
    "plt.legend(loc='best')\n",
    "\n",
    "ax4 = plt.subplot2grid((2,3), (1,0), colspan=2)\n",
    "train.Fare.value_counts().plot(kind='kde', color='#FA2379', label='train', alpha=alpha)\n",
    "test.Fare.value_counts().plot(kind='kde', label='test', alpha=alpha)\n",
    "ax4.set_xlabel('Fare')\n",
    "ax4.set_title(\"What's the distribution of Fare?\" )\n",
    "plt.legend(loc='best')\n",
    "\n",
    "ax5 = plt.subplot2grid((2,3), (1,2))\n",
    "train.Embarked.value_counts().plot(kind='barh', color='#FA2379', label='train', alpha=alpha)\n",
    "test.Embarked.value_counts().plot(kind='barh', label='test', alpha=alpha)\n",
    "ax5.set_ylabel('Embarked')\n",
    "ax5.set_xlabel('Frequency')\n",
    "ax5.set_title(\"What's the distribution of Embarked?\" )\n",
    "plt.legend(loc='best')\n",
    "plt.tight_layout()"
   ]
  },
  {
   "cell_type": "markdown",
   "metadata": {},
   "source": [
    "#### We could know that the numbers of survived and died people are close to balanced."
   ]
  },
  {
   "cell_type": "code",
   "execution_count": 65,
   "metadata": {
    "ExecuteTime": {
     "end_time": "2017-04-13T13:03:59.815299",
     "start_time": "2017-04-13T13:03:59.782248"
    },
    "collapsed": false
   },
   "outputs": [
    {
     "name": "stdout",
     "output_type": "stream",
     "text": [
      "0    549\n",
      "1    342\n",
      "Name: Survived, dtype: int64\n"
     ]
    }
   ],
   "source": [
    "print (train.Survived.value_counts())"
   ]
  },
  {
   "cell_type": "markdown",
   "metadata": {},
   "source": [
    "### Look closely to the train data"
   ]
  },
  {
   "cell_type": "markdown",
   "metadata": {},
   "source": [
    "#### We could see that the density of survived is higher than not survived under age 10.\n",
    "\n",
    "\n",
    "\n",
    "为什么 age 还有 -5 ?"
   ]
  },
  {
   "cell_type": "code",
   "execution_count": 67,
   "metadata": {
    "ExecuteTime": {
     "end_time": "2017-04-13T13:06:55.946889",
     "start_time": "2017-04-13T13:06:55.631022"
    },
    "collapsed": false
   },
   "outputs": [
    {
     "data": {
      "image/png": "[encoded data removed]",
      "text/plain": [
       "<matplotlib.figure.Figure at 0x19581544908>"
      ]
     },
     "metadata": {},
     "output_type": "display_data"
    }
   ],
   "source": [
    "fig = plt.figure(figsize=(15, 6))\n",
    "\n",
    "train[train.Survived==0].Age.value_counts().plot(kind='density', color='#FA2379', label='Not Survived', alpha=alpha)\n",
    "train[train.Survived==1].Age.value_counts().plot(kind='density', label='Survived', alpha=alpha)\n",
    "plt.xlabel('Age')\n",
    "plt.title(\"What's the distribution of Age?\" )\n",
    "plt.legend(loc='best')\n",
    "plt.grid()"
   ]
  },
  {
   "cell_type": "markdown",
   "metadata": {},
   "source": [
    "#### We could observe that the survived rate of female is higher than male about 50%"
   ]
  },
  {
   "cell_type": "code",
   "execution_count": 68,
   "metadata": {
    "ExecuteTime": {
     "end_time": "2017-04-13T13:07:06.296523",
     "start_time": "2017-04-13T13:07:05.864304"
    },
    "collapsed": false
   },
   "outputs": [
    {
     "data": {
      "image/png": "[encoded data removed]",
      "text/plain": [
       "<matplotlib.figure.Figure at 0x19580f0ef98>"
      ]
     },
     "metadata": {},
     "output_type": "display_data"
    }
   ],
   "source": [
    "df_male = train[train.Sex=='male'].Survived.value_counts().sort_index()\n",
    "df_female = train[train.Sex=='female'].Survived.value_counts().sort_index()\n",
    "fig = plt.figure(figsize=(18, 6))\n",
    "\n",
    "ax1 = plt.subplot2grid((1,2), (0,0))\n",
    "df_female.plot(kind='barh', color='#FA2379', label='Female', alpha=alpha)\n",
    "df_male.plot(kind='barh', label='Male', alpha=alpha-0.1)\n",
    "ax1.set_xlabel('Frequrncy')\n",
    "ax1.set_yticklabels(['Died', 'Survived'])\n",
    "ax1.set_title(\"Who will survived with respect to sex?\" )\n",
    "plt.legend(loc='best')\n",
    "plt.grid()\n",
    "\n",
    "ax2 = plt.subplot2grid((1,2), (0,1))\n",
    "(df_female/train[train.Sex=='female'].shape[0]).plot(kind='barh', color='#FA2379', label='Female', alpha=alpha)\n",
    "(df_male/train[train.Sex=='male'].shape[0]).plot(kind='barh', label='Male', alpha=alpha-0.1)\n",
    "ax2.set_xlabel('Rate')\n",
    "ax2.set_yticklabels(['Died', 'Survived'])\n",
    "ax2.set_title(\"What's the survived rate with respect to sex?\" )\n",
    "plt.legend(loc='best')\n",
    "plt.grid()"
   ]
  },
  {
   "cell_type": "markdown",
   "metadata": {},
   "source": [
    "#### We could observed that the class of people affected the posibility of being survived."
   ]
  },
  {
   "cell_type": "code",
   "execution_count": 69,
   "metadata": {
    "ExecuteTime": {
     "end_time": "2017-04-13T13:09:25.193026",
     "start_time": "2017-04-13T13:09:24.183947"
    },
    "collapsed": false
   },
   "outputs": [
    {
     "data": {
      "image/png": "[encoded data removed]",
      "text/plain": [
       "<matplotlib.figure.Figure at 0x19581060630>"
      ]
     },
     "metadata": {},
     "output_type": "display_data"
    }
   ],
   "source": [
    "df_male = train[train.Sex=='male']\n",
    "df_female = train[train.Sex=='female']\n",
    "fig = plt.figure(figsize=(18, 6))\n",
    "\n",
    "ax1 = plt.subplot2grid((1,4), (0,0))\n",
    "df_female[df_female.Pclass<3].Survived.value_counts().sort_index().plot(kind='bar', color='#FA2379', alpha=alpha)\n",
    "ax1.set_ylabel('Frequrncy')\n",
    "ax1.set_ylim((0,350))\n",
    "ax1.set_xticklabels(['Died', 'Survived'])\n",
    "ax1.set_title(\"How will high-class female survived?\", y=1.05)\n",
    "plt.grid()\n",
    "\n",
    "ax2 = plt.subplot2grid((1,4), (0,1))\n",
    "df_female[df_female.Pclass==3].Survived.value_counts().sort_index().plot(kind='bar', color='#23FA79', alpha=alpha)\n",
    "ax2.set_ylabel('Frequrncy')\n",
    "ax2.set_ylim((0,350))\n",
    "ax2.set_xticklabels(['Died', 'Survived'])\n",
    "ax2.set_title(\"How will low-class female survived?\", y=1.05)\n",
    "plt.grid()\n",
    "\n",
    "ax3 = plt.subplot2grid((1,4), (0,2))\n",
    "df_male[df_male.Pclass<3].Survived.value_counts().sort_index().plot(kind='bar', color='#00FA23', alpha=alpha)\n",
    "ax3.set_ylabel('Frequrncy')\n",
    "ax3.set_ylim((0,350))\n",
    "ax3.set_xticklabels(['Died', 'Survived'])\n",
    "ax3.set_title(\"How will high-class male survived?\", y=1.05)\n",
    "plt.grid()\n",
    "\n",
    "ax4 = plt.subplot2grid((1,4), (0,3))\n",
    "df_male[df_male.Pclass==3].Survived.value_counts().sort_index().plot(kind='bar', color='#2379FA', alpha=alpha)\n",
    "ax4.set_ylabel('Frequrncy')\n",
    "ax4.set_ylim((0,350))\n",
    "ax4.set_xticklabels(['Died', 'Survived'])\n",
    "ax4.set_title(\"How will low-class male survived?\", y=1.05)\n",
    "plt.grid()\n",
    "plt.tight_layout()"
   ]
  },
  {
   "cell_type": "markdown",
   "metadata": {},
   "source": [
    "#### We could see that if the value of Ticket is the same, passenger would be close, like friends or familes. But sometimes it will not be the case, so we need to carefully handle it."
   ]
  },
  {
   "cell_type": "code",
   "execution_count": 70,
   "metadata": {
    "ExecuteTime": {
     "end_time": "2017-04-13T13:10:10.877024",
     "start_time": "2017-04-13T13:10:10.849956"
    },
    "collapsed": false
   },
   "outputs": [
    {
     "data": {
      "text/html": [
       "<div>\n",
       "<table border=\"1\" class=\"dataframe\">\n",
       "  <thead>\n",
       "    <tr style=\"text-align: right;\">\n",
       "      <th></th>\n",
       "      <th>PassengerId</th>\n",
       "      <th>Survived</th>\n",
       "      <th>Pclass</th>\n",
       "      <th>Name</th>\n",
       "      <th>Sex</th>\n",
       "      <th>Age</th>\n",
       "      <th>SibSp</th>\n",
       "      <th>Parch</th>\n",
       "      <th>Ticket</th>\n",
       "      <th>Fare</th>\n",
       "      <th>Cabin</th>\n",
       "      <th>Embarked</th>\n",
       "    </tr>\n",
       "  </thead>\n",
       "  <tbody>\n",
       "    <tr>\n",
       "      <th>74</th>\n",
       "      <td>75</td>\n",
       "      <td>1</td>\n",
       "      <td>3</td>\n",
       "      <td>Bing, Mr. Lee</td>\n",
       "      <td>male</td>\n",
       "      <td>32.0</td>\n",
       "      <td>0</td>\n",
       "      <td>0</td>\n",
       "      <td>1601</td>\n",
       "      <td>56.4958</td>\n",
       "      <td>NaN</td>\n",
       "      <td>S</td>\n",
       "    </tr>\n",
       "    <tr>\n",
       "      <th>169</th>\n",
       "      <td>170</td>\n",
       "      <td>0</td>\n",
       "      <td>3</td>\n",
       "      <td>Ling, Mr. Lee</td>\n",
       "      <td>male</td>\n",
       "      <td>28.0</td>\n",
       "      <td>0</td>\n",
       "      <td>0</td>\n",
       "      <td>1601</td>\n",
       "      <td>56.4958</td>\n",
       "      <td>NaN</td>\n",
       "      <td>S</td>\n",
       "    </tr>\n",
       "    <tr>\n",
       "      <th>509</th>\n",
       "      <td>510</td>\n",
       "      <td>1</td>\n",
       "      <td>3</td>\n",
       "      <td>Lang, Mr. Fang</td>\n",
       "      <td>male</td>\n",
       "      <td>26.0</td>\n",
       "      <td>0</td>\n",
       "      <td>0</td>\n",
       "      <td>1601</td>\n",
       "      <td>56.4958</td>\n",
       "      <td>NaN</td>\n",
       "      <td>S</td>\n",
       "    </tr>\n",
       "    <tr>\n",
       "      <th>643</th>\n",
       "      <td>644</td>\n",
       "      <td>1</td>\n",
       "      <td>3</td>\n",
       "      <td>Foo, Mr. Choong</td>\n",
       "      <td>male</td>\n",
       "      <td>NaN</td>\n",
       "      <td>0</td>\n",
       "      <td>0</td>\n",
       "      <td>1601</td>\n",
       "      <td>56.4958</td>\n",
       "      <td>NaN</td>\n",
       "      <td>S</td>\n",
       "    </tr>\n",
       "    <tr>\n",
       "      <th>692</th>\n",
       "      <td>693</td>\n",
       "      <td>1</td>\n",
       "      <td>3</td>\n",
       "      <td>Lam, Mr. Ali</td>\n",
       "      <td>male</td>\n",
       "      <td>NaN</td>\n",
       "      <td>0</td>\n",
       "      <td>0</td>\n",
       "      <td>1601</td>\n",
       "      <td>56.4958</td>\n",
       "      <td>NaN</td>\n",
       "      <td>S</td>\n",
       "    </tr>\n",
       "    <tr>\n",
       "      <th>826</th>\n",
       "      <td>827</td>\n",
       "      <td>0</td>\n",
       "      <td>3</td>\n",
       "      <td>Lam, Mr. Len</td>\n",
       "      <td>male</td>\n",
       "      <td>NaN</td>\n",
       "      <td>0</td>\n",
       "      <td>0</td>\n",
       "      <td>1601</td>\n",
       "      <td>56.4958</td>\n",
       "      <td>NaN</td>\n",
       "      <td>S</td>\n",
       "    </tr>\n",
       "    <tr>\n",
       "      <th>838</th>\n",
       "      <td>839</td>\n",
       "      <td>1</td>\n",
       "      <td>3</td>\n",
       "      <td>Chip, Mr. Chang</td>\n",
       "      <td>male</td>\n",
       "      <td>32.0</td>\n",
       "      <td>0</td>\n",
       "      <td>0</td>\n",
       "      <td>1601</td>\n",
       "      <td>56.4958</td>\n",
       "      <td>NaN</td>\n",
       "      <td>S</td>\n",
       "    </tr>\n",
       "  </tbody>\n",
       "</table>\n",
       "</div>"
      ],
      "text/plain": [
       "     PassengerId  Survived  Pclass             Name   Sex   Age  SibSp  Parch  \\\n",
       "74            75         1       3    Bing, Mr. Lee  male  32.0      0      0   \n",
       "169          170         0       3    Ling, Mr. Lee  male  28.0      0      0   \n",
       "509          510         1       3   Lang, Mr. Fang  male  26.0      0      0   \n",
       "643          644         1       3  Foo, Mr. Choong  male   NaN      0      0   \n",
       "692          693         1       3     Lam, Mr. Ali  male   NaN      0      0   \n",
       "826          827         0       3     Lam, Mr. Len  male   NaN      0      0   \n",
       "838          839         1       3  Chip, Mr. Chang  male  32.0      0      0   \n",
       "\n",
       "    Ticket     Fare Cabin Embarked  \n",
       "74    1601  56.4958   NaN        S  \n",
       "169   1601  56.4958   NaN        S  \n",
       "509   1601  56.4958   NaN        S  \n",
       "643   1601  56.4958   NaN        S  \n",
       "692   1601  56.4958   NaN        S  \n",
       "826   1601  56.4958   NaN        S  \n",
       "838   1601  56.4958   NaN        S  "
      ]
     },
     "execution_count": 70,
     "metadata": {},
     "output_type": "execute_result"
    }
   ],
   "source": [
    "train[train.Ticket=='1601']"
   ]
  },
  {
   "cell_type": "code",
   "execution_count": 71,
   "metadata": {
    "ExecuteTime": {
     "end_time": "2017-04-13T13:10:32.867164",
     "start_time": "2017-04-13T13:10:32.833082"
    },
    "collapsed": false
   },
   "outputs": [
    {
     "data": {
      "text/html": [
       "<div>\n",
       "<table border=\"1\" class=\"dataframe\">\n",
       "  <thead>\n",
       "    <tr style=\"text-align: right;\">\n",
       "      <th></th>\n",
       "      <th>PassengerId</th>\n",
       "      <th>Survived</th>\n",
       "      <th>Pclass</th>\n",
       "      <th>Name</th>\n",
       "      <th>Sex</th>\n",
       "      <th>Age</th>\n",
       "      <th>SibSp</th>\n",
       "      <th>Parch</th>\n",
       "      <th>Ticket</th>\n",
       "      <th>Fare</th>\n",
       "      <th>Cabin</th>\n",
       "      <th>Embarked</th>\n",
       "    </tr>\n",
       "  </thead>\n",
       "  <tbody>\n",
       "    <tr>\n",
       "      <th>59</th>\n",
       "      <td>60</td>\n",
       "      <td>0</td>\n",
       "      <td>3</td>\n",
       "      <td>Goodwin, Master. William Frederick</td>\n",
       "      <td>male</td>\n",
       "      <td>11.0</td>\n",
       "      <td>5</td>\n",
       "      <td>2</td>\n",
       "      <td>CA 2144</td>\n",
       "      <td>46.9</td>\n",
       "      <td>NaN</td>\n",
       "      <td>S</td>\n",
       "    </tr>\n",
       "    <tr>\n",
       "      <th>71</th>\n",
       "      <td>72</td>\n",
       "      <td>0</td>\n",
       "      <td>3</td>\n",
       "      <td>Goodwin, Miss. Lillian Amy</td>\n",
       "      <td>female</td>\n",
       "      <td>16.0</td>\n",
       "      <td>5</td>\n",
       "      <td>2</td>\n",
       "      <td>CA 2144</td>\n",
       "      <td>46.9</td>\n",
       "      <td>NaN</td>\n",
       "      <td>S</td>\n",
       "    </tr>\n",
       "    <tr>\n",
       "      <th>386</th>\n",
       "      <td>387</td>\n",
       "      <td>0</td>\n",
       "      <td>3</td>\n",
       "      <td>Goodwin, Master. Sidney Leonard</td>\n",
       "      <td>male</td>\n",
       "      <td>1.0</td>\n",
       "      <td>5</td>\n",
       "      <td>2</td>\n",
       "      <td>CA 2144</td>\n",
       "      <td>46.9</td>\n",
       "      <td>NaN</td>\n",
       "      <td>S</td>\n",
       "    </tr>\n",
       "    <tr>\n",
       "      <th>480</th>\n",
       "      <td>481</td>\n",
       "      <td>0</td>\n",
       "      <td>3</td>\n",
       "      <td>Goodwin, Master. Harold Victor</td>\n",
       "      <td>male</td>\n",
       "      <td>9.0</td>\n",
       "      <td>5</td>\n",
       "      <td>2</td>\n",
       "      <td>CA 2144</td>\n",
       "      <td>46.9</td>\n",
       "      <td>NaN</td>\n",
       "      <td>S</td>\n",
       "    </tr>\n",
       "    <tr>\n",
       "      <th>678</th>\n",
       "      <td>679</td>\n",
       "      <td>0</td>\n",
       "      <td>3</td>\n",
       "      <td>Goodwin, Mrs. Frederick (Augusta Tyler)</td>\n",
       "      <td>female</td>\n",
       "      <td>43.0</td>\n",
       "      <td>1</td>\n",
       "      <td>6</td>\n",
       "      <td>CA 2144</td>\n",
       "      <td>46.9</td>\n",
       "      <td>NaN</td>\n",
       "      <td>S</td>\n",
       "    </tr>\n",
       "    <tr>\n",
       "      <th>683</th>\n",
       "      <td>684</td>\n",
       "      <td>0</td>\n",
       "      <td>3</td>\n",
       "      <td>Goodwin, Mr. Charles Edward</td>\n",
       "      <td>male</td>\n",
       "      <td>14.0</td>\n",
       "      <td>5</td>\n",
       "      <td>2</td>\n",
       "      <td>CA 2144</td>\n",
       "      <td>46.9</td>\n",
       "      <td>NaN</td>\n",
       "      <td>S</td>\n",
       "    </tr>\n",
       "  </tbody>\n",
       "</table>\n",
       "</div>"
      ],
      "text/plain": [
       "     PassengerId  Survived  Pclass                                     Name  \\\n",
       "59            60         0       3       Goodwin, Master. William Frederick   \n",
       "71            72         0       3               Goodwin, Miss. Lillian Amy   \n",
       "386          387         0       3          Goodwin, Master. Sidney Leonard   \n",
       "480          481         0       3           Goodwin, Master. Harold Victor   \n",
       "678          679         0       3  Goodwin, Mrs. Frederick (Augusta Tyler)   \n",
       "683          684         0       3              Goodwin, Mr. Charles Edward   \n",
       "\n",
       "        Sex   Age  SibSp  Parch   Ticket  Fare Cabin Embarked  \n",
       "59     male  11.0      5      2  CA 2144  46.9   NaN        S  \n",
       "71   female  16.0      5      2  CA 2144  46.9   NaN        S  \n",
       "386    male   1.0      5      2  CA 2144  46.9   NaN        S  \n",
       "480    male   9.0      5      2  CA 2144  46.9   NaN        S  \n",
       "678  female  43.0      1      6  CA 2144  46.9   NaN        S  \n",
       "683    male  14.0      5      2  CA 2144  46.9   NaN        S  "
      ]
     },
     "execution_count": 71,
     "metadata": {},
     "output_type": "execute_result"
    }
   ],
   "source": [
    "train[train.Ticket=='CA 2144']"
   ]
  },
  {
   "cell_type": "markdown",
   "metadata": {},
   "source": [
    "## Data Cleaning"
   ]
  },
  {
   "cell_type": "markdown",
   "metadata": {},
   "source": [
    "#### Let's see how many missing values we have on each column. "
   ]
  },
  {
   "cell_type": "code",
   "execution_count": 72,
   "metadata": {
    "ExecuteTime": {
     "end_time": "2017-04-13T13:10:44.668384",
     "start_time": "2017-04-13T13:10:44.654374"
    },
    "collapsed": false
   },
   "outputs": [
    {
     "data": {
      "text/plain": [
       "PassengerId      0\n",
       "Survived         0\n",
       "Pclass           0\n",
       "Name             0\n",
       "Sex              0\n",
       "Age            177\n",
       "SibSp            0\n",
       "Parch            0\n",
       "Ticket           0\n",
       "Fare             0\n",
       "Cabin          687\n",
       "Embarked         2\n",
       "dtype: int64"
      ]
     },
     "execution_count": 72,
     "metadata": {},
     "output_type": "execute_result"
    }
   ],
   "source": [
    "train.isnull().sum()"
   ]
  },
  {
   "cell_type": "code",
   "execution_count": 73,
   "metadata": {
    "ExecuteTime": {
     "end_time": "2017-04-13T13:10:52.520905",
     "start_time": "2017-04-13T13:10:52.509882"
    },
    "collapsed": false
   },
   "outputs": [
    {
     "data": {
      "text/plain": [
       "PassengerId      0\n",
       "Pclass           0\n",
       "Name             0\n",
       "Sex              0\n",
       "Age             86\n",
       "SibSp            0\n",
       "Parch            0\n",
       "Ticket           0\n",
       "Fare             1\n",
       "Cabin          327\n",
       "Embarked         0\n",
       "dtype: int64"
      ]
     },
     "execution_count": 73,
     "metadata": {},
     "output_type": "execute_result"
    }
   ],
   "source": [
    "test.isnull().sum()"
   ]
  },
  {
   "cell_type": "markdown",
   "metadata": {},
   "source": [
    "#### Thanks for [this amazing sharing](https://www.kaggle.com/mrisdal/titanic/exploring-survival-on-the-titanic/notebook), now we have a good way to replace missing values with sensible values. Let's assume the embarked is related with fare and pclass."
   ]
  },
  {
   "cell_type": "markdown",
   "metadata": {},
   "source": [
    "### Missing values on Embarked"
   ]
  },
  {
   "cell_type": "code",
   "execution_count": 74,
   "metadata": {
    "ExecuteTime": {
     "end_time": "2017-04-13T13:11:48.741318",
     "start_time": "2017-04-13T13:11:48.189849"
    },
    "collapsed": false
   },
   "outputs": [
    {
     "data": {
      "text/html": [
       "<div>\n",
       "<table border=\"1\" class=\"dataframe\">\n",
       "  <thead>\n",
       "    <tr style=\"text-align: right;\">\n",
       "      <th></th>\n",
       "      <th>Fare</th>\n",
       "      <th>Pclass</th>\n",
       "      <th>Embarked</th>\n",
       "    </tr>\n",
       "  </thead>\n",
       "  <tbody>\n",
       "    <tr>\n",
       "      <th>61</th>\n",
       "      <td>80.0</td>\n",
       "      <td>1</td>\n",
       "      <td>NaN</td>\n",
       "    </tr>\n",
       "    <tr>\n",
       "      <th>829</th>\n",
       "      <td>80.0</td>\n",
       "      <td>1</td>\n",
       "      <td>NaN</td>\n",
       "    </tr>\n",
       "  </tbody>\n",
       "</table>\n",
       "</div>"
      ],
      "text/plain": [
       "     Fare  Pclass Embarked\n",
       "61   80.0       1      NaN\n",
       "829  80.0       1      NaN"
      ]
     },
     "execution_count": 74,
     "metadata": {},
     "output_type": "execute_result"
    },
    {
     "data": {
      "image/png": "[encoded data removed]",
      "text/plain": [
       "<matplotlib.figure.Figure at 0x19581072c18>"
      ]
     },
     "metadata": {},
     "output_type": "display_data"
    }
   ],
   "source": [
    "fig = plt.figure(figsize=(8, 5))\n",
    "ax = fig.add_subplot(111)\n",
    "ax = train.boxplot(column='Fare', by=['Embarked','Pclass'], ax=ax)\n",
    "plt.axhline(y=80, color='green')\n",
    "ax.set_title('', y=1.1)\n",
    "\n",
    "train[train.Embarked.isnull()][['Fare', 'Pclass', 'Embarked']]"
   ]
  },
  {
   "cell_type": "markdown",
   "metadata": {},
   "source": [
    "#### From the above boxplot, we should replace NA with C because most people who had Pclass 1 and Fare 80 would be Embarked C\n",
    "\n",
    "\n",
    "箱线图 | Yixf's blog\n",
    "http://yixf.name/2011/02/13/%E7%AE%B1%E7%BA%BF%E5%9B%BE/"
   ]
  },
  {
   "cell_type": "code",
   "execution_count": 75,
   "metadata": {
    "ExecuteTime": {
     "end_time": "2017-04-13T13:34:34.893926",
     "start_time": "2017-04-13T13:34:34.812705"
    },
    "collapsed": true
   },
   "outputs": [],
   "source": [
    "_ = train.set_value(train.Embarked.isnull(), 'Embarked', 'C')"
   ]
  },
  {
   "cell_type": "markdown",
   "metadata": {},
   "source": [
    "### Missing values on Fare"
   ]
  },
  {
   "cell_type": "markdown",
   "metadata": {},
   "source": [
    "#### By fixing the values of Embarked (and Pclass?), we could plot histogram of Fare. And we should use the most common value to replace the NA value of Fare.\n"
   ]
  },
  {
   "cell_type": "code",
   "execution_count": 77,
   "metadata": {
    "ExecuteTime": {
     "end_time": "2017-04-13T13:40:39.680953",
     "start_time": "2017-04-13T13:40:38.923424"
    },
    "collapsed": false
   },
   "outputs": [
    {
     "data": {
      "text/html": [
       "<div>\n",
       "<table border=\"1\" class=\"dataframe\">\n",
       "  <thead>\n",
       "    <tr style=\"text-align: right;\">\n",
       "      <th></th>\n",
       "      <th>Pclass</th>\n",
       "      <th>Fare</th>\n",
       "      <th>Embarked</th>\n",
       "    </tr>\n",
       "  </thead>\n",
       "  <tbody>\n",
       "    <tr>\n",
       "      <th>152</th>\n",
       "      <td>3</td>\n",
       "      <td>NaN</td>\n",
       "      <td>S</td>\n",
       "    </tr>\n",
       "  </tbody>\n",
       "</table>\n",
       "</div>"
      ],
      "text/plain": [
       "     Pclass  Fare Embarked\n",
       "152       3   NaN        S"
      ]
     },
     "execution_count": 77,
     "metadata": {},
     "output_type": "execute_result"
    },
    {
     "data": {
      "image/png": "[encoded data removed]",
      "text/plain": [
       "<matplotlib.figure.Figure at 0x195819edbe0>"
      ]
     },
     "metadata": {},
     "output_type": "display_data"
    }
   ],
   "source": [
    "fig = plt.figure(figsize=(8, 5))\n",
    "ax = fig.add_subplot(111)\n",
    "test[(test.Pclass==3)&(test.Embarked=='S')].Fare.hist(bins=100, ax=ax)\n",
    "test[test.Fare.isnull()][['Pclass', 'Fare', 'Embarked']]\n",
    "plt.xlabel('Fare')\n",
    "plt.ylabel('Frequency')\n",
    "plt.title('Histogram of Fare, Plcass 3 and Embarked S')\n",
    "\n",
    "test[test.Fare.isnull()][['Pclass', 'Fare', 'Embarked']]"
   ]
  },
  {
   "cell_type": "code",
   "execution_count": 78,
   "metadata": {
    "ExecuteTime": {
     "end_time": "2017-04-13T13:42:52.011275",
     "start_time": "2017-04-13T13:42:51.969160"
    },
    "collapsed": false
   },
   "outputs": [
    {
     "name": "stdout",
     "output_type": "stream",
     "text": [
      "The top 5 most common value of Fare\n"
     ]
    },
    {
     "data": {
      "text/plain": [
       "8.0500    17\n",
       "7.8958    10\n",
       "7.7750    10\n",
       "8.6625     8\n",
       "7.8542     8\n",
       "Name: Fare, dtype: int64"
      ]
     },
     "execution_count": 78,
     "metadata": {},
     "output_type": "execute_result"
    }
   ],
   "source": [
    "print (\"The top 5 most common value of Fare\")\n",
    "test[(test.Pclass==3)&(test.Embarked=='S')].Fare.value_counts().head()"
   ]
  },
  {
   "cell_type": "code",
   "execution_count": 79,
   "metadata": {
    "ExecuteTime": {
     "end_time": "2017-04-13T13:42:55.896904",
     "start_time": "2017-04-13T13:42:55.866821"
    },
    "collapsed": true
   },
   "outputs": [],
   "source": [
    "_ = test.set_value(test.Fare.isnull(), 'Fare', 8.05)"
   ]
  },
  {
   "cell_type": "markdown",
   "metadata": {},
   "source": [
    "#### Replace the missing value of Cabin with U0"
   ]
  },
  {
   "cell_type": "code",
   "execution_count": 81,
   "metadata": {
    "ExecuteTime": {
     "end_time": "2017-04-13T13:45:05.687897",
     "start_time": "2017-04-13T13:45:05.653808"
    },
    "collapsed": true
   },
   "outputs": [],
   "source": [
    "# 缺失值太多的, 就没法补了, 分类值直接设一个 unknown\n",
    "\n",
    "full = pd.concat([train, test], ignore_index=True)\n",
    "_ = full.set_value(full.Cabin.isnull(), 'Cabin', 'U0')"
   ]
  },
  {
   "cell_type": "markdown",
   "metadata": {},
   "source": [
    "## Feature Engineering"
   ]
  },
  {
   "cell_type": "markdown",
   "metadata": {},
   "source": [
    "#### Create a feature, Names, to store the length of words in name."
   ]
  },
  {
   "cell_type": "code",
   "execution_count": 82,
   "metadata": {
    "ExecuteTime": {
     "end_time": "2017-04-13T13:46:13.198771",
     "start_time": "2017-04-13T13:46:13.138643"
    },
    "collapsed": true
   },
   "outputs": [],
   "source": [
    "import re\n",
    "names = full.Name.map(lambda x: len(re.split(' ', x)))\n",
    "_ = full.set_value(full.index, 'Names', names)\n",
    "del names"
   ]
  },
  {
   "cell_type": "markdown",
   "metadata": {},
   "source": [
    "#### Create a feature, Title."
   ]
  },
  {
   "cell_type": "code",
   "execution_count": 83,
   "metadata": {
    "ExecuteTime": {
     "end_time": "2017-04-13T13:49:32.687389",
     "start_time": "2017-04-13T13:49:32.603162"
    },
    "collapsed": true
   },
   "outputs": [],
   "source": [
    "title = full.Name.map(lambda x: re.compile(', (.*?)\\.').findall(x)[0])\n",
    "title[title=='Mme'] = 'Mrs'\n",
    "title[title.isin(['Ms','Mlle'])] = 'Miss'\n",
    "title[title.isin(['Don', 'Jonkheer'])] = 'Sir'\n",
    "title[title.isin(['Dona', 'Lady', 'the Countess'])] = 'Lady'\n",
    "title[title.isin(['Capt', 'Col', 'Major', 'Dr', 'Officer', 'Rev'])] = 'Officer'\n",
    "_ = full.set_value(full.index, 'Title', title)\n",
    "del title"
   ]
  },
  {
   "cell_type": "markdown",
   "metadata": {},
   "source": [
    "#### Create a feature, Deck. It may represents the socioeconomic status."
   ]
  },
  {
   "cell_type": "code",
   "execution_count": 84,
   "metadata": {
    "ExecuteTime": {
     "end_time": "2017-04-13T13:50:10.188468",
     "start_time": "2017-04-13T13:50:10.166408"
    },
    "collapsed": true
   },
   "outputs": [],
   "source": [
    "deck = full[~full.Cabin.isnull()].Cabin.map( lambda x : re.compile(\"([a-zA-Z]+)\").search(x).group())\n",
    "deck = pd.factorize(deck)[0]\n",
    "_ = full.set_value(full.index, 'Deck', deck)\n",
    "del deck"
   ]
  },
  {
   "cell_type": "markdown",
   "metadata": {},
   "source": [
    "#### Create a feature, Room. It may represents the geo lacation."
   ]
  },
  {
   "cell_type": "code",
   "execution_count": 85,
   "metadata": {
    "ExecuteTime": {
     "end_time": "2017-04-13T13:50:37.379164",
     "start_time": "2017-04-13T13:50:37.335075"
    },
    "collapsed": true
   },
   "outputs": [],
   "source": [
    "checker = re.compile(\"([0-9]+)\")\n",
    "def roomNum(x):\n",
    "    nums = checker.search(x)\n",
    "    if nums:\n",
    "        return int(nums.group())+1\n",
    "    else:\n",
    "        return 1\n",
    "rooms = full.Cabin.map(roomNum)\n",
    "_ = full.set_value(full.index, 'Room', rooms)\n",
    "del checker, roomNum\n",
    "full['Room'] = full.Room/full.Room.sum()"
   ]
  },
  {
   "cell_type": "markdown",
   "metadata": {},
   "source": [
    "#### Create a feature, Group_num. It may represents the size of family."
   ]
  },
  {
   "cell_type": "code",
   "execution_count": 86,
   "metadata": {
    "ExecuteTime": {
     "end_time": "2017-04-13T13:50:46.973666",
     "start_time": "2017-04-13T13:50:46.945600"
    },
    "collapsed": true
   },
   "outputs": [],
   "source": [
    "full['Group_num'] = full.Parch + full.SibSp + 1"
   ]
  },
  {
   "cell_type": "markdown",
   "metadata": {},
   "source": [
    "#### Create a feature, Group_size. When the size is between 2 and 4, more people are survived."
   ]
  },
  {
   "cell_type": "code",
   "execution_count": 87,
   "metadata": {
    "ExecuteTime": {
     "end_time": "2017-04-13T13:51:08.516745",
     "start_time": "2017-04-13T13:51:07.990618"
    },
    "collapsed": true
   },
   "outputs": [],
   "source": [
    "full['Group_size'] = pd.Series('M', index=full.index)\n",
    "_ = full.set_value(full.Group_num>4, 'Group_size', 'L')\n",
    "_ = full.set_value(full.Group_num==1, 'Group_size', 'S')"
   ]
  },
  {
   "cell_type": "markdown",
   "metadata": {},
   "source": [
    "#### Normalized the fare."
   ]
  },
  {
   "cell_type": "code",
   "execution_count": 89,
   "metadata": {
    "ExecuteTime": {
     "end_time": "2017-04-13T13:51:38.297420",
     "start_time": "2017-04-13T13:51:38.289395"
    },
    "collapsed": false
   },
   "outputs": [],
   "source": [
    "from sklearn.preprocessing import StandardScaler\n",
    "scaler = StandardScaler()\n",
    "full['NorFare'] = pd.Series(scaler.fit_transform(full.Fare.values.reshape(-1,1)).reshape(-1), index=full.index)"
   ]
  },
  {
   "cell_type": "code",
   "execution_count": 90,
   "metadata": {
    "ExecuteTime": {
     "end_time": "2017-04-13T13:54:14.084327",
     "start_time": "2017-04-13T13:54:13.922898"
    },
    "collapsed": true
   },
   "outputs": [],
   "source": [
    "def setValue(col):\n",
    "    _ = train.set_value(train.index, col, full[:891][col].values)\n",
    "    _ = test.set_value(test.index, col, full[891:][col].values)\n",
    "\n",
    "for col in ['Deck', 'Room', 'Group_size', 'Group_num', 'Names', 'Title']:\n",
    "    setValue(col)\n",
    "    \n",
    "    \n",
    "# 这是啥意思? 把 full 的数据写回到 train 和 test?"
   ]
  },
  {
   "cell_type": "markdown",
   "metadata": {},
   "source": [
    "#### Predict Age"
   ]
  },
  {
   "cell_type": "code",
   "execution_count": null,
   "metadata": {
    "collapsed": true
   },
   "outputs": [],
   "source": [
    "full.drop(labels=['PassengerId', 'Name', 'Cabin', 'Survived', 'Ticket', 'Fare'], axis=1, inplace=True)\n",
    "full = pd.get_dummies(full, columns=['Embarked', 'Sex', 'Title', 'Group_size'])"
   ]
  },
  {
   "cell_type": "code",
   "execution_count": null,
   "metadata": {
    "collapsed": true
   },
   "outputs": [],
   "source": [
    "from sklearn.model_selection import train_test_split\n",
    "X = full[~full.Age.isnull()].drop('Age', axis=1)\n",
    "y = full[~full.Age.isnull()].Age\n",
    "X_train, X_test, y_train, y_test = train_test_split(X, y, random_state=42)"
   ]
  },
  {
   "cell_type": "code",
   "execution_count": null,
   "metadata": {
    "collapsed": true
   },
   "outputs": [],
   "source": [
    "from sklearn.metrics import mean_absolute_error\n",
    "from sklearn.metrics import make_scorer\n",
    "\n",
    "def get_model(estimator, parameters, X_train, y_train, scoring):  \n",
    "    model = GridSearchCV(estimator, param_grid=parameters, scoring=scoring)\n",
    "    model.fit(X_train, y_train)\n",
    "    return model.best_estimator_"
   ]
  },
  {
   "cell_type": "code",
   "execution_count": null,
   "metadata": {
    "collapsed": true
   },
   "outputs": [],
   "source": [
    "import xgboost as xgb\n",
    "\n",
    "XGB = xgb.XGBRegressor(max_depth=4, seed= 42)\n",
    "scoring = make_scorer(mean_absolute_error, greater_is_better=False)\n",
    "parameters = {'reg_alpha':np.linspace(0.1,1.0,5), 'reg_lambda': np.linspace(1.0,3.0,5)}\n",
    "reg_xgb = get_model(XGB, parameters, X_train, y_train, scoring)\n",
    "print (reg_xgb)"
   ]
  },
  {
   "cell_type": "code",
   "execution_count": null,
   "metadata": {
    "collapsed": true
   },
   "outputs": [],
   "source": [
    "print (\"Mean absolute error of test data: {}\".format(mean_absolute_error(y_test, reg_xgb.predict(X_test))))"
   ]
  },
  {
   "cell_type": "code",
   "execution_count": null,
   "metadata": {
    "collapsed": true
   },
   "outputs": [],
   "source": [
    "fig = plt.figure(figsize=(15, 6))\n",
    "alpha = 0.5\n",
    "full.Age.value_counts().plot(kind='density', color='#FA2379', label='Before', alpha=alpha)\n",
    "\n",
    "pred = reg_xgb.predict(full[full.Age.isnull()].drop('Age', axis=1))\n",
    "full.set_value(full.Age.isnull(), 'Age', pred)\n",
    "\n",
    "full.Age.value_counts().plot(kind='density', label='After', alpha=alpha)\n",
    "plt.xlabel('Age')\n",
    "plt.title(\"What's the distribution of Age after predicting?\" )\n",
    "plt.legend(loc='best')\n",
    "plt.grid()"
   ]
  },
  {
   "cell_type": "code",
   "execution_count": null,
   "metadata": {
    "collapsed": true
   },
   "outputs": [],
   "source": [
    "full['NorAge'] = pd.Series(scaler.fit_transform(full.Age.reshape(-1,1)).reshape(-1), index=full.index)\n",
    "full['NorNames'] = pd.Series(scaler.fit_transform(full.Names.reshape(-1,1)).reshape(-1), index=full.index)\n",
    "full['Group_num'] = pd.Series(scaler.fit_transform(full.Group_num.reshape(-1,1)).reshape(-1), index=full.index)"
   ]
  },
  {
   "cell_type": "code",
   "execution_count": null,
   "metadata": {
    "collapsed": true
   },
   "outputs": [],
   "source": [
    "for col in ['NorAge', 'NorFare', 'NorNames', 'Group_num']:\n",
    "    setValue(col)"
   ]
  },
  {
   "cell_type": "markdown",
   "metadata": {},
   "source": [
    "#### Encoding sex, feamle: 0 and male: 1"
   ]
  },
  {
   "cell_type": "code",
   "execution_count": null,
   "metadata": {
    "collapsed": true
   },
   "outputs": [],
   "source": [
    "train.Sex = np.where(train.Sex=='female', 0, 1)\n",
    "test.Sex = np.where(test.Sex=='female', 0, 1)"
   ]
  },
  {
   "cell_type": "markdown",
   "metadata": {},
   "source": [
    "#### Convert values of Embarked and Ticket into dummy variables"
   ]
  },
  {
   "cell_type": "code",
   "execution_count": null,
   "metadata": {
    "collapsed": true
   },
   "outputs": [],
   "source": [
    "train.drop(labels=['PassengerId', 'Name', 'Names', 'Cabin', 'Ticket', 'Age', 'Fare'], axis=1, inplace=True)\n",
    "test.drop(labels=['Name', 'Names', 'Cabin', 'Ticket', 'Age', 'Fare'], axis=1, inplace=True)"
   ]
  },
  {
   "cell_type": "code",
   "execution_count": null,
   "metadata": {
    "collapsed": true
   },
   "outputs": [],
   "source": [
    "train = pd.get_dummies(train, columns=['Embarked', 'Pclass', 'Title', 'Group_size'])\n",
    "test = pd.get_dummies(test, columns=['Embarked', 'Pclass', 'Title', 'Group_size'])\n",
    "test['Title_Sir'] = pd.Series(0, index=test.index)"
   ]
  },
  {
   "cell_type": "markdown",
   "metadata": {},
   "source": [
    "## Build Model"
   ]
  },
  {
   "cell_type": "code",
   "execution_count": null,
   "metadata": {
    "collapsed": true
   },
   "outputs": [],
   "source": [
    "from sklearn.model_selection import learning_curve\n",
    "def plot_learning_curve(estimator, title, X, y, ylim=None, cv=None,\n",
    "                        n_jobs=1, train_sizes=np.linspace(.1, 1.0, 5), scoring='accuracy'):\n",
    "    plt.figure(figsize=(10,6))\n",
    "    plt.title(title)\n",
    "    if ylim is not None:\n",
    "        plt.ylim(*ylim)\n",
    "    plt.xlabel(\"Training examples\")\n",
    "    plt.ylabel(scoring)\n",
    "    train_sizes, train_scores, test_scores = learning_curve(estimator, X, y, cv=cv, scoring=scoring,\n",
    "                                                            n_jobs=n_jobs, train_sizes=train_sizes)\n",
    "    train_scores_mean = np.mean(train_scores, axis=1)\n",
    "    train_scores_std = np.std(train_scores, axis=1)\n",
    "    test_scores_mean = np.mean(test_scores, axis=1)\n",
    "    test_scores_std = np.std(test_scores, axis=1)\n",
    "    plt.grid()\n",
    "\n",
    "    plt.fill_between(train_sizes, train_scores_mean - train_scores_std,\n",
    "                     train_scores_mean + train_scores_std, alpha=0.1,\n",
    "                     color=\"r\")\n",
    "    plt.fill_between(train_sizes, test_scores_mean - test_scores_std,\n",
    "                     test_scores_mean + test_scores_std, alpha=0.1, color=\"g\")\n",
    "    plt.plot(train_sizes, train_scores_mean, 'o-', color=\"r\",\n",
    "             label=\"Training score\")\n",
    "    plt.plot(train_sizes, test_scores_mean, 'o-', color=\"g\",\n",
    "             label=\"Cross-validation score\")\n",
    "\n",
    "    plt.legend(loc=\"best\")\n",
    "    return plt"
   ]
  },
  {
   "cell_type": "code",
   "execution_count": null,
   "metadata": {
    "collapsed": true
   },
   "outputs": [],
   "source": [
    "from sklearn.metrics import roc_curve, auc\n",
    "def plot_roc_curve(estimator, X, y, title):\n",
    "    # Determine the false positive and true positive rates\n",
    "    fpr, tpr, _ = roc_curve(y, estimator.predict_proba(X)[:,1])\n",
    "\n",
    "    # Calculate the AUC\n",
    "    roc_auc = auc(fpr, tpr)\n",
    "    print ('ROC AUC: %0.2f' % roc_auc)\n",
    "\n",
    "    # Plot of a ROC curve for a specific class\n",
    "    plt.figure(figsize=(10,6))\n",
    "    plt.plot(fpr, tpr, label='ROC curve (area = %0.2f)' % roc_auc)\n",
    "    plt.plot([0, 1], [0, 1], 'k--')\n",
    "    plt.xlim([0.0, 1.0])\n",
    "    plt.ylim([0.0, 1.05])\n",
    "    plt.xlabel('False Positive Rate')\n",
    "    plt.ylabel('True Positive Rate')\n",
    "    plt.title('ROC Curve - {}'.format(title))\n",
    "    plt.legend(loc=\"lower right\")\n",
    "    plt.show()"
   ]
  },
  {
   "cell_type": "code",
   "execution_count": null,
   "metadata": {
    "collapsed": true
   },
   "outputs": [],
   "source": [
    "X = train.drop(['Survived'], axis=1)\n",
    "y = train.Survived\n",
    "X_train, X_test, y_train, y_test = train_test_split(X, y, random_state=42)"
   ]
  },
  {
   "cell_type": "code",
   "execution_count": null,
   "metadata": {
    "collapsed": true
   },
   "outputs": [],
   "source": [
    "from sklearn.metrics import accuracy_score\n",
    "scoring = make_scorer(accuracy_score, greater_is_better=True)"
   ]
  },
  {
   "cell_type": "markdown",
   "metadata": {},
   "source": [
    "### KNN"
   ]
  },
  {
   "cell_type": "code",
   "execution_count": null,
   "metadata": {
    "collapsed": true
   },
   "outputs": [],
   "source": [
    "from sklearn.neighbors import KNeighborsClassifier\n",
    "KNN = KNeighborsClassifier(weights='uniform')\n",
    "parameters = {'n_neighbors':[3,4,5], 'p':[1,2]}\n",
    "clf_knn = get_model(KNN, parameters, X_train, y_train, scoring)"
   ]
  },
  {
   "cell_type": "code",
   "execution_count": null,
   "metadata": {
    "collapsed": true
   },
   "outputs": [],
   "source": [
    "print (accuracy_score(y_test, clf_knn.predict(X_test)))\n",
    "print (clf_knn)\n",
    "plot_learning_curve(clf_knn, 'KNN', X, y, cv=4);"
   ]
  },
  {
   "cell_type": "markdown",
   "metadata": {},
   "source": [
    "### Random Forest"
   ]
  },
  {
   "cell_type": "code",
   "execution_count": null,
   "metadata": {
    "collapsed": true
   },
   "outputs": [],
   "source": [
    "from sklearn.ensemble import RandomForestClassifier\n",
    "rfc = RandomForestClassifier(random_state=42, criterion='entropy', min_samples_split=5, oob_score=True)\n",
    "parameters = {'n_estimators':[500], 'min_samples_leaf':[12]}\n",
    "clf_rfc1 = get_model(rfc, parameters, X_train, y_train, scoring)"
   ]
  },
  {
   "cell_type": "code",
   "execution_count": null,
   "metadata": {
    "collapsed": true
   },
   "outputs": [],
   "source": [
    "print (accuracy_score(y_test, clf_rfc1.predict(X_test)))\n",
    "print (clf_rfc1)\n",
    "plot_learning_curve(clf_rfc1, 'Random Forest', X, y, cv=4);"
   ]
  },
  {
   "cell_type": "code",
   "execution_count": null,
   "metadata": {
    "collapsed": true
   },
   "outputs": [],
   "source": [
    "plt.figure(figsize=(10,6))\n",
    "plt.barh(np.arange(X_train.columns.shape[0]), clf_rfc1.feature_importances_, 0.5)\n",
    "plt.yticks(np.arange(X_train.columns.shape[0]), X_train.columns)\n",
    "plt.grid()\n",
    "plt.xticks(np.arange(0,0.2,0.02));"
   ]
  },
  {
   "cell_type": "code",
   "execution_count": null,
   "metadata": {
    "collapsed": true
   },
   "outputs": [],
   "source": [
    "cols = X_train.columns[clf_rfc1.feature_importances_>=0.016]"
   ]
  },
  {
   "cell_type": "code",
   "execution_count": null,
   "metadata": {
    "collapsed": true
   },
   "outputs": [],
   "source": [
    "rfc = RandomForestClassifier(random_state=42, criterion='entropy', min_samples_split=5, oob_score=True)\n",
    "parameters = {'n_estimators':[500], 'min_samples_leaf':[12]}\n",
    "clf_rfc2 = get_model(rfc, parameters, X_train[cols], y_train, scoring)"
   ]
  },
  {
   "cell_type": "code",
   "execution_count": null,
   "metadata": {
    "collapsed": true
   },
   "outputs": [],
   "source": [
    "print (clf_rfc2)\n",
    "print (accuracy_score(y_test, clf_rfc2.predict(X_test[cols])))\n",
    "plot_learning_curve(clf_rfc2, 'Random Forest', X[cols], y, cv=4);"
   ]
  },
  {
   "cell_type": "markdown",
   "metadata": {},
   "source": [
    "### Logistic Regression"
   ]
  },
  {
   "cell_type": "code",
   "execution_count": null,
   "metadata": {
    "collapsed": true
   },
   "outputs": [],
   "source": [
    "from sklearn.linear_model import LogisticRegression\n",
    "lg = LogisticRegression(random_state=42, penalty='l1')\n",
    "parameters = {'C':[0.5]}\n",
    "clf_lg1 = get_model(lg, parameters, X_train, y_train, scoring)"
   ]
  },
  {
   "cell_type": "code",
   "execution_count": null,
   "metadata": {
    "collapsed": true
   },
   "outputs": [],
   "source": [
    "print (clf_lg1)\n",
    "print (accuracy_score(y_test, clf_lg1.predict(X_test)))\n",
    "plot_learning_curve(clf_lg1, 'Logistic Regression', X, y, cv=4);"
   ]
  },
  {
   "cell_type": "markdown",
   "metadata": {},
   "source": [
    "### SVC"
   ]
  },
  {
   "cell_type": "code",
   "execution_count": null,
   "metadata": {
    "collapsed": true
   },
   "outputs": [],
   "source": [
    "from sklearn.svm import SVC\n",
    "svc = SVC(random_state=42, kernel='poly', probability=True)\n",
    "parameters = {'C': [35], 'gamma': [0.0055], 'coef0': [0.1],\n",
    "              'degree':[2]}\n",
    "clf_svc = get_model(svc, parameters, X_train, y_train, scoring)"
   ]
  },
  {
   "cell_type": "code",
   "execution_count": null,
   "metadata": {
    "collapsed": true
   },
   "outputs": [],
   "source": [
    "print (clf_svc)\n",
    "print (accuracy_score(y_test, clf_svc.predict(X_test)))\n",
    "plot_learning_curve(clf_svc, 'SVC', X, y, cv=4);"
   ]
  },
  {
   "cell_type": "markdown",
   "metadata": {},
   "source": [
    "### XGBoost"
   ]
  },
  {
   "cell_type": "code",
   "execution_count": null,
   "metadata": {
    "collapsed": true
   },
   "outputs": [],
   "source": [
    "import xgboost as XGB\n",
    "xgb = XGB.XGBClassifier(seed=42, max_depth=3, objective='binary:logistic', n_estimators=400)\n",
    "parameters = {'learning_rate':[0.1],\n",
    "              'reg_alpha':[3.0], 'reg_lambda': [4.0]}\n",
    "clf_xgb1 = get_model(xgb, parameters, X_train, y_train, scoring)"
   ]
  },
  {
   "cell_type": "code",
   "execution_count": null,
   "metadata": {
    "collapsed": true
   },
   "outputs": [],
   "source": [
    "print (accuracy_score(y_test, clf_xgb1.predict(X_test)))\n",
    "print (clf_xgb1)\n",
    "plot_learning_curve(clf_xgb1, 'XGB', X, y, cv=4);"
   ]
  },
  {
   "cell_type": "markdown",
   "metadata": {},
   "source": [
    "## Ensemble"
   ]
  },
  {
   "cell_type": "code",
   "execution_count": null,
   "metadata": {
    "collapsed": true
   },
   "outputs": [],
   "source": [
    "from sklearn.ensemble import VotingClassifier\n",
    "clf_vc = VotingClassifier(estimators=[('xgb1', clf_xgb1), ('lg1', clf_lg1), ('svc', clf_svc), \n",
    "                                      ('rfc1', clf_rfc1),('rfc2', clf_rfc2), ('knn', clf_knn)], \n",
    "                          voting='hard', weights=[4,1,1,1,1,2])\n",
    "clf_vc = clf_vc.fit(X_train, y_train)"
   ]
  },
  {
   "cell_type": "code",
   "execution_count": null,
   "metadata": {
    "collapsed": true
   },
   "outputs": [],
   "source": [
    "print (accuracy_score(y_test, clf_vc.predict(X_test)))\n",
    "print (clf_vc)\n",
    "plot_learning_curve(clf_vc, 'Ensemble', X, y, cv=4);"
   ]
  },
  {
   "cell_type": "markdown",
   "metadata": {},
   "source": [
    "## Make submission"
   ]
  },
  {
   "cell_type": "code",
   "execution_count": null,
   "metadata": {
    "collapsed": true
   },
   "outputs": [],
   "source": [
    "PassengerId = test.PassengerId\n",
    "test.drop('PassengerId', axis=1, inplace=True)"
   ]
  },
  {
   "cell_type": "code",
   "execution_count": null,
   "metadata": {
    "collapsed": true
   },
   "outputs": [],
   "source": [
    "def submission(model, fname, X):\n",
    "    ans = pd.DataFrame(columns=['PassengerId', 'Survived'])\n",
    "    ans.PassengerId = PassengerId\n",
    "    ans.Survived = pd.Series(model.predict(X), index=ans.index)\n",
    "    ans.to_csv(fname, index=False)"
   ]
  },
  {
   "cell_type": "code",
   "execution_count": null,
   "metadata": {
    "collapsed": true
   },
   "outputs": [],
   "source": []
  }
 ],
 "metadata": {
  "kernelspec": {
   "display_name": "Python 3",
   "language": "python",
   "name": "python3"
  },
  "language_info": {
   "codemirror_mode": {
    "name": "ipython",
    "version": 3
   },
   "file_extension": ".py",
   "mimetype": "text/x-python",
   "name": "python",
   "nbconvert_exporter": "python",
   "pygments_lexer": "ipython3",
   "version": "3.5.2"
  }
 },
 "nbformat": 4,
 "nbformat_minor": 0
}
