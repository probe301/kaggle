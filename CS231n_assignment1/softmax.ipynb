{
 "cells": [
  {
   "cell_type": "markdown",
   "metadata": {},
   "source": [
    "# Softmax exercise\n",
    "\n",
    "*Complete and hand in this completed worksheet (including its outputs and any supporting code outside of the worksheet) with your assignment submission. For more details see the [assignments page](http://vision.stanford.edu/teaching/cs231n/assignments.html) on the course website.*\n",
    "\n",
    "This exercise is analogous to the SVM exercise. You will:\n",
    "\n",
    "- implement a fully-vectorized **loss function** for the Softmax classifier\n",
    "- implement the fully-vectorized expression for its **analytic gradient**\n",
    "- **check your implementation** with numerical gradient\n",
    "- use a validation set to **tune the learning rate and regularization** strength\n",
    "- **optimize** the loss function with **SGD**\n",
    "- **visualize** the final learned weights\n"
   ]
  },
  {
   "cell_type": "code",
   "execution_count": 1,
   "metadata": {
    "collapsed": false
   },
   "outputs": [
    {
     "data": {
      "application/javascript": [
       "Jupyter.keyboard_manager.command_shortcuts.add_shortcut('f5', {\n",
       "    \n",
       "    help : 'run cell',\n",
       "    help_index : 'zz',\n",
       "    handler : function (event) {\n",
       "        IPython.notebook.execute_cell();\n",
       "        return false;\n",
       "    }}                                               \n",
       ");\n",
       "\n",
       "Jupyter.keyboard_manager.command_shortcuts.add_shortcut('ctrl-.', {\n",
       "    help : 'run cell',\n",
       "    help_index : 'zz',\n",
       "    handler : function (event) {\n",
       "        \n",
       "        IPython.notebook.execute_cell();\n",
       "        return false; \n",
       "    }}                                               \n",
       ");"
      ],
      "text/plain": [
       "<IPython.core.display.Javascript object>"
      ]
     },
     "metadata": {},
     "output_type": "display_data"
    }
   ],
   "source": [
    "%%javascript\n",
    "Jupyter.keyboard_manager.command_shortcuts.add_shortcut('f5', {\n",
    "    \n",
    "    help : 'run cell',\n",
    "    help_index : 'zz',\n",
    "    handler : function (event) {\n",
    "        IPython.notebook.execute_cell();\n",
    "        return false;\n",
    "    }}                                               \n",
    ");\n",
    "\n",
    "Jupyter.keyboard_manager.command_shortcuts.add_shortcut('ctrl-.', {\n",
    "    help : 'run cell',\n",
    "    help_index : 'zz',\n",
    "    handler : function (event) {\n",
    "        \n",
    "        IPython.notebook.execute_cell();\n",
    "        return false; \n",
    "    }}                                               \n",
    ");\n"
   ]
  },
  {
   "cell_type": "code",
   "execution_count": 2,
   "metadata": {
    "collapsed": true
   },
   "outputs": [],
   "source": [
    "def print_image(record):\n",
    "    i = record.reshape(32,32,3)\n",
    "    plt.figure(figsize=(1,1))\n",
    "#     plt.subplot(1, 1, 1)\n",
    "    plt.imshow(i.astype('uint8'))\n",
    "#     plt.figsize(2, 2)\n",
    "    plt.axis('off')\n",
    "    plt.show()\n",
    "    \n",
    "# record = X_train[4]\n",
    "# draw_image(record)\n",
    "# draw_image(X_train[7])\n",
    "\n",
    "def print_images(records):\n",
    "    n = len(records)\n",
    "    plt.figure(figsize=(n, 1))\n",
    "    for i in range(n):\n",
    "        r = records[i].reshape(32,32,3)\n",
    "        plt_idx = i + 1\n",
    "        plt.subplot(1, n, plt_idx)\n",
    "        plt.imshow(r.astype('uint8'))\n",
    "        \n",
    "        plt.axis('off')\n",
    "    plt.show()\n",
    "# print_images(X_train[7:10], )\n",
    "\n",
    "\n",
    "def to_label(x):\n",
    "    d = {0: 'plane', 1: 'car', 2: 'bird', 3: 'cat', 4: 'deer', \n",
    "         5: 'dog', 6: 'frog', 7: 'horse', 8: 'ship', 9: 'truck', \n",
    "        }\n",
    "\n",
    "    return d[int(x)]\n",
    "\n",
    "def to_labels(l):\n",
    "    return [to_label(i) for i in l]"
   ]
  },
  {
   "cell_type": "code",
   "execution_count": 3,
   "metadata": {
    "collapsed": false
   },
   "outputs": [],
   "source": [
    "import random\n",
    "import numpy as np\n",
    "from cs231n.data_utils import load_CIFAR10\n",
    "import matplotlib.pyplot as plt\n",
    "%matplotlib inline\n",
    "plt.rcParams['figure.figsize'] = (10.0, 8.0) # set default size of plots\n",
    "plt.rcParams['image.interpolation'] = 'nearest'\n",
    "plt.rcParams['image.cmap'] = 'gray'\n",
    "\n",
    "# for auto-reloading extenrnal modules\n",
    "# see http://stackoverflow.com/questions/1907993/autoreload-of-modules-in-ipython\n",
    "%load_ext autoreload\n",
    "%autoreload 2"
   ]
  },
  {
   "cell_type": "code",
   "execution_count": 4,
   "metadata": {
    "collapsed": false
   },
   "outputs": [
    {
     "name": "stdout",
     "output_type": "stream",
     "text": [
      "cs231n/datasets\\data_batch_1\n",
      "cs231n/datasets\\test_batch\n",
      "Train data shape:  (9800, 3073)\n",
      "Train labels shape:  (9800,)\n",
      "Validation data shape:  (200, 3073)\n",
      "Validation labels shape:  (200,)\n",
      "Test data shape:  (1000, 3073)\n",
      "Test labels shape:  (1000,)\n",
      "dev data shape:  (300, 3073)\n",
      "dev labels shape:  (300,)\n"
     ]
    }
   ],
   "source": [
    "# # num_training = 49000\n",
    "# num_training = 9800\n",
    "# # num_validation = 1000\n",
    "# num_validation = 200\n",
    "# num_test = 1000\n",
    "# # num_dev = 500\n",
    "# num_dev = 300\n",
    "\n",
    "def get_CIFAR10_data(num_training=9800, \n",
    "                     num_validation=200, \n",
    "                     num_test=1000, \n",
    "                     num_dev=300):\n",
    "  \"\"\"\n",
    "  Load the CIFAR-10 dataset from disk and perform preprocessing to prepare\n",
    "  it for the linear classifier. These are the same steps as we used for the\n",
    "  SVM, but condensed to a single function.  \n",
    "  \"\"\"\n",
    "  # Load the raw CIFAR-10 data\n",
    "  cifar10_dir = 'cs231n/datasets'\n",
    "  X_train, y_train, X_test, y_test = load_CIFAR10(cifar10_dir)\n",
    "  \n",
    "  # subsample the data\n",
    "  mask = range(num_training, num_training + num_validation)\n",
    "  X_val = X_train[mask]\n",
    "  y_val = y_train[mask]\n",
    "  mask = range(num_training)\n",
    "  X_train = X_train[mask]\n",
    "  y_train = y_train[mask]\n",
    "  mask = range(num_test)\n",
    "  X_test = X_test[mask]\n",
    "  y_test = y_test[mask]\n",
    "  mask = np.random.choice(num_training, num_dev, replace=False)\n",
    "  X_dev = X_train[mask]\n",
    "  y_dev = y_train[mask]\n",
    "  \n",
    "  # Preprocessing: reshape the image data into rows\n",
    "  X_train = np.reshape(X_train, (X_train.shape[0], -1))\n",
    "  X_val = np.reshape(X_val, (X_val.shape[0], -1))\n",
    "  X_test = np.reshape(X_test, (X_test.shape[0], -1))\n",
    "  X_dev = np.reshape(X_dev, (X_dev.shape[0], -1))\n",
    "  \n",
    "  # Normalize the data: subtract the mean image\n",
    "  mean_image = np.mean(X_train, axis = 0)\n",
    "  X_train -= mean_image\n",
    "  X_val -= mean_image\n",
    "  X_test -= mean_image\n",
    "  X_dev -= mean_image\n",
    "  \n",
    "  # add bias dimension and transform into columns\n",
    "  X_train = np.hstack([X_train, np.ones((X_train.shape[0], 1))])\n",
    "  X_val = np.hstack([X_val, np.ones((X_val.shape[0], 1))])\n",
    "  X_test = np.hstack([X_test, np.ones((X_test.shape[0], 1))])\n",
    "  X_dev = np.hstack([X_dev, np.ones((X_dev.shape[0], 1))])\n",
    "  \n",
    "  return X_train, y_train, X_val, y_val, X_test, y_test, X_dev, y_dev\n",
    "\n",
    "\n",
    "# Invoke the above function to get our data.\n",
    "X_train, y_train, X_val, y_val, X_test, y_test, X_dev, y_dev = get_CIFAR10_data()\n",
    "print ('Train data shape: ', X_train.shape)\n",
    "print ('Train labels shape: ', y_train.shape)\n",
    "print ('Validation data shape: ', X_val.shape)\n",
    "print ('Validation labels shape: ', y_val.shape)\n",
    "print ('Test data shape: ', X_test.shape)\n",
    "print ('Test labels shape: ', y_test.shape)\n",
    "print ('dev data shape: ', X_dev.shape)\n",
    "print ('dev labels shape: ', y_dev.shape)"
   ]
  },
  {
   "cell_type": "markdown",
   "metadata": {},
   "source": [
    "## Softmax Classifier\n",
    "\n",
    "Your code for this section will all be written inside **cs231n/classifiers/softmax.py**. \n"
   ]
  },
  {
   "cell_type": "code",
   "execution_count": 5,
   "metadata": {
    "collapsed": false
   },
   "outputs": [
    {
     "name": "stdout",
     "output_type": "stream",
     "text": [
      "loss: 2.358944\n",
      "sanity check: 2.302585\n"
     ]
    }
   ],
   "source": [
    "# First implement the naive softmax loss function with nested loops.\n",
    "# Open the file cs231n/classifiers/softmax.py and implement the\n",
    "# softmax_loss_naive function.\n",
    "\n",
    "from cs231n.classifiers.softmax import softmax_loss_naive\n",
    "import time\n",
    "\n",
    "# Generate a random softmax weight matrix and use it to compute the loss.\n",
    "W = np.random.randn(3073, 10) * 0.0001\n",
    "loss, grad = softmax_loss_naive(W, X_train, y_train, 0.0)\n",
    "\n",
    "# As a rough sanity check, our loss should be something close to -log(0.1).\n",
    "print ('loss: %f' % loss)\n",
    "print ('sanity check: %f' % (-np.log(0.1)))\n"
   ]
  },
  {
   "cell_type": "markdown",
   "metadata": {},
   "source": [
    "## Inline Question 1:\n",
    "Why do we expect our loss to be close to -log(0.1)? Explain briefly.**\n",
    "\n",
    "**Your answer:** \n",
    "\n",
    "因为W是随机生成的, 恰巧算出正确分类的概率是0.1\n"
   ]
  },
  {
   "cell_type": "code",
   "execution_count": 6,
   "metadata": {
    "collapsed": false
   },
   "outputs": [
    {
     "name": "stdout",
     "output_type": "stream",
     "text": [
      "numerical: 1.225943 analytic: 1.225943, relative error: 3.018447e-08\n",
      "numerical: -1.368443 analytic: -1.368443, relative error: 1.016857e-08\n",
      "numerical: -0.845004 analytic: -0.845004, relative error: 2.533522e-08\n",
      "numerical: 0.835438 analytic: 0.835438, relative error: 1.311958e-08\n",
      "numerical: -0.220352 analytic: -0.220352, relative error: 1.140126e-07\n",
      "numerical: -1.070160 analytic: -1.070160, relative error: 6.482273e-08\n",
      "numerical: 1.932232 analytic: 1.932232, relative error: 2.713541e-08\n",
      "numerical: 3.064282 analytic: 3.064282, relative error: 7.764103e-09\n",
      "numerical: 1.965433 analytic: 1.965433, relative error: 1.386630e-08\n",
      "numerical: -0.245304 analytic: -0.245304, relative error: 3.352541e-08\n",
      "numerical: 2.544236 analytic: 2.544236, relative error: 2.644211e-09\n",
      "numerical: -5.640031 analytic: -5.640031, relative error: 8.918836e-09\n",
      "numerical: -1.589568 analytic: -1.589568, relative error: 2.907785e-08\n",
      "numerical: 1.168545 analytic: 1.168545, relative error: 3.403136e-08\n",
      "numerical: -1.342658 analytic: -1.342658, relative error: 4.253886e-09\n",
      "numerical: 0.756714 analytic: 0.756714, relative error: 1.142475e-07\n",
      "numerical: -1.684400 analytic: -1.684400, relative error: 2.007146e-08\n",
      "numerical: -2.527004 analytic: -2.527004, relative error: 1.451802e-08\n",
      "numerical: -0.101279 analytic: -0.101279, relative error: 2.591936e-07\n",
      "numerical: 5.432135 analytic: 5.432135, relative error: 1.176155e-08\n"
     ]
    }
   ],
   "source": [
    "# Complete the implementation of softmax_loss_naive and implement a (naive)\n",
    "# version of the gradient that uses nested loops.\n",
    "loss, grad = softmax_loss_naive(W, X_dev, y_dev, 0.0)\n",
    "\n",
    "# As we did for the SVM, use numeric gradient checking as a debugging tool.\n",
    "# The numeric gradient should be close to the analytic gradient.\n",
    "from cs231n.gradient_check import grad_check_sparse\n",
    "f = lambda w: softmax_loss_naive(w, X_dev, y_dev, 0.0)[0]\n",
    "grad_numerical = grad_check_sparse(f, W, grad, 10)\n",
    "\n",
    "# similar to SVM case, do another gradient check with regularization\n",
    "loss, grad = softmax_loss_naive(W, X_dev, y_dev, 1e2)\n",
    "f = lambda w: softmax_loss_naive(w, X_dev, y_dev, 1e2)[0]\n",
    "grad_numerical = grad_check_sparse(f, W, grad, 10)"
   ]
  },
  {
   "cell_type": "code",
   "execution_count": 10,
   "metadata": {
    "collapsed": false
   },
   "outputs": [
    {
     "name": "stdout",
     "output_type": "stream",
     "text": [
      "naive loss: 2.342567e+00 computed in 0.104006s\n",
      "vectorized loss: 2.342567e+00 computed in 0.007001s\n",
      "Loss difference: 0.000000\n",
      "Gradient difference: 0.000000\n"
     ]
    }
   ],
   "source": [
    "# Now that we have a naive implementation of the softmax loss function and its gradient,\n",
    "# implement a vectorized version in softmax_loss_vectorized.\n",
    "# The two versions should compute the same results, but the vectorized version should be\n",
    "# much faster.\n",
    "tic = time.time()\n",
    "loss_naive, grad_naive = softmax_loss_naive(W, X_dev, y_dev, 0.00001)\n",
    "toc = time.time()\n",
    "print ('naive loss: %e computed in %fs' % (loss_naive, toc - tic))\n",
    "\n",
    "from cs231n.classifiers.softmax import softmax_loss_vectorized\n",
    "tic = time.time()\n",
    "loss_vectorized, grad_vectorized = softmax_loss_vectorized(W, X_dev, y_dev, 0.00001)\n",
    "toc = time.time()\n",
    "print ('vectorized loss: %e computed in %fs' % (loss_vectorized, toc - tic))\n",
    "\n",
    "# As we did for the SVM, we use the Frobenius norm to compare the two versions\n",
    "# of the gradient.\n",
    "grad_difference = np.linalg.norm(grad_naive - grad_vectorized, ord='fro')\n",
    "print ('Loss difference: %f' % np.abs(loss_naive - loss_vectorized))\n",
    "print ('Gradient difference: %f' % grad_difference)"
   ]
  },
  {
   "cell_type": "code",
   "execution_count": 12,
   "metadata": {
    "collapsed": false
   },
   "outputs": [
    {
     "name": "stdout",
     "output_type": "stream",
     "text": [
      " ---- train at 1e-08 10000.0-----\n",
      "[160.13585263843004, 156.47429642919479, 153.15813727979682, 150.04040271553674, 147.239797942949]\n",
      " ---- train at 1e-08 50000.0-----\n",
      "[768.53305845773741, 695.3600062744423, 628.59862509118523, 569.01777386366996, 514.75851945085071]\n",
      " ---- train at 1e-08 100000.0-----\n",
      "[1547.6730840140447, 1266.886529770482, 1037.4048532536426, 848.94406453514887, 695.44515627566386]\n",
      " ---- train at 1e-08 500000.0-----\n",
      "[7677.3677700124945, 2817.973134583006, 1035.079198122781, 381.08507674622069, 141.29300952449518]\n",
      " ---- train at 1e-08 1000000.0-----\n",
      "[15416.742132019906, 2066.7650117263333, 278.73668219199163, 39.26994474578207, 7.234620121414693]\n",
      " ---- train at 1e-08 10000000.0-----\n",
      "[151088.83596035274, 2.2962204087239284, 2.2986626294915919, 2.2994126459572906, 2.2986106497964829]\n",
      " ---- train at 1e-08 100000000.0-----\n",
      "[1536889.5496306375, 2.3025748478288723, 2.3025934433433464, 2.3025473573137929, 2.3024380013231056]\n",
      " ---- train at 5e-08 10000.0-----\n",
      "[161.35660707362211, 144.54549449742802, 130.65888722532725, 118.2481190871918, 106.93373673831167]\n",
      " ---- train at 5e-08 50000.0-----\n",
      "[766.74961695115326, 464.30354631874258, 281.89831999354732, 171.21121858692746, 104.59909974248254]\n",
      " ---- train at 5e-08 100000.0-----\n",
      "[1561.1301696053119, 572.95823541855066, 211.4493263943229, 78.74320539364534, 30.277320415328198]\n",
      " ---- train at 5e-08 500000.0-----\n",
      "[7628.6679467052145, 50.348573319650704, 2.5656414386862374, 2.2620212103068793, 2.2685775062864151]\n",
      " ---- train at 5e-08 1000000.0-----\n",
      "[15435.105222656628, 2.802041506038218, 2.2749407282567597, 2.2572116740766854, 2.2753542694966415]\n",
      " ---- train at 5e-08 10000000.0-----\n",
      "[153701.96583085778, 2.2967881273245592, 2.2994252106165436, 2.2996310464363381, 2.3004796541830701]\n",
      " ---- train at 5e-08 100000000.0-----\n"
     ]
    },
    {
     "name": "stderr",
     "output_type": "stream",
     "text": [
      "D:\\kaggle\\CS231n_assignment1\\cs231n\\classifiers\\softmax.py:126: RuntimeWarning: divide by zero encountered in log\n",
      "  loss = np.sum(-np.log(Probs[range(num_train), y]))\n",
      "D:\\kaggle\\CS231n_assignment1\\cs231n\\classifiers\\softmax.py:131: RuntimeWarning: overflow encountered in double_scalars\n",
      "  loss += 0.5 * reg * np.sum(W * W)\n",
      "D:\\kaggle\\CS231n_assignment1\\cs231n\\classifiers\\softmax.py:131: RuntimeWarning: overflow encountered in multiply\n",
      "  loss += 0.5 * reg * np.sum(W * W)\n"
     ]
    },
    {
     "name": "stdout",
     "output_type": "stream",
     "text": [
      "[1525834.9318874129, inf, inf, inf, inf]\n",
      " ---- train at 1e-07 10000.0-----\n",
      "[158.03466863888536, 127.95101582039909, 104.48985285717548, 85.953328286065343, 70.373879521046504]\n",
      " ---- train at 1e-07 50000.0-----\n",
      "[769.74248882114, 282.50907867203023, 104.65039879470839, 39.653781856808358, 15.844794527589059]\n",
      " ---- train at 1e-07 100000.0-----\n",
      "[1541.1972956247937, 207.64863650075168, 29.590416779267173, 5.8116435388768721, 2.6160849209972916]\n",
      " ---- train at 1e-07 500000.0-----\n",
      "[7723.7975711055506, 2.5407907204795794, 2.2432022880255609, 2.2638054168315036, 2.2532061107120249]\n",
      " ---- train at 1e-07 1000000.0-----\n",
      "[15282.727196566606, 2.2843422651999292, 2.2691011159386494, 2.2754183671605914, 2.2580967185868466]\n",
      " ---- train at 1e-07 10000000.0-----\n",
      "[152343.56372404733, 2.3010020513001677, 2.3021313822979499, 2.3015789064985905, 2.3010522575114036]\n",
      " ---- train at 1e-07 100000000.0-----\n"
     ]
    },
    {
     "name": "stderr",
     "output_type": "stream",
     "text": [
      "D:\\kaggle\\CS231n_assignment1\\cs231n\\classifiers\\softmax.py:133: RuntimeWarning: overflow encountered in multiply\n",
      "  dW += reg * W\n"
     ]
    },
    {
     "name": "stdout",
     "output_type": "stream",
     "text": [
      "[1551746.0594706598, inf, inf, inf, nan]\n",
      " ---- train at 5e-07 10000.0-----\n",
      "[159.32929449000997, 58.363826106435873, 22.48637170381669, 9.4076974577197809, 4.6417640784385545]\n",
      " ---- train at 5e-07 50000.0-----\n",
      "[771.00411618037981, 6.8385234252400702, 2.0700270473161395, 2.0536530816929734, 2.0372626127092923]\n",
      " ---- train at 5e-07 100000.0-----\n",
      "[1536.2408163605862, 2.191668299990571, 2.1392358189305036, 2.1437046616030559, 2.1335490492308189]\n",
      " ---- train at 5e-07 500000.0-----\n",
      "[7695.5634854155933, 2.2293963362804043, 2.2606246657619544, 2.2499786724390476, 2.2432957989517419]\n",
      " ---- train at 5e-07 1000000.0-----\n",
      "[15260.185697330404, 2.2807706373207681, 2.2706178354967403, 2.2740712154134215, 2.2803624293031328]\n",
      " ---- train at 5e-07 10000000.0-----\n",
      "[154379.04940139607, inf, inf, inf, inf]\n",
      " ---- train at 5e-07 100000000.0-----\n",
      "[1532064.9717074172, inf, nan, nan, nan]\n",
      " ---- train at 1e-06 10000.0-----\n",
      "[158.3799742367523, 22.10884414516169, 4.5810756592535036, 2.2842432046787771, 1.9144030130425906]\n",
      " ---- train at 1e-06 50000.0-----\n",
      "[772.30434978094729, 2.1015534042461157, 2.0478922340980792, 2.1166171529616897, 2.0326143278210624]\n",
      " ---- train at 1e-06 100000.0-----\n",
      "[1532.4453530387282, 2.0835770049802234, 2.1513442523781867, 2.1077540502867325, 2.1624991400851528]\n",
      " ---- train at 1e-06 500000.0-----\n",
      "[7589.1161576078721, 2.2420793407762973, 2.2639133205903139, 2.2219874583340511, 2.2659424442317184]\n",
      " ---- train at 1e-06 1000000.0-----\n",
      "[15333.816825622029, 2.2997218047903267, 2.2915304093441287, 2.267982485509604, 2.2858740178415382]\n",
      " ---- train at 1e-06 10000000.0-----\n",
      "[153418.12060825108, inf, inf, inf, nan]\n",
      " ---- train at 1e-06 100000000.0-----\n",
      "[1525923.4102930191, inf, nan, nan, nan]\n",
      "lr 1.000000e-08 reg 1.000000e+04 train accuracy: 0.137551 val accuracy: 0.195000\n",
      "lr 1.000000e-08 reg 5.000000e+04 train accuracy: 0.136837 val accuracy: 0.130000\n",
      "lr 1.000000e-08 reg 1.000000e+05 train accuracy: 0.127551 val accuracy: 0.140000\n",
      "lr 1.000000e-08 reg 5.000000e+05 train accuracy: 0.188980 val accuracy: 0.175000\n",
      "lr 1.000000e-08 reg 1.000000e+06 train accuracy: 0.259388 val accuracy: 0.285000\n",
      "lr 1.000000e-08 reg 1.000000e+07 train accuracy: 0.242041 val accuracy: 0.280000\n",
      "lr 1.000000e-08 reg 1.000000e+08 train accuracy: 0.209592 val accuracy: 0.210000\n",
      "lr 5.000000e-08 reg 1.000000e+04 train accuracy: 0.180816 val accuracy: 0.225000\n",
      "lr 5.000000e-08 reg 5.000000e+04 train accuracy: 0.228367 val accuracy: 0.235000\n",
      "lr 5.000000e-08 reg 1.000000e+05 train accuracy: 0.282143 val accuracy: 0.315000\n",
      "lr 5.000000e-08 reg 5.000000e+05 train accuracy: 0.263163 val accuracy: 0.300000\n",
      "lr 5.000000e-08 reg 1.000000e+06 train accuracy: 0.263163 val accuracy: 0.295000\n",
      "lr 5.000000e-08 reg 1.000000e+07 train accuracy: 0.269592 val accuracy: 0.300000\n",
      "lr 5.000000e-08 reg 1.000000e+08 train accuracy: 0.106122 val accuracy: 0.095000\n",
      "lr 1.000000e-07 reg 1.000000e+04 train accuracy: 0.224796 val accuracy: 0.230000\n",
      "lr 1.000000e-07 reg 5.000000e+04 train accuracy: 0.311735 val accuracy: 0.325000\n",
      "lr 1.000000e-07 reg 1.000000e+05 train accuracy: 0.315204 val accuracy: 0.335000\n",
      "lr 1.000000e-07 reg 5.000000e+05 train accuracy: 0.263878 val accuracy: 0.315000\n",
      "lr 1.000000e-07 reg 1.000000e+06 train accuracy: 0.263571 val accuracy: 0.295000\n",
      "lr 1.000000e-07 reg 1.000000e+07 train accuracy: 0.220612 val accuracy: 0.195000\n",
      "lr 1.000000e-07 reg 1.000000e+08 train accuracy: 0.100204 val accuracy: 0.115000\n",
      "lr 5.000000e-07 reg 1.000000e+04 train accuracy: 0.380000 val accuracy: 0.400000\n",
      "lr 5.000000e-07 reg 5.000000e+04 train accuracy: 0.319082 val accuracy: 0.345000\n",
      "lr 5.000000e-07 reg 1.000000e+05 train accuracy: 0.301633 val accuracy: 0.335000\n",
      "lr 5.000000e-07 reg 5.000000e+05 train accuracy: 0.246327 val accuracy: 0.240000\n",
      "lr 5.000000e-07 reg 1.000000e+06 train accuracy: 0.254388 val accuracy: 0.270000\n",
      "lr 5.000000e-07 reg 1.000000e+07 train accuracy: 0.071020 val accuracy: 0.060000\n",
      "lr 5.000000e-07 reg 1.000000e+08 train accuracy: 0.100204 val accuracy: 0.115000\n",
      "lr 1.000000e-06 reg 1.000000e+04 train accuracy: 0.386224 val accuracy: 0.350000\n",
      "lr 1.000000e-06 reg 5.000000e+04 train accuracy: 0.340510 val accuracy: 0.370000\n",
      "lr 1.000000e-06 reg 1.000000e+05 train accuracy: 0.288673 val accuracy: 0.335000\n",
      "lr 1.000000e-06 reg 5.000000e+05 train accuracy: 0.239592 val accuracy: 0.295000\n",
      "lr 1.000000e-06 reg 1.000000e+06 train accuracy: 0.192449 val accuracy: 0.140000\n",
      "lr 1.000000e-06 reg 1.000000e+07 train accuracy: 0.100204 val accuracy: 0.115000\n",
      "lr 1.000000e-06 reg 1.000000e+08 train accuracy: 0.100204 val accuracy: 0.115000\n",
      "best validation accuracy achieved during cross-validation: 0.400000\n"
     ]
    }
   ],
   "source": [
    "# Use the validation set to tune hyperparameters (regularization strength and\n",
    "# learning rate). You should experiment with different ranges for the learning\n",
    "# rates and regularization strengths; if you are careful you should be able to\n",
    "# get a classification accuracy of over 0.35 on the validation set.\n",
    "from cs231n.classifiers import Softmax\n",
    "results = {}\n",
    "best_val = -1\n",
    "best_softmax = None\n",
    "learning_rates = [1e-7, 5e-7]\n",
    "regularization_strengths = [5e4, 1e8]\n",
    "learning_rates = [1e-8, 5e-8, 1e-7, 5e-7, 1e-6]\n",
    "regularization_strengths = [1e4, 5e4, 1e5, 5e5, 1e6, 1e7, 1e8]\n",
    "\n",
    "# learning_rates = learning_rates[:1]\n",
    "# regularization_strengths = regularization_strengths[:1]\n",
    "\n",
    "################################################################################\n",
    "# TODO:                                                                        #\n",
    "# Use the validation set to set the learning rate and regularization strength. #\n",
    "# This should be identical to the validation that you did for the SVM; save    #\n",
    "# the best trained softmax classifer in best_softmax.                          #\n",
    "################################################################################\n",
    "num_iters = 500\n",
    "for learning_rate in learning_rates:\n",
    "    for reg_strength in regularization_strengths:\n",
    "        softmax = Softmax()\n",
    "        \n",
    "        print(' ---- train at {} {}-----'.format(learning_rate, reg_strength))\n",
    "        loss_hist = softmax.train(X_train, y_train, \n",
    "                                  learning_rate=learning_rate, \n",
    "                                  reg=reg_strength,\n",
    "                                  num_iters=num_iters, \n",
    "                                  verbose=False)\n",
    "        print(loss_hist[::100])\n",
    "        \n",
    "        y_train_pred = softmax.predict(X_train)\n",
    "        training_accuracy = np.mean(y_train == y_train_pred)\n",
    "        y_val_pred = softmax.predict(X_val)\n",
    "        validation_accuracy = np.mean(y_val == y_val_pred)\n",
    "        \n",
    "        key = learning_rate, reg_strength\n",
    "        val = training_accuracy, validation_accuracy\n",
    "        results[key] = val\n",
    "        \n",
    "        if validation_accuracy > best_val:\n",
    "            best_val = validation_accuracy\n",
    "            best_softmax = softmax\n",
    "################################################################################\n",
    "#                              END OF YOUR CODE                                #\n",
    "################################################################################\n",
    "    \n",
    "# Print out results.\n",
    "for lr, reg in sorted(results):\n",
    "    train_accuracy, val_accuracy = results[(lr, reg)]\n",
    "    print ('lr %e reg %e train accuracy: %f val accuracy: %f' % (\n",
    "                lr, reg, train_accuracy, val_accuracy))\n",
    "    \n",
    "print ('best validation accuracy achieved during cross-validation: %f' % best_val)"
   ]
  },
  {
   "cell_type": "code",
   "execution_count": 13,
   "metadata": {
    "collapsed": false
   },
   "outputs": [
    {
     "name": "stdout",
     "output_type": "stream",
     "text": [
      "softmax on raw pixels final test set accuracy: 0.368000\n"
     ]
    }
   ],
   "source": [
    "# evaluate on test set\n",
    "# Evaluate the best softmax on test set\n",
    "y_test_pred = best_softmax.predict(X_test)\n",
    "test_accuracy = np.mean(y_test == y_test_pred)\n",
    "print ('softmax on raw pixels final test set accuracy: %f' % (test_accuracy, ))"
   ]
  },
  {
   "cell_type": "code",
   "execution_count": 17,
   "metadata": {
    "collapsed": false
   },
   "outputs": [
    {
     "data": {
      "image/png": "[encoded data removed]",
      "text/plain": [
       "<matplotlib.figure.Figure at 0x5dd3030>"
      ]
     },
     "metadata": {},
     "output_type": "display_data"
    }
   ],
   "source": [
    "# Visualize the learned weights for each class\n",
    "w = best_softmax.W[:-1,:] # strip out the bias\n",
    "w = w.reshape(32, 32, 3, 10)\n",
    "\n",
    "w_min, w_max = np.min(w), np.max(w)\n",
    "\n",
    "classes = ['plane', 'car', 'bird', 'cat', 'deer', 'dog', 'frog', 'horse', 'ship', 'truck']\n",
    "for i in range(10):\n",
    "  plt.subplot(2, 5, i + 1)\n",
    "  \n",
    "  # Rescale the weights to be between 0 and 255\n",
    "  wimg = 255.0 * (w[:, :, :, i].squeeze() - w_min) / (w_max - w_min)\n",
    "  plt.imshow(wimg.astype('uint8'))\n",
    "  plt.axis('off')\n",
    "  plt.title(classes[i])"
   ]
  }
 ],
 "metadata": {
  "kernelspec": {
   "display_name": "Python 3",
   "language": "python",
   "name": "python3"
  },
  "language_info": {
   "codemirror_mode": {
    "name": "ipython",
    "version": 3
   },
   "file_extension": ".py",
   "mimetype": "text/x-python",
   "name": "python",
   "nbconvert_exporter": "python",
   "pygments_lexer": "ipython3",
   "version": "3.4.3"
  }
 },
 "nbformat": 4,
 "nbformat_minor": 0
}
