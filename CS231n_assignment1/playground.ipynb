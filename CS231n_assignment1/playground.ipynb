{
 "cells": [
  {
   "cell_type": "code",
   "execution_count": 8,
   "metadata": {
    "collapsed": true
   },
   "outputs": [
    {
     "name": "stdout",
     "output_type": "stream",
     "text": [
      "[[ 0.24849118  0.32384153  0.82245058  0.07189131  0.93022709  0.69114224\n",
      "   0.66224996  0.63363745  0.12974682  0.22073688  0.96135745  0.02788211\n",
      "   0.18580796  0.1752547   0.85068773  0.5248464   0.08725723]\n",
      " [ 0.51379339  0.6593143   0.71306982  0.66471537  0.23687258  0.77917201\n",
      "   0.35806579  0.78125582  0.55680238  0.51567913  0.50288548  0.15114914\n",
      "   0.11786493  0.14777612  0.89942014  0.45748436  0.95872739]\n",
      " [ 0.66187208  0.64287388  0.69318935  0.96526352  0.6370837   0.46799625\n",
      "   0.26158846  0.66111944  0.89982464  0.92060649  0.22163271  0.63225726\n",
      "   0.27982596  0.73397619  0.48182034  0.27075111  0.7971586 ]\n",
      " [ 0.81289191  0.78093928  0.11644754  0.19502362  0.35694832  0.68234742\n",
      "   0.21764489  0.80781605  0.72211718  0.92188813  0.47291779  0.91890456\n",
      "   0.52971298  0.94236447  0.7072343   0.25328047  0.06004317]\n",
      " [ 0.73545473  0.59898369  0.5242941   0.19584563  0.46430714  0.40598322\n",
      "   0.28947179  0.44068219  0.30391773  0.3397772   0.2010296   0.65627605\n",
      "   0.92782125  0.51832881  0.36172845  0.19853974  0.69547019]]\n",
      "[[ 0.94991217  0.89248365  0.33627199  0.18994598  0.78075235  0.85588418\n",
      "   0.53615549  0.63051071  0.76462848  0.64388635  0.23246023  0.80538129\n",
      "   0.48813576  0.6319641   0.68913147  0.82468465  0.34146061]\n",
      " [ 0.13231183  0.58725493  0.24865909  0.67797261  0.06398817  0.6551202\n",
      "   0.03237094  0.48911288  0.41855673  0.80499873  0.12942257  0.95496055\n",
      "   0.86409382  0.38226775  0.00174239  0.26909285  0.7643177 ]\n",
      " [ 0.67687259  0.57685481  0.30433216  0.25839499  0.46050537  0.44881753\n",
      "   0.05315941  0.01897053  0.68838184  0.54293684  0.78698907  0.24744441\n",
      "   0.31155776  0.87383289  0.08091309  0.35574959  0.30142777]]\n"
     ]
    }
   ],
   "source": [
    "import numpy as np\n",
    "from numpy import linalg as LA\n",
    "\n",
    "\n",
    "\n",
    "self_X_train = np.random.random([5, 17])\n",
    "X = np.random.random([3, 17])\n",
    "print(self_X_train)\n",
    "print(X)\n"
   ]
  },
  {
   "cell_type": "code",
   "execution_count": 7,
   "metadata": {
    "collapsed": false
   },
   "outputs": [
    {
     "data": {
      "text/plain": [
       "array([[ 0.20101922,  0.01121911,  0.59107871,  0.99513641,  0.197388  ,\n",
       "         0.7835227 ,  0.92231173,  0.83576214,  0.03491435,  0.94463707,\n",
       "         0.8121295 ,  0.85909111,  0.67530497,  0.07212098,  0.2771095 ,\n",
       "         0.37379527,  0.50944329],\n",
       "       [ 0.24630844,  0.37793335,  0.80689706,  0.29904074,  0.87034125,\n",
       "         0.8475428 ,  0.42542375,  0.03932686,  0.44234333,  0.96018766,\n",
       "         0.56067945,  0.29766432,  0.94826417,  0.91264168,  0.57602717,\n",
       "         0.06389145,  0.12203307],\n",
       "       [ 0.72126938,  0.08486818,  0.79551007,  0.31237405,  0.18839186,\n",
       "         0.80351407,  0.21771745,  0.29064931,  0.71741333,  0.26820918,\n",
       "         0.54938391,  0.1650147 ,  0.52119666,  0.06820994,  0.44300712,\n",
       "         0.15595129,  0.89523762],\n",
       "       [ 0.71714554,  0.22264972,  0.98667759,  0.86449925,  0.98237525,\n",
       "         0.8602817 ,  0.15584912,  0.61958722,  0.69150537,  0.02944407,\n",
       "         0.45282972,  0.56857547,  0.22268614,  0.82171918,  0.53881507,\n",
       "         0.91037054,  0.98001904],\n",
       "       [ 0.3721152 ,  0.6298316 ,  0.85021782,  0.25767725,  0.72070595,\n",
       "         0.50383235,  0.00189855,  0.86599671,  0.07753079,  0.7911375 ,\n",
       "         0.20123961,  0.00274234,  0.66885789,  0.65990011,  0.37482822,\n",
       "         0.06440675,  0.36369761]])"
      ]
     },
     "execution_count": 7,
     "metadata": {},
     "output_type": "execute_result"
    }
   ],
   "source": [
    "def compute_distances_one_loop(X):\n",
    "    \n",
    "    num_test = X.shape[0]\n",
    "    num_train = self_X_train.shape[0]\n",
    "    dists = np.zeros((num_test, num_train))\n",
    "    for i in range(num_test):\n",
    "\n",
    "        \n",
    "        x = X[i]\n",
    "        line = self_X_train\n",
    "        dists[i, :] = line\n",
    "\n",
    "    return dists\n",
    "\n",
    "self_X_train"
   ]
  },
  {
   "cell_type": "code",
   "execution_count": 11,
   "metadata": {
    "collapsed": false,
    "scrolled": true
   },
   "outputs": [
    {
     "name": "stdout",
     "output_type": "stream",
     "text": [
      "[[[0 1]\n",
      "  [2 3]]\n",
      "\n",
      " [[4 5]\n",
      "  [6 7]]]\n",
      "[  3.74165739  11.22497216]\n",
      "(3.7416573867739413, 11.224972160321824)\n"
     ]
    }
   ],
   "source": [
    "m = np.arange(8).reshape(2,2,2)\n",
    "print(m)\n",
    "a = LA.norm(m, axis=(1,2))\n",
    "print(a)\n",
    "\n",
    "\n",
    "b = LA.norm(m[0, :, :]), LA.norm(m[1, :, :])\n",
    "print(b)"
   ]
  },
  {
   "cell_type": "code",
   "execution_count": 12,
   "metadata": {
    "collapsed": false
   },
   "outputs": [
    {
     "name": "stdout",
     "output_type": "stream",
     "text": [
      "[[[0 1]\n",
      "  [2 3]]\n",
      "\n",
      " [[4 5]\n",
      "  [6 7]]]\n"
     ]
    },
    {
     "data": {
      "text/plain": [
       "11.832159566199232"
      ]
     },
     "execution_count": 12,
     "metadata": {},
     "output_type": "execute_result"
    }
   ],
   "source": [
    "m1 = np.arange(4).reshape(2,2)\n",
    "print(m)\n",
    "LA.norm(m)\n"
   ]
  },
  {
   "cell_type": "code",
   "execution_count": 41,
   "metadata": {
    "collapsed": false
   },
   "outputs": [
    {
     "data": {
      "text/plain": [
       "array([[0, 2, 1],\n",
       "       [2, 1, 0]], dtype=int32)"
      ]
     },
     "execution_count": 41,
     "metadata": {},
     "output_type": "execute_result"
    }
   ],
   "source": [
    "np.argsort(x, axis=1)"
   ]
  },
  {
   "cell_type": "code",
   "execution_count": 43,
   "metadata": {
    "collapsed": false
   },
   "outputs": [
    {
     "data": {
      "text/plain": [
       "array([ 0.1 ,  0.16,  0.14])"
      ]
     },
     "execution_count": 43,
     "metadata": {},
     "output_type": "execute_result"
    }
   ],
   "source": [
    "a = x[0]\n",
    "a"
   ]
  },
  {
   "cell_type": "code",
   "execution_count": 46,
   "metadata": {
    "collapsed": false
   },
   "outputs": [
    {
     "data": {
      "text/plain": [
       "[0, 2]"
      ]
     },
     "execution_count": 46,
     "metadata": {},
     "output_type": "execute_result"
    }
   ],
   "source": [
    "a\n",
    "list(np.argsort(a)[:2])"
   ]
  },
  {
   "cell_type": "code",
   "execution_count": 52,
   "metadata": {
    "collapsed": false
   },
   "outputs": [
    {
     "ename": "IndexError",
     "evalue": "invalid index to scalar variable.",
     "output_type": "error",
     "traceback": [
      "\u001b[1;31m\u001b[0m",
      "\u001b[1;31mIndexError\u001b[0mTraceback (most recent call last)",
      "\u001b[1;32m<ipython-input-52-d1ec3ad38269>\u001b[0m in \u001b[0;36m<module>\u001b[1;34m()\u001b[0m\n\u001b[0;32m      1\u001b[0m \u001b[0mb\u001b[0m \u001b[1;33m=\u001b[0m \u001b[0mnp\u001b[0m\u001b[1;33m.\u001b[0m\u001b[0marray\u001b[0m\u001b[1;33m(\u001b[0m\u001b[1;33m[\u001b[0m\u001b[1;36m11\u001b[0m\u001b[1;33m,\u001b[0m\u001b[1;36m11\u001b[0m\u001b[1;33m,\u001b[0m\u001b[1;36m22\u001b[0m\u001b[1;33m,\u001b[0m\u001b[1;36m22\u001b[0m\u001b[1;33m,\u001b[0m\u001b[1;36m22\u001b[0m\u001b[1;33m]\u001b[0m\u001b[1;33m)\u001b[0m\u001b[1;33m\u001b[0m\u001b[0m\n\u001b[0;32m      2\u001b[0m \u001b[1;33m\u001b[0m\u001b[0m\n\u001b[1;32m----> 3\u001b[1;33m \u001b[0mnp\u001b[0m\u001b[1;33m.\u001b[0m\u001b[0mbincount\u001b[0m\u001b[1;33m(\u001b[0m\u001b[0mb\u001b[0m\u001b[1;33m)\u001b[0m\u001b[1;33m.\u001b[0m\u001b[0margmax\u001b[0m\u001b[1;33m(\u001b[0m\u001b[1;33m)\u001b[0m\u001b[1;33m[\u001b[0m\u001b[1;33m:\u001b[0m\u001b[1;36m2\u001b[0m\u001b[1;33m]\u001b[0m\u001b[1;33m\u001b[0m\u001b[0m\n\u001b[0m",
      "\u001b[1;31mIndexError\u001b[0m: invalid index to scalar variable."
     ]
    }
   ],
   "source": [
    "b = np.array([11,11,22,22,22])\n",
    "\n",
    "np.bincount(b).argmax()"
   ]
  }
 ],
 "metadata": {
  "kernelspec": {
   "display_name": "Python 3",
   "language": "python",
   "name": "python3"
  },
  "language_info": {
   "codemirror_mode": {
    "name": "ipython",
    "version": 3
   },
   "file_extension": ".py",
   "mimetype": "text/x-python",
   "name": "python",
   "nbconvert_exporter": "python",
   "pygments_lexer": "ipython3",
   "version": "3.4.3"
  }
 },
 "nbformat": 4,
 "nbformat_minor": 0
}
