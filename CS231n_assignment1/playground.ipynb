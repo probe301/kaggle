{
 "cells": [
  {
   "cell_type": "code",
   "execution_count": 5,
   "metadata": {
    "collapsed": false
   },
   "outputs": [
    {
     "data": {
      "application/javascript": [
       "Jupyter.keyboard_manager.command_shortcuts.add_shortcut('f5', {\n",
       "    \n",
       "    help : 'run cell',\n",
       "    help_index : 'zz',\n",
       "    handler : function (event) {\n",
       "        IPython.notebook.execute_cell();\n",
       "        return false;\n",
       "        \n",
       "    }}                                               \n",
       ");\n",
       "Jupyter.keyboard_manager.command_shortcuts.add_shortcut('ctrl-.', {\n",
       "    \n",
       "    \n",
       "    help : 'run cell',\n",
       "    help_index : 'zz',\n",
       "    handler : function (event) {\n",
       "        IPython.notebook.execute_cell();\n",
       "        return false;\n",
       "        \n",
       "    }}                                               \n",
       ");"
      ],
      "text/plain": [
       "<IPython.core.display.Javascript object>"
      ]
     },
     "metadata": {},
     "output_type": "display_data"
    }
   ],
   "source": [
    "%%javascript\n",
    "Jupyter.keyboard_manager.command_shortcuts.add_shortcut('f5', {\n",
    "    \n",
    "    help : 'run cell',\n",
    "    help_index : 'zz',\n",
    "    handler : function (event) {\n",
    "        IPython.notebook.execute_cell();\n",
    "        return false;\n",
    "        \n",
    "    }}                                               \n",
    ");\n",
    "Jupyter.keyboard_manager.command_shortcuts.add_shortcut('ctrl-.', {\n",
    "    help : 'run cell',\n",
    "    help_index : 'zz',\n",
    "    handler : function (event) {\n",
    "        IPython.notebook.execute_cell();\n",
    "        return false;\n",
    "        \n",
    "    }}                                               \n",
    ");"
   ]
  },
  {
   "cell_type": "code",
   "execution_count": 20,
   "metadata": {
    "collapsed": false
   },
   "outputs": [
    {
     "name": "stdout",
     "output_type": "stream",
     "text": [
      "[[ 0.80199551  0.64402801  0.56276916 ...,  0.94983083  0.91405496\n",
      "   0.19359006]\n",
      " [ 0.58364727  0.77539071  0.4930819  ...,  0.79116004  0.62868395\n",
      "   0.48129595]\n",
      " [ 0.92238044  0.39239338  0.1482598  ...,  0.4621881   0.89998573\n",
      "   0.49456596]\n",
      " ..., \n",
      " [ 0.23781538  0.72672502  0.97524244 ...,  0.03311774  0.74468713\n",
      "   0.22768607]\n",
      " [ 0.80997837  0.84749339  0.36306339 ...,  0.95278288  0.30783989\n",
      "   0.2082002 ]\n",
      " [ 0.31960902  0.97933823  0.23342779 ...,  0.82995956  0.31785668\n",
      "   0.7566649 ]]\n",
      "[[ 0.86408955  0.55238692  0.79911241  0.97384357  0.74128583  0.24842435\n",
      "   0.73966237  0.54588246  0.40003796  0.16471665  0.05642294  0.95455967\n",
      "   0.26256447  0.31430614  0.19299282  0.23843633  0.20654723]\n",
      " [ 0.40446956  0.0484666   0.21217608  0.56977534  0.04833895  0.92698397\n",
      "   0.19144163  0.29083492  0.058378    0.99941112  0.7858689   0.34820331\n",
      "   0.40712102  0.16074269  0.14959367  0.46285337  0.22725851]\n",
      " [ 0.70634029  0.69631955  0.89598199  0.46308287  0.84742634  0.5063399\n",
      "   0.60567456  0.45496736  0.45393682  0.92238938  0.46746509  0.7755106\n",
      "   0.47385722  0.45963824  0.32505821  0.37505824  0.02695558]]\n"
     ]
    }
   ],
   "source": [
    "import numpy as np\n",
    "from numpy import linalg as LA\n",
    "\n",
    "self_X_train = np.random.random([50, 11743])\n",
    "X_test = np.random.random([30, 11743])\n",
    "\n",
    "\n",
    "\n",
    "print(self_X_train)\n",
    "\n",
    "\n",
    "\n",
    "print(X)\n",
    "\n",
    "def time_function(f, *args):\n",
    "  \"\"\"\n",
    "  Call a function f with args and return the time (in seconds) that it took to execute.\n",
    "  \"\"\"\n",
    "  import time\n",
    "  tic = time.time()\n",
    "  f(*args)\n",
    "    \n",
    "  toc = time.time()\n",
    "  return toc - tic\n",
    "\n"
   ]
  },
  {
   "cell_type": "code",
   "execution_count": 69,
   "metadata": {
    "collapsed": false
   },
   "outputs": [
    {
     "name": "stdout",
     "output_type": "stream",
     "text": [
      "one loop (30, 50)\n",
      "(30, 50) no loop\n",
      "(1, 50)\n",
      "(30, 1)\n",
      "Two loop version took 0.226013 seconds\n",
      "one loop (30, 50)\n",
      "One loop version took 0.629036 seconds\n",
      "(30, 50) no loop\n",
      "(1, 50)\n",
      "(30, 1)\n",
      "No loop version took 0.088005 seconds\n"
     ]
    }
   ],
   "source": [
    "def compute_distances_two_loops(X):\n",
    "    num_test = X.shape[0]\n",
    "    num_train = self_X_train.shape[0]\n",
    "    dists = np.zeros((num_test, num_train))\n",
    "    for i in range(num_test):\n",
    "        for j in range(num_train):\n",
    "#             dist = np.linalg.norm(X[i] - self_X_train[j])\n",
    "            dist = np.sqrt(np.sum(np.square(X[i] - self_X_train[j])))\n",
    "            dists[i, j] = dist\n",
    "    return dists\n",
    "\n",
    "def compute_distances_one_loop(X):\n",
    "    num_test = X.shape[0]\n",
    "    num_train = self_X_train.shape[0]\n",
    "    dists = np.zeros((num_test, num_train))\n",
    "    for i in range(num_test):\n",
    "        x = X[i, :]\n",
    "#         line = np.linalg.norm(self_X_train - x, axis=1)\n",
    "        line = np.sqrt(np.sum(np.square(x - self_X_train), axis=1)).transpose()\n",
    "        dists[i, :] = line\n",
    "    print('one loop', dists.shape)\n",
    "    return dists\n",
    "\n",
    "def compute_distances_no_loops(X):\n",
    "    num_test = X.shape[0]\n",
    "    num_train = self_X_train.shape[0]\n",
    "    dists = np.zeros((num_test, num_train))\n",
    "    tr_sum = np.sum(self_X_train * self_X_train, axis=1)\n",
    "    te_sum = np.sum(X * X, axis=1)\n",
    "    \n",
    "    tr_sum = tr_sum.reshape(1, num_train)\n",
    "    te_sum = te_sum.reshape(1, num_test).T\n",
    "    \n",
    "    print(np.dot(self_X_train, X.T).T.shape, 'no loop')\n",
    "    print(tr_sum.shape)\n",
    "    print(te_sum.shape)\n",
    "    dists = -2 * np.dot(self_X_train, X.T).T + tr_sum + te_sum\n",
    "    return np.sqrt(dists)\n",
    "\n",
    "\n",
    "\n",
    "\n",
    "diff = (compute_distances_two_loops(X_test) - compute_distances_one_loop(X_test))\n",
    "assert (np.linalg.norm(diff)) < 0.001, 'one loop failed'\n",
    "diff = (compute_distances_two_loops(X_test) - compute_distances_no_loops(X_test))\n",
    "assert (np.linalg.norm(diff)) < 0.001, 'no loop failed'\n",
    "\n",
    "\n",
    "\n",
    "two_loop_time = time_function(compute_distances_two_loops, X_test)\n",
    "print ('Two loop version took %f seconds' % two_loop_time)\n",
    "one_loop_time = time_function(compute_distances_one_loop, X_test)\n",
    "print ('One loop version took %f seconds' % one_loop_time)\n",
    "no_loop_time = time_function(compute_distances_no_loops, X_test)\n",
    "print ('No loop version took %f seconds' % no_loop_time)\n",
    "\n",
    "\n",
    "\n",
    "\n",
    "# self_X_train"
   ]
  },
  {
   "cell_type": "code",
   "execution_count": null,
   "metadata": {
    "collapsed": true
   },
   "outputs": [],
   "source": []
  },
  {
   "cell_type": "code",
   "execution_count": null,
   "metadata": {
    "collapsed": true
   },
   "outputs": [],
   "source": []
  },
  {
   "cell_type": "code",
   "execution_count": null,
   "metadata": {
    "collapsed": true
   },
   "outputs": [],
   "source": []
  },
  {
   "cell_type": "code",
   "execution_count": null,
   "metadata": {
    "collapsed": true
   },
   "outputs": [],
   "source": []
  },
  {
   "cell_type": "code",
   "execution_count": null,
   "metadata": {
    "collapsed": true
   },
   "outputs": [],
   "source": []
  },
  {
   "cell_type": "code",
   "execution_count": 14,
   "metadata": {
    "collapsed": false,
    "scrolled": true
   },
   "outputs": [
    {
     "name": "stdout",
     "output_type": "stream",
     "text": [
      "[[0 1]\n",
      " [2 3]\n",
      " [4 5]\n",
      " [6 7]]\n",
      "[ 1.          3.60555128  6.40312424  9.21954446]\n",
      "[ 7.48331477  9.16515139]\n"
     ]
    }
   ],
   "source": [
    "m = np.arange(8).reshape(4,2)\n",
    "print(m)\n",
    "\n",
    "a = LA.norm(m, axis=1)\n",
    "print(a)\n",
    "\n",
    "b = LA.norm(m, axis=0)\n",
    "print(b)"
   ]
  },
  {
   "cell_type": "code",
   "execution_count": 12,
   "metadata": {
    "collapsed": false
   },
   "outputs": [
    {
     "name": "stdout",
     "output_type": "stream",
     "text": [
      "[[[0 1]\n",
      "  [2 3]]\n",
      "\n",
      " [[4 5]\n",
      "  [6 7]]]\n"
     ]
    },
    {
     "data": {
      "text/plain": [
       "11.832159566199232"
      ]
     },
     "execution_count": 12,
     "metadata": {},
     "output_type": "execute_result"
    }
   ],
   "source": [
    "m1 = np.arange(4).reshape(2,2)\n",
    "print(m)\n",
    "LA.norm(m)\n"
   ]
  },
  {
   "cell_type": "code",
   "execution_count": 22,
   "metadata": {
    "collapsed": false
   },
   "outputs": [
    {
     "name": "stdout",
     "output_type": "stream",
     "text": [
      "[[ 0  1  2  3]\n",
      " [ 4  5  6  7]\n",
      " [ 8  9 10 11]]\n",
      "[0 1 2 3]\n",
      "[0 1 2 3]\n",
      "--\n",
      "[[0 0 0 0]\n",
      " [4 4 4 4]\n",
      " [8 8 8 8]]\n",
      "[[0 0 0 0]\n",
      " [4 4 4 4]\n",
      " [8 8 8 8]]\n"
     ]
    }
   ],
   "source": [
    "u = np.arange(12).reshape(3,4)\n",
    "print(u)\n",
    "\n",
    "line = u[0]\n",
    "print(line)\n",
    "line2 = u[0, :]\n",
    "print(line2)\n",
    "print('--')\n",
    "\n",
    "print(u - line)\n",
    "print(u - line2)"
   ]
  },
  {
   "cell_type": "code",
   "execution_count": 43,
   "metadata": {
    "collapsed": false
   },
   "outputs": [
    {
     "data": {
      "text/plain": [
       "array([ 0.1 ,  0.16,  0.14])"
      ]
     },
     "execution_count": 43,
     "metadata": {},
     "output_type": "execute_result"
    }
   ],
   "source": [
    "a = x[0]\n",
    "a"
   ]
  },
  {
   "cell_type": "code",
   "execution_count": 46,
   "metadata": {
    "collapsed": false
   },
   "outputs": [
    {
     "data": {
      "text/plain": [
       "[0, 2]"
      ]
     },
     "execution_count": 46,
     "metadata": {},
     "output_type": "execute_result"
    }
   ],
   "source": [
    "a\n",
    "list(np.argsort(a)[:2])"
   ]
  },
  {
   "cell_type": "code",
   "execution_count": 52,
   "metadata": {
    "collapsed": false
   },
   "outputs": [
    {
     "ename": "IndexError",
     "evalue": "invalid index to scalar variable.",
     "output_type": "error",
     "traceback": [
      "\u001b[1;31m\u001b[0m",
      "\u001b[1;31mIndexError\u001b[0mTraceback (most recent call last)",
      "\u001b[1;32m<ipython-input-52-d1ec3ad38269>\u001b[0m in \u001b[0;36m<module>\u001b[1;34m()\u001b[0m\n\u001b[0;32m      1\u001b[0m \u001b[0mb\u001b[0m \u001b[1;33m=\u001b[0m \u001b[0mnp\u001b[0m\u001b[1;33m.\u001b[0m\u001b[0marray\u001b[0m\u001b[1;33m(\u001b[0m\u001b[1;33m[\u001b[0m\u001b[1;36m11\u001b[0m\u001b[1;33m,\u001b[0m\u001b[1;36m11\u001b[0m\u001b[1;33m,\u001b[0m\u001b[1;36m22\u001b[0m\u001b[1;33m,\u001b[0m\u001b[1;36m22\u001b[0m\u001b[1;33m,\u001b[0m\u001b[1;36m22\u001b[0m\u001b[1;33m]\u001b[0m\u001b[1;33m)\u001b[0m\u001b[1;33m\u001b[0m\u001b[0m\n\u001b[0;32m      2\u001b[0m \u001b[1;33m\u001b[0m\u001b[0m\n\u001b[1;32m----> 3\u001b[1;33m \u001b[0mnp\u001b[0m\u001b[1;33m.\u001b[0m\u001b[0mbincount\u001b[0m\u001b[1;33m(\u001b[0m\u001b[0mb\u001b[0m\u001b[1;33m)\u001b[0m\u001b[1;33m.\u001b[0m\u001b[0margmax\u001b[0m\u001b[1;33m(\u001b[0m\u001b[1;33m)\u001b[0m\u001b[1;33m[\u001b[0m\u001b[1;33m:\u001b[0m\u001b[1;36m2\u001b[0m\u001b[1;33m]\u001b[0m\u001b[1;33m\u001b[0m\u001b[0m\n\u001b[0m",
      "\u001b[1;31mIndexError\u001b[0m: invalid index to scalar variable."
     ]
    }
   ],
   "source": [
    "b = np.array([11,11,22,22,22])\n",
    "\n",
    "np.bincount(b).argmax()"
   ]
  },
  {
   "cell_type": "code",
   "execution_count": 1,
   "metadata": {
    "collapsed": true
   },
   "outputs": [],
   "source": [
    "from ipywidgets import interact, interact_manual"
   ]
  },
  {
   "cell_type": "code",
   "execution_count": 2,
   "metadata": {
    "collapsed": true
   },
   "outputs": [],
   "source": [
    "def f(x):\n",
    "    print(x)\n",
    "\n",
    "\n",
    "    "
   ]
  },
  {
   "cell_type": "code",
   "execution_count": 11,
   "metadata": {
    "collapsed": false
   },
   "outputs": [],
   "source": [
    "def 換算(金額,幣別):\n",
    "    total = int(int(金額)*幣別)\n",
    "    print(\"換算台幣為: \" + str(total) + \" 元。\")\n",
    "\n",
    "\n",
    "interact_manual(換算, 金額=\"請輸入金額\", 幣別={\"美金\":32.1017, \"日幣\":0.3054, \n",
    "                                    \"人民幣\":4.8102});\n",
    "\n",
    "%matplotlib inline\n",
    "import numpy as np\n",
    "import matplotlib.pyplot as plt\n"
   ]
  },
  {
   "cell_type": "code",
   "execution_count": 12,
   "metadata": {
    "collapsed": true
   },
   "outputs": [],
   "source": [
    "\n",
    "x0 = np.linspace(0, 3.14, 7)\n",
    "y0 = np.random.rand(7)\n",
    "x = np.linspace(-0.5, 3.5, 1000)\n"
   ]
  },
  {
   "cell_type": "code",
   "execution_count": 13,
   "metadata": {
    "collapsed": true
   },
   "outputs": [],
   "source": [
    "\n",
    "def fitting(k):\n",
    "    plt.xlim(-0.5, 3.5)\n",
    "    plt.ylim(0, 1)\n",
    "    plt.scatter(x0,y0,s=60,c='r')\n",
    "    plt.plot(x, 0.5*np.sin(k*x)+0.5,lw=2)\n",
    "    "
   ]
  },
  {
   "cell_type": "code",
   "execution_count": 14,
   "metadata": {
    "collapsed": false
   },
   "outputs": [
    {
     "data": {
      "image/png": "[encoded data removed]",
      "text/plain": [
       "<matplotlib.figure.Figure at 0x6af99f0>"
      ]
     },
     "metadata": {},
     "output_type": "display_data"
    }
   ],
   "source": [
    "interact(fitting, k=(1,100));\n"
   ]
  },
  {
   "cell_type": "code",
   "execution_count": 23,
   "metadata": {
    "collapsed": true
   },
   "outputs": [],
   "source": [
    "from matplotlib import animation, rc\n",
    "\n"
   ]
  },
  {
   "cell_type": "code",
   "execution_count": 24,
   "metadata": {
    "collapsed": false
   },
   "outputs": [
    {
     "data": {
      "image/png": "[encoded data removed]",
      "text/plain": [
       "<matplotlib.figure.Figure at 0x599a5b0>"
      ]
     },
     "metadata": {},
     "output_type": "display_data"
    }
   ],
   "source": [
    "rc('animation', html='html5')\n",
    "fig, ax = plt.subplots()\n",
    "ax.set_xlim((-0.5,3.5))\n",
    "ax.set_ylim((0, 1))\n",
    "\n",
    "ax.scatter(x0,y0,s=60,c='r')\n",
    "line, = ax.plot([], [], lw=2)\n"
   ]
  },
  {
   "cell_type": "code",
   "execution_count": 25,
   "metadata": {
    "collapsed": true
   },
   "outputs": [],
   "source": [
    "def init():\n",
    "    line.set_data([], [])\n",
    "    return (line,)\n",
    "def animate(k):\n",
    "    \n",
    "    y = 0.5*np.sin(k*x)+0.5\n",
    "    line.set_data(x, y)\n",
    "    return (line,)\n"
   ]
  },
  {
   "cell_type": "code",
   "execution_count": 26,
   "metadata": {
    "collapsed": true
   },
   "outputs": [],
   "source": [
    "anim = animation.FuncAnimation(fig, animate, init_func=init,\n",
    "                               frames=100, interval=20, blit=True)\n",
    "\n"
   ]
  },
  {
   "cell_type": "code",
   "execution_count": 27,
   "metadata": {
    "collapsed": false
   },
   "outputs": [
    {
     "ename": "RuntimeError",
     "evalue": "No MovieWriters available!",
     "output_type": "error",
     "traceback": [
      "\u001b[1;31m\u001b[0m",
      "\u001b[1;31mRuntimeError\u001b[0mTraceback (most recent call last)",
      "\u001b[1;32mC:\\Anaconda3\\lib\\site-packages\\IPython\\core\\formatters.py\u001b[0m in \u001b[0;36m__call__\u001b[1;34m(self, obj)\u001b[0m\n\u001b[0;32m    341\u001b[0m             \u001b[0mmethod\u001b[0m \u001b[1;33m=\u001b[0m \u001b[0m_safe_get_formatter_method\u001b[0m\u001b[1;33m(\u001b[0m\u001b[0mobj\u001b[0m\u001b[1;33m,\u001b[0m \u001b[0mself\u001b[0m\u001b[1;33m.\u001b[0m\u001b[0mprint_method\u001b[0m\u001b[1;33m)\u001b[0m\u001b[1;33m\u001b[0m\u001b[0m\n\u001b[0;32m    342\u001b[0m             \u001b[1;32mif\u001b[0m \u001b[0mmethod\u001b[0m \u001b[1;32mis\u001b[0m \u001b[1;32mnot\u001b[0m \u001b[1;32mNone\u001b[0m\u001b[1;33m:\u001b[0m\u001b[1;33m\u001b[0m\u001b[0m\n\u001b[1;32m--> 343\u001b[1;33m                 \u001b[1;32mreturn\u001b[0m \u001b[0mmethod\u001b[0m\u001b[1;33m(\u001b[0m\u001b[1;33m)\u001b[0m\u001b[1;33m\u001b[0m\u001b[0m\n\u001b[0m\u001b[0;32m    344\u001b[0m             \u001b[1;32mreturn\u001b[0m \u001b[1;32mNone\u001b[0m\u001b[1;33m\u001b[0m\u001b[0m\n\u001b[0;32m    345\u001b[0m         \u001b[1;32melse\u001b[0m\u001b[1;33m:\u001b[0m\u001b[1;33m\u001b[0m\u001b[0m\n",
      "\u001b[1;32mC:\\Anaconda3\\lib\\site-packages\\matplotlib\\animation.py\u001b[0m in \u001b[0;36m_repr_html_\u001b[1;34m(self)\u001b[0m\n\u001b[0;32m    979\u001b[0m         \u001b[0mfmt\u001b[0m \u001b[1;33m=\u001b[0m \u001b[0mrcParams\u001b[0m\u001b[1;33m[\u001b[0m\u001b[1;34m'animation.html'\u001b[0m\u001b[1;33m]\u001b[0m\u001b[1;33m\u001b[0m\u001b[0m\n\u001b[0;32m    980\u001b[0m         \u001b[1;32mif\u001b[0m \u001b[0mfmt\u001b[0m \u001b[1;33m==\u001b[0m \u001b[1;34m'html5'\u001b[0m\u001b[1;33m:\u001b[0m\u001b[1;33m\u001b[0m\u001b[0m\n\u001b[1;32m--> 981\u001b[1;33m             \u001b[1;32mreturn\u001b[0m \u001b[0mself\u001b[0m\u001b[1;33m.\u001b[0m\u001b[0mto_html5_video\u001b[0m\u001b[1;33m(\u001b[0m\u001b[1;33m)\u001b[0m\u001b[1;33m\u001b[0m\u001b[0m\n\u001b[0m\u001b[0;32m    982\u001b[0m \u001b[1;33m\u001b[0m\u001b[0m\n\u001b[0;32m    983\u001b[0m \u001b[1;33m\u001b[0m\u001b[0m\n",
      "\u001b[1;32mC:\\Anaconda3\\lib\\site-packages\\matplotlib\\animation.py\u001b[0m in \u001b[0;36mto_html5_video\u001b[1;34m(self)\u001b[0m\n\u001b[0;32m    949\u001b[0m                 \u001b[1;31m# We create a writer manually so that we can get the\u001b[0m\u001b[1;33m\u001b[0m\u001b[1;33m\u001b[0m\u001b[0m\n\u001b[0;32m    950\u001b[0m                 \u001b[1;31m# appropriate size for the tag\u001b[0m\u001b[1;33m\u001b[0m\u001b[1;33m\u001b[0m\u001b[0m\n\u001b[1;32m--> 951\u001b[1;33m                 \u001b[0mWriter\u001b[0m \u001b[1;33m=\u001b[0m \u001b[0mwriters\u001b[0m\u001b[1;33m[\u001b[0m\u001b[0mrcParams\u001b[0m\u001b[1;33m[\u001b[0m\u001b[1;34m'animation.writer'\u001b[0m\u001b[1;33m]\u001b[0m\u001b[1;33m]\u001b[0m\u001b[1;33m\u001b[0m\u001b[0m\n\u001b[0m\u001b[0;32m    952\u001b[0m                 writer = Writer(codec='h264',\n\u001b[0;32m    953\u001b[0m                                 \u001b[0mbitrate\u001b[0m\u001b[1;33m=\u001b[0m\u001b[0mrcParams\u001b[0m\u001b[1;33m[\u001b[0m\u001b[1;34m'animation.bitrate'\u001b[0m\u001b[1;33m]\u001b[0m\u001b[1;33m,\u001b[0m\u001b[1;33m\u001b[0m\u001b[0m\n",
      "\u001b[1;32mC:\\Anaconda3\\lib\\site-packages\\matplotlib\\animation.py\u001b[0m in \u001b[0;36m__getitem__\u001b[1;34m(self, name)\u001b[0m\n\u001b[0;32m     86\u001b[0m     \u001b[1;32mdef\u001b[0m \u001b[0m__getitem__\u001b[0m\u001b[1;33m(\u001b[0m\u001b[0mself\u001b[0m\u001b[1;33m,\u001b[0m \u001b[0mname\u001b[0m\u001b[1;33m)\u001b[0m\u001b[1;33m:\u001b[0m\u001b[1;33m\u001b[0m\u001b[0m\n\u001b[0;32m     87\u001b[0m         \u001b[1;32mif\u001b[0m \u001b[1;32mnot\u001b[0m \u001b[0mself\u001b[0m\u001b[1;33m.\u001b[0m\u001b[0mavail\u001b[0m\u001b[1;33m:\u001b[0m\u001b[1;33m\u001b[0m\u001b[0m\n\u001b[1;32m---> 88\u001b[1;33m             \u001b[1;32mraise\u001b[0m \u001b[0mRuntimeError\u001b[0m\u001b[1;33m(\u001b[0m\u001b[1;34m\"No MovieWriters available!\"\u001b[0m\u001b[1;33m)\u001b[0m\u001b[1;33m\u001b[0m\u001b[0m\n\u001b[0m\u001b[0;32m     89\u001b[0m         \u001b[1;32mreturn\u001b[0m \u001b[0mself\u001b[0m\u001b[1;33m.\u001b[0m\u001b[0mavail\u001b[0m\u001b[1;33m[\u001b[0m\u001b[0mname\u001b[0m\u001b[1;33m]\u001b[0m\u001b[1;33m\u001b[0m\u001b[0m\n\u001b[0;32m     90\u001b[0m \u001b[1;33m\u001b[0m\u001b[0m\n",
      "\u001b[1;31mRuntimeError\u001b[0m: No MovieWriters available!"
     ]
    },
    {
     "data": {
      "text/plain": [
       "<matplotlib.animation.FuncAnimation at 0x6a6f470>"
      ]
     },
     "execution_count": 27,
     "metadata": {},
     "output_type": "execute_result"
    }
   ],
   "source": [
    "anim\n",
    "\n"
   ]
  },
  {
   "cell_type": "code",
   "execution_count": 22,
   "metadata": {
    "collapsed": false
   },
   "outputs": [
    {
     "name": "stdout",
     "output_type": "stream",
     "text": [
      "[]\n"
     ]
    }
   ],
   "source": [
    "print(animation.writers.list())\n"
   ]
  }
 ],
 "metadata": {
  "kernelspec": {
   "display_name": "Python 3",
   "language": "python",
   "name": "python3"
  },
  "language_info": {
   "codemirror_mode": {
    "name": "ipython",
    "version": 3
   },
   "file_extension": ".py",
   "mimetype": "text/x-python",
   "name": "python",
   "nbconvert_exporter": "python",
   "pygments_lexer": "ipython3",
   "version": "3.4.3"
  }
 },
 "nbformat": 4,
 "nbformat_minor": 0
}
