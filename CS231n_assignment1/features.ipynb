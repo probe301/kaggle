{
 "cells": [
  {
   "cell_type": "markdown",
   "metadata": {},
   "source": [
    "# Image features exercise\n",
    "*Complete and hand in this completed worksheet (including its outputs and any supporting code outside of the worksheet) with your assignment submission. For more details see the [assignments page](http://vision.stanford.edu/teaching/cs231n/assignments.html) on the course website.*\n",
    "\n",
    "We have seen that we can achieve reasonable performance on an image classification task by training a linear classifier on the pixels of the input image. In this exercise we will show that we can improve our classification performance by training linear classifiers not on raw pixels but on features that are computed from the raw pixels.\n",
    "\n",
    "All of your work for this exercise will be done in this notebook."
   ]
  },
  {
   "cell_type": "code",
   "execution_count": 2,
   "metadata": {
    "collapsed": false,
    "scrolled": false
   },
   "outputs": [
    {
     "data": {
      "application/javascript": [
       "Jupyter.keyboard_manager.command_shortcuts.add_shortcut('f5', {\n",
       "    help : 'run cell',\n",
       "    handler : function (event) {\n",
       "        IPython.notebook.execute_cell();\n",
       "        return false;\n",
       "    }}                                               \n",
       ");\n",
       "Jupyter.keyboard_manager.command_shortcuts.add_shortcut('ctrl-.', {\n",
       "    help : 'run cell',\n",
       "    handler : function (event) {\n",
       "        IPython.notebook.execute_cell();\n",
       "        return false;\n",
       "    }}                                               \n",
       ");\n",
       "Jupyter.keyboard_manager.edit_shortcuts.add_shortcut('f5', {\n",
       "    help : 'run cell',\n",
       "    handler : function (event) {\n",
       "        IPython.notebook.execute_cell();\n",
       "        return false;\n",
       "    }}                                               \n",
       ");\n",
       "Jupyter.keyboard_manager.edit_shortcuts.add_shortcut('ctrl-.', {\n",
       "    help : 'run cell',\n",
       "    handler : function (event) {\n",
       "        IPython.notebook.execute_cell();\n",
       "        return false;\n",
       "        \n",
       "    }}                                               \n",
       ");\n",
       "\n",
       "\n",
       "Jupyter.keyboard_manager.edit_shortcuts.add_shortcut('ctrl-enter', {\n",
       "    help : 'none',\n",
       "    // 防止与 Sublime hotkey Ctrl+Enter 冲突\n",
       "    handler : function (event) {\n",
       "        return false;\n",
       "    }}\n",
       ");\n",
       "\n",
       "\n",
       "var cell = Jupyter.notebook.get_selected_cell();\n",
       "var config = cell.config;\n",
       "var patch = {\n",
       "      CodeCell: {\n",
       "        cm_config:{indentUnit: 2}\n",
       "      }\n",
       "    }\n",
       "config.update(patch)"
      ],
      "text/plain": [
       "<IPython.core.display.Javascript object>"
      ]
     },
     "metadata": {},
     "output_type": "display_data"
    }
   ],
   "source": [
    "%%javascript\n",
    "Jupyter.keyboard_manager.command_shortcuts.add_shortcut('f5', {\n",
    "    help : 'run cell',\n",
    "    handler : function (event) {\n",
    "        IPython.notebook.execute_cell();\n",
    "        return false;\n",
    "    }}                                               \n",
    ");\n",
    "Jupyter.keyboard_manager.command_shortcuts.add_shortcut('ctrl-.', {\n",
    "    help : 'run cell',\n",
    "    handler : function (event) {\n",
    "        IPython.notebook.execute_cell();\n",
    "        return false;\n",
    "    }}                                               \n",
    ");\n",
    "Jupyter.keyboard_manager.edit_shortcuts.add_shortcut('f5', {\n",
    "    help : 'run cell',\n",
    "    handler : function (event) {\n",
    "        IPython.notebook.execute_cell();\n",
    "        return false;\n",
    "    }}                                               \n",
    ");\n",
    "Jupyter.keyboard_manager.edit_shortcuts.add_shortcut('ctrl-.', {\n",
    "    help : 'run cell',\n",
    "    handler : function (event) {\n",
    "        IPython.notebook.execute_cell();\n",
    "        return false;\n",
    "        \n",
    "    }}                                               \n",
    ");\n",
    "\n",
    "\n",
    "Jupyter.keyboard_manager.edit_shortcuts.add_shortcut('ctrl-enter', {\n",
    "    help : 'none',\n",
    "    // 防止与 Sublime hotkey Ctrl+Enter 冲突\n",
    "    handler : function (event) {\n",
    "        return false;\n",
    "    }}\n",
    ");\n",
    "\n",
    "\n",
    "var cell = Jupyter.notebook.get_selected_cell();\n",
    "var config = cell.config;\n",
    "var patch = {\n",
    "      CodeCell: {\n",
    "        cm_config:{indentUnit: 2}\n",
    "      }\n",
    "    }\n",
    "config.update(patch)"
   ]
  },
  {
   "cell_type": "code",
   "execution_count": 3,
   "metadata": {
    "collapsed": false,
    "scrolled": false
   },
   "outputs": [],
   "source": [
    "import random\n",
    "import numpy as np\n",
    "from cs231n.data_utils import load_CIFAR10\n",
    "import matplotlib.pyplot as plt\n",
    "%matplotlib inline\n",
    "plt.rcParams['figure.figsize'] = (10.0, 8.0) # set default size of plots\n",
    "plt.rcParams['image.interpolation'] = 'nearest'\n",
    "plt.rcParams['image.cmap'] = 'gray'\n",
    "\n",
    "# for auto-reloading extenrnal modules\n",
    "# see http://stackoverflow.com/questions/1907993/autoreload-of-modules-in-ipython\n",
    "%load_ext autoreload\n",
    "%autoreload 2"
   ]
  },
  {
   "cell_type": "markdown",
   "metadata": {},
   "source": [
    "## Load data\n",
    "Similar to previous exercises, we will load CIFAR-10 data from disk."
   ]
  },
  {
   "cell_type": "code",
   "execution_count": null,
   "metadata": {
    "collapsed": false,
    "scrolled": false
   },
   "outputs": [],
   "source": [
    "# from cs231n.features import color_histogram_hsv, hog_feature\n",
    "\n",
    "# # def get_CIFAR10_data(num_training=49000, num_validation=1000, num_test=1000):\n",
    "# def get_CIFAR10_data(num_training=9600, num_validation=400, num_test=1000):\n",
    "#   # Load the raw CIFAR-10 data\n",
    "#   cifar10_dir = 'cs231n/datasets/'\n",
    "#   X_train, y_train, X_test, y_test = load_CIFAR10(cifar10_dir)\n",
    "  \n",
    "#   # Subsample the data\n",
    "#   mask = range(num_training, num_training + num_validation)\n",
    "#   X_val = X_train[mask]\n",
    "#   y_val = y_train[mask]\n",
    "#   mask = range(num_training)\n",
    "#   X_train = X_train[mask]\n",
    "#   y_train = y_train[mask]\n",
    "#   mask = range(num_test)\n",
    "#   X_test = X_test[mask]\n",
    "#   y_test = y_test[mask]\n",
    "\n",
    "#   return X_train, y_train, X_val, y_val, X_test, y_test\n",
    "\n",
    "# X_train, y_train, X_val, y_val, X_test, y_test = get_CIFAR10_data()\n",
    "# print(X_train.shape)"
   ]
  },
  {
   "cell_type": "markdown",
   "metadata": {},
   "source": [
    "## Extract Features\n",
    "For each image we will compute a Histogram of Oriented\n",
    "Gradients (HOG) as well as a color histogram using the hue channel in HSV\n",
    "color space. We form our final feature vector for each image by concatenating\n",
    "the HOG and color histogram feature vectors.\n",
    "\n",
    "Roughly speaking, HOG should capture the texture of the image while ignoring\n",
    "color information, and the color histogram represents the color of the input\n",
    "image while ignoring texture. As a result, we expect that using both together\n",
    "ought to work better than using either alone. Verifying this assumption would\n",
    "be a good thing to try for the bonus section.\n",
    "\n",
    "The `hog_feature` and `color_histogram_hsv` functions both operate on a single\n",
    "image and return a feature vector for that image. The extract_features\n",
    "function takes a set of images and a list of feature functions and evaluates\n",
    "each feature function on each image, storing the results in a matrix where\n",
    "each column is the concatenation of all feature vectors for a single image."
   ]
  },
  {
   "cell_type": "code",
   "execution_count": null,
   "metadata": {
    "collapsed": false,
    "scrolled": false
   },
   "outputs": [],
   "source": [
    "# from cs231n.features import *\n",
    "\n",
    "# num_color_bins = 10 # Number of bins in the color histogram\n",
    "# feature_fns = [hog_feature, lambda img: color_histogram_hsv(img, nbin=num_color_bins)]\n",
    "# X_train_feats = extract_features(X_train, feature_fns, verbose=True)\n",
    "# X_val_feats = extract_features(X_val, feature_fns)\n",
    "# X_test_feats = extract_features(X_test, feature_fns)\n",
    "\n",
    "# # Preprocessing: Subtract the mean feature\n",
    "# mean_feat = np.mean(X_train_feats, axis=0, keepdims=True)\n",
    "# X_train_feats -= mean_feat\n",
    "# X_val_feats -= mean_feat\n",
    "# X_test_feats -= mean_feat\n",
    "\n",
    "# # Preprocessing: Divide by standard deviation. \n",
    "# # This ensures that each feature\n",
    "# # has roughly the same scale.\n",
    "# std_feat = np.std(X_train_feats, axis=0, keepdims=True)\n",
    "# X_train_feats /= std_feat\n",
    "# X_val_feats /= std_feat\n",
    "# X_test_feats /= std_feat\n",
    "\n",
    "# # Preprocessing: Add a bias dimension\n",
    "# X_train_feats = np.hstack([X_train_feats, np.ones((X_train_feats.shape[0], 1))])\n",
    "# X_val_feats = np.hstack([X_val_feats, np.ones((X_val_feats.shape[0], 1))])\n",
    "# X_test_feats = np.hstack([X_test_feats, np.ones((X_test_feats.shape[0], 1))])"
   ]
  },
  {
   "cell_type": "code",
   "execution_count": 4,
   "metadata": {
    "collapsed": false
   },
   "outputs": [],
   "source": [
    "import os\n",
    "from cs231n.features import *\n",
    "from cs231n.features import color_histogram_hsv, hog_feature\n",
    "from cs231n.data_utils import load_CIFAR_batch\n",
    "\n",
    "def load_CIFAR10_train(n=1):\n",
    "  xs = []\n",
    "  ys = []\n",
    "  cifar10_dir = 'cs231n/datasets/'\n",
    "  for b in range(1, n+1):\n",
    "    f = os.path.join(cifar10_dir, 'data_batch_%d' % (b, ))\n",
    "    X, Y = load_CIFAR_batch(f, astype='int')\n",
    "    xs.append(X)\n",
    "    ys.append(Y)\n",
    "  Xtr = np.concatenate(xs)\n",
    "  Ytr = np.concatenate(ys)\n",
    "  del X, Y\n",
    "  print('load Xtr', Xtr.shape, 'load Ytr', Ytr.shape)\n",
    "  return Xtr, Ytr\n",
    "\n",
    "def load_CIFAR10_test():\n",
    "  cifar10_dir = 'cs231n/datasets/'\n",
    "  f = os.path.join(cifar10_dir, 'test_batch')\n",
    "  Xte, Yte = load_CIFAR_batch(f, astype='int')\n",
    "  return Xte, Yte\n",
    "\n",
    "def preprocess_data(X, mean_feat, std_feat):\n",
    "\n",
    "    num_color_bins = 10 # Number of bins in the color histogram\n",
    "    feature_fns = [hog_feature, lambda img: color_histogram_hsv(img, nbin=num_color_bins)]\n",
    "    X = extract_features(X, feature_fns, verbose=True)\n",
    "    X -= mean_feat\n",
    "    X /= std_feat\n",
    "    X = np.hstack([X, np.ones((X.shape[0], 1))])\n",
    "    return X\n",
    "\n",
    "\n",
    "def preprocess_data_X_train(X_train):\n",
    "\n",
    "    num_color_bins = 10 # Number of bins in the color histogram\n",
    "    feature_fns = [hog_feature, lambda img: color_histogram_hsv(img, nbin=num_color_bins)]\n",
    "    X_train_feats = extract_features(X_train, feature_fns, verbose=True)\n",
    "\n",
    "    mean_feat = np.mean(X_train_feats, axis=0, keepdims=True)\n",
    "    X_train_feats -= mean_feat\n",
    "    std_feat = np.std(X_train_feats, axis=0, keepdims=True)\n",
    "    X_train_feats /= std_feat\n",
    "    X_train_feats = np.hstack([X_train_feats, np.ones((X_train_feats.shape[0], 1))])\n",
    "    return X_train_feats, mean_feat, std_feat\n",
    "\n",
    "\n",
    "\n"
   ]
  },
  {
   "cell_type": "code",
   "execution_count": 5,
   "metadata": {
    "collapsed": false
   },
   "outputs": [
    {
     "name": "stdout",
     "output_type": "stream",
     "text": [
      "cs231n/datasets/data_batch_1\n",
      "cs231n/datasets/data_batch_2\n",
      "cs231n/datasets/data_batch_3\n",
      "load Xtr (30000, 32, 32, 3) load Ytr (30000,)\n"
     ]
    }
   ],
   "source": [
    "X_train, y_train = load_CIFAR10_train(n=3)  # load int 数据, 可以载入3个batch\n",
    "                                            # 再多了还是不行\n",
    "# X_test, y_test = load_CIFAR10_test()\n",
    "# 先不载入 test data, 等最后需要用时再说"
   ]
  },
  {
   "cell_type": "code",
   "execution_count": 7,
   "metadata": {
    "collapsed": false
   },
   "outputs": [],
   "source": [
    "def split_train_val(X_train, y_train, num_training, num_validation):\n",
    "\n",
    "  mask = range(num_training, num_training + num_validation)\n",
    "  X_val = X_train[mask]\n",
    "  y_val = y_train[mask]\n",
    "  mask = range(num_training)\n",
    "  X_train = X_train[mask]\n",
    "  y_train = y_train[mask]\n",
    "\n",
    "  return X_train, y_train, X_val, y_val\n",
    "\n",
    "\n",
    "X_train, y_train, X_val, y_val = split_train_val(X_train, y_train, 28000, 2000)"
   ]
  },
  {
   "cell_type": "code",
   "execution_count": 8,
   "metadata": {
    "collapsed": false
   },
   "outputs": [
    {
     "name": "stdout",
     "output_type": "stream",
     "text": [
      "X_train (28000, 32, 32, 3)\n",
      "y_train (28000,)\n",
      "X_val (2000, 32, 32, 3)\n",
      "y_val (2000,)\n"
     ]
    }
   ],
   "source": [
    "print(\"X_train\", X_train.shape)\n",
    "print(\"y_train\", y_train.shape)\n",
    "print(\"X_val\", X_val.shape)\n",
    "print(\"y_val\", y_val.shape)"
   ]
  },
  {
   "cell_type": "code",
   "execution_count": 9,
   "metadata": {
    "collapsed": false
   },
   "outputs": [
    {
     "name": "stdout",
     "output_type": "stream",
     "text": [
      "Done extracting features for 1000 / 28000 images\n",
      "Done extracting features for 2000 / 28000 images\n",
      "Done extracting features for 3000 / 28000 images\n",
      "Done extracting features for 4000 / 28000 images\n",
      "Done extracting features for 5000 / 28000 images\n",
      "Done extracting features for 6000 / 28000 images\n",
      "Done extracting features for 7000 / 28000 images\n",
      "Done extracting features for 8000 / 28000 images\n",
      "Done extracting features for 9000 / 28000 images\n",
      "Done extracting features for 10000 / 28000 images\n",
      "Done extracting features for 11000 / 28000 images\n",
      "Done extracting features for 12000 / 28000 images\n",
      "Done extracting features for 13000 / 28000 images\n",
      "Done extracting features for 14000 / 28000 images\n",
      "Done extracting features for 15000 / 28000 images\n",
      "Done extracting features for 16000 / 28000 images\n",
      "Done extracting features for 17000 / 28000 images\n",
      "Done extracting features for 18000 / 28000 images\n",
      "Done extracting features for 19000 / 28000 images\n",
      "Done extracting features for 20000 / 28000 images\n",
      "Done extracting features for 21000 / 28000 images\n",
      "Done extracting features for 22000 / 28000 images\n",
      "Done extracting features for 23000 / 28000 images\n",
      "Done extracting features for 24000 / 28000 images\n",
      "Done extracting features for 25000 / 28000 images\n",
      "Done extracting features for 26000 / 28000 images\n",
      "Done extracting features for 27000 / 28000 images\n"
     ]
    },
    {
     "data": {
      "text/plain": [
       "(28000, 155)"
      ]
     },
     "execution_count": 9,
     "metadata": {},
     "output_type": "execute_result"
    }
   ],
   "source": [
    "X_train_feats, mean_feat, std_feat = preprocess_data_X_train(X_train)\n",
    "\n",
    "X_train_feats.shape"
   ]
  },
  {
   "cell_type": "code",
   "execution_count": 10,
   "metadata": {
    "collapsed": false
   },
   "outputs": [
    {
     "name": "stdout",
     "output_type": "stream",
     "text": [
      "Done extracting features for 1000 / 2000 images\n"
     ]
    },
    {
     "data": {
      "text/plain": [
       "(2000, 155)"
      ]
     },
     "execution_count": 10,
     "metadata": {},
     "output_type": "execute_result"
    }
   ],
   "source": [
    "X_val_feats = preprocess_data(X_val, mean_feat, std_feat)\n",
    "X_val_feats.shape"
   ]
  },
  {
   "cell_type": "markdown",
   "metadata": {},
   "source": [
    "## Train SVM on features\n",
    "Using the multiclass SVM code developed earlier in the assignment, train SVMs on top of the features extracted above; this should achieve better results than training SVMs directly on top of raw pixels."
   ]
  },
  {
   "cell_type": "code",
   "execution_count": null,
   "metadata": {
    "collapsed": false,
    "scrolled": true
   },
   "outputs": [],
   "source": [
    "# Use the validation set to tune the learning rate and regularization strength\n",
    "\n",
    "from cs231n.classifiers.linear_classifier import LinearSVM\n",
    "\n",
    "learning_rates = [1e-9, 1e-8, 1e-7]\n",
    "regularization_strengths = [1e5, 1e6, 1e7]\n",
    "\n",
    "results = {}\n",
    "best_val = -1\n",
    "best_svm = None\n",
    "\n",
    "num_iters = 1500\n",
    "################################################################################\n",
    "# TODO:                                                                        #\n",
    "# Use the validation set to set the learning rate and regularization strength. #\n",
    "# This should be identical to the validation that you did for the SVM; save    #\n",
    "# the best trained classifer in best_svm. You might also want to play          #\n",
    "# with different numbers of bins in the color histogram. If you are careful    #\n",
    "# you should be able to get accuracy of near 0.44 on the validation set.       #\n",
    "################################################################################\n",
    "for lr in learning_rates:\n",
    "    for reg in regularization_strengths:\n",
    "        print(' ---- train at {} {}-----'.format(lr, reg))\n",
    "        svm = LinearSVM()\n",
    "        loss_hist = svm.train(X_train_feats, y_train, \n",
    "                              learning_rate=lr, \n",
    "                              reg=reg,\n",
    "                              num_iters=num_iters, \n",
    "                              verbose=True)\n",
    "        print(loss_hist[::100])\n",
    "        \n",
    "        \n",
    "        y_train_pred = svm.predict(X_train_feats)\n",
    "        training_accuracy = np.mean(y_train == y_train_pred)\n",
    "        y_val_pred = svm.predict(X_val_feats)\n",
    "        validation_accuracy = np.mean(y_val == y_val_pred)\n",
    "        \n",
    "        results[(lr, reg)] = training_accuracy, validation_accuracy\n",
    "        \n",
    "        if validation_accuracy > best_val:\n",
    "            best_val = validation_accuracy\n",
    "            best_svm = svm\n",
    "            \n",
    "################################################################################\n",
    "#                              END OF YOUR CODE                                #\n",
    "################################################################################\n",
    "\n",
    "# Print out results.\n",
    "for lr, reg in sorted(results):\n",
    "    train_accuracy, val_accuracy = results[(lr, reg)]\n",
    "    print ('lr %e reg %e train accuracy: %f val accuracy: %f' % (\n",
    "                lr, reg, train_accuracy, val_accuracy))\n",
    "    \n",
    "print ('best val accuracy achieved during cross-val: %f' % best_val)"
   ]
  },
  {
   "cell_type": "code",
   "execution_count": null,
   "metadata": {
    "collapsed": false,
    "scrolled": false
   },
   "outputs": [],
   "source": [
    "# Evaluate your trained SVM on the test set\n",
    "y_test_pred = best_svm.predict(X_test_feats)\n",
    "test_accuracy = np.mean(y_test == y_test_pred)\n",
    "print (test_accuracy)"
   ]
  },
  {
   "cell_type": "code",
   "execution_count": null,
   "metadata": {
    "collapsed": false,
    "scrolled": false
   },
   "outputs": [],
   "source": [
    "# An important way to gain intuition about how an algorithm works is to\n",
    "# visualize the mistakes that it makes. In this visualization, we show examples\n",
    "# of images that are misclassified by our current system. The first column\n",
    "# shows images that our system labeled as \"plane\" but whose true label is\n",
    "# something other than \"plane\".\n",
    "\n",
    "examples_per_class = 8\n",
    "classes = ['plane', 'car', 'bird', 'cat', 'deer', 'dog', 'frog', 'horse', 'ship', 'truck']\n",
    "for cls, cls_name in enumerate(classes):\n",
    "    idxs = np.where((y_test != cls) & (y_test_pred == cls))[0]\n",
    "    idxs = np.random.choice(idxs, examples_per_class, replace=False)\n",
    "    for i, idx in enumerate(idxs):\n",
    "        plt.subplot(examples_per_class, len(classes), i * len(classes) + cls + 1)\n",
    "        plt.imshow(X_test[idx].astype('uint8'))\n",
    "        plt.axis('off')\n",
    "        if i == 0:\n",
    "            plt.title(cls_name)\n",
    "plt.show()"
   ]
  },
  {
   "cell_type": "markdown",
   "metadata": {},
   "source": [
    "### Inline question 1:\n",
    "Describe the misclassification results that you see. Do they make sense?"
   ]
  },
  {
   "cell_type": "markdown",
   "metadata": {},
   "source": [
    "## Neural Network on image features\n",
    "Earlier in this assigment we saw that training a two-layer neural network on raw pixels achieved better classification performance than linear classifiers on raw pixels. In this notebook we have seen that linear classifiers on image features outperform linear classifiers on raw pixels. \n",
    "\n",
    "For completeness, we should also try training a neural network on image features. This approach should outperform all previous approaches: you should easily be able to achieve over 55% classification accuracy on the test set; our best model achieves about 60% classification accuracy."
   ]
  },
  {
   "cell_type": "code",
   "execution_count": 13,
   "metadata": {
    "collapsed": false,
    "scrolled": false
   },
   "outputs": [],
   "source": [
    "# print(X_train_feats.shape)\n",
    "\n",
    "from cs231n.vis_utils import visualize_grid\n",
    "\n",
    "\n",
    "def show_chart(stats):\n",
    "    plt.subplot(2, 1, 1)\n",
    "    plt.plot(stats['loss_history'])\n",
    "    plt.title('Loss history')\n",
    "    plt.xlabel('Iteration')\n",
    "    plt.ylabel('Loss')\n",
    "\n",
    "    plt.subplot(2, 1, 2)\n",
    "    plt.plot(stats['train_acc_history'], label='train')\n",
    "    plt.plot(stats['val_acc_history'], label='val')\n",
    "    plt.title('Classification accuracy history')\n",
    "    plt.xlabel('Epoch')\n",
    "    plt.ylabel('Clasification accuracy')\n",
    "    plt.legend(loc='lower right')\n",
    "    plt.ylim(0, 1)\n",
    "    plt.show()\n",
    "\n"
   ]
  },
  {
   "cell_type": "code",
   "execution_count": 15,
   "metadata": {
    "collapsed": false,
    "scrolled": false
   },
   "outputs": [
    {
     "name": "stdout",
     "output_type": "stream",
     "text": [
      "(28000, 155) (2000, 155)\n",
      "iteration 0 / 6000: loss 2.302587\n",
      "iteration 100 / 6000: loss 2.302867\n",
      "iteration 200 / 6000: loss 2.302391\n",
      "iteration 300 / 6000: loss 2.286008\n",
      "iteration 400 / 6000: loss 2.118040\n",
      "iteration 500 / 6000: loss 1.932127\n",
      "iteration 600 / 6000: loss 1.707647\n",
      "iteration 700 / 6000: loss 1.648716\n",
      "iteration 800 / 6000: loss 1.563443\n",
      "iteration 900 / 6000: loss 1.517158\n",
      "iteration 1000 / 6000: loss 1.463409\n",
      "iteration 1100 / 6000: loss 1.432620\n",
      "iteration 1200 / 6000: loss 1.529464\n",
      "iteration 1300 / 6000: loss 1.442836\n",
      "iteration 1400 / 6000: loss 1.512442\n",
      "iteration 1500 / 6000: loss 1.380534\n",
      "iteration 1600 / 6000: loss 1.422682\n",
      "iteration 1700 / 6000: loss 1.410024\n",
      "iteration 1800 / 6000: loss 1.400149\n",
      "iteration 1900 / 6000: loss 1.413636\n",
      "iteration 2000 / 6000: loss 1.315206\n",
      "iteration 2100 / 6000: loss 1.469026\n",
      "iteration 2200 / 6000: loss 1.312366\n",
      "iteration 2300 / 6000: loss 1.508222\n",
      "iteration 2400 / 6000: loss 1.291244\n",
      "iteration 2500 / 6000: loss 1.433548\n",
      "iteration 2600 / 6000: loss 1.317853\n",
      "iteration 2700 / 6000: loss 1.409027\n",
      "iteration 2800 / 6000: loss 1.228142\n",
      "iteration 2900 / 6000: loss 1.360256\n",
      "iteration 3000 / 6000: loss 1.279031\n",
      "iteration 3100 / 6000: loss 1.348433\n",
      "iteration 3200 / 6000: loss 1.360268\n",
      "iteration 3300 / 6000: loss 1.305248\n",
      "iteration 3400 / 6000: loss 1.302819\n",
      "iteration 3500 / 6000: loss 1.387699\n",
      "iteration 3600 / 6000: loss 1.328294\n",
      "iteration 3700 / 6000: loss 1.374665\n",
      "iteration 3800 / 6000: loss 1.437069\n",
      "iteration 3900 / 6000: loss 1.250898\n",
      "iteration 4000 / 6000: loss 1.338812\n",
      "iteration 4100 / 6000: loss 1.358854\n",
      "iteration 4200 / 6000: loss 1.424106\n",
      "iteration 4300 / 6000: loss 1.283217\n",
      "iteration 4400 / 6000: loss 1.363805\n",
      "iteration 4500 / 6000: loss 1.469851\n",
      "iteration 4600 / 6000: loss 1.398721\n",
      "iteration 4700 / 6000: loss 1.261262\n",
      "iteration 4800 / 6000: loss 1.236409\n",
      "iteration 4900 / 6000: loss 1.342093\n",
      "iteration 5000 / 6000: loss 1.267230\n",
      "iteration 5100 / 6000: loss 1.397705\n",
      "iteration 5200 / 6000: loss 1.339032\n",
      "iteration 5300 / 6000: loss 1.314942\n",
      "iteration 5400 / 6000: loss 1.285542\n",
      "iteration 5500 / 6000: loss 1.175266\n",
      "iteration 5600 / 6000: loss 1.230767\n",
      "iteration 5700 / 6000: loss 1.367245\n",
      "iteration 5800 / 6000: loss 1.121055\n",
      "iteration 5900 / 6000: loss 1.222784\n"
     ]
    },
    {
     "data": {
      "image/png": "[encoded data removed]",
      "text/plain": [
       "<matplotlib.figure.Figure at 0x7492870>"
      ]
     },
     "metadata": {},
     "output_type": "display_data"
    },
    {
     "name": "stdout",
     "output_type": "stream",
     "text": [
      "Validation accuracy:  0.5725\n"
     ]
    }
   ],
   "source": [
    "from cs231n.classifiers.neural_net import TwoLayerNet\n",
    "\n",
    "input_dim = X_train_feats.shape[1]\n",
    "hidden_dim = 500\n",
    "num_classes = 10\n",
    "\n",
    "net = TwoLayerNet(input_dim, hidden_dim, num_classes)\n",
    "best_net = None\n",
    "print(X_train_feats.shape, X_val_feats.shape)\n",
    "\n",
    "stats = net.train(X_train_feats, y_train, X_val_feats, y_val,\n",
    "            num_iters=6000, batch_size=200,\n",
    "            learning_rate=0.05, learning_rate_decay=0.99,\n",
    "            reg=.005, verbose=True)\n",
    "\n",
    "\n",
    "show_chart(stats)\n",
    "\n",
    "# Predict on the validation set\n",
    "val_acc = (net.predict(X_val_feats) == y_val).mean()\n",
    "print ('Validation accuracy: ', val_acc)\n",
    "################################################################################\n",
    "# TODO: Train a two-layer neural network on image features. You may want to    #\n",
    "# cross-validate various parameters as in previous sections. Store your best   #\n",
    "# model in the best_net variable.                                              #\n",
    "################################################################################\n",
    "pass\n",
    "################################################################################\n",
    "#                              END OF YOUR CODE                                #\n",
    "################################################################################"
   ]
  },
  {
   "cell_type": "code",
   "execution_count": null,
   "metadata": {
    "collapsed": true
   },
   "outputs": [],
   "source": [
    "\n",
    "def dump_pickle(obj, filename):\n",
    "    import pickle\n",
    "    with open(filename + \".pickle\", \"wb\") as output_file:\n",
    "       pickle.dump(obj, output_file)\n",
    "    \n",
    "dump_pickle(X_train_feats, 'X_train_feats')\n",
    "dump_pickle(mean_feat, 'mean_feat')\n",
    "dump_pickle(std_feat, 'std_feat')\n",
    "\n",
    "dump_pickle(X_val_feats, 'X_val_feats')"
   ]
  },
  {
   "cell_type": "code",
   "execution_count": null,
   "metadata": {
    "collapsed": false
   },
   "outputs": [
    {
     "name": "stdout",
     "output_type": "stream",
     "text": [
      "cs231n/datasets/test_batch\n",
      "Done extracting features for 1000 / 10000 images\n",
      "Done extracting features for 2000 / 10000 images\n",
      "Done extracting features for 3000 / 10000 images\n",
      "Done extracting features for 4000 / 10000 images\n",
      "Done extracting features for 5000 / 10000 images\n",
      "Done extracting features for 6000 / 10000 images\n",
      "Done extracting features for 7000 / 10000 images\n",
      "Done extracting features for 8000 / 10000 images\n",
      "Done extracting features for 9000 / 10000 images\n"
     ]
    }
   ],
   "source": [
    "X_test, y_test = load_CIFAR10_test()\n",
    "\n",
    "\n",
    "X_test_feats = preprocess_data(X_test, mean_feat, std_feat)\n",
    "X_test_feats.shape"
   ]
  },
  {
   "cell_type": "code",
   "execution_count": null,
   "metadata": {
    "collapsed": false,
    "scrolled": false
   },
   "outputs": [],
   "source": [
    "# Run your neural net classifier on the test set. You should be able to\n",
    "# get more than 55% accuracy.\n",
    "\n",
    "test_acc = (net.predict(X_test_feats) == y_test).mean()\n",
    "print (test_acc)"
   ]
  },
  {
   "cell_type": "markdown",
   "metadata": {},
   "source": [
    "# Bonus: Design your own features!\n",
    "\n",
    "You have seen that simple image features can improve classification performance. So far we have tried HOG and color histograms, but other types of features may be able to achieve even better classification performance.\n",
    "\n",
    "For bonus points, design and implement a new type of feature and use it for image classification on CIFAR-10. Explain how your feature works and why you expect it to be useful for image classification. Implement it in this notebook, cross-validate any hyperparameters, and compare its performance to the HOG + Color histogram baseline."
   ]
  },
  {
   "cell_type": "markdown",
   "metadata": {},
   "source": [
    "# Bonus: Do something extra!\n",
    "Use the material and code we have presented in this assignment to do something interesting. Was there another question we should have asked? Did any cool ideas pop into your head as you were working on the assignment? This is your chance to show off!"
   ]
  }
 ],
 "metadata": {
  "kernelspec": {
   "display_name": "Python 3",
   "language": "python",
   "name": "python3"
  },
  "language_info": {
   "codemirror_mode": {
    "name": "ipython",
    "version": 3
   },
   "file_extension": ".py",
   "mimetype": "text/x-python",
   "name": "python",
   "nbconvert_exporter": "python",
   "pygments_lexer": "ipython3",
   "version": "3.4.3"
  }
 },
 "nbformat": 4,
 "nbformat_minor": 0
}
