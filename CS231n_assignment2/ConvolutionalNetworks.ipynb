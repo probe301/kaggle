{
 "cells": [
  {
   "cell_type": "markdown",
   "metadata": {
    "cell_style": "center"
   },
   "source": [
    "# Convolutional Networks\n",
    "So far we have worked with deep fully-connected networks, using them to explore different optimization strategies and network architectures. Fully-connected networks are a good testbed for experimentation because they are very computationally efficient, but in practice all state-of-the-art results use convolutional networks instead.\n",
    "\n",
    "First you will implement several layer types that are used in convolutional networks. You will then use these layers to train a convolutional network on the CIFAR-10 dataset."
   ]
  },
  {
   "cell_type": "code",
   "execution_count": 1,
   "metadata": {
    "collapsed": false
   },
   "outputs": [
    {
     "data": {
      "application/javascript": [
       "Jupyter.keyboard_manager.command_shortcuts.add_shortcut('f5', {\n",
       "    help : 'run cell',\n",
       "    handler : function (event) {\n",
       "        IPython.notebook.execute_cell();\n",
       "        return false;\n",
       "    }}                                               \n",
       ");\n",
       "\n",
       "\n",
       "Jupyter.keyboard_manager.command_shortcuts.add_shortcut('ctrl-.', {\n",
       "    help : 'run cell',\n",
       "    handler : function (event) {\n",
       "        IPython.notebook.execute_cell();\n",
       "        return false;\n",
       "    }}                                               \n",
       ");\n",
       "Jupyter.keyboard_manager.edit_shortcuts.add_shortcut('f5', {\n",
       "  \n",
       "    help : 'run cell',\n",
       "    handler : function (event) {\n",
       "        IPython.notebook.execute_cell();\n",
       "        return false;\n",
       "    }}                                               \n",
       ");\n",
       "Jupyter.keyboard_manager.edit_shortcuts.add_shortcut('ctrl-.', {\n",
       "    help : 'run cell',\n",
       "    handler : function (event) {\n",
       "        IPython.notebook.execute_cell();\n",
       "        return false;\n",
       "        \n",
       "    }}                                               \n",
       "                                                     \n",
       ");\n",
       "\n",
       "Jupyter.keyboard_manager.edit_shortcuts.add_shortcut('ctrl-enter', {\n",
       "    help : 'none',\n",
       "    // 防止与 Sublime hotkey Ctrl+Enter 冲突\n",
       "    handler : function (event) {\n",
       "        return false;\n",
       "    }}\n",
       ");\n",
       "\n",
       "\n",
       "var cell = Jupyter.notebook.get_selected_cell();\n",
       "var config = cell.config;\n",
       "var patch = {\n",
       "      CodeCell: {\n",
       "        cm_config:{indentUnit: 2}\n",
       "      }\n",
       "    }\n",
       "config.update(patch)\n",
       "\n",
       "\n"
      ],
      "text/plain": [
       "<IPython.core.display.Javascript object>"
      ]
     },
     "metadata": {},
     "output_type": "display_data"
    }
   ],
   "source": [
    "%%javascript\n",
    "Jupyter.keyboard_manager.command_shortcuts.add_shortcut('f5', {\n",
    "    help : 'run cell',\n",
    "    handler : function (event) {\n",
    "        IPython.notebook.execute_cell();\n",
    "        return false;\n",
    "    }}                                               \n",
    ");\n",
    "\n",
    "\n",
    "Jupyter.keyboard_manager.command_shortcuts.add_shortcut('ctrl-.', {\n",
    "    help : 'run cell',\n",
    "    handler : function (event) {\n",
    "        IPython.notebook.execute_cell();\n",
    "        return false;\n",
    "    }}                                               \n",
    ");\n",
    "Jupyter.keyboard_manager.edit_shortcuts.add_shortcut('f5', {\n",
    "  \n",
    "    help : 'run cell',\n",
    "    handler : function (event) {\n",
    "        IPython.notebook.execute_cell();\n",
    "        return false;\n",
    "    }}                                               \n",
    ");\n",
    "Jupyter.keyboard_manager.edit_shortcuts.add_shortcut('ctrl-.', {\n",
    "    help : 'run cell',\n",
    "    handler : function (event) {\n",
    "        IPython.notebook.execute_cell();\n",
    "        return false;\n",
    "        \n",
    "    }}                                               \n",
    "                                                     \n",
    ");\n",
    "\n",
    "Jupyter.keyboard_manager.edit_shortcuts.add_shortcut('ctrl-enter', {\n",
    "    help : 'none',\n",
    "    // 防止与 Sublime hotkey Ctrl+Enter 冲突\n",
    "    handler : function (event) {\n",
    "        return false;\n",
    "    }}\n",
    ");\n",
    "\n",
    "\n",
    "var cell = Jupyter.notebook.get_selected_cell();\n",
    "var config = cell.config;\n",
    "var patch = {\n",
    "      CodeCell: {\n",
    "        cm_config:{indentUnit: 2}\n",
    "      }\n",
    "    }\n",
    "config.update(patch)\n",
    "\n",
    "\n",
    "\n"
   ]
  },
  {
   "cell_type": "code",
   "execution_count": 3,
   "metadata": {
    "cell_style": "center",
    "collapsed": false
   },
   "outputs": [
    {
     "name": "stdout",
     "output_type": "stream",
     "text": [
      "The autoreload extension is already loaded. To reload it, use:\n",
      "  %reload_ext autoreload\n"
     ]
    }
   ],
   "source": [
    "# As usual, a bit of setup\n",
    "\n",
    "import numpy as np\n",
    "import matplotlib.pyplot as plt\n",
    "import seaborn as sns\n",
    "from cs231n.classifiers.cnn import *\n",
    "from cs231n.data_utils import get_CIFAR10_data\n",
    "from cs231n.gradient_check import eval_numerical_gradient_array, eval_numerical_gradient\n",
    "from cs231n.layers import *\n",
    "from cs231n.fast_layers import *\n",
    "from cs231n.solver import Solver\n",
    "\n",
    "%matplotlib inline\n",
    "plt.rcParams['figure.figsize'] = (10.0, 8.0) # set default size of plots\n",
    "plt.rcParams['image.interpolation'] = 'nearest'\n",
    "plt.rcParams['image.cmap'] = 'gray'\n",
    "\n",
    "# for auto-reloading external modules\n",
    "# see http://stackoverflow.com/questions/1907993/autoreload-of-modules-in-ipython\n",
    "%load_ext autoreload\n",
    "%autoreload 2\n",
    "\n",
    "def rel_error(x, y):\n",
    "  \"\"\" returns relative error \"\"\"\n",
    "  return np.max(np.abs(x - y) / (np.maximum(1e-8, np.abs(x) + np.abs(y))))"
   ]
  },
  {
   "cell_type": "markdown",
   "metadata": {
    "cell_style": "center"
   },
   "source": [
    "# Convolution: Naive forward pass\n",
    "The core of a convolutional network is the convolution operation. In the file `cs231n/layers.py`, implement the forward pass for the convolution layer in the function `conv_forward_naive`. \n",
    "\n",
    "You don't have to worry too much about efficiency at this point; just write the code in whatever way you find most clear.\n",
    "\n",
    "You can test your implementation by running the following:"
   ]
  },
  {
   "cell_type": "code",
   "execution_count": null,
   "metadata": {
    "collapsed": false
   },
   "outputs": [],
   "source": [
    "# a = np.random.randn(4, 5)\n",
    "print(a)\n",
    "\n",
    "print(np.amax(a))\n",
    "print(np.amax(a, axis=0))\n",
    "print(np.amax(a, axis=1))\n",
    "print(np.amax(a, axis=(0, 1)))\n",
    "\n",
    "b = np.zeros_like(a)\n",
    "print(np.argmax(a))\n",
    "print(np.argmax(a, axis=0))\n",
    "print(np.argmax(a, axis=1))\n",
    "# print(np.argmax(a, axis=0, out=b))\n"
   ]
  },
  {
   "cell_type": "code",
   "execution_count": null,
   "metadata": {
    "collapsed": false
   },
   "outputs": [],
   "source": [
    "a = np.random.randn(4, 5)\n",
    "# print(a)\n",
    "\n",
    "# np.pad?\n",
    "b = np.pad(a, ((1, ), (0, )),  'constant', constant_values=0)\n",
    "print(b)\n",
    "\n",
    "\n",
    "print(b.reshape(30))"
   ]
  },
  {
   "cell_type": "code",
   "execution_count": null,
   "metadata": {
    "collapsed": false,
    "scrolled": true
   },
   "outputs": [],
   "source": [
    "x_shape = (1, 4, 4)\n",
    "x = np.linspace(0, 1500, num=np.prod(x_shape)).reshape(x_shape)\n",
    "Xpad = np.pad(x, ((0,), (pad,), (pad,)), 'constant', constant_values=0)\n",
    "print(Xpad)\n",
    "def x_to_col(x):\n",
    "  # padding first\n",
    "  # x means only one data record\n",
    "  # x.shape = C, H, W\n",
    "  cols = Hout * Wout\n",
    "  ret = np.zeros((Field_body_size, cols))  # ret.shape = rows, cols\n",
    "  # h, w means Field left up corner index\n",
    "  # print('0, W-WW+1, stride', 0, W-WW+1, stride)\n",
    "  cnt = 0\n",
    "  for h in range(0, H+pad*2-HH+1, stride):\n",
    "    for w in range(0, W+pad*2-WW+1, stride):\n",
    "      volumn = x[:, h:h+HH, w:w+WW]\n",
    "      print(volumn)\n",
    "      ret[:, cnt] = volumn.reshape(Field_body_size)\n",
    "      cnt += 1\n",
    "  return ret\n",
    "\n",
    "H = 4\n",
    "W = 4\n",
    "HH = 4\n",
    "WW = 4\n",
    "C = 1\n",
    "Field_body_size = C * HH * WW\n",
    "Hout = 2\n",
    "Wout =2\n",
    "stride = 2\n",
    "pad = 1\n",
    "print()\n",
    "print(x_to_col(Xpad))"
   ]
  },
  {
   "cell_type": "code",
   "execution_count": null,
   "metadata": {
    "collapsed": false
   },
   "outputs": [],
   "source": [
    "x_shape = (2, 3, 4, 4)\n",
    "w_shape = (3, 3, 4, 4)\n",
    "x = np.linspace(-0.1, 0.5, num=np.prod(x_shape)).reshape(x_shape)\n",
    "w = np.linspace(-0.2, 0.3, num=np.prod(w_shape)).reshape(w_shape)\n",
    "b = np.linspace(-0.1, 0.2, num=3)\n",
    "\n",
    "conv_param = {'stride': 2, 'pad': 1}\n",
    "out, _ = conv_forward_naive(x, w, b, conv_param)\n",
    "correct_out = np.array([[[[[-0.08759809, -0.10987781],\n",
    "                           [-0.18387192, -0.2109216 ]],\n",
    "                          [[ 0.21027089,  0.21661097],\n",
    "                           [ 0.22847626,  0.23004637]],\n",
    "                          [[ 0.50813986,  0.54309974],\n",
    "                           [ 0.64082444,  0.67101435]]],\n",
    "                         [[[-0.98053589, -1.03143541],\n",
    "                           [-1.19128892, -1.24695841]],\n",
    "                          [[ 0.69108355,  0.66880383],\n",
    "                           [ 0.59480972,  0.56776003]],\n",
    "                          [[ 2.36270298,  2.36904306],\n",
    "                           [ 2.38090835,  2.38247847]]]]])\n",
    "\n",
    "# Compare your output to ours; difference should be around 1e-8\n",
    "print ('Testing conv_forward_naive')\n",
    "print ('difference: ', rel_error(out, correct_out))"
   ]
  },
  {
   "cell_type": "markdown",
   "metadata": {},
   "source": [
    "# Aside: Image processing via convolutions\n",
    "\n",
    "As fun way to both check your implementation and gain a better understanding of the type of operation that convolutional layers can perform, we will set up an input containing two images and manually set up filters that perform common image processing operations (grayscale conversion and edge detection). The convolution forward pass will apply these operations to each of the input images. We can then visualize the results as a sanity check."
   ]
  },
  {
   "cell_type": "code",
   "execution_count": null,
   "metadata": {
    "collapsed": false
   },
   "outputs": [],
   "source": [
    "from scipy.misc import imread, imresize\n",
    "\n",
    "kitten, puppy = imread('kitten.jpg'), imread('puppy.jpg')\n",
    "# kitten is wide, and puppy is already square\n",
    "d = kitten.shape[1] - kitten.shape[0]\n",
    "kitten_cropped = kitten[:, int(d/2):int(-d/2), :]\n",
    "\n",
    "img_size = 200   # Make this smaller if it runs too slow\n",
    "x = np.zeros((2, 3, img_size, img_size))\n",
    "x[0, :, :, :] = imresize(puppy, (img_size, img_size)).transpose((2, 0, 1))\n",
    "x[1, :, :, :] = imresize(kitten_cropped, (img_size, img_size)).transpose((2, 0, 1))\n",
    "\n",
    "# Set up a convolutional weights holding 2 filters, each 3x3\n",
    "w = np.zeros((2, 3, 3, 3))\n",
    "\n",
    "# The first filter converts the image to grayscale.\n",
    "# Set up the red, green, and blue channels of the filter.\n",
    "w[0, 0, :, :] = [[0, 0, 0], [0, 0.3, 0], [0, 0, 0]]\n",
    "w[0, 1, :, :] = [[0, 0, 0], [0, 0.6, 0], [0, 0, 0]]\n",
    "w[0, 2, :, :] = [[0, 0, 0], [0, 0.1, 0], [0, 0, 0]]\n",
    "\n",
    "# Second filter detects horizontal edges in the blue channel.\n",
    "w[1, 2, :, :] = [[1, 2, 1], [0, 0, 0], [-1, -2, -1]]\n",
    "\n",
    "# Vector of biases. We don't need any bias for the grayscale\n",
    "# filter, but for the edge detection filter we want to add 128\n",
    "# to each output so that nothing is negative.\n",
    "b = np.array([0, 128])\n",
    "\n",
    "# Compute the result of convolving each input in x with each filter in w,\n",
    "# offsetting by b, and storing the results in out.\n",
    "out, _ = conv_forward_naive(x, w, b, {'stride': 1, 'pad': 1})\n",
    "\n",
    "def imshow_noax(img, normalize=True):\n",
    "    \"\"\" Tiny helper to show images as uint8 and remove axis labels \"\"\"\n",
    "    if normalize:\n",
    "        img_max, img_min = np.max(img), np.min(img)\n",
    "        img = 255.0 * (img - img_min) / (img_max - img_min)\n",
    "    plt.imshow(img.astype('uint8'))\n",
    "    plt.gca().axis('off')\n",
    "\n",
    "# Show the original images and the results of the conv operation\n",
    "plt.subplot(2, 3, 1)\n",
    "imshow_noax(puppy, normalize=False)\n",
    "plt.title('Original image')\n",
    "plt.subplot(2, 3, 2)\n",
    "imshow_noax(out[0, 0])\n",
    "plt.title('Grayscale')\n",
    "plt.subplot(2, 3, 3)\n",
    "imshow_noax(out[0, 1])\n",
    "plt.title('Edges')\n",
    "plt.subplot(2, 3, 4)\n",
    "imshow_noax(kitten_cropped, normalize=False)\n",
    "plt.subplot(2, 3, 5)\n",
    "imshow_noax(out[1, 0])\n",
    "plt.subplot(2, 3, 6)\n",
    "imshow_noax(out[1, 1])\n",
    "plt.show()"
   ]
  },
  {
   "cell_type": "markdown",
   "metadata": {},
   "source": [
    "# Convolution: Naive backward pass\n",
    "Implement the backward pass for the convolution operation in the function `conv_backward_naive` in the file `cs231n/layers.py`. Again, you don't need to worry too much about computational efficiency.\n",
    "\n",
    "When you are done, run the following to check your backward pass with a numeric gradient check."
   ]
  },
  {
   "cell_type": "code",
   "execution_count": null,
   "metadata": {
    "collapsed": false
   },
   "outputs": [],
   "source": [
    "x = np.random.randn(4, 3, 5, 5)\n",
    "w = np.random.randn(2, 3, 3, 3)\n",
    "b = np.random.randn(2,)\n",
    "dout = np.random.randn(4, 2, 5, 5)\n",
    "conv_param = {'stride': 1, 'pad': 1}\n",
    "\n",
    "dx_num = eval_numerical_gradient_array(lambda x: conv_forward_naive(x, w, b, conv_param)[0], x, dout)\n",
    "dw_num = eval_numerical_gradient_array(lambda w: conv_forward_naive(x, w, b, conv_param)[0], w, dout)\n",
    "db_num = eval_numerical_gradient_array(lambda b: conv_forward_naive(x, w, b, conv_param)[0], b, dout)\n",
    "\n",
    "out, cache = conv_forward_naive(x, w, b, conv_param)\n",
    "dx, dw, db = conv_backward_naive(dout, cache)\n",
    "\n",
    "# Your errors should be around 1e-9'\n",
    "print ('Testing conv_backward_naive function')\n",
    "print ('dx error: ', rel_error(dx, dx_num))\n",
    "print ('dw error: ', rel_error(dw, dw_num))\n",
    "print ('db error: ', rel_error(db, db_num))"
   ]
  },
  {
   "cell_type": "markdown",
   "metadata": {},
   "source": [
    "# Max pooling: Naive forward\n",
    "Implement the forward pass for the max-pooling operation in the function `max_pool_forward_naive` in the file `cs231n/layers.py`. Again, don't worry too much about computational efficiency.\n",
    "\n",
    "Check your implementation by running the following:"
   ]
  },
  {
   "cell_type": "code",
   "execution_count": null,
   "metadata": {
    "collapsed": false
   },
   "outputs": [],
   "source": [
    "x_shape = (2, 3, 4, 4)\n",
    "x = np.linspace(-0.3, 0.4, num=np.prod(x_shape)).reshape(x_shape)\n",
    "pool_param = {'pool_width': 2, 'pool_height': 2, 'stride': 2}\n",
    "\n",
    "out, _ = max_pool_forward_naive(x, pool_param)\n",
    "\n",
    "correct_out = np.array([[[[-0.26315789, -0.24842105],\n",
    "                          [-0.20421053, -0.18947368]],\n",
    "                         [[-0.14526316, -0.13052632],\n",
    "                          [-0.08631579, -0.07157895]],\n",
    "                         [[-0.02736842, -0.01263158],\n",
    "                          [ 0.03157895,  0.04631579]]],\n",
    "                        [[[ 0.09052632,  0.10526316],\n",
    "                          [ 0.14947368,  0.16421053]],\n",
    "                         [[ 0.20842105,  0.22315789],\n",
    "                          [ 0.26736842,  0.28210526]],\n",
    "                         [[ 0.32631579,  0.34105263],\n",
    "                          [ 0.38526316,  0.4       ]]]])\n",
    "\n",
    "# Compare your output with ours. Difference should be around 1e-8.\n",
    "print ('Testing max_pool_forward_naive function:')\n",
    "print ('difference: ', rel_error(out, correct_out))"
   ]
  },
  {
   "cell_type": "markdown",
   "metadata": {},
   "source": [
    "# Max pooling: Naive backward\n",
    "Implement the backward pass for the max-pooling operation in the function `max_pool_backward_naive` in the file `cs231n/layers.py`. You don't need to worry about computational efficiency.\n",
    "\n",
    "Check your implementation with numeric gradient checking by running the following:"
   ]
  },
  {
   "cell_type": "code",
   "execution_count": null,
   "metadata": {
    "collapsed": false
   },
   "outputs": [],
   "source": [
    "x = np.random.randn(3, 2, 8, 8)\n",
    "dout = np.random.randn(3, 2, 4, 4)\n",
    "pool_param = {'pool_height': 2, 'pool_width': 2, 'stride': 2}\n",
    "\n",
    "dx_num = eval_numerical_gradient_array(lambda x: max_pool_forward_naive(x, pool_param)[0], x, dout)\n",
    "\n",
    "out, cache = max_pool_forward_naive(x, pool_param)\n",
    "dx = max_pool_backward_naive(dout, cache)\n",
    "\n",
    "# Your error should be around 1e-12\n",
    "print ('Testing max_pool_backward_naive function:')\n",
    "print ('dx error: ', rel_error(dx, dx_num))"
   ]
  },
  {
   "cell_type": "markdown",
   "metadata": {},
   "source": [
    "# Fast layers\n",
    "Making convolution and pooling layers fast can be challenging. To spare you the pain, we've provided fast implementations of the forward and backward passes for convolution and pooling layers in the file `cs231n/fast_layers.py`.\n",
    "\n",
    "The fast convolution implementation depends on a Cython extension; to compile it you need to run the following from the `cs231n` directory:\n",
    "\n",
    "```bash\n",
    "python setup.py build_ext --inplace\n",
    "```\n",
    "\n",
    "The API for the fast versions of the convolution and pooling layers is exactly the same as the naive versions that you implemented above: the forward pass receives data, weights, and parameters and produces outputs and a cache object; the backward pass recieves upstream derivatives and the cache object and produces gradients with respect to the data and weights.\n",
    "\n",
    "**NOTE:** The fast implementation for pooling will only perform optimally if the pooling regions are non-overlapping and tile the input. If these conditions are not met then the fast pooling implementation will not be much faster than the naive implementation.\n",
    "\n",
    "You can compare the performance of the naive and fast versions of these layers by running the following:"
   ]
  },
  {
   "cell_type": "code",
   "execution_count": null,
   "metadata": {
    "collapsed": false
   },
   "outputs": [],
   "source": [
    "from cs231n.fast_layers import conv_forward_fast, conv_backward_fast\n",
    "from time import time\n",
    "\n",
    "x = np.random.randn(100, 3, 31, 31)\n",
    "w = np.random.randn(25, 3, 3, 3)\n",
    "b = np.random.randn(25,)\n",
    "dout = np.random.randn(100, 25, 16, 16)\n",
    "conv_param = {'stride': 2, 'pad': 1}\n",
    "\n",
    "t0 = time()\n",
    "out_naive, cache_naive = conv_forward_naive(x, w, b, conv_param)\n",
    "t1 = time()\n",
    "out_fast, cache_fast = conv_forward_fast(x, w, b, conv_param)\n",
    "t2 = time()\n",
    "\n",
    "print ('Testing conv_forward_fast:')\n",
    "print ('Naive: %fs' % (t1 - t0))\n",
    "print ('Fast: %fs' % (t2 - t1))\n",
    "print ('Speedup: %fx' % ((t1 - t0) / (t2 - t1)))\n",
    "print ('Difference: ', rel_error(out_naive, out_fast))\n",
    "\n",
    "t0 = time()\n",
    "dx_naive, dw_naive, db_naive = conv_backward_naive(dout, cache_naive)\n",
    "t1 = time()\n",
    "dx_fast, dw_fast, db_fast = conv_backward_fast(dout, cache_fast)\n",
    "t2 = time()\n",
    "\n",
    "print ('\\nTesting conv_backward_fast:')\n",
    "print ('Naive: %fs' % (t1 - t0))\n",
    "print ('Fast: %fs' % (t2 - t1))\n",
    "print ('Speedup: %fx' % ((t1 - t0) / (t2 - t1)))\n",
    "print ('dx difference: ', rel_error(dx_naive, dx_fast))\n",
    "print ('dw difference: ', rel_error(dw_naive, dw_fast))\n",
    "print ('db difference: ', rel_error(db_naive, db_fast))"
   ]
  },
  {
   "cell_type": "code",
   "execution_count": null,
   "metadata": {
    "collapsed": false
   },
   "outputs": [],
   "source": [
    "from cs231n.fast_layers import max_pool_forward_fast, max_pool_backward_fast\n",
    "\n",
    "x = np.random.randn(100, 3, 32, 32)\n",
    "dout = np.random.randn(100, 3, 16, 16)\n",
    "pool_param = {'pool_height': 2, 'pool_width': 2, 'stride': 2}\n",
    "\n",
    "t0 = time()\n",
    "out_naive, cache_naive = max_pool_forward_naive(x, pool_param)\n",
    "t1 = time()\n",
    "out_fast, cache_fast = max_pool_forward_fast(x, pool_param)\n",
    "t2 = time()\n",
    "\n",
    "print ('Testing pool_forward_fast:')\n",
    "print ('Naive: %fs' % (t1 - t0))\n",
    "print ('fast: %fs' % (t2 - t1))\n",
    "print ('speedup: %fx' % ((t1 - t0) / (t2 - t1)))\n",
    "print ('difference: ', rel_error(out_naive, out_fast))\n",
    "\n",
    "t0 = time()\n",
    "dx_naive = max_pool_backward_naive(dout, cache_naive)\n",
    "t1 = time()\n",
    "dx_fast = max_pool_backward_fast(dout, cache_fast)\n",
    "t2 = time()\n",
    "\n",
    "print ('\\nTesting pool_backward_fast:')\n",
    "print ('Naive: %fs' % (t1 - t0))\n",
    "print ('speedup: %fx' % ((t1 - t0) / (t2 - t1)))\n",
    "print ('dx difference: ', rel_error(dx_naive, dx_fast))"
   ]
  },
  {
   "cell_type": "markdown",
   "metadata": {},
   "source": [
    "# Convolutional \"sandwich\" layers\n",
    "Previously we introduced the concept of \"sandwich\" layers that combine multiple operations into commonly used patterns. In the file `cs231n/layer_utils.py` you will find sandwich layers that implement a few commonly used patterns for convolutional networks."
   ]
  },
  {
   "cell_type": "code",
   "execution_count": null,
   "metadata": {
    "collapsed": false
   },
   "outputs": [],
   "source": [
    "from cs231n.layer_utils import conv_relu_pool_forward, conv_relu_pool_backward\n",
    "\n",
    "x = np.random.randn(2, 3, 16, 16)\n",
    "w = np.random.randn(3, 3, 3, 3)\n",
    "b = np.random.randn(3,)\n",
    "dout = np.random.randn(2, 3, 8, 8)\n",
    "conv_param = {'stride': 1, 'pad': 1}\n",
    "pool_param = {'pool_height': 2, 'pool_width': 2, 'stride': 2}\n",
    "\n",
    "out, cache = conv_relu_pool_forward(x, w, b, conv_param, pool_param)\n",
    "dx, dw, db = conv_relu_pool_backward(dout, cache)\n",
    "\n",
    "dx_num = eval_numerical_gradient_array(lambda x: conv_relu_pool_forward(x, w, b, conv_param, pool_param)[0], x, dout)\n",
    "dw_num = eval_numerical_gradient_array(lambda w: conv_relu_pool_forward(x, w, b, conv_param, pool_param)[0], w, dout)\n",
    "db_num = eval_numerical_gradient_array(lambda b: conv_relu_pool_forward(x, w, b, conv_param, pool_param)[0], b, dout)\n",
    "\n",
    "print ('Testing conv_relu_pool')\n",
    "print ('dx error: ', rel_error(dx_num, dx))\n",
    "print ('dw error: ', rel_error(dw_num, dw))\n",
    "print ('db error: ', rel_error(db_num, db))"
   ]
  },
  {
   "cell_type": "code",
   "execution_count": null,
   "metadata": {
    "collapsed": false
   },
   "outputs": [],
   "source": [
    "from cs231n.layer_utils import conv_relu_forward, conv_relu_backward\n",
    "\n",
    "x = np.random.randn(2, 3, 8, 8)\n",
    "w = np.random.randn(3, 3, 3, 3)\n",
    "b = np.random.randn(3,)\n",
    "dout = np.random.randn(2, 3, 8, 8)\n",
    "conv_param = {'stride': 1, 'pad': 1}\n",
    "\n",
    "out, cache = conv_relu_forward(x, w, b, conv_param)\n",
    "dx, dw, db = conv_relu_backward(dout, cache)\n",
    "\n",
    "dx_num = eval_numerical_gradient_array(lambda x: conv_relu_forward(x, w, b, conv_param)[0], x, dout)\n",
    "dw_num = eval_numerical_gradient_array(lambda w: conv_relu_forward(x, w, b, conv_param)[0], w, dout)\n",
    "db_num = eval_numerical_gradient_array(lambda b: conv_relu_forward(x, w, b, conv_param)[0], b, dout)\n",
    "\n",
    "print ('Testing conv_relu:')\n",
    "print ('dx error: ', rel_error(dx_num, dx))\n",
    "print ('dw error: ', rel_error(dw_num, dw))\n",
    "print ('db error: ', rel_error(db_num, db))"
   ]
  },
  {
   "cell_type": "markdown",
   "metadata": {},
   "source": [
    "# Three-layer ConvNet\n",
    "Now that you have implemented all the necessary layers, we can put them together into a simple convolutional network.\n",
    "\n",
    "Open the file `cs231n/cnn.py` and complete the implementation of the `ThreeLayerConvNet` class. Run the following cells to help you debug:"
   ]
  },
  {
   "cell_type": "markdown",
   "metadata": {},
   "source": [
    "## Sanity check loss\n",
    "After you build a new network, one of the first things you should do is sanity check the loss. When we use the softmax loss, we expect the loss for random weights (and no regularization) to be about `log(C)` for `C` classes. When we add regularization this should go up."
   ]
  },
  {
   "cell_type": "code",
   "execution_count": null,
   "metadata": {
    "collapsed": false
   },
   "outputs": [],
   "source": [
    "model = ThreeLayerConvNet()\n",
    "\n",
    "N = 50\n",
    "X = np.random.randn(N, 3, 32, 32)\n",
    "y = np.random.randint(10, size=N)\n",
    "\n",
    "loss, grads = model.loss(X, y)\n",
    "print ('Initial loss (no regularization): ', loss)\n",
    "\n",
    "model.reg = 0.5\n",
    "loss, grads = model.loss(X, y)\n",
    "print ('Initial loss (with regularization): ', loss)"
   ]
  },
  {
   "cell_type": "markdown",
   "metadata": {},
   "source": [
    "## Gradient check\n",
    "After the loss looks reasonable, use numeric gradient checking to make sure that your backward pass is correct. When you use numeric gradient checking you should use a small amount of artifical data and a small number of neurons at each layer."
   ]
  },
  {
   "cell_type": "code",
   "execution_count": null,
   "metadata": {
    "collapsed": false,
    "scrolled": false
   },
   "outputs": [],
   "source": [
    "\n",
    "num_inputs = 5\n",
    "input_dim = (3, 16, 16)\n",
    "reg = 0.0\n",
    "num_classes = 10\n",
    "X = np.random.randn(num_inputs, *input_dim)\n",
    "y = np.random.randint(num_classes, size=num_inputs)\n",
    "\n",
    "model = ThreeLayerConvNet(num_filters=3, filter_size=3,\n",
    "                          input_dim=input_dim, hidden_dim=7,\n",
    "                          weight_scale=0.5, # 如果weight_scale=1e-3, 梯度检查会比较差\n",
    "                          dtype=np.float64)\n",
    "loss, grads = model.loss(X, y)\n",
    "for param_name in sorted(grads):\n",
    "    f = lambda _: model.loss(X, y)[0]\n",
    "    param_grad_num = eval_numerical_gradient(f, model.params[param_name], verbose=False, h=1e-8)\n",
    "    e = rel_error(param_grad_num, grads[param_name])\n",
    "    print ('%s max relative error: %e' % (param_name, e))\n",
    "  \n",
    "  \n",
    "from cs231n.gradient_check import grad_check_sparse\n",
    "for param_name in sorted(grads):\n",
    "    f = lambda _: model.loss(X, y)[0]\n",
    "    print('\\nchecking...', param_name)\n",
    "    grad_check_sparse(f, model.params[param_name], grads[param_name], num_checks=10, h=1e-5)  "
   ]
  },
  {
   "cell_type": "markdown",
   "metadata": {},
   "source": [
    "## Overfit small data\n",
    "A nice trick is to train your model with just a few training samples. You should be able to overfit small datasets, which will result in very high training accuracy and comparatively low validation accuracy."
   ]
  },
  {
   "cell_type": "code",
   "execution_count": 6,
   "metadata": {
    "collapsed": false
   },
   "outputs": [
    {
     "name": "stdout",
     "output_type": "stream",
     "text": [
      "cs231n/datasets/data_batch_1\n",
      "cs231n/datasets/data_batch_2\n",
      "X_train (19000, 32, 32, 3)\n",
      "X_val (1000, 32, 32, 3)\n",
      "X_test (0, 32, 32, 3)\n",
      "X_test:  (0, 3, 32, 32)\n",
      "y_val:  (1000,)\n",
      "y_train:  (19000,)\n",
      "X_train:  (19000, 3, 32, 32)\n",
      "X_val:  (1000, 3, 32, 32)\n",
      "y_test:  (0,)\n"
     ]
    }
   ],
   "source": [
    "# Load the (preprocessed) CIFAR10 data.\n",
    "\n",
    "# data = get_CIFAR10_data(num_training=17000, num_validation=1000,\n",
    "#                         num_test=2000, astype='float')\n",
    "data = get_CIFAR10_data(num_training=19000, num_validation=1000,\n",
    "                        num_test=0, astype=np.float32)\n",
    "\n",
    "for k, v in data.items():\n",
    "  print ('%s: ' % k, v.shape)"
   ]
  },
  {
   "cell_type": "code",
   "execution_count": null,
   "metadata": {
    "collapsed": false
   },
   "outputs": [],
   "source": [
    "num_train = 100\n",
    "small_data = {\n",
    "  'X_train': data['X_train'][:num_train],\n",
    "  'y_train': data['y_train'][:num_train],\n",
    "  'X_val': data['X_val'],\n",
    "  'y_val': data['y_val'],\n",
    "}\n",
    "\n",
    "model = ThreeLayerConvNet(weight_scale=1e-2)\n",
    "\n",
    "solver = Solver(model, small_data,\n",
    "                num_epochs=10, batch_size=50,\n",
    "                update_rule='adam',\n",
    "                optim_config={\n",
    "                  'learning_rate': 1e-3,\n",
    "                },\n",
    "                verbose=True, print_every=1)\n",
    "solver.train()"
   ]
  },
  {
   "cell_type": "markdown",
   "metadata": {},
   "source": [
    "Plotting the loss, training accuracy, and validation accuracy should show clear overfitting:"
   ]
  },
  {
   "cell_type": "code",
   "execution_count": null,
   "metadata": {
    "collapsed": false
   },
   "outputs": [],
   "source": [
    "plt.subplot(2, 1, 1)\n",
    "plt.plot(solver.loss_history, 'o')\n",
    "plt.xlabel('iteration')\n",
    "plt.ylabel('loss')\n",
    "\n",
    "plt.subplot(2, 1, 2)\n",
    "plt.plot(solver.train_acc_history, '-o')\n",
    "plt.plot(solver.val_acc_history, '-o')\n",
    "plt.legend(['train', 'val'], loc='upper left')\n",
    "plt.xlabel('epoch')\n",
    "plt.ylabel('accuracy')\n",
    "plt.show()"
   ]
  },
  {
   "cell_type": "markdown",
   "metadata": {},
   "source": [
    "## Train the net\n",
    "By training the three-layer convolutional network for one epoch, you should achieve greater than 40% accuracy on the training set:"
   ]
  },
  {
   "cell_type": "code",
   "execution_count": null,
   "metadata": {
    "collapsed": false,
    "scrolled": false
   },
   "outputs": [],
   "source": [
    "model = ThreeLayerConvNet(num_filters=32, weight_scale=0.001, \n",
    "                          hidden_dim=500, reg=0.001)\n",
    "\n",
    "\n",
    "solver = Solver(model, data,\n",
    "                num_epochs=1, batch_size=50,\n",
    "                update_rule='adam',\n",
    "                optim_config={\n",
    "                  'learning_rate': 1e-3,\n",
    "                },\n",
    "                verbose=True, print_every=20)\n",
    "solver.train()"
   ]
  },
  {
   "cell_type": "markdown",
   "metadata": {},
   "source": [
    "## Visualize Filters\n",
    "You can visualize the first-layer convolutional filters from the trained network by running the following:"
   ]
  },
  {
   "cell_type": "code",
   "execution_count": null,
   "metadata": {
    "collapsed": false
   },
   "outputs": [],
   "source": [
    "from cs231n.vis_utils import visualize_grid\n",
    "\n",
    "grid = visualize_grid(model.params['W1'].transpose(0, 2, 3, 1))\n",
    "plt.imshow(grid.astype('uint8'))\n",
    "plt.axis('off')\n",
    "plt.gcf().set_size_inches(3, 3)\n",
    "plt.show()"
   ]
  },
  {
   "cell_type": "markdown",
   "metadata": {},
   "source": [
    "# Spatial Batch Normalization\n",
    "We already saw that batch normalization is a very useful technique for training deep fully-connected networks. Batch normalization can also be used for convolutional networks, but we need to tweak it a bit; the modification will be called \"spatial batch normalization.\"\n",
    "\n",
    "Normally batch-normalization accepts inputs of shape `(N, D)` and produces outputs of shape `(N, D)`, where we normalize across the minibatch dimension `N`. For data coming from convolutional layers, batch normalization needs to accept inputs of shape `(N, C, H, W)` and produce outputs of shape `(N, C, H, W)` where the `N` dimension gives the minibatch size and the `(H, W)` dimensions give the spatial size of the feature map.\n",
    "\n",
    "If the feature map was produced using convolutions, then we expect the statistics of each feature channel to be relatively consistent both between different images and different locations within the same image. Therefore spatial batch normalization computes a mean and variance for each of the `C` feature channels by computing statistics over both the minibatch dimension `N` and the spatial dimensions `H` and `W`."
   ]
  },
  {
   "cell_type": "markdown",
   "metadata": {},
   "source": [
    "## Spatial batch normalization: forward\n",
    "\n",
    "In the file `cs231n/layers.py`, implement the forward pass for spatial batch normalization in the function `spatial_batchnorm_forward`. Check your implementation by running the following:"
   ]
  },
  {
   "cell_type": "code",
   "execution_count": 21,
   "metadata": {
    "collapsed": false
   },
   "outputs": [
    {
     "name": "stdout",
     "output_type": "stream",
     "text": [
      "Before spatial batch normalization:\n",
      "  Shape:  (2, 3, 4, 5)\n",
      "  Means:  [ 9.848563    9.65170954  9.90837282]\n",
      "  Stds:  [ 4.43063887  4.56066941  3.65301501]\n",
      "After spatial batch normalization:\n",
      "  Shape:  (2, 3, 4, 5)\n",
      "  Means:  [ -1.10467191e-15   4.44089210e-17   2.73114864e-15]\n",
      "  Stds:  [ 0.99983762  0.99995614  0.99977031]\n",
      "After spatial batch normalization (nontrivial gamma, beta):\n",
      "  Shape:  (2, 3, 4, 5)\n",
      "  Means:  [ 6.  7.  8.]\n",
      "  Stds:  [ 2.99951287  3.99982458  4.99885154]\n"
     ]
    }
   ],
   "source": [
    "# Check the training-time forward pass by checking means and variances\n",
    "# of features both before and after spatial batch normalization\n",
    "\n",
    "N, C, H, W = 2, 3, 4, 5\n",
    "x = 4 * np.random.randn(N, C, H, W) + 10\n",
    "\n",
    "print ('Before spatial batch normalization:')\n",
    "print ('  Shape: ', x.shape)\n",
    "print ('  Means: ', x.mean(axis=(0, 2, 3)))\n",
    "print ('  Stds: ', x.std(axis=(0, 2, 3)))\n",
    "\n",
    "# Means should be close to zero and stds close to one\n",
    "gamma, beta = np.ones(C), np.zeros(C)\n",
    "bn_param = {'mode': 'train'}\n",
    "out, _ = spatial_batchnorm_forward(x, gamma, beta, bn_param)\n",
    "print ('After spatial batch normalization:')\n",
    "print ('  Shape: ', out.shape)\n",
    "print ('  Means: ', out.mean(axis=(0, 2, 3)))\n",
    "print ('  Stds: ', out.std(axis=(0, 2, 3)))\n",
    "\n",
    "# Means should be close to beta and stds close to gamma\n",
    "gamma, beta = np.asarray([3, 4, 5]), np.asarray([6, 7, 8])\n",
    "out, _ = spatial_batchnorm_forward(x, gamma, beta, bn_param)\n",
    "print ('After spatial batch normalization (nontrivial gamma, beta):')\n",
    "print ('  Shape: ', out.shape)\n",
    "print ('  Means: ', out.mean(axis=(0, 2, 3)))\n",
    "print ('  Stds: ', out.std(axis=(0, 2, 3)))"
   ]
  },
  {
   "cell_type": "code",
   "execution_count": 44,
   "metadata": {
    "collapsed": false
   },
   "outputs": [
    {
     "name": "stdout",
     "output_type": "stream",
     "text": [
      "After spatial batch normalization (test-time):\n",
      "  means:  [ 0.0681952   0.02342692  0.08526495  0.03453332]\n",
      "  stds:  [ 0.98066484  0.997203    1.02202407  1.03537204]\n"
     ]
    }
   ],
   "source": [
    "# Check the test-time forward pass by running the training-time\n",
    "# forward pass many times to warm up the running averages, and then\n",
    "# checking the means and variances of activations after a test-time\n",
    "# forward pass.\n",
    "\n",
    "N, C, H, W = 10, 4, 11, 12\n",
    "\n",
    "bn_param = {'mode': 'train'}\n",
    "gamma = np.ones(C)\n",
    "beta = np.zeros(C)\n",
    "for t in range(50):\n",
    "  x = 2.3 * np.random.randn(N, C, H, W) + 13\n",
    "  spatial_batchnorm_forward(x, gamma, beta, bn_param)\n",
    "bn_param['mode'] = 'test'\n",
    "x = 2.3 * np.random.randn(N, C, H, W) + 13\n",
    "a_norm, _ = spatial_batchnorm_forward(x, gamma, beta, bn_param)\n",
    "\n",
    "# Means should be close to zero and stds close to one, but will be\n",
    "# noisier than training-time forward passes.\n",
    "print ('After spatial batch normalization (test-time):')\n",
    "print ('  means: ', a_norm.mean(axis=(0, 2, 3)))\n",
    "print ('  stds: ', a_norm.std(axis=(0, 2, 3)))"
   ]
  },
  {
   "cell_type": "markdown",
   "metadata": {},
   "source": [
    "## Spatial batch normalization: backward\n",
    "In the file `cs231n/layers.py`, implement the backward pass for spatial batch normalization in the function `spatial_batchnorm_backward`. Run the following to check your implementation using a numeric gradient check:"
   ]
  },
  {
   "cell_type": "code",
   "execution_count": 5,
   "metadata": {
    "collapsed": false
   },
   "outputs": [
    {
     "name": "stdout",
     "output_type": "stream",
     "text": [
      "dx error:  2.27167709285e-08\n",
      "dgamma error:  2.93034461836e-10\n",
      "dbeta error:  1.13374231297e-11\n",
      "8.28862811719e-11\n",
      "[[[[  1.22590196e-09   6.73989994e-10   1.22605842e-10   5.21457954e-10\n",
      "      2.93084145e-12]\n",
      "   [  1.57662587e-09   4.58878734e-11   6.00337853e-10   4.88919223e-10\n",
      "      1.60966901e-09]\n",
      "   [  2.27167709e-08   1.30755356e-09   2.50681485e-10   1.40587838e-10\n",
      "      1.33529745e-10]\n",
      "   [  5.94785989e-10   4.28828282e-10   6.73101796e-10   5.88635065e-11\n",
      "      5.09641663e-10]]\n",
      "\n",
      "  [[  4.21573334e-10   5.32425161e-10   2.63776617e-10   2.09107813e-10\n",
      "      2.76569047e-11]\n",
      "   [  5.59602405e-11   6.19411626e-11   1.30033072e-11   3.27795805e-10\n",
      "      5.61557423e-10]\n",
      "   [  2.09755636e-10   4.55811571e-10   2.77734199e-10   1.40672029e-10\n",
      "      2.30023517e-10]\n",
      "   [  2.04018385e-12   3.46299684e-11   7.30547525e-10   5.47013594e-11\n",
      "      1.22148631e-10]]\n",
      "\n",
      "  [[  3.27037818e-10   8.81147515e-09   5.22391784e-10   8.43625689e-11\n",
      "      1.56909320e-10]\n",
      "   [  7.43870618e-11   7.97504677e-11   4.72137283e-11   6.45153706e-10\n",
      "      3.08614161e-10]\n",
      "   [  1.45188449e-10   1.03916170e-09   3.57204113e-10   1.76531298e-09\n",
      "      6.79830577e-10]\n",
      "   [  9.82875028e-11   3.09948242e-10   4.70736022e-09   3.01476111e-11\n",
      "      7.98640360e-09]]]\n",
      "\n",
      "\n",
      " [[[  1.08700339e-09   3.42383303e-10   1.11488619e-09   3.56377132e-10\n",
      "      1.86203514e-10]\n",
      "   [  3.28585219e-10   3.77740336e-10   3.52382548e-11   4.68273546e-10\n",
      "      1.10086782e-09]\n",
      "   [  3.76679692e-11   1.27955076e-09   4.97774743e-10   1.08214458e-10\n",
      "      4.16436565e-11]\n",
      "   [  1.63661955e-11   2.26714630e-10   1.92896505e-11   2.18000337e-10\n",
      "      1.71507910e-10]]\n",
      "\n",
      "  [[  5.07684503e-11   3.83923592e-12   1.68214449e-11   1.75206421e-11\n",
      "      2.48297748e-10]\n",
      "   [  2.31630264e-10   1.36156551e-11   5.27713848e-10   7.48971532e-11\n",
      "      8.22171805e-12]\n",
      "   [  9.42741804e-12   7.56132612e-11   2.44866603e-11   4.55213356e-11\n",
      "      2.67809852e-11]\n",
      "   [  5.07484047e-10   6.22242425e-11   5.93213307e-12   7.93789375e-12\n",
      "      6.28089860e-11]]\n",
      "\n",
      "  [[  2.83633190e-09   2.55798111e-11   2.07589168e-10   1.58774536e-09\n",
      "      2.22399999e-10]\n",
      "   [  5.47110969e-11   2.80440561e-11   6.97831166e-10   2.64408072e-10\n",
      "      9.47846613e-10]\n",
      "   [  7.18225665e-11   6.51041584e-11   1.48733884e-10   2.34714390e-10\n",
      "      3.65102442e-10]\n",
      "   [  9.43438933e-11   1.18275553e-10   2.77350004e-11   2.86993344e-10\n",
      "      5.79279607e-10]]]]\n",
      "[[[[ 0.02030669 -0.03934555 -0.0788926   0.04285396  0.12290627]\n",
      "   [ 0.02452287 -0.12808984 -0.02047162 -0.02737988  0.00865525]\n",
      "   [-0.00134134  0.02999483  0.05355856  0.05612595  0.04907103]\n",
      "   [-0.0086465  -0.05766804  0.03746923 -0.08938911  0.04795393]]\n",
      "\n",
      "  [[ 0.02317156 -0.04652588  0.02210611 -0.06656543 -0.08991339]\n",
      "   [ 0.11744449 -0.15678514 -0.34255757  0.05074496  0.00855814]\n",
      "   [-0.07834894  0.02895248 -0.03236035 -0.0508215  -0.03490258]\n",
      "   [-0.27161281  0.30849593 -0.03226498  0.25919359  0.05812285]]\n",
      "\n",
      "  [[ 0.04349435  0.00269123  0.10437471  0.30934944  0.09516077]\n",
      "   [-0.21650782 -0.23853402  0.27150522  0.07315871  0.09482861]\n",
      "   [ 0.20846411 -0.04173934  0.05157309  0.02592716  0.05569651]\n",
      "   [-0.11636317  0.19906408  0.00864359 -0.14570668  0.00342861]]]\n",
      "\n",
      "\n",
      " [[[ 0.03131483  0.01588489 -0.03069985 -0.0457394   0.0550712 ]\n",
      "   [ 0.0233667   0.10118382 -0.07803137  0.08900771  0.01379498]\n",
      "   [-0.02092069 -0.02045049 -0.0616945   0.04461478 -0.11400182]\n",
      "   [-0.04415765 -0.06291803  0.15590887 -0.01896694 -0.07476117]]\n",
      "\n",
      "  [[-0.30410805  0.55756433 -0.13988302  0.3441185   0.0309197 ]\n",
      "   [-0.06646966  0.19248172  0.02710689 -0.17055301 -0.02800128]\n",
      "   [ 0.24993337  0.14818511 -0.23285445  0.17313526 -0.10150803]\n",
      "   [ 0.0755117  -0.13946248 -0.18311157 -0.27587761  0.16874102]]\n",
      "\n",
      "  [[-0.00590573  0.1065006  -0.09530774 -0.01024958 -0.18634506]\n",
      "   [ 0.28564283 -0.2444488   0.03317977  0.08280196 -0.04820154]\n",
      "   [-0.19191839  0.08516154  0.33362047 -0.1539096  -0.09907146]\n",
      "   [-0.27554436 -0.1815388  -0.24285553 -0.03994831  0.05982856]]]]\n"
     ]
    }
   ],
   "source": [
    "N, C, H, W = 2, 3, 4, 5\n",
    "# N > 2 时 dx_error 会比较好看 why?\n",
    "x = 5 * np.random.randn(N, C, H, W) + 12\n",
    "gamma = np.random.randn(C)\n",
    "beta = np.random.randn(C)\n",
    "dout = np.random.randn(N, C, H, W)\n",
    "\n",
    "bn_param = {'mode': 'train'}\n",
    "fx = lambda x: spatial_batchnorm_forward(x, gamma, beta, bn_param)[0]\n",
    "fg = lambda a: spatial_batchnorm_forward(x, gamma, beta, bn_param)[0]\n",
    "fb = lambda b: spatial_batchnorm_forward(x, gamma, beta, bn_param)[0]\n",
    "\n",
    "dx_num = eval_numerical_gradient_array(fx, x, dout)\n",
    "da_num = eval_numerical_gradient_array(fg, gamma, dout)\n",
    "db_num = eval_numerical_gradient_array(fb, beta, dout)\n",
    "\n",
    "_, cache = spatial_batchnorm_forward(x, gamma, beta, bn_param)\n",
    "dx, dgamma, dbeta = spatial_batchnorm_backward(dout, cache)\n",
    "print ('dx error: ', rel_error(dx_num, dx))\n",
    "print ('dgamma error: ', rel_error(da_num, dgamma))\n",
    "print ('dbeta error: ', rel_error(db_num, dbeta))\n",
    "\n",
    "# print('dx_num', dx_num)\n",
    "# print('dx', dx)\n",
    "\n",
    "print(np.max(dx_num - dx))\n",
    "# print(dx_num - dx)\n",
    "\n",
    "\n",
    "def rel_error_mat(x, y):\n",
    "  return np.abs(x - y) / (np.maximum(1e-8, np.abs(x) + np.abs(y)))\n",
    "\n",
    "print(rel_error_mat(dx_num, dx))\n",
    "\n",
    "print(dx)\n",
    "\n",
    "# print('dgamma', da_num, dgamma)\n",
    "# print('dbeta', db_num, dbeta)"
   ]
  },
  {
   "cell_type": "markdown",
   "metadata": {},
   "source": [
    "# Experiment!\n",
    "Experiment and try to get the best performance that you can on CIFAR-10 using a ConvNet. Here are some ideas to get you started:\n",
    "\n",
    "### Things you should try:\n",
    "- Filter size: Above we used 7x7; this makes pretty pictures but smaller filters may be more efficient\n",
    "- Number of filters: Above we used 32 filters. Do more or fewer do better?\n",
    "- Batch normalization: Try adding spatial batch normalization after convolution layers and vanilla batch normalization aafter affine layers. Do your networks train faster?\n",
    "- Network architecture: The network above has two layers of trainable parameters. Can you do better with a deeper network? You can implement alternative architectures in the file `cs231n/classifiers/convnet.py`. Some good architectures to try include:\n",
    "    - [conv-relu-pool]xN - conv - relu - [affine]xM - [softmax or SVM]\n",
    "    - [conv-relu-pool]XN - [affine]XM - [softmax or SVM]\n",
    "    - [conv-relu-conv-relu-pool]xN - [affine]xM - [softmax or SVM]\n",
    "\n",
    "### Tips for training\n",
    "For each network architecture that you try, you should tune the learning rate and regularization strength. When doing this there are a couple important things to keep in mind:\n",
    "\n",
    "- If the parameters are working well, you should see improvement within a few hundred iterations\n",
    "- Remember the course-to-fine approach for hyperparameter tuning: start by testing a large range of hyperparameters for just a few training iterations to find the combinations of parameters that are working at all.\n",
    "- Once you have found some sets of parameters that seem to work, search more finely around these parameters. You may need to train for more epochs.\n",
    "\n",
    "### Going above and beyond\n",
    "If you are feeling adventurous there are many other features you can implement to try and improve your performance. You are **not required** to implement any of these; however they would be good things to try for extra credit.\n",
    "\n",
    "- Alternative update steps: For the assignment we implemented SGD+momentum, RMSprop, and Adam; you could try alternatives like AdaGrad or AdaDelta.\n",
    "- Alternative activation functions such as leaky ReLU, parametric ReLU, or MaxOut.\n",
    "- Model ensembles\n",
    "- Data augmentation\n",
    "\n",
    "If you do decide to implement something extra, clearly describe it in the \"Extra Credit Description\" cell below.\n",
    "\n",
    "### What we expect\n",
    "At the very least, you should be able to train a ConvNet that gets at least 65% accuracy on the validation set. This is just a lower bound - if you are careful it should be possible to get accuracies much higher than that! Extra credit points will be awarded for particularly high-scoring models or unique approaches.\n",
    "\n",
    "You should use the space below to experiment and train your network. The final cell in this notebook should contain the training, validation, and test set accuracies for your final trained network. In this notebook you should also write an explanation of what you did, any additional features that you implemented, and any visualizations or graphs that you make in the process of training and evaluating your network.\n",
    "\n",
    "Have fun and happy training!"
   ]
  },
  {
   "cell_type": "code",
   "execution_count": 3,
   "metadata": {
    "collapsed": true
   },
   "outputs": [],
   "source": [
    "\n",
    "num_train = 500\n",
    "middle_data = {\n",
    "  'X_train': data['X_train'][:num_train],\n",
    "  'y_train': data['y_train'][:num_train],\n",
    "  'X_val': data['X_val'],\n",
    "  'y_val': data['y_val'],\n",
    "}\n"
   ]
  },
  {
   "cell_type": "code",
   "execution_count": 21,
   "metadata": {
    "code_folding": [
     90,
     133
    ],
    "collapsed": false
   },
   "outputs": [
    {
     "name": "stdout",
     "output_type": "stream",
     "text": [
      "CPU times: user 91 µs, sys: 17 µs, total: 108 µs\n",
      "Wall time: 113 µs\n"
     ]
    }
   ],
   "source": [
    "%%time\n",
    "\n",
    "import math\n",
    "import random\n",
    "from cs231n.classifiers.cnn import CustomConvNet\n",
    "\n",
    "\n",
    "class RandomRoll():\n",
    "  def __init__(self, min, max=None, kind='exp'):\n",
    "    self.a = min\n",
    "    self.b = max\n",
    "    self.kind = kind\n",
    "  def roll(self):\n",
    "    if self.b is None and isinstance(self.a, list):\n",
    "      p = random.choice(self.a)\n",
    "    elif self.kind == 'exp':\n",
    "      p = 10 ** random.uniform(math.log10(self.a), math.log10(self.b))\n",
    "    elif self.kind == 'linear':\n",
    "      p = random.uniform(a, b)\n",
    "    return p\n",
    "  \n",
    "\n",
    "def clip_small_data(data, num_train=500, num_val=500):\n",
    "  small_data = {\n",
    "    'X_train': data['X_train'][:num_train],\n",
    "    'y_train': data['y_train'][:num_train],\n",
    "    'X_val': data['X_val'][:num_val],\n",
    "    'y_val': data['y_val'][:num_val],\n",
    "  }\n",
    "  return small_data\n",
    "\n",
    "def random_select(a, b=None, kind='exp'):\n",
    "  if kind == 'exp':\n",
    "    p = 10 ** random.uniform(math.log10(a), math.log10(b))\n",
    "  elif kind == 'linear':\n",
    "    p = random.uniform(a, b)\n",
    "  return p\n",
    "\n",
    "def random_search(data,\n",
    "                  max_search_times=20,\n",
    "                  report_val_acc=0.2,\n",
    "                  num_epochs=3,\n",
    "                  lr_decays=RandomRoll(0.5, 0.99),   # 0.99\n",
    "                  weight_scales=RandomRoll(0.001, 0.1),  # 5e-2\n",
    "                  regs=RandomRoll(0.1, 1, 'linear'),  # 0.01\n",
    "                  learning_rates=RandomRoll(0.001, 0.1),  # 1e-2\n",
    "                  use_batchnorms=RandomRoll([True, False]),\n",
    "                  results=[],\n",
    "                  ):\n",
    "  \n",
    "\n",
    "  print('data shape', data['X_train'].shape)\n",
    "  for i in range(max_search_times):\n",
    "\n",
    "    model = CustomConvNet(input_dim=(3, 32, 32),\n",
    "                          filters=(36,24,24),\n",
    "                          filter_size=3,\n",
    "                          hidden_dims=(500,300),\n",
    "                          num_classes=10,\n",
    "                          weight_scale=weight_scales.roll(),\n",
    "                          reg=regs.roll(),\n",
    "                          use_batchnorm=use_batchnorms.roll(),\n",
    "                          dtype=np.float32)\n",
    "\n",
    "    if i % 1 == 0:\n",
    "      print('try params ', i+1, max_search_times)\n",
    "      \n",
    "    solver = Solver(model, \n",
    "                    data,\n",
    "                    num_epochs=num_epochs, \n",
    "                    batch_size=250,\n",
    "                    update_rule='adam',\n",
    "                    lr_decay=lr_decays.roll(),\n",
    "                    optim_config={\n",
    "                      'learning_rate': learning_rates.roll(),\n",
    "                    },\n",
    "                    verbose=False)\n",
    "    solver.train()\n",
    "    val_acc = max(solver.val_acc_history)\n",
    "#     if val_acc >= stop_val_acc:\n",
    "#       break\n",
    "    if val_acc >= report_val_acc:\n",
    "      results.append(solver.report_hyper_params(verbose=True))\n",
    "    else:\n",
    "      results.append(solver.report_hyper_params(verbose=False))\n",
    "\n",
    "  print('done', max_search_times)\n",
    "  return results\n",
    "\n",
    "\n",
    "def print_results(results):\n",
    "  from pprint import pprint\n",
    "  ys = [r['last_val_acc'] for r in results]\n",
    "    \n",
    "  ax = plt.subplot(5, 1, 1)\n",
    "  ax.set_xscale('log')\n",
    "  xs = [r['init_learning_rate'] for r in results]\n",
    "  plt.plot(xs, ys, 'o')\n",
    "  plt.xlabel('init_learning_rate')\n",
    "  plt.ylabel('val acc')\n",
    "  \n",
    "  ax = plt.subplot(5, 1, 2)\n",
    "  xs = [r['lr_decay'] for r in results]\n",
    "  plt.plot(xs, ys, 'o')\n",
    "  plt.xlabel('lr_decay')\n",
    "  plt.ylabel('val acc')\n",
    "  \n",
    "  ax = plt.subplot(5, 1, 3)\n",
    "  ax.set_xscale('log')\n",
    "  xs = [r['reg'] for r in results]\n",
    "  plt.plot(xs, ys, 'o')\n",
    "  plt.xlabel('reg')\n",
    "  plt.ylabel('val acc')\n",
    "  \n",
    "  ax = plt.subplot(5, 1, 4)\n",
    "  ax.set_xscale('log')\n",
    "  xs = [r['weight_scale'] for r in results]\n",
    "  plt.plot(xs, ys, 'o')\n",
    "  plt.xlabel('weight_scale')\n",
    "  plt.ylabel('val acc')\n",
    "  \n",
    "  ax = plt.subplot(5, 1, 5)\n",
    "  ax.set_xlim([-1, 2])\n",
    "  xs = [r['use_batchnorm'] for r in results]\n",
    "  plt.plot(xs, ys, 'o')\n",
    "  \n",
    "  plt.xlabel('use_batchnorm')\n",
    "  plt.ylabel('val acc')\n",
    "  \n",
    "\n",
    "  plt.gcf().set_size_inches(12, 18)\n",
    "  plt.show()\n",
    "  \n",
    "def print_solver(solver):\n",
    "  \n",
    "  plt.subplot(2, 1, 1)\n",
    "  plt.title('Training loss')\n",
    "  plt.plot(solver.loss_history, 'o')\n",
    "  plt.xlabel('Iteration')\n",
    "\n",
    "  plt.subplot(2, 1, 2)\n",
    "  plt.title('Accuracy')\n",
    "  plt.plot(solver.train_acc_history, '-o', label='train')\n",
    "  plt.plot(solver.val_acc_history, '-o', label='val')\n",
    "  plt.plot([0.5] * len(solver.val_acc_history), 'k--')\n",
    "  plt.xlabel('Epoch')\n",
    "  plt.legend(loc='lower right')\n",
    "  plt.gcf().set_size_inches(15, 12)\n",
    "  plt.show()"
   ]
  },
  {
   "cell_type": "code",
   "execution_count": 22,
   "metadata": {
    "collapsed": false,
    "scrolled": false
   },
   "outputs": [
    {
     "name": "stdout",
     "output_type": "stream",
     "text": [
      "data shape (500, 3, 32, 32)\n",
      "try params  1 50\n",
      "try params  2 50\n",
      "try params  3 50\n",
      "try params  4 50\n",
      "try params  5 50\n",
      "try params  6 50\n",
      "try params  7 50\n",
      "try params  8 50\n",
      "try params  9 50\n",
      "try params  10 50\n",
      "try params  11 50\n",
      "try params  12 50\n",
      "try params  13 50\n",
      "try params  14 50\n",
      "try params  15 50\n",
      "try params  16 50\n",
      "try params  17 50\n",
      "try params  18 50\n",
      "try params  19 50\n",
      "try params  20 50\n",
      "try params  21 50\n",
      "try params  22 50\n",
      "try params  23 50\n",
      "try params  24 50\n",
      "try params  25 50\n",
      "try params  26 50\n",
      "try params  27 50\n",
      "try params  28 50\n",
      "try params  29 50\n",
      "try params  30 50\n",
      "try params  31 50\n",
      "try params  32 50\n",
      "try params  33 50\n",
      "try params  34 50\n",
      "try params  35 50\n",
      "try params  36 50\n",
      "try params  37 50\n",
      "try params  38 50\n",
      "try params  39 50\n",
      "try params  40 50\n",
      "try params  41 50\n",
      "try params  42 50\n",
      "try params  43 50\n",
      "try params  44 50\n",
      "try params  45 50\n",
      "try params  46 50\n",
      "try params  47 50\n",
      "try params  48 50\n",
      "try params  49 50\n",
      "try params  50 50\n",
      "done 50\n",
      "50\n"
     ]
    },
    {
     "data": {
      "image/png": "[encoded data removed]",
      "text/plain": [
       "<matplotlib.figure.Figure at 0x1086dee48>"
      ]
     },
     "metadata": {},
     "output_type": "display_data"
    },
    {
     "name": "stdout",
     "output_type": "stream",
     "text": [
      "CPU times: user 5min 32s, sys: 2min 4s, total: 7min 37s\n",
      "Wall time: 6min 45s\n"
     ]
    }
   ],
   "source": [
    "%%time\n",
    "\n",
    "### test API\n",
    "\n",
    "# on full data test 太慢了, 根据有限的 10+ 个测试,\n",
    "# 选择同样的参数, 作用在 small data 和 full data 上结果差不多\n",
    "small_data = clip_small_data(data)\n",
    "best_model = None\n",
    "results = []\n",
    "results = random_search(small_data,\n",
    "                        max_search_times=50,\n",
    "                        report_val_acc=0.3,\n",
    "                        num_epochs=1,\n",
    "                        lr_decays=RandomRoll(0.85, 0.99),  \n",
    "                        weight_scales=RandomRoll(0.001, 0.1),  \n",
    "                        regs=RandomRoll(0.001, 3),  \n",
    "                        learning_rates=RandomRoll(0.0001, 0.01), \n",
    "                        use_batchnorms=RandomRoll([True, False]),\n",
    "                        results=results,\n",
    "                        )\n",
    "print(len(results))\n",
    "print_results(results)\n"
   ]
  },
  {
   "cell_type": "code",
   "execution_count": 23,
   "metadata": {
    "collapsed": false,
    "scrolled": true
   },
   "outputs": [
    {
     "name": "stdout",
     "output_type": "stream",
     "text": [
      "OrderedDict([('model', <cs231n.classifiers.cnn.CustomConvNet object at 0x1097b09b0>), ('last_val_acc', 0.156), ('best_val_acc', 0.156), ('init_learning_rate', 0.000148), ('lr_decay', 0.8932), ('reg', 0.009), ('weight_scale', 0.0302), ('use_batchnorm', False)])\n",
      "<cs231n.classifiers.cnn.CustomConvNet object at 0x1097b09b0>\n"
     ]
    }
   ],
   "source": [
    "s = sorted(results, key=lambda x:x['best_val_acc'], reverse=True)\n",
    "# print(len(results))\n",
    "# print_results(results)\n",
    "best_model = s[0]['model']\n",
    "print(s[0])\n",
    "print(best_model)"
   ]
  },
  {
   "cell_type": "code",
   "execution_count": 25,
   "metadata": {
    "collapsed": false,
    "scrolled": false
   },
   "outputs": [
    {
     "name": "stdout",
     "output_type": "stream",
     "text": [
      "data.X_train.shape (19000, 3, 32, 32)\n",
      "(Iteration 1 / 1900) loss: 0.941522\n",
      "(Epoch 0 / 5) train acc: 0.677000; val_acc: 0.560000\n",
      "(Iteration 21 / 1900) loss: 1.056457\n",
      "(Iteration 41 / 1900) loss: 1.019981\n",
      "(Iteration 61 / 1900) loss: 1.203173\n",
      "(Iteration 81 / 1900) loss: 1.026560\n",
      "(Iteration 101 / 1900) loss: 0.831064\n",
      "(Iteration 121 / 1900) loss: 0.969205\n",
      "(Iteration 141 / 1900) loss: 1.109695\n",
      "(Iteration 161 / 1900) loss: 1.192012\n",
      "(Iteration 181 / 1900) loss: 0.800420\n",
      "(Iteration 201 / 1900) loss: 1.120035\n",
      "(Iteration 221 / 1900) loss: 1.009220\n",
      "(Iteration 241 / 1900) loss: 0.995212\n",
      "(Iteration 261 / 1900) loss: 0.862815\n",
      "(Iteration 281 / 1900) loss: 1.073009\n",
      "(Iteration 301 / 1900) loss: 0.993302\n",
      "(Iteration 321 / 1900) loss: 1.169940\n",
      "(Iteration 341 / 1900) loss: 1.269416\n",
      "(Iteration 361 / 1900) loss: 0.982694\n",
      "(Epoch 1 / 5) train acc: 0.702000; val_acc: 0.628000\n",
      "(Iteration 381 / 1900) loss: 1.298063\n",
      "(Iteration 401 / 1900) loss: 0.798264\n",
      "(Iteration 421 / 1900) loss: 1.001109\n",
      "(Iteration 441 / 1900) loss: 1.190696\n",
      "(Iteration 461 / 1900) loss: 1.083956\n",
      "(Iteration 481 / 1900) loss: 1.269000\n",
      "(Iteration 501 / 1900) loss: 1.324517\n",
      "(Iteration 521 / 1900) loss: 1.012542\n",
      "(Iteration 541 / 1900) loss: 0.882863\n",
      "(Iteration 561 / 1900) loss: 1.151460\n",
      "(Iteration 581 / 1900) loss: 1.162292\n",
      "(Iteration 601 / 1900) loss: 0.949839\n",
      "(Iteration 621 / 1900) loss: 1.042149\n",
      "(Iteration 641 / 1900) loss: 1.087802\n",
      "(Iteration 661 / 1900) loss: 1.007746\n",
      "(Iteration 681 / 1900) loss: 0.981559\n",
      "(Iteration 701 / 1900) loss: 1.285734\n",
      "(Iteration 721 / 1900) loss: 1.122356\n",
      "(Iteration 741 / 1900) loss: 1.048446\n",
      "(Epoch 2 / 5) train acc: 0.781000; val_acc: 0.649000\n",
      "(Iteration 761 / 1900) loss: 0.978345\n",
      "(Iteration 781 / 1900) loss: 1.197876\n",
      "(Iteration 801 / 1900) loss: 1.135215\n",
      "(Iteration 821 / 1900) loss: 0.916075\n",
      "(Iteration 841 / 1900) loss: 0.763436\n",
      "(Iteration 861 / 1900) loss: 1.272296\n",
      "(Iteration 881 / 1900) loss: 0.820391\n",
      "(Iteration 901 / 1900) loss: 0.921630\n",
      "(Iteration 921 / 1900) loss: 1.018454\n",
      "(Iteration 941 / 1900) loss: 1.067084\n",
      "(Iteration 961 / 1900) loss: 0.806461\n",
      "(Iteration 981 / 1900) loss: 0.998643\n",
      "(Iteration 1001 / 1900) loss: 1.421604\n",
      "(Iteration 1021 / 1900) loss: 0.855850\n",
      "(Iteration 1041 / 1900) loss: 0.834185\n",
      "(Iteration 1061 / 1900) loss: 1.103480\n",
      "(Iteration 1081 / 1900) loss: 0.776812\n",
      "(Iteration 1101 / 1900) loss: 0.878719\n",
      "(Iteration 1121 / 1900) loss: 1.019554\n",
      "(Epoch 3 / 5) train acc: 0.725000; val_acc: 0.634000\n",
      "(Iteration 1141 / 1900) loss: 1.006127\n",
      "(Iteration 1161 / 1900) loss: 1.118063\n",
      "(Iteration 1181 / 1900) loss: 0.945173\n",
      "(Iteration 1201 / 1900) loss: 0.778961\n",
      "(Iteration 1221 / 1900) loss: 0.997959\n",
      "(Iteration 1241 / 1900) loss: 0.933850\n",
      "(Iteration 1261 / 1900) loss: 1.039169\n",
      "(Iteration 1281 / 1900) loss: 1.120187\n",
      "(Iteration 1301 / 1900) loss: 0.753950\n",
      "(Iteration 1321 / 1900) loss: 1.015264\n",
      "(Iteration 1341 / 1900) loss: 0.947455\n",
      "(Iteration 1361 / 1900) loss: 1.503443\n",
      "(Iteration 1381 / 1900) loss: 0.818537\n",
      "(Iteration 1401 / 1900) loss: 1.169053\n",
      "(Iteration 1421 / 1900) loss: 0.870131\n",
      "(Iteration 1441 / 1900) loss: 0.909456\n",
      "(Iteration 1461 / 1900) loss: 0.819565\n",
      "(Iteration 1481 / 1900) loss: 0.925142\n",
      "(Iteration 1501 / 1900) loss: 0.933272\n",
      "(Epoch 4 / 5) train acc: 0.781000; val_acc: 0.658000\n",
      "(Iteration 1521 / 1900) loss: 0.989882\n",
      "(Iteration 1541 / 1900) loss: 0.893171\n",
      "(Iteration 1561 / 1900) loss: 0.843039\n",
      "(Iteration 1581 / 1900) loss: 0.848439\n",
      "(Iteration 1601 / 1900) loss: 0.917663\n",
      "(Iteration 1621 / 1900) loss: 0.696845\n",
      "(Iteration 1641 / 1900) loss: 0.821005\n",
      "(Iteration 1661 / 1900) loss: 0.991432\n",
      "(Iteration 1681 / 1900) loss: 1.061153\n",
      "(Iteration 1701 / 1900) loss: 0.721628\n",
      "(Iteration 1721 / 1900) loss: 0.827906\n",
      "(Iteration 1741 / 1900) loss: 0.836523\n",
      "(Iteration 1761 / 1900) loss: 0.863287\n",
      "(Iteration 1781 / 1900) loss: 1.002088\n",
      "(Iteration 1801 / 1900) loss: 0.873119\n",
      "(Iteration 1821 / 1900) loss: 0.836646\n",
      "(Iteration 1841 / 1900) loss: 0.740209\n",
      "(Iteration 1861 / 1900) loss: 0.831937\n",
      "(Iteration 1881 / 1900) loss: 0.683040\n",
      "(Epoch 5 / 5) train acc: 0.809000; val_acc: 0.655000\n"
     ]
    }
   ],
   "source": [
    "# small_data = clip_small_data(data)\n",
    "  \n",
    "# Train a really good model on CIFAR-10\n",
    "# model = ThreeLayerConvNet(num_filters=32, weight_scale=0.001, \n",
    "#                           hidden_dim=500, reg=0.001)\n",
    "\n",
    "print('data.X_train.shape', data['X_train'].shape)\n",
    "solver = Solver(best_model, data,\n",
    "                num_epochs=5, batch_size=50,\n",
    "                update_rule='adam',\n",
    "                lr_decay=0.88,\n",
    "                optim_config={\n",
    "                  'learning_rate': 0.001,\n",
    "                },\n",
    "                verbose=True, print_every=20)\n",
    "solver.train()\n",
    "\n",
    "# X_train 9000 个数据, 最高到57% val acc, 累死我了\n",
    "# on 19000, 59% val acc\n",
    "# houhouhou (Epoch 5 / 5) train acc: 0.716000; val_acc: 0.659000\n"
   ]
  },
  {
   "cell_type": "markdown",
   "metadata": {},
   "source": [
    "# Extra Credit Description\n",
    "If you implement any additional features for extra credit, clearly describe them here with pointers to any code in this or other files if applicable."
   ]
  }
 ],
 "metadata": {
  "kernelspec": {
   "display_name": "Python 3",
   "language": "python",
   "name": "python3"
  },
  "language_info": {
   "codemirror_mode": {
    "name": "ipython",
    "version": 3
   },
   "file_extension": ".py",
   "mimetype": "text/x-python",
   "name": "python",
   "nbconvert_exporter": "python",
   "pygments_lexer": "ipython3",
   "version": "3.4.0"
  }
 },
 "nbformat": 4,
 "nbformat_minor": 0
}
