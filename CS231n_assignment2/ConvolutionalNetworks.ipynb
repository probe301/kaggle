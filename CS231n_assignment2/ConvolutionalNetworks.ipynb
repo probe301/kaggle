{
 "cells": [
  {
   "cell_type": "markdown",
   "metadata": {},
   "source": [
    "# Convolutional Networks\n",
    "So far we have worked with deep fully-connected networks, using them to explore different optimization strategies and network architectures. Fully-connected networks are a good testbed for experimentation because they are very computationally efficient, but in practice all state-of-the-art results use convolutional networks instead.\n",
    "\n",
    "First you will implement several layer types that are used in convolutional networks. You will then use these layers to train a convolutional network on the CIFAR-10 dataset."
   ]
  },
  {
   "cell_type": "code",
   "execution_count": null,
   "metadata": {
    "collapsed": false
   },
   "outputs": [],
   "source": [
    "%%javascript\n",
    "Jupyter.keyboard_manager.command_shortcuts.add_shortcut('f5', {\n",
    "    help : 'run cell',\n",
    "    handler : function (event) {\n",
    "        IPython.notebook.execute_cell();\n",
    "        return false;\n",
    "    }}                                               \n",
    ");\n",
    "\n",
    "\n",
    "Jupyter.keyboard_manager.command_shortcuts.add_shortcut('ctrl-.', {\n",
    "    help : 'run cell',\n",
    "    handler : function (event) {\n",
    "        IPython.notebook.execute_cell();\n",
    "        return false;\n",
    "    }}                                               \n",
    ");\n",
    "Jupyter.keyboard_manager.edit_shortcuts.add_shortcut('f5', {\n",
    "    help : 'run cell',\n",
    "    handler : function (event) {\n",
    "        IPython.notebook.execute_cell();\n",
    "        return false;\n",
    "    }}                                               \n",
    ");\n",
    "Jupyter.keyboard_manager.edit_shortcuts.add_shortcut('ctrl-.', {\n",
    "    help : 'run cell',\n",
    "    handler : function (event) {\n",
    "        IPython.notebook.execute_cell();\n",
    "        return false;\n",
    "        \n",
    "    }}                                               \n",
    "                                                     \n",
    ");\n",
    "\n",
    "\n",
    "\n",
    "\n",
    "\n",
    "Jupyter.keyboard_manager.edit_shortcuts.add_shortcut('ctrl-enter', {\n",
    "    help : 'none',\n",
    "    // 防止与 Sublime hotkey Ctrl+Enter 冲突\n",
    "    handler : function (event) {\n",
    "        return false;\n",
    "    }}\n",
    ");\n",
    "\n",
    "\n",
    "var cell = Jupyter.notebook.get_selected_cell();\n",
    "var config = cell.config;\n",
    "var patch = {\n",
    "      CodeCell: {\n",
    "        cm_config:{indentUnit: 2}\n",
    "      }\n",
    "    }\n",
    "config.update(patch)\n",
    "\n",
    "\n"
   ]
  },
  {
   "cell_type": "code",
   "execution_count": 1,
   "metadata": {
    "collapsed": false
   },
   "outputs": [],
   "source": [
    "# As usual, a bit of setup\n",
    "\n",
    "import numpy as np\n",
    "import matplotlib.pyplot as plt\n",
    "from cs231n.classifiers.cnn import *\n",
    "from cs231n.data_utils import get_CIFAR10_data\n",
    "from cs231n.gradient_check import eval_numerical_gradient_array, eval_numerical_gradient\n",
    "from cs231n.layers import *\n",
    "from cs231n.fast_layers import *\n",
    "from cs231n.solver import Solver\n",
    "\n",
    "%matplotlib inline\n",
    "plt.rcParams['figure.figsize'] = (10.0, 8.0) # set default size of plots\n",
    "plt.rcParams['image.interpolation'] = 'nearest'\n",
    "plt.rcParams['image.cmap'] = 'gray'\n",
    "\n",
    "# for auto-reloading external modules\n",
    "# see http://stackoverflow.com/questions/1907993/autoreload-of-modules-in-ipython\n",
    "%load_ext autoreload\n",
    "%autoreload 2\n",
    "\n",
    "def rel_error(x, y):\n",
    "  \"\"\" returns relative error \"\"\"\n",
    "  return np.max(np.abs(x - y) / (np.maximum(1e-8, np.abs(x) + np.abs(y))))"
   ]
  },
  {
   "cell_type": "markdown",
   "metadata": {},
   "source": [
    "# Convolution: Naive forward pass\n",
    "The core of a convolutional network is the convolution operation. In the file `cs231n/layers.py`, implement the forward pass for the convolution layer in the function `conv_forward_naive`. \n",
    "\n",
    "You don't have to worry too much about efficiency at this point; just write the code in whatever way you find most clear.\n",
    "\n",
    "You can test your implementation by running the following:"
   ]
  },
  {
   "cell_type": "code",
   "execution_count": null,
   "metadata": {
    "collapsed": false
   },
   "outputs": [],
   "source": [
    "# a = np.random.randn(4, 5)\n",
    "print(a)\n",
    "\n",
    "print(np.amax(a))\n",
    "print(np.amax(a, axis=0))\n",
    "print(np.amax(a, axis=1))\n",
    "print(np.amax(a, axis=(0, 1)))\n",
    "\n",
    "b = np.zeros_like(a)\n",
    "print(np.argmax(a))\n",
    "print(np.argmax(a, axis=0))\n",
    "print(np.argmax(a, axis=1))\n",
    "# print(np.argmax(a, axis=0, out=b))\n"
   ]
  },
  {
   "cell_type": "code",
   "execution_count": null,
   "metadata": {
    "collapsed": false
   },
   "outputs": [],
   "source": [
    "a = np.random.randn(4, 5)\n",
    "# print(a)\n",
    "\n",
    "# np.pad?\n",
    "b = np.pad(a, ((1, ), (0, )),  'constant', constant_values=0)\n",
    "print(b)\n",
    "\n",
    "\n",
    "print(b.reshape(30))"
   ]
  },
  {
   "cell_type": "code",
   "execution_count": null,
   "metadata": {
    "collapsed": false,
    "scrolled": true
   },
   "outputs": [],
   "source": [
    "x_shape = (1, 4, 4)\n",
    "x = np.linspace(0, 1500, num=np.prod(x_shape)).reshape(x_shape)\n",
    "Xpad = np.pad(x, ((0,), (pad,), (pad,)), 'constant', constant_values=0)\n",
    "print(Xpad)\n",
    "def x_to_col(x):\n",
    "  # padding first\n",
    "  # x means only one data record\n",
    "  # x.shape = C, H, W\n",
    "  cols = Hout * Wout\n",
    "  ret = np.zeros((Field_body_size, cols))  # ret.shape = rows, cols\n",
    "  # h, w means Field left up corner index\n",
    "  # print('0, W-WW+1, stride', 0, W-WW+1, stride)\n",
    "  cnt = 0\n",
    "  for h in range(0, H+pad*2-HH+1, stride):\n",
    "    for w in range(0, W+pad*2-WW+1, stride):\n",
    "      volumn = x[:, h:h+HH, w:w+WW]\n",
    "      print(volumn)\n",
    "      ret[:, cnt] = volumn.reshape(Field_body_size)\n",
    "      cnt += 1\n",
    "  return ret\n",
    "\n",
    "H = 4\n",
    "W = 4\n",
    "HH = 4\n",
    "WW = 4\n",
    "C = 1\n",
    "Field_body_size = C * HH * WW\n",
    "Hout = 2\n",
    "Wout =2\n",
    "stride = 2\n",
    "pad = 1\n",
    "print()\n",
    "print(x_to_col(Xpad))"
   ]
  },
  {
   "cell_type": "code",
   "execution_count": null,
   "metadata": {
    "collapsed": false
   },
   "outputs": [],
   "source": [
    "x_shape = (2, 3, 4, 4)\n",
    "w_shape = (3, 3, 4, 4)\n",
    "x = np.linspace(-0.1, 0.5, num=np.prod(x_shape)).reshape(x_shape)\n",
    "w = np.linspace(-0.2, 0.3, num=np.prod(w_shape)).reshape(w_shape)\n",
    "b = np.linspace(-0.1, 0.2, num=3)\n",
    "\n",
    "conv_param = {'stride': 2, 'pad': 1}\n",
    "out, _ = conv_forward_naive(x, w, b, conv_param)\n",
    "correct_out = np.array([[[[[-0.08759809, -0.10987781],\n",
    "                           [-0.18387192, -0.2109216 ]],\n",
    "                          [[ 0.21027089,  0.21661097],\n",
    "                           [ 0.22847626,  0.23004637]],\n",
    "                          [[ 0.50813986,  0.54309974],\n",
    "                           [ 0.64082444,  0.67101435]]],\n",
    "                         [[[-0.98053589, -1.03143541],\n",
    "                           [-1.19128892, -1.24695841]],\n",
    "                          [[ 0.69108355,  0.66880383],\n",
    "                           [ 0.59480972,  0.56776003]],\n",
    "                          [[ 2.36270298,  2.36904306],\n",
    "                           [ 2.38090835,  2.38247847]]]]])\n",
    "\n",
    "# Compare your output to ours; difference should be around 1e-8\n",
    "print ('Testing conv_forward_naive')\n",
    "print ('difference: ', rel_error(out, correct_out))"
   ]
  },
  {
   "cell_type": "markdown",
   "metadata": {},
   "source": [
    "# Aside: Image processing via convolutions\n",
    "\n",
    "As fun way to both check your implementation and gain a better understanding of the type of operation that convolutional layers can perform, we will set up an input containing two images and manually set up filters that perform common image processing operations (grayscale conversion and edge detection). The convolution forward pass will apply these operations to each of the input images. We can then visualize the results as a sanity check."
   ]
  },
  {
   "cell_type": "code",
   "execution_count": null,
   "metadata": {
    "collapsed": false
   },
   "outputs": [],
   "source": [
    "from scipy.misc import imread, imresize\n",
    "\n",
    "kitten, puppy = imread('kitten.jpg'), imread('puppy.jpg')\n",
    "# kitten is wide, and puppy is already square\n",
    "d = kitten.shape[1] - kitten.shape[0]\n",
    "kitten_cropped = kitten[:, int(d/2):int(-d/2), :]\n",
    "\n",
    "img_size = 200   # Make this smaller if it runs too slow\n",
    "x = np.zeros((2, 3, img_size, img_size))\n",
    "x[0, :, :, :] = imresize(puppy, (img_size, img_size)).transpose((2, 0, 1))\n",
    "x[1, :, :, :] = imresize(kitten_cropped, (img_size, img_size)).transpose((2, 0, 1))\n",
    "\n",
    "# Set up a convolutional weights holding 2 filters, each 3x3\n",
    "w = np.zeros((2, 3, 3, 3))\n",
    "\n",
    "# The first filter converts the image to grayscale.\n",
    "# Set up the red, green, and blue channels of the filter.\n",
    "w[0, 0, :, :] = [[0, 0, 0], [0, 0.3, 0], [0, 0, 0]]\n",
    "w[0, 1, :, :] = [[0, 0, 0], [0, 0.6, 0], [0, 0, 0]]\n",
    "w[0, 2, :, :] = [[0, 0, 0], [0, 0.1, 0], [0, 0, 0]]\n",
    "\n",
    "# Second filter detects horizontal edges in the blue channel.\n",
    "w[1, 2, :, :] = [[1, 2, 1], [0, 0, 0], [-1, -2, -1]]\n",
    "\n",
    "# Vector of biases. We don't need any bias for the grayscale\n",
    "# filter, but for the edge detection filter we want to add 128\n",
    "# to each output so that nothing is negative.\n",
    "b = np.array([0, 128])\n",
    "\n",
    "# Compute the result of convolving each input in x with each filter in w,\n",
    "# offsetting by b, and storing the results in out.\n",
    "out, _ = conv_forward_naive(x, w, b, {'stride': 1, 'pad': 1})\n",
    "\n",
    "def imshow_noax(img, normalize=True):\n",
    "    \"\"\" Tiny helper to show images as uint8 and remove axis labels \"\"\"\n",
    "    if normalize:\n",
    "        img_max, img_min = np.max(img), np.min(img)\n",
    "        img = 255.0 * (img - img_min) / (img_max - img_min)\n",
    "    plt.imshow(img.astype('uint8'))\n",
    "    plt.gca().axis('off')\n",
    "\n",
    "# Show the original images and the results of the conv operation\n",
    "plt.subplot(2, 3, 1)\n",
    "imshow_noax(puppy, normalize=False)\n",
    "plt.title('Original image')\n",
    "plt.subplot(2, 3, 2)\n",
    "imshow_noax(out[0, 0])\n",
    "plt.title('Grayscale')\n",
    "plt.subplot(2, 3, 3)\n",
    "imshow_noax(out[0, 1])\n",
    "plt.title('Edges')\n",
    "plt.subplot(2, 3, 4)\n",
    "imshow_noax(kitten_cropped, normalize=False)\n",
    "plt.subplot(2, 3, 5)\n",
    "imshow_noax(out[1, 0])\n",
    "plt.subplot(2, 3, 6)\n",
    "imshow_noax(out[1, 1])\n",
    "plt.show()"
   ]
  },
  {
   "cell_type": "markdown",
   "metadata": {},
   "source": [
    "# Convolution: Naive backward pass\n",
    "Implement the backward pass for the convolution operation in the function `conv_backward_naive` in the file `cs231n/layers.py`. Again, you don't need to worry too much about computational efficiency.\n",
    "\n",
    "When you are done, run the following to check your backward pass with a numeric gradient check."
   ]
  },
  {
   "cell_type": "code",
   "execution_count": null,
   "metadata": {
    "collapsed": false
   },
   "outputs": [],
   "source": [
    "x = np.random.randn(4, 3, 5, 5)\n",
    "w = np.random.randn(2, 3, 3, 3)\n",
    "b = np.random.randn(2,)\n",
    "dout = np.random.randn(4, 2, 5, 5)\n",
    "conv_param = {'stride': 1, 'pad': 1}\n",
    "\n",
    "dx_num = eval_numerical_gradient_array(lambda x: conv_forward_naive(x, w, b, conv_param)[0], x, dout)\n",
    "dw_num = eval_numerical_gradient_array(lambda w: conv_forward_naive(x, w, b, conv_param)[0], w, dout)\n",
    "db_num = eval_numerical_gradient_array(lambda b: conv_forward_naive(x, w, b, conv_param)[0], b, dout)\n",
    "\n",
    "out, cache = conv_forward_naive(x, w, b, conv_param)\n",
    "dx, dw, db = conv_backward_naive(dout, cache)\n",
    "\n",
    "# Your errors should be around 1e-9'\n",
    "print ('Testing conv_backward_naive function')\n",
    "print ('dx error: ', rel_error(dx, dx_num))\n",
    "print ('dw error: ', rel_error(dw, dw_num))\n",
    "print ('db error: ', rel_error(db, db_num))"
   ]
  },
  {
   "cell_type": "markdown",
   "metadata": {},
   "source": [
    "# Max pooling: Naive forward\n",
    "Implement the forward pass for the max-pooling operation in the function `max_pool_forward_naive` in the file `cs231n/layers.py`. Again, don't worry too much about computational efficiency.\n",
    "\n",
    "Check your implementation by running the following:"
   ]
  },
  {
   "cell_type": "code",
   "execution_count": null,
   "metadata": {
    "collapsed": false
   },
   "outputs": [],
   "source": [
    "x_shape = (2, 3, 4, 4)\n",
    "x = np.linspace(-0.3, 0.4, num=np.prod(x_shape)).reshape(x_shape)\n",
    "pool_param = {'pool_width': 2, 'pool_height': 2, 'stride': 2}\n",
    "\n",
    "out, _ = max_pool_forward_naive(x, pool_param)\n",
    "\n",
    "correct_out = np.array([[[[-0.26315789, -0.24842105],\n",
    "                          [-0.20421053, -0.18947368]],\n",
    "                         [[-0.14526316, -0.13052632],\n",
    "                          [-0.08631579, -0.07157895]],\n",
    "                         [[-0.02736842, -0.01263158],\n",
    "                          [ 0.03157895,  0.04631579]]],\n",
    "                        [[[ 0.09052632,  0.10526316],\n",
    "                          [ 0.14947368,  0.16421053]],\n",
    "                         [[ 0.20842105,  0.22315789],\n",
    "                          [ 0.26736842,  0.28210526]],\n",
    "                         [[ 0.32631579,  0.34105263],\n",
    "                          [ 0.38526316,  0.4       ]]]])\n",
    "\n",
    "# Compare your output with ours. Difference should be around 1e-8.\n",
    "print ('Testing max_pool_forward_naive function:')\n",
    "print ('difference: ', rel_error(out, correct_out))"
   ]
  },
  {
   "cell_type": "markdown",
   "metadata": {},
   "source": [
    "# Max pooling: Naive backward\n",
    "Implement the backward pass for the max-pooling operation in the function `max_pool_backward_naive` in the file `cs231n/layers.py`. You don't need to worry about computational efficiency.\n",
    "\n",
    "Check your implementation with numeric gradient checking by running the following:"
   ]
  },
  {
   "cell_type": "code",
   "execution_count": null,
   "metadata": {
    "collapsed": false
   },
   "outputs": [],
   "source": [
    "x = np.random.randn(3, 2, 8, 8)\n",
    "dout = np.random.randn(3, 2, 4, 4)\n",
    "pool_param = {'pool_height': 2, 'pool_width': 2, 'stride': 2}\n",
    "\n",
    "dx_num = eval_numerical_gradient_array(lambda x: max_pool_forward_naive(x, pool_param)[0], x, dout)\n",
    "\n",
    "out, cache = max_pool_forward_naive(x, pool_param)\n",
    "dx = max_pool_backward_naive(dout, cache)\n",
    "\n",
    "# Your error should be around 1e-12\n",
    "print ('Testing max_pool_backward_naive function:')\n",
    "print ('dx error: ', rel_error(dx, dx_num))"
   ]
  },
  {
   "cell_type": "markdown",
   "metadata": {},
   "source": [
    "# Fast layers\n",
    "Making convolution and pooling layers fast can be challenging. To spare you the pain, we've provided fast implementations of the forward and backward passes for convolution and pooling layers in the file `cs231n/fast_layers.py`.\n",
    "\n",
    "The fast convolution implementation depends on a Cython extension; to compile it you need to run the following from the `cs231n` directory:\n",
    "\n",
    "```bash\n",
    "python setup.py build_ext --inplace\n",
    "```\n",
    "\n",
    "The API for the fast versions of the convolution and pooling layers is exactly the same as the naive versions that you implemented above: the forward pass receives data, weights, and parameters and produces outputs and a cache object; the backward pass recieves upstream derivatives and the cache object and produces gradients with respect to the data and weights.\n",
    "\n",
    "**NOTE:** The fast implementation for pooling will only perform optimally if the pooling regions are non-overlapping and tile the input. If these conditions are not met then the fast pooling implementation will not be much faster than the naive implementation.\n",
    "\n",
    "You can compare the performance of the naive and fast versions of these layers by running the following:"
   ]
  },
  {
   "cell_type": "code",
   "execution_count": null,
   "metadata": {
    "collapsed": false
   },
   "outputs": [],
   "source": [
    "from cs231n.fast_layers import conv_forward_fast, conv_backward_fast\n",
    "from time import time\n",
    "\n",
    "x = np.random.randn(100, 3, 31, 31)\n",
    "w = np.random.randn(25, 3, 3, 3)\n",
    "b = np.random.randn(25,)\n",
    "dout = np.random.randn(100, 25, 16, 16)\n",
    "conv_param = {'stride': 2, 'pad': 1}\n",
    "\n",
    "t0 = time()\n",
    "out_naive, cache_naive = conv_forward_naive(x, w, b, conv_param)\n",
    "t1 = time()\n",
    "out_fast, cache_fast = conv_forward_fast(x, w, b, conv_param)\n",
    "t2 = time()\n",
    "\n",
    "print ('Testing conv_forward_fast:')\n",
    "print ('Naive: %fs' % (t1 - t0))\n",
    "print ('Fast: %fs' % (t2 - t1))\n",
    "print ('Speedup: %fx' % ((t1 - t0) / (t2 - t1)))\n",
    "print ('Difference: ', rel_error(out_naive, out_fast))\n",
    "\n",
    "t0 = time()\n",
    "dx_naive, dw_naive, db_naive = conv_backward_naive(dout, cache_naive)\n",
    "t1 = time()\n",
    "dx_fast, dw_fast, db_fast = conv_backward_fast(dout, cache_fast)\n",
    "t2 = time()\n",
    "\n",
    "print ('\\nTesting conv_backward_fast:')\n",
    "print ('Naive: %fs' % (t1 - t0))\n",
    "print ('Fast: %fs' % (t2 - t1))\n",
    "print ('Speedup: %fx' % ((t1 - t0) / (t2 - t1)))\n",
    "print ('dx difference: ', rel_error(dx_naive, dx_fast))\n",
    "print ('dw difference: ', rel_error(dw_naive, dw_fast))\n",
    "print ('db difference: ', rel_error(db_naive, db_fast))"
   ]
  },
  {
   "cell_type": "code",
   "execution_count": null,
   "metadata": {
    "collapsed": false
   },
   "outputs": [],
   "source": [
    "from cs231n.fast_layers import max_pool_forward_fast, max_pool_backward_fast\n",
    "\n",
    "x = np.random.randn(100, 3, 32, 32)\n",
    "dout = np.random.randn(100, 3, 16, 16)\n",
    "pool_param = {'pool_height': 2, 'pool_width': 2, 'stride': 2}\n",
    "\n",
    "t0 = time()\n",
    "out_naive, cache_naive = max_pool_forward_naive(x, pool_param)\n",
    "t1 = time()\n",
    "out_fast, cache_fast = max_pool_forward_fast(x, pool_param)\n",
    "t2 = time()\n",
    "\n",
    "print ('Testing pool_forward_fast:')\n",
    "print ('Naive: %fs' % (t1 - t0))\n",
    "print ('fast: %fs' % (t2 - t1))\n",
    "print ('speedup: %fx' % ((t1 - t0) / (t2 - t1)))\n",
    "print ('difference: ', rel_error(out_naive, out_fast))\n",
    "\n",
    "t0 = time()\n",
    "dx_naive = max_pool_backward_naive(dout, cache_naive)\n",
    "t1 = time()\n",
    "dx_fast = max_pool_backward_fast(dout, cache_fast)\n",
    "t2 = time()\n",
    "\n",
    "print ('\\nTesting pool_backward_fast:')\n",
    "print ('Naive: %fs' % (t1 - t0))\n",
    "print ('speedup: %fx' % ((t1 - t0) / (t2 - t1)))\n",
    "print ('dx difference: ', rel_error(dx_naive, dx_fast))"
   ]
  },
  {
   "cell_type": "markdown",
   "metadata": {},
   "source": [
    "# Convolutional \"sandwich\" layers\n",
    "Previously we introduced the concept of \"sandwich\" layers that combine multiple operations into commonly used patterns. In the file `cs231n/layer_utils.py` you will find sandwich layers that implement a few commonly used patterns for convolutional networks."
   ]
  },
  {
   "cell_type": "code",
   "execution_count": null,
   "metadata": {
    "collapsed": false
   },
   "outputs": [],
   "source": [
    "from cs231n.layer_utils import conv_relu_pool_forward, conv_relu_pool_backward\n",
    "\n",
    "x = np.random.randn(2, 3, 16, 16)\n",
    "w = np.random.randn(3, 3, 3, 3)\n",
    "b = np.random.randn(3,)\n",
    "dout = np.random.randn(2, 3, 8, 8)\n",
    "conv_param = {'stride': 1, 'pad': 1}\n",
    "pool_param = {'pool_height': 2, 'pool_width': 2, 'stride': 2}\n",
    "\n",
    "out, cache = conv_relu_pool_forward(x, w, b, conv_param, pool_param)\n",
    "dx, dw, db = conv_relu_pool_backward(dout, cache)\n",
    "\n",
    "dx_num = eval_numerical_gradient_array(lambda x: conv_relu_pool_forward(x, w, b, conv_param, pool_param)[0], x, dout)\n",
    "dw_num = eval_numerical_gradient_array(lambda w: conv_relu_pool_forward(x, w, b, conv_param, pool_param)[0], w, dout)\n",
    "db_num = eval_numerical_gradient_array(lambda b: conv_relu_pool_forward(x, w, b, conv_param, pool_param)[0], b, dout)\n",
    "\n",
    "print ('Testing conv_relu_pool')\n",
    "print ('dx error: ', rel_error(dx_num, dx))\n",
    "print ('dw error: ', rel_error(dw_num, dw))\n",
    "print ('db error: ', rel_error(db_num, db))"
   ]
  },
  {
   "cell_type": "code",
   "execution_count": null,
   "metadata": {
    "collapsed": false
   },
   "outputs": [],
   "source": [
    "from cs231n.layer_utils import conv_relu_forward, conv_relu_backward\n",
    "\n",
    "x = np.random.randn(2, 3, 8, 8)\n",
    "w = np.random.randn(3, 3, 3, 3)\n",
    "b = np.random.randn(3,)\n",
    "dout = np.random.randn(2, 3, 8, 8)\n",
    "conv_param = {'stride': 1, 'pad': 1}\n",
    "\n",
    "out, cache = conv_relu_forward(x, w, b, conv_param)\n",
    "dx, dw, db = conv_relu_backward(dout, cache)\n",
    "\n",
    "dx_num = eval_numerical_gradient_array(lambda x: conv_relu_forward(x, w, b, conv_param)[0], x, dout)\n",
    "dw_num = eval_numerical_gradient_array(lambda w: conv_relu_forward(x, w, b, conv_param)[0], w, dout)\n",
    "db_num = eval_numerical_gradient_array(lambda b: conv_relu_forward(x, w, b, conv_param)[0], b, dout)\n",
    "\n",
    "print ('Testing conv_relu:')\n",
    "print ('dx error: ', rel_error(dx_num, dx))\n",
    "print ('dw error: ', rel_error(dw_num, dw))\n",
    "print ('db error: ', rel_error(db_num, db))"
   ]
  },
  {
   "cell_type": "markdown",
   "metadata": {},
   "source": [
    "# Three-layer ConvNet\n",
    "Now that you have implemented all the necessary layers, we can put them together into a simple convolutional network.\n",
    "\n",
    "Open the file `cs231n/cnn.py` and complete the implementation of the `ThreeLayerConvNet` class. Run the following cells to help you debug:"
   ]
  },
  {
   "cell_type": "markdown",
   "metadata": {},
   "source": [
    "## Sanity check loss\n",
    "After you build a new network, one of the first things you should do is sanity check the loss. When we use the softmax loss, we expect the loss for random weights (and no regularization) to be about `log(C)` for `C` classes. When we add regularization this should go up."
   ]
  },
  {
   "cell_type": "code",
   "execution_count": null,
   "metadata": {
    "collapsed": false
   },
   "outputs": [],
   "source": [
    "model = ThreeLayerConvNet()\n",
    "\n",
    "N = 50\n",
    "X = np.random.randn(N, 3, 32, 32)\n",
    "y = np.random.randint(10, size=N)\n",
    "\n",
    "loss, grads = model.loss(X, y)\n",
    "print ('Initial loss (no regularization): ', loss)\n",
    "\n",
    "model.reg = 0.5\n",
    "loss, grads = model.loss(X, y)\n",
    "print ('Initial loss (with regularization): ', loss)"
   ]
  },
  {
   "cell_type": "markdown",
   "metadata": {},
   "source": [
    "## Gradient check\n",
    "After the loss looks reasonable, use numeric gradient checking to make sure that your backward pass is correct. When you use numeric gradient checking you should use a small amount of artifical data and a small number of neurons at each layer."
   ]
  },
  {
   "cell_type": "code",
   "execution_count": null,
   "metadata": {
    "collapsed": false,
    "scrolled": false
   },
   "outputs": [],
   "source": [
    "\n",
    "num_inputs = 5\n",
    "input_dim = (3, 16, 16)\n",
    "reg = 0.0\n",
    "num_classes = 10\n",
    "X = np.random.randn(num_inputs, *input_dim)\n",
    "y = np.random.randint(num_classes, size=num_inputs)\n",
    "\n",
    "model = ThreeLayerConvNet(num_filters=3, filter_size=3,\n",
    "                          input_dim=input_dim, hidden_dim=7,\n",
    "                          weight_scale=0.5, # 如果weight_scale=1e-3, 梯度检查会比较差\n",
    "                          dtype=np.float64)\n",
    "loss, grads = model.loss(X, y)\n",
    "for param_name in sorted(grads):\n",
    "    f = lambda _: model.loss(X, y)[0]\n",
    "    param_grad_num = eval_numerical_gradient(f, model.params[param_name], verbose=False, h=1e-8)\n",
    "    e = rel_error(param_grad_num, grads[param_name])\n",
    "    print ('%s max relative error: %e' % (param_name, e))\n",
    "  \n",
    "  \n",
    "from cs231n.gradient_check import grad_check_sparse\n",
    "for param_name in sorted(grads):\n",
    "    f = lambda _: model.loss(X, y)[0]\n",
    "    print('\\nchecking...', param_name)\n",
    "    grad_check_sparse(f, model.params[param_name], grads[param_name], num_checks=10, h=1e-5)  "
   ]
  },
  {
   "cell_type": "markdown",
   "metadata": {},
   "source": [
    "## Overfit small data\n",
    "A nice trick is to train your model with just a few training samples. You should be able to overfit small datasets, which will result in very high training accuracy and comparatively low validation accuracy."
   ]
  },
  {
   "cell_type": "code",
   "execution_count": 2,
   "metadata": {
    "collapsed": false
   },
   "outputs": [
    {
     "name": "stdout",
     "output_type": "stream",
     "text": [
      "cs231n/datasets\\data_batch_1\n",
      "X_train (5000, 32, 32, 3)\n",
      "X_val (1000, 32, 32, 3)\n",
      "X_test (2000, 32, 32, 3)\n",
      "X_train:  (5000, 3, 32, 32)\n",
      "X_test:  (2000, 3, 32, 32)\n",
      "X_val:  (1000, 3, 32, 32)\n",
      "y_val:  (1000,)\n",
      "y_test:  (2000,)\n",
      "y_train:  (5000,)\n"
     ]
    }
   ],
   "source": [
    "# Load the (preprocessed) CIFAR10 data.\n",
    "\n",
    "# data = get_CIFAR10_data(num_training=17000, num_validation=1000,\n",
    "#                         num_test=2000, astype='float')\n",
    "data = get_CIFAR10_data(num_training=5000, num_validation=1000,\n",
    "                        num_test=2000, astype=np.float32)\n",
    "\n",
    "for k, v in data.items():\n",
    "  print ('%s: ' % k, v.shape)"
   ]
  },
  {
   "cell_type": "code",
   "execution_count": null,
   "metadata": {
    "collapsed": false
   },
   "outputs": [],
   "source": [
    "num_train = 100\n",
    "small_data = {\n",
    "  'X_train': data['X_train'][:num_train],\n",
    "  'y_train': data['y_train'][:num_train],\n",
    "  'X_val': data['X_val'],\n",
    "  'y_val': data['y_val'],\n",
    "}\n",
    "\n",
    "model = ThreeLayerConvNet(weight_scale=1e-2)\n",
    "\n",
    "solver = Solver(model, small_data,\n",
    "                num_epochs=10, batch_size=50,\n",
    "                update_rule='adam',\n",
    "                optim_config={\n",
    "                  'learning_rate': 1e-3,\n",
    "                },\n",
    "                verbose=True, print_every=1)\n",
    "solver.train()"
   ]
  },
  {
   "cell_type": "markdown",
   "metadata": {},
   "source": [
    "Plotting the loss, training accuracy, and validation accuracy should show clear overfitting:"
   ]
  },
  {
   "cell_type": "code",
   "execution_count": null,
   "metadata": {
    "collapsed": false
   },
   "outputs": [],
   "source": [
    "plt.subplot(2, 1, 1)\n",
    "plt.plot(solver.loss_history, 'o')\n",
    "plt.xlabel('iteration')\n",
    "plt.ylabel('loss')\n",
    "\n",
    "plt.subplot(2, 1, 2)\n",
    "plt.plot(solver.train_acc_history, '-o')\n",
    "plt.plot(solver.val_acc_history, '-o')\n",
    "plt.legend(['train', 'val'], loc='upper left')\n",
    "plt.xlabel('epoch')\n",
    "plt.ylabel('accuracy')\n",
    "plt.show()"
   ]
  },
  {
   "cell_type": "markdown",
   "metadata": {},
   "source": [
    "## Train the net\n",
    "By training the three-layer convolutional network for one epoch, you should achieve greater than 40% accuracy on the training set:"
   ]
  },
  {
   "cell_type": "code",
   "execution_count": null,
   "metadata": {
    "collapsed": false,
    "scrolled": false
   },
   "outputs": [],
   "source": [
    "model = ThreeLayerConvNet(num_filters=32, weight_scale=0.001, \n",
    "                          hidden_dim=500, reg=0.001)\n",
    "\n",
    "\n",
    "solver = Solver(model, data,\n",
    "                num_epochs=1, batch_size=50,\n",
    "                update_rule='adam',\n",
    "                optim_config={\n",
    "                  'learning_rate': 1e-3,\n",
    "                },\n",
    "                verbose=True, print_every=20)\n",
    "solver.train()"
   ]
  },
  {
   "cell_type": "markdown",
   "metadata": {},
   "source": [
    "## Visualize Filters\n",
    "You can visualize the first-layer convolutional filters from the trained network by running the following:"
   ]
  },
  {
   "cell_type": "code",
   "execution_count": null,
   "metadata": {
    "collapsed": false
   },
   "outputs": [],
   "source": [
    "from cs231n.vis_utils import visualize_grid\n",
    "\n",
    "grid = visualize_grid(model.params['W1'].transpose(0, 2, 3, 1))\n",
    "plt.imshow(grid.astype('uint8'))\n",
    "plt.axis('off')\n",
    "plt.gcf().set_size_inches(3, 3)\n",
    "plt.show()"
   ]
  },
  {
   "cell_type": "markdown",
   "metadata": {},
   "source": [
    "# Spatial Batch Normalization\n",
    "We already saw that batch normalization is a very useful technique for training deep fully-connected networks. Batch normalization can also be used for convolutional networks, but we need to tweak it a bit; the modification will be called \"spatial batch normalization.\"\n",
    "\n",
    "Normally batch-normalization accepts inputs of shape `(N, D)` and produces outputs of shape `(N, D)`, where we normalize across the minibatch dimension `N`. For data coming from convolutional layers, batch normalization needs to accept inputs of shape `(N, C, H, W)` and produce outputs of shape `(N, C, H, W)` where the `N` dimension gives the minibatch size and the `(H, W)` dimensions give the spatial size of the feature map.\n",
    "\n",
    "If the feature map was produced using convolutions, then we expect the statistics of each feature channel to be relatively consistent both between different images and different locations within the same image. Therefore spatial batch normalization computes a mean and variance for each of the `C` feature channels by computing statistics over both the minibatch dimension `N` and the spatial dimensions `H` and `W`."
   ]
  },
  {
   "cell_type": "markdown",
   "metadata": {},
   "source": [
    "## Spatial batch normalization: forward\n",
    "\n",
    "In the file `cs231n/layers.py`, implement the forward pass for spatial batch normalization in the function `spatial_batchnorm_forward`. Check your implementation by running the following:"
   ]
  },
  {
   "cell_type": "code",
   "execution_count": 21,
   "metadata": {
    "collapsed": false
   },
   "outputs": [
    {
     "name": "stdout",
     "output_type": "stream",
     "text": [
      "Before spatial batch normalization:\n",
      "  Shape:  (2, 3, 4, 5)\n",
      "  Means:  [ 9.848563    9.65170954  9.90837282]\n",
      "  Stds:  [ 4.43063887  4.56066941  3.65301501]\n",
      "After spatial batch normalization:\n",
      "  Shape:  (2, 3, 4, 5)\n",
      "  Means:  [ -1.10467191e-15   4.44089210e-17   2.73114864e-15]\n",
      "  Stds:  [ 0.99983762  0.99995614  0.99977031]\n",
      "After spatial batch normalization (nontrivial gamma, beta):\n",
      "  Shape:  (2, 3, 4, 5)\n",
      "  Means:  [ 6.  7.  8.]\n",
      "  Stds:  [ 2.99951287  3.99982458  4.99885154]\n"
     ]
    }
   ],
   "source": [
    "# Check the training-time forward pass by checking means and variances\n",
    "# of features both before and after spatial batch normalization\n",
    "\n",
    "N, C, H, W = 2, 3, 4, 5\n",
    "x = 4 * np.random.randn(N, C, H, W) + 10\n",
    "\n",
    "print ('Before spatial batch normalization:')\n",
    "print ('  Shape: ', x.shape)\n",
    "print ('  Means: ', x.mean(axis=(0, 2, 3)))\n",
    "print ('  Stds: ', x.std(axis=(0, 2, 3)))\n",
    "\n",
    "# Means should be close to zero and stds close to one\n",
    "gamma, beta = np.ones(C), np.zeros(C)\n",
    "bn_param = {'mode': 'train'}\n",
    "out, _ = spatial_batchnorm_forward(x, gamma, beta, bn_param)\n",
    "print ('After spatial batch normalization:')\n",
    "print ('  Shape: ', out.shape)\n",
    "print ('  Means: ', out.mean(axis=(0, 2, 3)))\n",
    "print ('  Stds: ', out.std(axis=(0, 2, 3)))\n",
    "\n",
    "# Means should be close to beta and stds close to gamma\n",
    "gamma, beta = np.asarray([3, 4, 5]), np.asarray([6, 7, 8])\n",
    "out, _ = spatial_batchnorm_forward(x, gamma, beta, bn_param)\n",
    "print ('After spatial batch normalization (nontrivial gamma, beta):')\n",
    "print ('  Shape: ', out.shape)\n",
    "print ('  Means: ', out.mean(axis=(0, 2, 3)))\n",
    "print ('  Stds: ', out.std(axis=(0, 2, 3)))"
   ]
  },
  {
   "cell_type": "code",
   "execution_count": 20,
   "metadata": {
    "collapsed": false
   },
   "outputs": [
    {
     "name": "stdout",
     "output_type": "stream",
     "text": [
      "After spatial batch normalization (test-time):\n",
      "  means:  [-0.01607566  0.00439532  0.0250052   0.00856632]\n",
      "  stds:  [ 1.07775624  1.07084333  1.06390514  1.08558586]\n"
     ]
    }
   ],
   "source": [
    "# Check the test-time forward pass by running the training-time\n",
    "# forward pass many times to warm up the running averages, and then\n",
    "# checking the means and variances of activations after a test-time\n",
    "# forward pass.\n",
    "\n",
    "N, C, H, W = 10, 4, 11, 12\n",
    "\n",
    "bn_param = {'mode': 'train'}\n",
    "gamma = np.ones(C)\n",
    "beta = np.zeros(C)\n",
    "for t in range(50):\n",
    "  x = 2.3 * np.random.randn(N, C, H, W) + 13\n",
    "  spatial_batchnorm_forward(x, gamma, beta, bn_param)\n",
    "bn_param['mode'] = 'test'\n",
    "x = 2.3 * np.random.randn(N, C, H, W) + 13\n",
    "a_norm, _ = spatial_batchnorm_forward(x, gamma, beta, bn_param)\n",
    "\n",
    "# Means should be close to zero and stds close to one, but will be\n",
    "# noisier than training-time forward passes.\n",
    "print ('After spatial batch normalization (test-time):')\n",
    "print ('  means: ', a_norm.mean(axis=(0, 2, 3)))\n",
    "print ('  stds: ', a_norm.std(axis=(0, 2, 3)))"
   ]
  },
  {
   "cell_type": "markdown",
   "metadata": {},
   "source": [
    "## Spatial batch normalization: backward\n",
    "In the file `cs231n/layers.py`, implement the backward pass for spatial batch normalization in the function `spatial_batchnorm_backward`. Run the following to check your implementation using a numeric gradient check:"
   ]
  },
  {
   "cell_type": "code",
   "execution_count": 44,
   "metadata": {
    "collapsed": false
   },
   "outputs": [
    {
     "name": "stdout",
     "output_type": "stream",
     "text": [
      "dx error:  0.00235769071904\n",
      "dgamma error:  1.11103541142e-10\n",
      "dbeta error:  4.28100248515e-12\n",
      "1.41521924388e-09\n",
      "[[[[  2.55752228e-04   3.40022160e-09   1.85521571e-05   5.08045264e-06]\n",
      "   [  2.50509845e-06   1.42307034e-04   4.24106582e-07   2.06332022e-09]\n",
      "   [  1.86284635e-04   3.50390143e-07   2.01810935e-06   3.53464909e-04]\n",
      "   [  1.82115771e-05   9.79769868e-08   2.32931074e-05   6.52573594e-08]]\n",
      "\n",
      "  [[  1.48601636e-06   8.18578768e-08   1.56552924e-06   3.86801986e-06]\n",
      "   [  1.09990430e-05   1.71184873e-05   3.26738275e-05   1.00157115e-08]\n",
      "   [  8.48621040e-09   4.77715481e-06   1.05046926e-05   2.93582021e-06]\n",
      "   [  4.45704542e-05   2.96185842e-08   4.15918783e-06   2.86788159e-04]]\n",
      "\n",
      "  [[  2.47798811e-05   1.22285389e-05   1.57054525e-07   1.99261889e-06]\n",
      "   [  3.88937611e-04   5.47884068e-06   1.63276672e-05   1.86060533e-04]\n",
      "   [  8.81483611e-05   1.18985332e-04   2.20953383e-03   3.37728038e-05]\n",
      "   [  1.30538032e-08   3.62938266e-06   1.64289749e-05   1.52292510e-04]]]\n",
      "\n",
      "\n",
      " [[[  2.55752228e-04   3.40022160e-09   1.85521571e-05   5.08049343e-06]\n",
      "   [  2.50500917e-06   1.42306114e-04   4.24106582e-07   2.06309734e-09]\n",
      "   [  1.86284635e-04   3.50390143e-07   2.01817270e-06   3.53464909e-04]\n",
      "   [  1.82115771e-05   1.03080227e-07   2.32931074e-05   6.52573594e-08]]\n",
      "\n",
      "  [[  1.25777065e-05   8.18578768e-08   1.56552924e-06   3.86801986e-06]\n",
      "   [  1.09990430e-05   1.71184873e-05   3.26738275e-05   1.00156668e-08]\n",
      "   [  8.48621040e-09   4.77714472e-06   1.05046926e-05   2.93586937e-06]\n",
      "   [  4.45699009e-05   2.96185842e-08   1.48598548e-05   2.86788159e-04]]\n",
      "\n",
      "  [[  2.47798811e-05   7.39718348e-05   1.57064441e-07   1.99261889e-06]\n",
      "   [  3.88936917e-04   5.47884068e-06   1.63276672e-05   1.86060533e-04]\n",
      "   [  8.81483611e-05   1.28703506e-04   2.35769072e-03   3.37728038e-05]\n",
      "   [  1.30538032e-08   3.62938266e-06   1.81999853e-05   1.52292231e-04]]]]\n",
      "[[[[ -2.24491601e-08  -3.16239554e-03  -1.43056064e-07  -3.40189912e-07]\n",
      "   [  3.10878243e-07   1.50879255e-08  -1.44594898e-06   1.99252263e-03]\n",
      "   [ -9.55851936e-10  -2.91633581e-06  -4.38151804e-07   4.73933403e-09]\n",
      "   [ -1.18808049e-07  -6.86464872e-03  -2.85348486e-07   1.17471630e-04]]\n",
      "\n",
      "  [[  1.02877998e-06   1.05346565e-04   3.12290547e-07   1.63331920e-07]\n",
      "   [ -2.15061040e-07  -6.47479027e-08   5.39279189e-07  -3.97442831e-02]\n",
      "   [  3.41622063e-04  -2.75052412e-06  -4.19790706e-07   2.25835828e-06]\n",
      "   [  2.50839932e-08   1.69976456e-05   2.83860989e-07   2.07777190e-08]]\n",
      "\n",
      "  [[  3.12258945e-07  -7.64210319e-09   5.59789151e-06   1.13779039e-06]\n",
      "   [  3.26608806e-09  -2.53195000e-06  -4.26462241e-07  -7.60080709e-08]\n",
      "   [  3.11770724e-08   4.22225662e-08   1.43411075e-09   2.48774631e-08]\n",
      "   [  2.20550766e-04   1.29574071e-06   3.94860634e-06   9.96295565e-08]]]\n",
      "\n",
      "\n",
      " [[[  2.24491601e-08   3.16239554e-03   1.43056064e-07   3.40189912e-07]\n",
      "   [ -3.10878243e-07  -1.50879254e-08   1.44594898e-06  -1.99252263e-03]\n",
      "   [  9.55851936e-10   2.91633581e-06   4.38151804e-07  -4.73933403e-09]\n",
      "   [  1.18808049e-07   6.86464872e-03   2.85348486e-07  -1.17471630e-04]]\n",
      "\n",
      "  [[ -1.02877998e-06  -1.05346565e-04  -3.12290547e-07  -1.63331920e-07]\n",
      "   [  2.15061040e-07   6.47479027e-08  -5.39279189e-07   3.97442831e-02]\n",
      "   [ -3.41622063e-04   2.75052412e-06   4.19790706e-07  -2.25835828e-06]\n",
      "   [ -2.50839932e-08  -1.69976456e-05  -2.83860989e-07  -2.07777190e-08]]\n",
      "\n",
      "  [[ -3.12258945e-07   7.64210320e-09  -5.59789151e-06  -1.13779039e-06]\n",
      "   [ -3.26608805e-09   2.53195000e-06   4.26462241e-07   7.60080709e-08]\n",
      "   [ -3.11770724e-08  -4.22225662e-08  -1.43411075e-09  -2.48774631e-08]\n",
      "   [ -2.20550766e-04  -1.29574071e-06  -3.94860634e-06  -9.96295566e-08]]]]\n"
     ]
    }
   ],
   "source": [
    "N, C, H, W = 2, 3, 4, 5\n",
    "# N > 2 时 dx_error 会比较好看 why?\n",
    "x = 5 * np.random.randn(N, C, H, W) + 12\n",
    "gamma = np.random.randn(C)\n",
    "beta = np.random.randn(C)\n",
    "dout = np.random.randn(N, C, H, W)\n",
    "\n",
    "bn_param = {'mode': 'train'}\n",
    "fx = lambda x: spatial_batchnorm_forward(x, gamma, beta, bn_param)[0]\n",
    "fg = lambda a: spatial_batchnorm_forward(x, gamma, beta, bn_param)[0]\n",
    "fb = lambda b: spatial_batchnorm_forward(x, gamma, beta, bn_param)[0]\n",
    "\n",
    "dx_num = eval_numerical_gradient_array(fx, x, dout)\n",
    "da_num = eval_numerical_gradient_array(fg, gamma, dout)\n",
    "db_num = eval_numerical_gradient_array(fb, beta, dout)\n",
    "\n",
    "_, cache = spatial_batchnorm_forward(x, gamma, beta, bn_param)\n",
    "dx, dgamma, dbeta = spatial_batchnorm_backward(dout, cache)\n",
    "print ('dx error: ', rel_error(dx_num, dx))\n",
    "print ('dgamma error: ', rel_error(da_num, dgamma))\n",
    "print ('dbeta error: ', rel_error(db_num, dbeta))\n",
    "\n",
    "# print('dx_num', dx_num)\n",
    "# print('dx', dx)\n",
    "\n",
    "print(np.max(dx_num - dx))\n",
    "# print(dx_num - dx)\n",
    "\n",
    "\n",
    "def rel_error_mat(x, y):\n",
    "  return np.abs(x - y) / (np.maximum(1e-8, np.abs(x) + np.abs(y)))\n",
    "\n",
    "print(rel_error_mat(dx_num, dx))\n",
    "\n",
    "print(dx)\n",
    "\n",
    "# print('dgamma', da_num, dgamma)\n",
    "# print('dbeta', db_num, dbeta)"
   ]
  },
  {
   "cell_type": "markdown",
   "metadata": {},
   "source": [
    "# Experiment!\n",
    "Experiment and try to get the best performance that you can on CIFAR-10 using a ConvNet. Here are some ideas to get you started:\n",
    "\n",
    "### Things you should try:\n",
    "- Filter size: Above we used 7x7; this makes pretty pictures but smaller filters may be more efficient\n",
    "- Number of filters: Above we used 32 filters. Do more or fewer do better?\n",
    "- Batch normalization: Try adding spatial batch normalization after convolution layers and vanilla batch normalization aafter affine layers. Do your networks train faster?\n",
    "- Network architecture: The network above has two layers of trainable parameters. Can you do better with a deeper network? You can implement alternative architectures in the file `cs231n/classifiers/convnet.py`. Some good architectures to try include:\n",
    "    - [conv-relu-pool]xN - conv - relu - [affine]xM - [softmax or SVM]\n",
    "    - [conv-relu-pool]XN - [affine]XM - [softmax or SVM]\n",
    "    - [conv-relu-conv-relu-pool]xN - [affine]xM - [softmax or SVM]\n",
    "\n",
    "### Tips for training\n",
    "For each network architecture that you try, you should tune the learning rate and regularization strength. When doing this there are a couple important things to keep in mind:\n",
    "\n",
    "- If the parameters are working well, you should see improvement within a few hundred iterations\n",
    "- Remember the course-to-fine approach for hyperparameter tuning: start by testing a large range of hyperparameters for just a few training iterations to find the combinations of parameters that are working at all.\n",
    "- Once you have found some sets of parameters that seem to work, search more finely around these parameters. You may need to train for more epochs.\n",
    "\n",
    "### Going above and beyond\n",
    "If you are feeling adventurous there are many other features you can implement to try and improve your performance. You are **not required** to implement any of these; however they would be good things to try for extra credit.\n",
    "\n",
    "- Alternative update steps: For the assignment we implemented SGD+momentum, RMSprop, and Adam; you could try alternatives like AdaGrad or AdaDelta.\n",
    "- Alternative activation functions such as leaky ReLU, parametric ReLU, or MaxOut.\n",
    "- Model ensembles\n",
    "- Data augmentation\n",
    "\n",
    "If you do decide to implement something extra, clearly describe it in the \"Extra Credit Description\" cell below.\n",
    "\n",
    "### What we expect\n",
    "At the very least, you should be able to train a ConvNet that gets at least 65% accuracy on the validation set. This is just a lower bound - if you are careful it should be possible to get accuracies much higher than that! Extra credit points will be awarded for particularly high-scoring models or unique approaches.\n",
    "\n",
    "You should use the space below to experiment and train your network. The final cell in this notebook should contain the training, validation, and test set accuracies for your final trained network. In this notebook you should also write an explanation of what you did, any additional features that you implemented, and any visualizations or graphs that you make in the process of training and evaluating your network.\n",
    "\n",
    "Have fun and happy training!"
   ]
  },
  {
   "cell_type": "code",
   "execution_count": 3,
   "metadata": {
    "collapsed": true
   },
   "outputs": [],
   "source": [
    "\n",
    "num_train = 500\n",
    "middle_data = {\n",
    "  'X_train': data['X_train'][:num_train],\n",
    "  'y_train': data['y_train'][:num_train],\n",
    "  'X_val': data['X_val'],\n",
    "  'y_val': data['y_val'],\n",
    "}\n"
   ]
  },
  {
   "cell_type": "code",
   "execution_count": 74,
   "metadata": {
    "collapsed": true
   },
   "outputs": [],
   "source": [
    "import math\n",
    "import random\n",
    "from cs231n.classifiers.cnn import CustomConvNet\n",
    "\n",
    "\n",
    "def clip_small_data(data, num_train=500, num_val=500):\n",
    "  small_data = {\n",
    "    'X_train': data['X_train'][:num_train],\n",
    "    'y_train': data['y_train'][:num_train],\n",
    "    'X_val': data['X_val'][:num_val],\n",
    "    'y_val': data['y_val'][:num_val],\n",
    "  }\n",
    "  return small_data\n",
    "\n",
    "def random_select(a, b=None, kind='exp'):\n",
    "  if kind == 'exp':\n",
    "    p = 10 ** random.uniform(math.log10(a), math.log10(b))\n",
    "  elif kind == 'linear':\n",
    "    p = random.uniform(a, b)\n",
    "  return p\n",
    "\n",
    "def random_search(max_search_times=20,\n",
    "                  report_val_acc=0.2,\n",
    "                  num_epochs=3,\n",
    "                  lr_decays=(0.5, 0.99),   # 0.99\n",
    "                  weight_scales=(0.001, 0.1),  # 5e-2\n",
    "                  regs=(0.1, 1, 'linear'),  # 0.01\n",
    "                  learning_rates=(0.001, 0.1),  # 1e-2\n",
    "                  ):\n",
    "  \n",
    "  small_data = clip_small_data(data)\n",
    "  print('small_data X_train shape', small_data['X_train'].shape)\n",
    "  results = []\n",
    "  for i in range(max_search_times):\n",
    "\n",
    "    model = CustomConvNet(input_dim=(3, 32, 32),\n",
    "                          filters=(20, ),\n",
    "                          filter_size=7,\n",
    "                          hidden_dims=(100, ),\n",
    "                          num_classes=10,\n",
    "                          weight_scale=random_select(*weight_scales),\n",
    "                          reg=random_select(*regs),\n",
    "                          use_batchnorm=False,\n",
    "                          dtype=np.float32)\n",
    "    if i % 10 == 0:\n",
    "      print('try params ', i+1, max_search_times)\n",
    "      \n",
    "    solver = Solver(model, \n",
    "                    small_data,\n",
    "                    num_epochs=num_epochs, \n",
    "                    batch_size=50,\n",
    "                    update_rule='adam',\n",
    "                    lr_decay=random_select(*lr_decays),\n",
    "                    optim_config={\n",
    "                      'learning_rate': random_select(*learning_rates),\n",
    "                    },\n",
    "                    verbose=False)\n",
    "    \n",
    "    solver.train()\n",
    "    val_acc = max(solver.val_acc_history)\n",
    "#     if val_acc >= stop_val_acc:\n",
    "#       break\n",
    "    if val_acc >= report_val_acc:\n",
    "      results.append(solver.report_hyper_params(verbose=True))\n",
    "    else:\n",
    "      results.append(solver.report_hyper_params(verbose=False))\n",
    "\n",
    "  print('done', max_search_times)\n",
    "  return results\n",
    "\n",
    "\n",
    "def print_results(results):\n",
    "  from pprint import pprint\n",
    "  ys = [r['last_val_acc'] for r in results]\n",
    "    \n",
    "  ax = plt.subplot(4, 1, 1)\n",
    "  ax.set_xscale('log')\n",
    "  xs = [r['init_learning_rate'] for r in results]\n",
    "  plt.plot(xs, ys, 'o')\n",
    "  plt.xlabel('init_learning_rate')\n",
    "  plt.ylabel('val acc')\n",
    "  \n",
    "  ax = plt.subplot(4, 1, 2)\n",
    "  xs = [r['lr_decay'] for r in results]\n",
    "  plt.plot(xs, ys, 'o')\n",
    "#   plt.title('lr_decay')\n",
    "  plt.xlabel('lr_decay')\n",
    "  plt.ylabel('val acc')\n",
    "  \n",
    "  ax = plt.subplot(4, 1, 3)\n",
    "  ax.set_xscale('log')\n",
    "  xs = [r['reg'] for r in results]\n",
    "  plt.plot(xs, ys, 'o')\n",
    "#   plt.title('reg')\n",
    "  plt.xlabel('reg')\n",
    "  plt.ylabel('val acc')\n",
    "  \n",
    "  ax = plt.subplot(4, 1, 4)\n",
    "  ax.set_xscale('log')\n",
    "  xs = [r['weight_scale'] for r in results]\n",
    "  plt.plot(xs, ys, 'o')\n",
    "#   plt.title('weight_scale')\n",
    "  plt.xlabel('weight_scale')\n",
    "  plt.ylabel('val acc')\n",
    "  \n",
    "  plt.gcf().set_size_inches(12, 18)\n",
    "  plt.show()\n",
    "  \n",
    "  \n",
    "def print_solver(solver):\n",
    "  plt.subplot(2, 1, 1)\n",
    "  plt.title('Training loss')\n",
    "  plt.plot(solver.loss_history, 'o')\n",
    "  plt.xlabel('Iteration')\n",
    "\n",
    "  plt.subplot(2, 1, 2)\n",
    "  plt.title('Accuracy')\n",
    "  plt.plot(solver.train_acc_history, '-o', label='train')\n",
    "  plt.plot(solver.val_acc_history, '-o', label='val')\n",
    "  plt.plot([0.5] * len(solver.val_acc_history), 'k--')\n",
    "  plt.xlabel('Epoch')\n",
    "  plt.legend(loc='lower right')\n",
    "  plt.gcf().set_size_inches(15, 12)\n",
    "  plt.show()"
   ]
  },
  {
   "cell_type": "code",
   "execution_count": 75,
   "metadata": {
    "collapsed": false
   },
   "outputs": [
    {
     "name": "stdout",
     "output_type": "stream",
     "text": [
      "small_data X_train shape (500, 3, 32, 32)\n",
      "try params  1 80\n",
      "{'model': <cs231n.classifiers.cnn.CustomConvNet object at 0x05ECC330>,\n",
      " 'last_val_acc': 0.28000000000000003,\n",
      " 'best_val_acc': 0.28000000000000003,\n",
      " 'init_learning_rate': 0.000589,\n",
      " 'lr_decay': 0.9894,\n",
      " 'reg': 1.4991,\n",
      " 'weight_scale': 0.0147}\n"
     ]
    },
    {
     "ename": "KeyboardInterrupt",
     "evalue": "",
     "output_type": "error",
     "traceback": [
      "\u001b[1;31m\u001b[0m",
      "\u001b[1;31mKeyboardInterrupt\u001b[0mTraceback (most recent call last)",
      "\u001b[1;32m<ipython-input-75-8f3a801dab1a>\u001b[0m in \u001b[0;36m<module>\u001b[1;34m()\u001b[0m\n\u001b[0;32m     11\u001b[0m                         \u001b[0mweight_scales\u001b[0m\u001b[1;33m=\u001b[0m\u001b[1;33m(\u001b[0m\u001b[1;36m0.00001\u001b[0m\u001b[1;33m,\u001b[0m \u001b[1;36m0.2\u001b[0m\u001b[1;33m)\u001b[0m\u001b[1;33m,\u001b[0m\u001b[1;33m\u001b[0m\u001b[0m\n\u001b[0;32m     12\u001b[0m                         \u001b[0mregs\u001b[0m\u001b[1;33m=\u001b[0m\u001b[1;33m(\u001b[0m\u001b[1;36m0.001\u001b[0m\u001b[1;33m,\u001b[0m \u001b[1;36m3\u001b[0m\u001b[1;33m)\u001b[0m\u001b[1;33m,\u001b[0m\u001b[1;33m\u001b[0m\u001b[0m\n\u001b[1;32m---> 13\u001b[1;33m                         \u001b[0mlearning_rates\u001b[0m\u001b[1;33m=\u001b[0m\u001b[1;33m(\u001b[0m\u001b[1;36m0.0001\u001b[0m\u001b[1;33m,\u001b[0m \u001b[1;36m0.01\u001b[0m\u001b[1;33m)\u001b[0m\u001b[1;33m,\u001b[0m\u001b[1;33m\u001b[0m\u001b[0m\n\u001b[0m\u001b[0;32m     14\u001b[0m                         )\n\u001b[0;32m     15\u001b[0m \u001b[1;33m\u001b[0m\u001b[0m\n",
      "\u001b[1;32m<ipython-input-74-003ba61c95bf>\u001b[0m in \u001b[0;36mrandom_search\u001b[1;34m(max_search_times, report_val_acc, num_epochs, lr_decays, weight_scales, regs, learning_rates)\u001b[0m\n\u001b[0;32m     57\u001b[0m                     verbose=False)\n\u001b[0;32m     58\u001b[0m \u001b[1;33m\u001b[0m\u001b[0m\n\u001b[1;32m---> 59\u001b[1;33m     \u001b[0msolver\u001b[0m\u001b[1;33m.\u001b[0m\u001b[0mtrain\u001b[0m\u001b[1;33m(\u001b[0m\u001b[1;33m)\u001b[0m\u001b[1;33m\u001b[0m\u001b[0m\n\u001b[0m\u001b[0;32m     60\u001b[0m     \u001b[0mval_acc\u001b[0m \u001b[1;33m=\u001b[0m \u001b[0mmax\u001b[0m\u001b[1;33m(\u001b[0m\u001b[0msolver\u001b[0m\u001b[1;33m.\u001b[0m\u001b[0mval_acc_history\u001b[0m\u001b[1;33m)\u001b[0m\u001b[1;33m\u001b[0m\u001b[0m\n\u001b[0;32m     61\u001b[0m \u001b[1;31m#     if val_acc >= stop_val_acc:\u001b[0m\u001b[1;33m\u001b[0m\u001b[1;33m\u001b[0m\u001b[0m\n",
      "\u001b[1;32mD:\\kaggle\\CS231n_assignment2\\cs231n\\solver.py\u001b[0m in \u001b[0;36mtrain\u001b[1;34m(self)\u001b[0m\n\u001b[0;32m    258\u001b[0m \u001b[1;33m\u001b[0m\u001b[0m\n\u001b[0;32m    259\u001b[0m     \u001b[1;32mfor\u001b[0m \u001b[0mt\u001b[0m \u001b[1;32min\u001b[0m \u001b[0mrange\u001b[0m\u001b[1;33m(\u001b[0m\u001b[0mnum_iterations\u001b[0m\u001b[1;33m)\u001b[0m\u001b[1;33m:\u001b[0m\u001b[1;33m\u001b[0m\u001b[0m\n\u001b[1;32m--> 260\u001b[1;33m       \u001b[0mself\u001b[0m\u001b[1;33m.\u001b[0m\u001b[0m_step\u001b[0m\u001b[1;33m(\u001b[0m\u001b[1;33m)\u001b[0m\u001b[1;33m\u001b[0m\u001b[0m\n\u001b[0m\u001b[0;32m    261\u001b[0m \u001b[1;33m\u001b[0m\u001b[0m\n\u001b[0;32m    262\u001b[0m       \u001b[1;31m# Maybe print training loss\u001b[0m\u001b[1;33m\u001b[0m\u001b[1;33m\u001b[0m\u001b[0m\n",
      "\u001b[1;32mD:\\kaggle\\CS231n_assignment2\\cs231n\\solver.py\u001b[0m in \u001b[0;36m_step\u001b[1;34m(self)\u001b[0m\n\u001b[0;32m    202\u001b[0m       \u001b[0mdw\u001b[0m \u001b[1;33m=\u001b[0m \u001b[0mgrads\u001b[0m\u001b[1;33m[\u001b[0m\u001b[0mp\u001b[0m\u001b[1;33m]\u001b[0m\u001b[1;33m\u001b[0m\u001b[0m\n\u001b[0;32m    203\u001b[0m       \u001b[0mconfig\u001b[0m \u001b[1;33m=\u001b[0m \u001b[0mself\u001b[0m\u001b[1;33m.\u001b[0m\u001b[0moptim_configs\u001b[0m\u001b[1;33m[\u001b[0m\u001b[0mp\u001b[0m\u001b[1;33m]\u001b[0m\u001b[1;33m\u001b[0m\u001b[0m\n\u001b[1;32m--> 204\u001b[1;33m       \u001b[0mnext_w\u001b[0m\u001b[1;33m,\u001b[0m \u001b[0mnext_config\u001b[0m \u001b[1;33m=\u001b[0m \u001b[0mself\u001b[0m\u001b[1;33m.\u001b[0m\u001b[0mupdate_rule\u001b[0m\u001b[1;33m(\u001b[0m\u001b[0mw\u001b[0m\u001b[1;33m,\u001b[0m \u001b[0mdw\u001b[0m\u001b[1;33m,\u001b[0m \u001b[0mconfig\u001b[0m\u001b[1;33m)\u001b[0m\u001b[1;33m\u001b[0m\u001b[0m\n\u001b[0m\u001b[0;32m    205\u001b[0m       \u001b[0mself\u001b[0m\u001b[1;33m.\u001b[0m\u001b[0mmodel\u001b[0m\u001b[1;33m.\u001b[0m\u001b[0mparams\u001b[0m\u001b[1;33m[\u001b[0m\u001b[0mp\u001b[0m\u001b[1;33m]\u001b[0m \u001b[1;33m=\u001b[0m \u001b[0mnext_w\u001b[0m\u001b[1;33m\u001b[0m\u001b[0m\n\u001b[0;32m    206\u001b[0m       \u001b[0mself\u001b[0m\u001b[1;33m.\u001b[0m\u001b[0moptim_configs\u001b[0m\u001b[1;33m[\u001b[0m\u001b[0mp\u001b[0m\u001b[1;33m]\u001b[0m \u001b[1;33m=\u001b[0m \u001b[0mnext_config\u001b[0m\u001b[1;33m\u001b[0m\u001b[0m\n",
      "\u001b[1;32mD:\\kaggle\\CS231n_assignment2\\cs231n\\optim.py\u001b[0m in \u001b[0;36madam\u001b[1;34m(x, dx, config)\u001b[0m\n\u001b[0;32m    167\u001b[0m   \u001b[0mmb\u001b[0m \u001b[1;33m=\u001b[0m \u001b[0mm\u001b[0m \u001b[1;33m/\u001b[0m \u001b[1;33m(\u001b[0m\u001b[1;36m1\u001b[0m \u001b[1;33m-\u001b[0m \u001b[0mbeta1\u001b[0m \u001b[1;33m**\u001b[0m \u001b[0mt\u001b[0m\u001b[1;33m)\u001b[0m\u001b[1;33m\u001b[0m\u001b[0m\n\u001b[0;32m    168\u001b[0m   \u001b[0mvb\u001b[0m \u001b[1;33m=\u001b[0m \u001b[0mv\u001b[0m \u001b[1;33m/\u001b[0m \u001b[1;33m(\u001b[0m\u001b[1;36m1\u001b[0m \u001b[1;33m-\u001b[0m \u001b[0mbeta2\u001b[0m \u001b[1;33m**\u001b[0m \u001b[0mt\u001b[0m\u001b[1;33m)\u001b[0m\u001b[1;33m\u001b[0m\u001b[0m\n\u001b[1;32m--> 169\u001b[1;33m   \u001b[0mx\u001b[0m \u001b[1;33m+=\u001b[0m \u001b[1;33m-\u001b[0m \u001b[0mlearning_rate\u001b[0m \u001b[1;33m*\u001b[0m \u001b[0mmb\u001b[0m \u001b[1;33m/\u001b[0m \u001b[1;33m(\u001b[0m\u001b[0mnp\u001b[0m\u001b[1;33m.\u001b[0m\u001b[0msqrt\u001b[0m\u001b[1;33m(\u001b[0m\u001b[0mvb\u001b[0m\u001b[1;33m)\u001b[0m \u001b[1;33m+\u001b[0m \u001b[0meps\u001b[0m\u001b[1;33m)\u001b[0m\u001b[1;33m\u001b[0m\u001b[0m\n\u001b[0m\u001b[0;32m    170\u001b[0m \u001b[1;33m\u001b[0m\u001b[0m\n\u001b[0;32m    171\u001b[0m   \u001b[0mconfig\u001b[0m\u001b[1;33m[\u001b[0m\u001b[1;34m'm'\u001b[0m\u001b[1;33m]\u001b[0m \u001b[1;33m=\u001b[0m \u001b[0mm\u001b[0m\u001b[1;33m\u001b[0m\u001b[0m\n",
      "\u001b[1;31mKeyboardInterrupt\u001b[0m: "
     ]
    }
   ],
   "source": [
    "# test API\n",
    "\n",
    "# on full data test 太慢了, 根据有限的 10+ 个测试,\n",
    "# 选择同样的参数, 作用在 small data 和 full data 上结果差不多\n",
    "best_model = None\n",
    "\n",
    "results = random_search(max_search_times=80,\n",
    "                        report_val_acc=0.35,\n",
    "                        num_epochs=3,\n",
    "                        lr_decays=(0.85, 0.99),  \n",
    "                        weight_scales=(0.00001, 0.2),  \n",
    "                        regs=(0.001, 3),  \n",
    "                        learning_rates=(0.0001, 0.01),  \n",
    "                        )\n",
    "\n",
    "print(len(results))\n",
    "print_results(results)\n"
   ]
  },
  {
   "cell_type": "code",
   "execution_count": null,
   "metadata": {
    "collapsed": false
   },
   "outputs": [],
   "source": [
    "# Train a really good model on CIFAR-10\n",
    "model = ThreeLayerConvNet(num_filters=32, weight_scale=0.001, \n",
    "                          hidden_dim=500, reg=0.001)\n",
    "\n",
    "solver = Solver(model, data,\n",
    "                num_epochs=1, batch_size=50,\n",
    "                update_rule='adam',\n",
    "                optim_config={\n",
    "                  'learning_rate': 1e-3,\n",
    "                },\n",
    "                verbose=True, print_every=20)\n",
    "solver.train()\n",
    "\n"
   ]
  },
  {
   "cell_type": "markdown",
   "metadata": {},
   "source": [
    "# Extra Credit Description\n",
    "If you implement any additional features for extra credit, clearly describe them here with pointers to any code in this or other files if applicable."
   ]
  }
 ],
 "metadata": {
  "kernelspec": {
   "display_name": "Python 3",
   "language": "python",
   "name": "python3"
  },
  "language_info": {
   "codemirror_mode": {
    "name": "ipython",
    "version": 3
   },
   "file_extension": ".py",
   "mimetype": "text/x-python",
   "name": "python",
   "nbconvert_exporter": "python",
   "pygments_lexer": "ipython3",
   "version": "3.4.3"
  }
 },
 "nbformat": 4,
 "nbformat_minor": 0
}
