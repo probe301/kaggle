{
 "cells": [
  {
   "cell_type": "markdown",
   "metadata": {},
   "source": [
    "# Python数据处理的瑞士军刀 - pandas\n",
    "\n",
    "## 第一篇：基本数据结构介绍\n",
    "\n",
    "\n",
    "#### 一、Pandas介绍\n",
    "\n",
    "终于写到了作者最想介绍，同时也是Python在数据处理方面功能最为强大的扩展模块了。在处理实际的金融数据时，一个条数据通常包含了多种类型的数据，例如，股票的代码是字符串，收盘价是浮点型，而成交量是整型等。在C++中可以实现为一个给定结构体作为单元的容器，如向量（vector，C++中的特定数据结构）。在Python中，pandas包含了高级的数据结构Series和DataFrame，使得在Python中处理数据变得非常方便、快速和简单。\n",
    "\n",
    "pandas不同的版本之间存在一些不兼容性，为此，我们需要清楚使用的是哪一个版本的pandas。现在我们就查看一下量化实验室的pandas版本："
   ]
  },
  {
   "cell_type": "code",
   "execution_count": 2,
   "metadata": {
    "collapsed": false
   },
   "outputs": [
    {
     "data": {
      "text/plain": [
       "'0.15.2'"
      ]
     },
     "execution_count": 2,
     "metadata": {},
     "output_type": "execute_result"
    }
   ],
   "source": [
    "import pandas as pd\n",
    "pd.__version__"
   ]
  },
  {
   "cell_type": "markdown",
   "metadata": {},
   "source": [
    "pandas主要的两个数据结构是Series和DataFrame，随后两节将介绍如何由其他类型的数据结构得到这两种数据结构，或者自行创建这两种数据结构，我们先导入它们以及相关模块："
   ]
  },
  {
   "cell_type": "code",
   "execution_count": 3,
   "metadata": {
    "collapsed": true
   },
   "outputs": [],
   "source": [
    "import numpy as np\n",
    "from pandas import Series, DataFrame"
   ]
  },
  {
   "cell_type": "markdown",
   "metadata": {},
   "source": [
    "#### 二、Pandas数据结构：Series\n",
    "\n",
    "从一般意义上来讲，Series可以简单地被认为是一维的数组。Series和一维数组最主要的区别在于Series类型具有索引（index），可以和另一个编程中常见的数据结构哈希（Hash）联系起来。\n",
    "\n",
    "\n",
    "##### 2.1 创建Series\n",
    "\n",
    "创建一个Series的基本格式是 `s = Series(data, index=index, name=name)`，以下给出几个创建Series的例子。首先我们从数组创建Series："
   ]
  },
  {
   "cell_type": "code",
   "execution_count": 5,
   "metadata": {
    "collapsed": false
   },
   "outputs": [
    {
     "name": "stdout",
     "output_type": "stream",
     "text": [
      "a is an array:\n",
      "[ 0.55503144 -0.60832083  1.39523485  1.43339289 -0.18342857]\n",
      "s is a Series:\n",
      "0    0.555031\n",
      "1   -0.608321\n",
      "2    1.395235\n",
      "3    1.433393\n",
      "4   -0.183429\n",
      "dtype: float64\n"
     ]
    }
   ],
   "source": [
    "a = np.random.randn(5)\n",
    "print(\"a is an array:\")\n",
    "print(a)\n",
    "s = Series(a)\n",
    "print(\"s is a Series:\")\n",
    "print(s)"
   ]
  },
  {
   "cell_type": "markdown",
   "metadata": {},
   "source": [
    "可以在创建Series时添加index，并可使用Series.index查看具体的index。需要注意的一点是，当从数组创建Series时，若指定index，那么index长度要和data的长度一致："
   ]
  },
  {
   "cell_type": "code",
   "execution_count": 7,
   "metadata": {
    "collapsed": false
   },
   "outputs": [
    {
     "name": "stdout",
     "output_type": "stream",
     "text": [
      "a    0.846857\n",
      "b   -2.493149\n",
      "c    0.325951\n",
      "d   -0.852810\n",
      "e    0.525263\n",
      "dtype: float64\n"
     ]
    },
    {
     "data": {
      "text/plain": [
       "Index(['a', 'b', 'c', 'd', 'e'], dtype='object')"
      ]
     },
     "execution_count": 7,
     "metadata": {},
     "output_type": "execute_result"
    }
   ],
   "source": [
    "s = Series(np.random.randn(5), index=['a', 'b', 'c', 'd', 'e'])\n",
    "print(s)\n",
    "s.index"
   ]
  },
  {
   "cell_type": "markdown",
   "metadata": {},
   "source": [
    "创建Series的另一个可选项是name，可指定Series的名称，可用Series.name访问。在随后的DataFrame中，每一列的列名在该列被单独取出来时就成了Series的名称："
   ]
  },
  {
   "cell_type": "code",
   "execution_count": 9,
   "metadata": {
    "collapsed": false
   },
   "outputs": [
    {
     "name": "stdout",
     "output_type": "stream",
     "text": [
      "a   -0.298121\n",
      "b   -0.330038\n",
      "c    0.183048\n",
      "d   -0.028127\n",
      "e    0.190952\n",
      "Name: my_series, dtype: float64\n",
      "my_series\n"
     ]
    }
   ],
   "source": [
    "s = Series(np.random.randn(5), index=['a', 'b', 'c', 'd', 'e'], name='my_series')\n",
    "print(s)\n",
    "print(s.name)"
   ]
  },
  {
   "cell_type": "code",
   "execution_count": null,
   "metadata": {
    "collapsed": true
   },
   "outputs": [],
   "source": [
    "Series还可以从字典（dict）创建："
   ]
  },
  {
   "cell_type": "code",
   "execution_count": 12,
   "metadata": {
    "collapsed": false
   },
   "outputs": [
    {
     "name": "stdout",
     "output_type": "stream",
     "text": [
      "d is a dict:\n",
      "{'a': 0.0, 'c': 2, 'b': 1}\n",
      "s is a Series:\n",
      "a    0\n",
      "b    1\n",
      "c    2\n",
      "dtype: float64\n"
     ]
    }
   ],
   "source": [
    "d = {'a': 0., 'b': 1, 'c': 2}\n",
    "print(\"d is a dict:\")\n",
    "print(d)\n",
    "s = Series(d)\n",
    "print(\"s is a Series:\")\n",
    "print(s)"
   ]
  },
  {
   "cell_type": "markdown",
   "metadata": {},
   "source": [
    "让我们来看看使用字典创建Series时指定index的情形（index长度不必和字典相同）："
   ]
  },
  {
   "cell_type": "code",
   "execution_count": 14,
   "metadata": {
    "collapsed": false
   },
   "outputs": [
    {
     "data": {
      "text/plain": [
       "b     1\n",
       "c     2\n",
       "d   NaN\n",
       "a     0\n",
       "dtype: float64"
      ]
     },
     "execution_count": 14,
     "metadata": {},
     "output_type": "execute_result"
    }
   ],
   "source": [
    "Series(d, index=['b', 'c', 'd', 'a'])"
   ]
  },
  {
   "cell_type": "markdown",
   "metadata": {},
   "source": [
    "我们可以观察到两点：一是字典创建的Series，数据将按index的顺序重新排列；二是index长度可以和字典长度不一致，如果多了的话，pandas将自动为多余的index分配NaN（not a number，pandas中数据缺失的标准记号)，当然index少的话就截取部分的字典内容。\n",
    "\n",
    "如果数据就是一个单一的变量，如数字4，那么Series将重复这个变量："
   ]
  },
  {
   "cell_type": "code",
   "execution_count": 15,
   "metadata": {
    "collapsed": false
   },
   "outputs": [
    {
     "data": {
      "text/plain": [
       "a    4\n",
       "b    4\n",
       "c    4\n",
       "d    4\n",
       "e    4\n",
       "dtype: float64"
      ]
     },
     "execution_count": 15,
     "metadata": {},
     "output_type": "execute_result"
    }
   ],
   "source": [
    "Series(4., index=['a', 'b', 'c', 'd', 'e'])"
   ]
  },
  {
   "cell_type": "markdown",
   "metadata": {},
   "source": [
    "##### 2.2 Series数据的访问\n",
    "\n",
    "访问Series数据可以和数组一样使用下标，也可以像字典一样使用索引，还可以使用一些条件过滤："
   ]
  },
  {
   "cell_type": "code",
   "execution_count": 26,
   "metadata": {
    "collapsed": false
   },
   "outputs": [
    {
     "data": {
      "text/plain": [
       "a    1.242285\n",
       "e    0.566892\n",
       "f    1.958977\n",
       "i    1.207246\n",
       "j    1.199761\n",
       "dtype: float64"
      ]
     },
     "execution_count": 26,
     "metadata": {},
     "output_type": "execute_result"
    }
   ],
   "source": [
    "s = Series(np.random.randn(10),index=['a', 'b', 'c', 'd', 'e', 'f', 'g', 'h', 'i', 'j'])\n",
    "\n",
    "s[0] # 1.4328106520571824\n",
    "\n",
    "s[:2]\n",
    "# a    1.432811\n",
    "# b    0.120681\n",
    "# dtype: float64\n",
    "\n",
    "s[[2,0,4]]  # index of 2, 0, 4\n",
    "# c    0.578146\n",
    "# a    1.432811\n",
    "# e    1.327594\n",
    "# dtype: float64\n",
    "\n",
    "s[['e', 'i']]\n",
    "# e    1.327594\n",
    "# i   -0.634347\n",
    "# dtype: float64\n",
    "\n",
    "s[s > 0.5]\n",
    "# a    1.432811\n",
    "# c    0.578146\n",
    "# e    1.327594\n",
    "# g    1.850783\n",
    "# dtype: float64\n",
    "\n",
    "'e' in s\n",
    "# True"
   ]
  },
  {
   "cell_type": "markdown",
   "metadata": {},
   "source": [
    "#### 三、Pandas数据结构：DataFrame\n",
    "\n",
    "在使用DataFrame之前，我们说明一下DataFrame的特性。DataFrame是将数个Series按列合并而成的二维数据结构，每一列单独取出来是一个Series，这和SQL数据库中取出的数据是很类似的。所以，按列对一个DataFrame进行处理更为方便，用户在编程时注意培养按列构建数据的思维。DataFrame的优势在于可以方便地处理不同类型的列，因此，就不要考虑如何对一个全是浮点数的DataFrame求逆之类的问题了，处理这种问题还是把数据存成NumPy的matrix类型比较便利一些。\n",
    "\n",
    "\n",
    "##### 3.1 创建DataFrame\n",
    "\n",
    "首先来看如何从字典创建DataFrame。DataFrame是一个二维的数据结构，是多个Series的集合体。我们先创建一个值是Series的字典，并转换为DataFrame："
   ]
  },
  {
   "cell_type": "code",
   "execution_count": 33,
   "metadata": {
    "collapsed": false
   },
   "outputs": [
    {
     "name": "stdout",
     "output_type": "stream",
     "text": [
      "   one  two\n",
      "a    1    1\n",
      "b    2    2\n",
      "c    3    3\n",
      "d  NaN    4\n"
     ]
    },
    {
     "data": {
      "text/html": [
       "<div style=\"max-height:1000px;max-width:1500px;overflow:auto;\">\n",
       "<table border=\"1\" class=\"dataframe\">\n",
       "  <thead>\n",
       "    <tr style=\"text-align: right;\">\n",
       "      <th></th>\n",
       "      <th>one</th>\n",
       "      <th>two</th>\n",
       "    </tr>\n",
       "  </thead>\n",
       "  <tbody>\n",
       "    <tr>\n",
       "      <th>a</th>\n",
       "      <td>  1</td>\n",
       "      <td> 1</td>\n",
       "    </tr>\n",
       "    <tr>\n",
       "      <th>b</th>\n",
       "      <td>  2</td>\n",
       "      <td> 2</td>\n",
       "    </tr>\n",
       "    <tr>\n",
       "      <th>c</th>\n",
       "      <td>  3</td>\n",
       "      <td> 3</td>\n",
       "    </tr>\n",
       "    <tr>\n",
       "      <th>d</th>\n",
       "      <td>NaN</td>\n",
       "      <td> 4</td>\n",
       "    </tr>\n",
       "  </tbody>\n",
       "</table>\n",
       "</div>"
      ],
      "text/plain": [
       "   one  two\n",
       "a    1    1\n",
       "b    2    2\n",
       "c    3    3\n",
       "d  NaN    4"
      ]
     },
     "execution_count": 33,
     "metadata": {},
     "output_type": "execute_result"
    }
   ],
   "source": [
    "d = {'one': Series([1., 2., 3.], index=['a', 'b', 'c']), \n",
    "     'two': Series([1., 2., 3., 4.], index=['a', 'b', 'c', 'd'])\n",
    "    }\n",
    "df = DataFrame(d)\n",
    "print(df)\n",
    "df"
   ]
  },
  {
   "cell_type": "markdown",
   "metadata": {},
   "source": [
    "可以指定所需的行和列，若字典中不含有对应的元素，则置为NaN："
   ]
  },
  {
   "cell_type": "code",
   "execution_count": 31,
   "metadata": {
    "collapsed": false
   },
   "outputs": [
    {
     "name": "stdout",
     "output_type": "stream",
     "text": [
      "   two three\n",
      "r  NaN   NaN\n",
      "d    4   NaN\n",
      "a    1   NaN\n"
     ]
    }
   ],
   "source": [
    "df = DataFrame(d, index=['r', 'd', 'a'], columns=['two', 'three'])\n",
    "print(df)"
   ]
  },
  {
   "cell_type": "markdown",
   "metadata": {},
   "source": [
    "可以使用dataframe.index和dataframe.columns来查看DataFrame的行和列，dataframe.values则以数组的形式返回DataFrame的元素："
   ]
  },
  {
   "cell_type": "code",
   "execution_count": 34,
   "metadata": {
    "collapsed": false
   },
   "outputs": [
    {
     "name": "stdout",
     "output_type": "stream",
     "text": [
      "DataFrame index:\n",
      "Index(['a', 'b', 'c', 'd'], dtype='object')\n",
      "DataFrame columns:\n",
      "Index(['one', 'two'], dtype='object')\n",
      "DataFrame values:\n",
      "[[  1.   1.]\n",
      " [  2.   2.]\n",
      " [  3.   3.]\n",
      " [ nan   4.]]\n"
     ]
    }
   ],
   "source": [
    "print(\"DataFrame index:\")\n",
    "print(df.index)\n",
    "print(\"DataFrame columns:\")\n",
    "print(df.columns)\n",
    "print(\"DataFrame values:\")\n",
    "print(df.values)"
   ]
  },
  {
   "cell_type": "markdown",
   "metadata": {},
   "source": [
    "DataFrame也可以从值是数组的字典创建，但是各个数组的长度需要相同："
   ]
  },
  {
   "cell_type": "code",
   "execution_count": 35,
   "metadata": {
    "collapsed": false
   },
   "outputs": [
    {
     "name": "stdout",
     "output_type": "stream",
     "text": [
      "   one  two\n",
      "a    1    4\n",
      "b    2    3\n",
      "c    3    2\n",
      "d    4    1\n",
      "     a  b   c\n",
      "0  1.6  2 NaN\n",
      "1  3.0  6   9\n"
     ]
    }
   ],
   "source": [
    "d = {'one': [1., 2., 3., 4.], 'two': [4., 3., 2., 1.]}\n",
    "df = DataFrame(d, index=['a', 'b', 'c', 'd'])\n",
    "print(df)\n",
    "\n",
    "# 值非数组时，没有这一限制，并且缺失值补成NaN：\n",
    "\n",
    "d= [{'a': 1.6, 'b': 2}, {'a': 3, 'b': 6, 'c': 9}]\n",
    "df = DataFrame(d)\n",
    "print(df)"
   ]
  },
  {
   "cell_type": "markdown",
   "metadata": {},
   "source": [
    "在实际处理数据时，有时需要创建一个空的DataFrame，可以这么做："
   ]
  },
  {
   "cell_type": "code",
   "execution_count": 36,
   "metadata": {
    "collapsed": false
   },
   "outputs": [
    {
     "name": "stdout",
     "output_type": "stream",
     "text": [
      "Empty DataFrame\n",
      "Columns: []\n",
      "Index: []\n"
     ]
    }
   ],
   "source": [
    "df = DataFrame()\n",
    "print(df)"
   ]
  },
  {
   "cell_type": "markdown",
   "metadata": {},
   "source": [
    "另一种创建DataFrame的方法十分有用，那就是使用concat函数基于Series或者DataFrame创建一个DataFrame"
   ]
  },
  {
   "cell_type": "code",
   "execution_count": 41,
   "metadata": {
    "collapsed": false
   },
   "outputs": [
    {
     "name": "stdout",
     "output_type": "stream",
     "text": [
      "   0   1\n",
      "0  0   4\n",
      "1  1   8\n",
      "2  2  12\n",
      "3  3  16\n",
      "4  4  20\n"
     ]
    }
   ],
   "source": [
    "a = Series(range(5))\n",
    "b = Series(np.linspace(4, 20, 5))\n",
    "df = pd.concat([a, b], axis=1)\n",
    "print(df)"
   ]
  },
  {
   "cell_type": "markdown",
   "metadata": {},
   "source": [
    "其中的axis=1表示按列进行合并，axis=0表示按行合并，并且，Series都处理成一列，所以这里如果选axis=0的话，将得到一个10×1的DataFrame。下面这个例子展示了如何按行合并DataFrame成一个大的DataFrame："
   ]
  },
  {
   "cell_type": "code",
   "execution_count": 44,
   "metadata": {
    "collapsed": false
   },
   "outputs": [
    {
     "name": "stdout",
     "output_type": "stream",
     "text": [
      "       0  1   2   3   4\n",
      "alpha  0  0   0   0   0\n",
      "beta   1  2   3   4   5\n",
      "gamma  2  4   6   8  10\n",
      "delta  3  6   9  12  15\n",
      "eta    4  8  12  16  20\n"
     ]
    },
    {
     "data": {
      "text/html": [
       "<div style=\"max-height:1000px;max-width:1500px;overflow:auto;\">\n",
       "<table border=\"1\" class=\"dataframe\">\n",
       "  <thead>\n",
       "    <tr style=\"text-align: right;\">\n",
       "      <th></th>\n",
       "      <th>0</th>\n",
       "      <th>1</th>\n",
       "      <th>2</th>\n",
       "      <th>3</th>\n",
       "      <th>4</th>\n",
       "    </tr>\n",
       "  </thead>\n",
       "  <tbody>\n",
       "    <tr>\n",
       "      <th>alpha</th>\n",
       "      <td> 0</td>\n",
       "      <td> 0</td>\n",
       "      <td>  0</td>\n",
       "      <td>  0</td>\n",
       "      <td>  0</td>\n",
       "    </tr>\n",
       "    <tr>\n",
       "      <th>beta</th>\n",
       "      <td> 1</td>\n",
       "      <td> 2</td>\n",
       "      <td>  3</td>\n",
       "      <td>  4</td>\n",
       "      <td>  5</td>\n",
       "    </tr>\n",
       "    <tr>\n",
       "      <th>gamma</th>\n",
       "      <td> 2</td>\n",
       "      <td> 4</td>\n",
       "      <td>  6</td>\n",
       "      <td>  8</td>\n",
       "      <td> 10</td>\n",
       "    </tr>\n",
       "    <tr>\n",
       "      <th>delta</th>\n",
       "      <td> 3</td>\n",
       "      <td> 6</td>\n",
       "      <td>  9</td>\n",
       "      <td> 12</td>\n",
       "      <td> 15</td>\n",
       "    </tr>\n",
       "    <tr>\n",
       "      <th>eta</th>\n",
       "      <td> 4</td>\n",
       "      <td> 8</td>\n",
       "      <td> 12</td>\n",
       "      <td> 16</td>\n",
       "      <td> 20</td>\n",
       "    </tr>\n",
       "  </tbody>\n",
       "</table>\n",
       "</div>"
      ],
      "text/plain": [
       "       0  1   2   3   4\n",
       "alpha  0  0   0   0   0\n",
       "beta   1  2   3   4   5\n",
       "gamma  2  4   6   8  10\n",
       "delta  3  6   9  12  15\n",
       "eta    4  8  12  16  20"
      ]
     },
     "execution_count": 44,
     "metadata": {},
     "output_type": "execute_result"
    }
   ],
   "source": [
    "df = DataFrame()\n",
    "index = ['alpha', 'beta', 'gamma', 'delta', 'eta']\n",
    "for i in range(5):\n",
    "    a = DataFrame([np.linspace(i, 5*i, 5)], index=[index[i]])\n",
    "    df = pd.concat([df, a], axis=0)\n",
    "print(df)\n",
    "df"
   ]
  },
  {
   "cell_type": "markdown",
   "metadata": {},
   "source": [
    "##### 3.2 DataFrame数据的访问\n",
    "\n",
    "首先，再次强调一下DataFrame是以列作为操作的基础的，全部操作都想象成先从DataFrame里取一列，再从这个Series取元素即可。可以用dataframe.column_name选取列，也可以使用dataframe[]操作选取列，我们可以马上发现前一种方法只能选取一列，而后一种方法可以选择多列。若DataFrame没有列名，[]可以使用非负整数，也就是“下标”选取列；若有列名，则必须使用列名选取，另外dataframe.column_name在没有列名的时候是无效的："
   ]
  },
  {
   "cell_type": "code",
   "execution_count": 45,
   "metadata": {
    "collapsed": false
   },
   "outputs": [
    {
     "name": "stdout",
     "output_type": "stream",
     "text": [
      "alpha    0\n",
      "beta     2\n",
      "gamma    4\n",
      "delta    6\n",
      "eta      8\n",
      "Name: 1, dtype: float64\n",
      "<class 'pandas.core.series.Series'>\n",
      "alpha    0\n",
      "beta     2\n",
      "gamma    4\n",
      "delta    6\n",
      "eta      8\n",
      "Name: b, dtype: float64\n",
      "<class 'pandas.core.series.Series'>\n",
      "alpha    0\n",
      "beta     2\n",
      "gamma    4\n",
      "delta    6\n",
      "eta      8\n",
      "Name: b, dtype: float64\n",
      "<class 'pandas.core.series.Series'>\n",
      "       a   d\n",
      "alpha  0   0\n",
      "beta   1   4\n",
      "gamma  2   8\n",
      "delta  3  12\n",
      "eta    4  16\n",
      "<class 'pandas.core.frame.DataFrame'>\n"
     ]
    }
   ],
   "source": [
    "print(df[1])\n",
    "print(type(df[1]))\n",
    "df.columns = ['a', 'b', 'c', 'd', 'e']\n",
    "print(df['b'])\n",
    "print(type(df['b']))\n",
    "print(df.b)\n",
    "print(type(df.b))\n",
    "print(df[['a', 'd']])\n",
    "print(type(df[['a', 'd']]))"
   ]
  },
  {
   "cell_type": "markdown",
   "metadata": {},
   "source": [
    "以上代码使用了dataframe.columns为DataFrame赋列名，并且我们看到单独取一列出来，其数据结构显示的是Series，取两列及两列以上的结果仍然是DataFrame。访问特定的元素可以如Series一样使用下标或者是索引:"
   ]
  },
  {
   "cell_type": "code",
   "execution_count": 46,
   "metadata": {
    "collapsed": false
   },
   "outputs": [
    {
     "name": "stdout",
     "output_type": "stream",
     "text": [
      "4.0\n",
      "4.0\n"
     ]
    }
   ],
   "source": [
    "print(df['b'][2])\n",
    "print(df['b']['gamma'])"
   ]
  },
  {
   "cell_type": "code",
   "execution_count": null,
   "metadata": {
    "collapsed": true
   },
   "outputs": [],
   "source": [
    "若需要选取行，可以使用dataframe.iloc按下标选取，或者使用dataframe.loc按索引选取："
   ]
  },
  {
   "cell_type": "code",
   "execution_count": 47,
   "metadata": {
    "collapsed": false
   },
   "outputs": [
    {
     "name": "stdout",
     "output_type": "stream",
     "text": [
      "a    1\n",
      "b    2\n",
      "c    3\n",
      "d    4\n",
      "e    5\n",
      "Name: beta, dtype: float64\n",
      "a    1\n",
      "b    2\n",
      "c    3\n",
      "d    4\n",
      "e    5\n",
      "Name: beta, dtype: float64\n"
     ]
    }
   ],
   "source": [
    "print(df.iloc[1])\n",
    "print(df.loc['beta'])"
   ]
  },
  {
   "cell_type": "markdown",
   "metadata": {},
   "source": [
    "选取行还可以使用切片的方式或者是布尔类型的向量："
   ]
  },
  {
   "cell_type": "code",
   "execution_count": 48,
   "metadata": {
    "collapsed": false
   },
   "outputs": [
    {
     "name": "stdout",
     "output_type": "stream",
     "text": [
      "Selecting by slices:\n",
      "       a  b  c  d   e\n",
      "beta   1  2  3  4   5\n",
      "gamma  2  4  6  8  10\n",
      "Selecting by boolean vector:\n",
      "       a  b  c   d   e\n",
      "alpha  0  0  0   0   0\n",
      "gamma  2  4  6   8  10\n",
      "delta  3  6  9  12  15\n"
     ]
    }
   ],
   "source": [
    "print(\"Selecting by slices:\")\n",
    "print(df[1:3])\n",
    "bool_vec = [True, False, True, True, False]\n",
    "print(\"Selecting by boolean vector:\")\n",
    "print(df[bool_vec])"
   ]
  },
  {
   "cell_type": "markdown",
   "metadata": {},
   "source": [
    "行列组合起来选取数据："
   ]
  },
  {
   "cell_type": "code",
   "execution_count": 49,
   "metadata": {
    "collapsed": false
   },
   "outputs": [
    {
     "name": "stdout",
     "output_type": "stream",
     "text": [
      "       b   d\n",
      "beta   2   4\n",
      "delta  6  12\n",
      "       b   d\n",
      "beta   2   4\n",
      "delta  6  12\n",
      "       b   d\n",
      "beta   2   4\n",
      "delta  6  12\n",
      "       b   d\n",
      "beta   2   4\n",
      "delta  6  12\n"
     ]
    }
   ],
   "source": [
    "print(df[['b', 'd']].iloc[[1, 3]])\n",
    "print(df.iloc[[1, 3]][['b', 'd']])\n",
    "print(df[['b', 'd']].loc[['beta', 'delta']])\n",
    "print(df.loc[['beta', 'delta']][['b', 'd']])"
   ]
  },
  {
   "cell_type": "markdown",
   "metadata": {},
   "source": [
    "如果不是需要访问特定行列，而只是某个特殊位置的元素的话，dataframe.at和dataframe.iat是最快的方式，它们分别用于使用索引和下标进行访问："
   ]
  },
  {
   "cell_type": "code",
   "execution_count": 50,
   "metadata": {
    "collapsed": false
   },
   "outputs": [
    {
     "name": "stdout",
     "output_type": "stream",
     "text": [
      "8.0\n",
      "8.0\n"
     ]
    }
   ],
   "source": [
    "print(df.iat[2, 3])\n",
    "print(df.at['gamma', 'd'])"
   ]
  },
  {
   "cell_type": "markdown",
   "metadata": {},
   "source": [
    "dataframe.ix可以混合使用索引和下标进行访问，唯一需要注意的地方是行列内部需要一致，不可以同时使用索引和标签访问行或者列，不然的话，将会得到意外的结果："
   ]
  },
  {
   "cell_type": "code",
   "execution_count": 52,
   "metadata": {
    "collapsed": false
   },
   "outputs": [
    {
     "name": "stdout",
     "output_type": "stream",
     "text": [
      "10.0\n",
      "       b   e\n",
      "delta  6  15\n",
      "gamma  4  10\n",
      "       b   e\n",
      "beta   2   5\n",
      "gamma  4  10\n",
      "Unwanted result:\n",
      "       b   e\n",
      "beta   2   5\n",
      "2    NaN NaN\n",
      "       b   4\n",
      "beta   2 NaN\n",
      "gamma  4 NaN\n"
     ]
    }
   ],
   "source": [
    "print(df.ix['gamma', 4])\n",
    "print(df.ix[['delta', 'gamma'], [1, 4]])\n",
    "print(df.ix[[1, 2], ['b', 'e']])\n",
    "print(\"Unwanted result:\")\n",
    "print(df.ix[['beta', 2], ['b', 'e']])\n",
    "print(df.ix[[1, 2], ['b', 4]])"
   ]
  },
  {
   "cell_type": "markdown",
   "metadata": {},
   "source": [
    "\n",
    "#### 参考文献\n",
    "\n",
    "http://pandas.pydata.org/pandas-docs/version/0.14.1"
   ]
  },
  {
   "cell_type": "markdown",
   "metadata": {},
   "source": [
    "# 数据处理的瑞士军刀pandas下篇\n",
    "\n",
    "#### 第二篇：快速进阶\n",
    "\n",
    "在上一篇中我们介绍了如何创建并访问pandas的Series和DataFrame类型的数据，本篇将介绍如何对pandas数据进行操作，掌握这些操作之后，基本可以处理大多数的数据了。首先，导入本篇中使用到的模块："
   ]
  },
  {
   "cell_type": "code",
   "execution_count": 1,
   "metadata": {
    "collapsed": true
   },
   "outputs": [],
   "source": [
    "import numpy as np\n",
    "import pandas as pd\n",
    "from pandas import Series, DataFrame"
   ]
  },
  {
   "cell_type": "markdown",
   "metadata": {},
   "source": [
    "为了看数据方便一些，我们设置一下输出屏幕的宽度"
   ]
  },
  {
   "cell_type": "code",
   "execution_count": 2,
   "metadata": {
    "collapsed": true
   },
   "outputs": [],
   "source": [
    "pd.set_option('display.width', 200)"
   ]
  },
  {
   "cell_type": "markdown",
   "metadata": {},
   "source": [
    "#### 一、数据创建的其他方式\n",
    "\n",
    "数据结构的创建不止是上篇介绍的标准形式，本篇再介绍几种。例如，我们可以创建一个以日期为元素的Series："
   ]
  },
  {
   "cell_type": "code",
   "execution_count": 3,
   "metadata": {
    "collapsed": false
   },
   "outputs": [
    {
     "name": "stdout",
     "output_type": "stream",
     "text": [
      "<class 'pandas.tseries.index.DatetimeIndex'>\n",
      "[2015-01-01, ..., 2015-01-05]\n",
      "Length: 5, Freq: D, Timezone: None\n"
     ]
    }
   ],
   "source": [
    "dates = pd.date_range('20150101', periods=5)\n",
    "print(dates)"
   ]
  },
  {
   "cell_type": "markdown",
   "metadata": {},
   "source": [
    "将这个日期Series作为索引赋给一个DataFrame："
   ]
  },
  {
   "cell_type": "code",
   "execution_count": 4,
   "metadata": {
    "collapsed": false
   },
   "outputs": [
    {
     "name": "stdout",
     "output_type": "stream",
     "text": [
      "                   A         B         C         D\n",
      "2015-01-01  0.122242 -0.464468 -0.195074 -0.051972\n",
      "2015-01-02  0.525616  0.588000 -0.670694  0.829126\n",
      "2015-01-03  1.961413 -0.829747 -0.093251 -1.383049\n",
      "2015-01-04 -1.534112  1.074455 -0.486655 -0.492200\n",
      "2015-01-05 -0.222826  1.024643  0.581390 -0.006940\n"
     ]
    }
   ],
   "source": [
    "df = pd.DataFrame(np.random.randn(5, 4),index=dates,columns=list('ABCD'))\n",
    "print(df)"
   ]
  },
  {
   "cell_type": "markdown",
   "metadata": {},
   "source": [
    "只要是能转换成Series的对象，都可以用于创建DataFrame："
   ]
  },
  {
   "cell_type": "code",
   "execution_count": 6,
   "metadata": {
    "collapsed": false
   },
   "outputs": [
    {
     "name": "stdout",
     "output_type": "stream",
     "text": [
      "   A          B    C  D              E\n",
      "0  1 2015-02-14  1.6  4  hello pandas!\n",
      "1  1 2015-02-14  1.6  4  hello pandas!\n",
      "2  1 2015-02-14  1.6  4  hello pandas!\n",
      "3  1 2015-02-14  1.6  4  hello pandas!\n"
     ]
    }
   ],
   "source": [
    "df2 = pd.DataFrame({'A' : 1., \n",
    "                    'B': pd.Timestamp('20150214'), \n",
    "                    'C': pd.Series(1.6,index=list(range(4)),dtype='float64'), \n",
    "                    'D': np.array([4] * 4, dtype='int64'), \n",
    "                    'E': 'hello pandas!' })\n",
    "print(df2)"
   ]
  },
  {
   "cell_type": "markdown",
   "metadata": {},
   "source": [
    "#### 二、数据的查看\n",
    "\n",
    "在多数情况下，数据并不由分析数据的人员生成，而是通过数据接口、外部文件或者其他方式获取。这里我们通过量化实验室的数据接口获取一份数据作为示例："
   ]
  },
  {
   "cell_type": "code",
   "execution_count": null,
   "metadata": {
    "collapsed": true
   },
   "outputs": [],
   "source": [
    "stock_list = ['000001.XSHE', '000002.XSHE', '000568.XSHE', '000625.XSHE', '000768.XSHE', '600028.XSHG', '600030.XSHG', '601111.XSHG', '601390.XSHG', '601998.XSHG']\n",
    "raw_data = DataAPI.MktEqudGet(secID=stock_list, beginDate='20150101', endDate='20150131', pandas='1')\n",
    "df = raw_data[['secID', 'tradeDate', 'secShortName', 'openPrice', 'highestPrice', 'lowestPrice', 'closePrice', 'turnoverVol']]\n",
    "\n",
    "# 没有 Uqer.io 的 DtaAPI, 改用下面的 tushare"
   ]
  },
  {
   "cell_type": "code",
   "execution_count": 7,
   "metadata": {
    "collapsed": false,
    "scrolled": true
   },
   "outputs": [
    {
     "data": {
      "text/html": [
       "<div style=\"max-height:1000px;max-width:1500px;overflow:auto;\">\n",
       "<table border=\"1\" class=\"dataframe\">\n",
       "  <thead>\n",
       "    <tr style=\"text-align: right;\">\n",
       "      <th></th>\n",
       "      <th>open</th>\n",
       "      <th>high</th>\n",
       "      <th>close</th>\n",
       "      <th>low</th>\n",
       "      <th>volume</th>\n",
       "      <th>price_change</th>\n",
       "      <th>p_change</th>\n",
       "      <th>ma5</th>\n",
       "      <th>ma10</th>\n",
       "      <th>ma20</th>\n",
       "      <th>v_ma5</th>\n",
       "      <th>v_ma10</th>\n",
       "      <th>v_ma20</th>\n",
       "      <th>turnover</th>\n",
       "    </tr>\n",
       "    <tr>\n",
       "      <th>date</th>\n",
       "      <th></th>\n",
       "      <th></th>\n",
       "      <th></th>\n",
       "      <th></th>\n",
       "      <th></th>\n",
       "      <th></th>\n",
       "      <th></th>\n",
       "      <th></th>\n",
       "      <th></th>\n",
       "      <th></th>\n",
       "      <th></th>\n",
       "      <th></th>\n",
       "      <th></th>\n",
       "      <th></th>\n",
       "    </tr>\n",
       "  </thead>\n",
       "  <tbody>\n",
       "    <tr>\n",
       "      <th>2015-01-30</th>\n",
       "      <td> 13.93</td>\n",
       "      <td> 14.12</td>\n",
       "      <td> 13.93</td>\n",
       "      <td> 13.76</td>\n",
       "      <td>  930116.69</td>\n",
       "      <td> 0.03</td>\n",
       "      <td>  0.22</td>\n",
       "      <td> 14.044</td>\n",
       "      <td> 14.100</td>\n",
       "      <td> 14.665</td>\n",
       "      <td> 1116969.57</td>\n",
       "      <td> 1386771.81</td>\n",
       "      <td> 1547106.16</td>\n",
       "      <td> 0.95</td>\n",
       "    </tr>\n",
       "    <tr>\n",
       "      <th>2015-01-29</th>\n",
       "      <td> 13.82</td>\n",
       "      <td> 14.01</td>\n",
       "      <td> 13.90</td>\n",
       "      <td> 13.75</td>\n",
       "      <td> 1016753.31</td>\n",
       "      <td>-0.16</td>\n",
       "      <td> -1.14</td>\n",
       "      <td> 14.138</td>\n",
       "      <td> 14.244</td>\n",
       "      <td> 14.761</td>\n",
       "      <td> 1222782.61</td>\n",
       "      <td> 1449344.78</td>\n",
       "      <td> 1620603.62</td>\n",
       "      <td> 1.03</td>\n",
       "    </tr>\n",
       "    <tr>\n",
       "      <th>2015-01-28</th>\n",
       "      <td> 13.87</td>\n",
       "      <td> 14.30</td>\n",
       "      <td> 14.06</td>\n",
       "      <td> 13.80</td>\n",
       "      <td> 1240877.50</td>\n",
       "      <td> 0.07</td>\n",
       "      <td>  0.50</td>\n",
       "      <td> 14.218</td>\n",
       "      <td> 14.389</td>\n",
       "      <td> 14.841</td>\n",
       "      <td> 1270435.17</td>\n",
       "      <td> 1471886.49</td>\n",
       "      <td> 1688069.88</td>\n",
       "      <td> 1.26</td>\n",
       "    </tr>\n",
       "    <tr>\n",
       "      <th>2015-01-27</th>\n",
       "      <td> 14.35</td>\n",
       "      <td> 14.37</td>\n",
       "      <td> 13.99</td>\n",
       "      <td> 13.83</td>\n",
       "      <td> 1339494.62</td>\n",
       "      <td>-0.35</td>\n",
       "      <td> -2.44</td>\n",
       "      <td> 14.290</td>\n",
       "      <td> 14.464</td>\n",
       "      <td> 14.884</td>\n",
       "      <td> 1410365.75</td>\n",
       "      <td> 1474101.70</td>\n",
       "      <td> 1755333.41</td>\n",
       "      <td> 1.36</td>\n",
       "    </tr>\n",
       "    <tr>\n",
       "      <th>2015-01-26</th>\n",
       "      <td> 14.36</td>\n",
       "      <td> 14.44</td>\n",
       "      <td> 14.34</td>\n",
       "      <td> 14.16</td>\n",
       "      <td> 1057605.75</td>\n",
       "      <td>-0.06</td>\n",
       "      <td> -0.42</td>\n",
       "      <td> 14.258</td>\n",
       "      <td> 14.533</td>\n",
       "      <td> 14.939</td>\n",
       "      <td> 1440670.45</td>\n",
       "      <td> 1421839.71</td>\n",
       "      <td> 1810212.34</td>\n",
       "      <td> 1.08</td>\n",
       "    </tr>\n",
       "    <tr>\n",
       "      <th>2015-01-23</th>\n",
       "      <td> 14.36</td>\n",
       "      <td> 14.63</td>\n",
       "      <td> 14.40</td>\n",
       "      <td> 14.30</td>\n",
       "      <td> 1459181.88</td>\n",
       "      <td> 0.10</td>\n",
       "      <td>  0.70</td>\n",
       "      <td> 14.156</td>\n",
       "      <td> 14.576</td>\n",
       "      <td> 14.957</td>\n",
       "      <td> 1656574.05</td>\n",
       "      <td> 1471408.23</td>\n",
       "      <td> 1857195.85</td>\n",
       "      <td> 1.48</td>\n",
       "    </tr>\n",
       "    <tr>\n",
       "      <th>2015-01-22</th>\n",
       "      <td> 14.34</td>\n",
       "      <td> 14.52</td>\n",
       "      <td> 14.30</td>\n",
       "      <td> 14.16</td>\n",
       "      <td> 1255016.12</td>\n",
       "      <td>-0.12</td>\n",
       "      <td> -0.83</td>\n",
       "      <td> 14.350</td>\n",
       "      <td> 14.644</td>\n",
       "      <td> 14.940</td>\n",
       "      <td> 1675906.95</td>\n",
       "      <td> 1576340.06</td>\n",
       "      <td> 1884750.31</td>\n",
       "      <td> 1.28</td>\n",
       "    </tr>\n",
       "    <tr>\n",
       "      <th>2015-01-21</th>\n",
       "      <td> 13.88</td>\n",
       "      <td> 14.60</td>\n",
       "      <td> 14.42</td>\n",
       "      <td> 13.75</td>\n",
       "      <td> 1940530.38</td>\n",
       "      <td> 0.59</td>\n",
       "      <td>  4.27</td>\n",
       "      <td> 14.560</td>\n",
       "      <td> 14.710</td>\n",
       "      <td> 14.963</td>\n",
       "      <td> 1673337.80</td>\n",
       "      <td> 1591609.88</td>\n",
       "      <td> 1911892.04</td>\n",
       "      <td> 1.97</td>\n",
       "    </tr>\n",
       "    <tr>\n",
       "      <th>2015-01-20</th>\n",
       "      <td> 13.83</td>\n",
       "      <td> 14.06</td>\n",
       "      <td> 13.83</td>\n",
       "      <td> 13.56</td>\n",
       "      <td> 1491018.12</td>\n",
       "      <td> 0.00</td>\n",
       "      <td>  0.00</td>\n",
       "      <td> 14.638</td>\n",
       "      <td> 14.816</td>\n",
       "      <td> 15.009</td>\n",
       "      <td> 1537837.65</td>\n",
       "      <td> 1567568.90</td>\n",
       "      <td> 1988235.08</td>\n",
       "      <td> 1.52</td>\n",
       "    </tr>\n",
       "    <tr>\n",
       "      <th>2015-01-19</th>\n",
       "      <td> 14.01</td>\n",
       "      <td> 14.57</td>\n",
       "      <td> 13.83</td>\n",
       "      <td> 13.83</td>\n",
       "      <td> 2137123.75</td>\n",
       "      <td>-1.54</td>\n",
       "      <td>-10.02</td>\n",
       "      <td> 14.808</td>\n",
       "      <td> 15.011</td>\n",
       "      <td> 15.067</td>\n",
       "      <td> 1403008.98</td>\n",
       "      <td> 1635109.24</td>\n",
       "      <td> 2010454.47</td>\n",
       "      <td> 2.17</td>\n",
       "    </tr>\n",
       "    <tr>\n",
       "      <th>2015-01-16</th>\n",
       "      <td> 15.40</td>\n",
       "      <td> 15.62</td>\n",
       "      <td> 15.37</td>\n",
       "      <td> 15.18</td>\n",
       "      <td> 1555846.38</td>\n",
       "      <td> 0.02</td>\n",
       "      <td>  0.13</td>\n",
       "      <td> 14.996</td>\n",
       "      <td> 15.230</td>\n",
       "      <td> 15.120</td>\n",
       "      <td> 1286242.40</td>\n",
       "      <td> 1707440.51</td>\n",
       "      <td> 2027110.83</td>\n",
       "      <td> 1.58</td>\n",
       "    </tr>\n",
       "    <tr>\n",
       "      <th>2015-01-15</th>\n",
       "      <td> 14.85</td>\n",
       "      <td> 15.35</td>\n",
       "      <td> 15.35</td>\n",
       "      <td> 14.71</td>\n",
       "      <td> 1242170.38</td>\n",
       "      <td> 0.54</td>\n",
       "      <td>  3.65</td>\n",
       "      <td> 14.938</td>\n",
       "      <td> 15.277</td>\n",
       "      <td> 15.120</td>\n",
       "      <td> 1476773.18</td>\n",
       "      <td> 1791862.45</td>\n",
       "      <td> 2169326.81</td>\n",
       "      <td> 1.26</td>\n",
       "    </tr>\n",
       "    <tr>\n",
       "      <th>2015-01-14</th>\n",
       "      <td> 14.78</td>\n",
       "      <td> 15.20</td>\n",
       "      <td> 14.81</td>\n",
       "      <td> 14.70</td>\n",
       "      <td> 1263029.62</td>\n",
       "      <td> 0.13</td>\n",
       "      <td>  0.89</td>\n",
       "      <td> 14.860</td>\n",
       "      <td> 15.292</td>\n",
       "      <td> 15.072</td>\n",
       "      <td> 1509881.95</td>\n",
       "      <td> 1904253.26</td>\n",
       "      <td> 2230671.94</td>\n",
       "      <td> 1.28</td>\n",
       "    </tr>\n",
       "    <tr>\n",
       "      <th>2015-01-13</th>\n",
       "      <td> 14.65</td>\n",
       "      <td> 14.90</td>\n",
       "      <td> 14.68</td>\n",
       "      <td> 14.61</td>\n",
       "      <td>  816874.75</td>\n",
       "      <td>-0.09</td>\n",
       "      <td> -0.61</td>\n",
       "      <td> 14.994</td>\n",
       "      <td> 15.303</td>\n",
       "      <td> 15.010</td>\n",
       "      <td> 1597300.15</td>\n",
       "      <td> 2036565.13</td>\n",
       "      <td> 2257567.29</td>\n",
       "      <td> 0.83</td>\n",
       "    </tr>\n",
       "    <tr>\n",
       "      <th>2015-01-12</th>\n",
       "      <td> 14.87</td>\n",
       "      <td> 15.05</td>\n",
       "      <td> 14.77</td>\n",
       "      <td> 14.50</td>\n",
       "      <td> 1553290.88</td>\n",
       "      <td>-0.31</td>\n",
       "      <td> -2.06</td>\n",
       "      <td> 15.214</td>\n",
       "      <td> 15.345</td>\n",
       "      <td> 14.973</td>\n",
       "      <td> 1867209.50</td>\n",
       "      <td> 2198584.98</td>\n",
       "      <td> 2298919.01</td>\n",
       "      <td> 1.58</td>\n",
       "    </tr>\n",
       "    <tr>\n",
       "      <th>2015-01-09</th>\n",
       "      <td> 14.90</td>\n",
       "      <td> 15.87</td>\n",
       "      <td> 15.08</td>\n",
       "      <td> 14.71</td>\n",
       "      <td> 2508500.25</td>\n",
       "      <td> 0.12</td>\n",
       "      <td>  0.80</td>\n",
       "      <td> 15.464</td>\n",
       "      <td> 15.337</td>\n",
       "      <td> 14.931</td>\n",
       "      <td> 2128638.62</td>\n",
       "      <td> 2242983.48</td>\n",
       "      <td> 2333154.26</td>\n",
       "      <td> 2.55</td>\n",
       "    </tr>\n",
       "    <tr>\n",
       "      <th>2015-01-08</th>\n",
       "      <td> 15.50</td>\n",
       "      <td> 15.57</td>\n",
       "      <td> 14.96</td>\n",
       "      <td> 14.90</td>\n",
       "      <td> 1407714.25</td>\n",
       "      <td>-0.52</td>\n",
       "      <td> -3.36</td>\n",
       "      <td> 15.616</td>\n",
       "      <td> 15.236</td>\n",
       "      <td> 14.886</td>\n",
       "      <td> 2106951.72</td>\n",
       "      <td> 2193160.55</td>\n",
       "      <td> 2384121.46</td>\n",
       "      <td> 1.43</td>\n",
       "    </tr>\n",
       "    <tr>\n",
       "      <th>2015-01-07</th>\n",
       "      <td> 15.56</td>\n",
       "      <td> 15.83</td>\n",
       "      <td> 15.48</td>\n",
       "      <td> 15.30</td>\n",
       "      <td> 1700120.62</td>\n",
       "      <td>-0.30</td>\n",
       "      <td> -1.90</td>\n",
       "      <td> 15.724</td>\n",
       "      <td> 15.215</td>\n",
       "      <td> 14.824</td>\n",
       "      <td> 2298624.57</td>\n",
       "      <td> 2232174.20</td>\n",
       "      <td> 2516006.74</td>\n",
       "      <td> 1.73</td>\n",
       "    </tr>\n",
       "    <tr>\n",
       "      <th>2015-01-06</th>\n",
       "      <td> 15.85</td>\n",
       "      <td> 16.39</td>\n",
       "      <td> 15.78</td>\n",
       "      <td> 15.55</td>\n",
       "      <td> 2166421.50</td>\n",
       "      <td>-0.24</td>\n",
       "      <td> -1.50</td>\n",
       "      <td> 15.612</td>\n",
       "      <td> 15.201</td>\n",
       "      <td> 14.811</td>\n",
       "      <td> 2475830.10</td>\n",
       "      <td> 2408901.26</td>\n",
       "      <td> 2627417.84</td>\n",
       "      <td> 2.20</td>\n",
       "    </tr>\n",
       "    <tr>\n",
       "      <th>2015-01-05</th>\n",
       "      <td> 15.99</td>\n",
       "      <td> 16.28</td>\n",
       "      <td> 16.02</td>\n",
       "      <td> 15.60</td>\n",
       "      <td> 2860436.50</td>\n",
       "      <td> 0.18</td>\n",
       "      <td>  1.14</td>\n",
       "      <td> 15.476</td>\n",
       "      <td> 15.123</td>\n",
       "      <td> 14.749</td>\n",
       "      <td> 2529960.45</td>\n",
       "      <td> 2385799.70</td>\n",
       "      <td> 2739781.61</td>\n",
       "      <td> 2.91</td>\n",
       "    </tr>\n",
       "  </tbody>\n",
       "</table>\n",
       "</div>"
      ],
      "text/plain": [
       "             open   high  close    low      volume  price_change  p_change     ma5    ma10    ma20       v_ma5      v_ma10      v_ma20  turnover\n",
       "date                                                                                                                                            \n",
       "2015-01-30  13.93  14.12  13.93  13.76   930116.69          0.03      0.22  14.044  14.100  14.665  1116969.57  1386771.81  1547106.16      0.95\n",
       "2015-01-29  13.82  14.01  13.90  13.75  1016753.31         -0.16     -1.14  14.138  14.244  14.761  1222782.61  1449344.78  1620603.62      1.03\n",
       "2015-01-28  13.87  14.30  14.06  13.80  1240877.50          0.07      0.50  14.218  14.389  14.841  1270435.17  1471886.49  1688069.88      1.26\n",
       "2015-01-27  14.35  14.37  13.99  13.83  1339494.62         -0.35     -2.44  14.290  14.464  14.884  1410365.75  1474101.70  1755333.41      1.36\n",
       "2015-01-26  14.36  14.44  14.34  14.16  1057605.75         -0.06     -0.42  14.258  14.533  14.939  1440670.45  1421839.71  1810212.34      1.08\n",
       "2015-01-23  14.36  14.63  14.40  14.30  1459181.88          0.10      0.70  14.156  14.576  14.957  1656574.05  1471408.23  1857195.85      1.48\n",
       "2015-01-22  14.34  14.52  14.30  14.16  1255016.12         -0.12     -0.83  14.350  14.644  14.940  1675906.95  1576340.06  1884750.31      1.28\n",
       "2015-01-21  13.88  14.60  14.42  13.75  1940530.38          0.59      4.27  14.560  14.710  14.963  1673337.80  1591609.88  1911892.04      1.97\n",
       "2015-01-20  13.83  14.06  13.83  13.56  1491018.12          0.00      0.00  14.638  14.816  15.009  1537837.65  1567568.90  1988235.08      1.52\n",
       "2015-01-19  14.01  14.57  13.83  13.83  2137123.75         -1.54    -10.02  14.808  15.011  15.067  1403008.98  1635109.24  2010454.47      2.17\n",
       "2015-01-16  15.40  15.62  15.37  15.18  1555846.38          0.02      0.13  14.996  15.230  15.120  1286242.40  1707440.51  2027110.83      1.58\n",
       "2015-01-15  14.85  15.35  15.35  14.71  1242170.38          0.54      3.65  14.938  15.277  15.120  1476773.18  1791862.45  2169326.81      1.26\n",
       "2015-01-14  14.78  15.20  14.81  14.70  1263029.62          0.13      0.89  14.860  15.292  15.072  1509881.95  1904253.26  2230671.94      1.28\n",
       "2015-01-13  14.65  14.90  14.68  14.61   816874.75         -0.09     -0.61  14.994  15.303  15.010  1597300.15  2036565.13  2257567.29      0.83\n",
       "2015-01-12  14.87  15.05  14.77  14.50  1553290.88         -0.31     -2.06  15.214  15.345  14.973  1867209.50  2198584.98  2298919.01      1.58\n",
       "2015-01-09  14.90  15.87  15.08  14.71  2508500.25          0.12      0.80  15.464  15.337  14.931  2128638.62  2242983.48  2333154.26      2.55\n",
       "2015-01-08  15.50  15.57  14.96  14.90  1407714.25         -0.52     -3.36  15.616  15.236  14.886  2106951.72  2193160.55  2384121.46      1.43\n",
       "2015-01-07  15.56  15.83  15.48  15.30  1700120.62         -0.30     -1.90  15.724  15.215  14.824  2298624.57  2232174.20  2516006.74      1.73\n",
       "2015-01-06  15.85  16.39  15.78  15.55  2166421.50         -0.24     -1.50  15.612  15.201  14.811  2475830.10  2408901.26  2627417.84      2.20\n",
       "2015-01-05  15.99  16.28  16.02  15.60  2860436.50          0.18      1.14  15.476  15.123  14.749  2529960.45  2385799.70  2739781.61      2.91"
      ]
     },
     "execution_count": 7,
     "metadata": {},
     "output_type": "execute_result"
    }
   ],
   "source": [
    "import tushare as ts\n",
    "df1 = ts.get_hist_data('000001', start='2015-01-01', end='2015-01-31')\n",
    "# care about date string format YYmmdd YY-mm-dd\n",
    "df1\n",
    "df = df1\n",
    "df"
   ]
  },
  {
   "cell_type": "markdown",
   "metadata": {},
   "source": [
    "以上代码获取了2015年一月份全部的交易日内十支股票的日行情信息，首先我们来看一下数据的大小："
   ]
  },
  {
   "cell_type": "code",
   "execution_count": 9,
   "metadata": {
    "collapsed": false
   },
   "outputs": [
    {
     "name": "stdout",
     "output_type": "stream",
     "text": [
      "(20, 14)\n"
     ]
    },
    {
     "data": {
      "text/plain": [
       "Index(['2015-01-30', '2015-01-29', '2015-01-28', '2015-01-27', '2015-01-26', '2015-01-23', '2015-01-22', '2015-01-21', '2015-01-20', '2015-01-19', '2015-01-16', '2015-01-15', '2015-01-14', '2015-01-13', '2015-01-12', '2015-01-09', '2015-01-08', '2015-01-07', '2015-01-06', '2015-01-05'], dtype='object')"
      ]
     },
     "execution_count": 9,
     "metadata": {},
     "output_type": "execute_result"
    }
   ],
   "source": [
    "print(df.shape)\n",
    "df.columns\n",
    "df.index"
   ]
  },
  {
   "cell_type": "markdown",
   "metadata": {},
   "source": [
    "我们可以看到有200行，表示我们获取到了200条记录，每条记录有8个字段，现在预览一下数据，dataframe.head()和dataframe.tail()可以查看数据的头五行和尾五行，若需要改变行数，可在括号内指定："
   ]
  },
  {
   "cell_type": "code",
   "execution_count": 10,
   "metadata": {
    "collapsed": false
   },
   "outputs": [
    {
     "name": "stdout",
     "output_type": "stream",
     "text": [
      "Head of this DataFrame:\n",
      "             open   high  close    low      volume  price_change  p_change     ma5    ma10    ma20       v_ma5      v_ma10      v_ma20  turnover\n",
      "date                                                                                                                                            \n",
      "2015-01-30  13.93  14.12  13.93  13.76   930116.69          0.03      0.22  14.044  14.100  14.665  1116969.57  1386771.81  1547106.16      0.95\n",
      "2015-01-29  13.82  14.01  13.90  13.75  1016753.31         -0.16     -1.14  14.138  14.244  14.761  1222782.61  1449344.78  1620603.62      1.03\n",
      "2015-01-28  13.87  14.30  14.06  13.80  1240877.50          0.07      0.50  14.218  14.389  14.841  1270435.17  1471886.49  1688069.88      1.26\n",
      "2015-01-27  14.35  14.37  13.99  13.83  1339494.62         -0.35     -2.44  14.290  14.464  14.884  1410365.75  1474101.70  1755333.41      1.36\n",
      "2015-01-26  14.36  14.44  14.34  14.16  1057605.75         -0.06     -0.42  14.258  14.533  14.939  1440670.45  1421839.71  1810212.34      1.08\n",
      "Tail of this DataFrame:\n",
      "             open   high  close    low      volume  price_change  p_change     ma5    ma10    ma20       v_ma5      v_ma10      v_ma20  turnover\n",
      "date                                                                                                                                            \n",
      "2015-01-07  15.56  15.83  15.48  15.30  1700120.62         -0.30     -1.90  15.724  15.215  14.824  2298624.57  2232174.20  2516006.74      1.73\n",
      "2015-01-06  15.85  16.39  15.78  15.55  2166421.50         -0.24     -1.50  15.612  15.201  14.811  2475830.10  2408901.26  2627417.84      2.20\n",
      "2015-01-05  15.99  16.28  16.02  15.60  2860436.50          0.18      1.14  15.476  15.123  14.749  2529960.45  2385799.70  2739781.61      2.91\n"
     ]
    }
   ],
   "source": [
    "print(\"Head of this DataFrame:\")\n",
    "print(df.head())\n",
    "print(\"Tail of this DataFrame:\")\n",
    "print(df.tail(3))"
   ]
  },
  {
   "cell_type": "markdown",
   "metadata": {},
   "source": [
    "dataframe.describe()提供了DataFrame中纯数值数据的统计信息："
   ]
  },
  {
   "cell_type": "code",
   "execution_count": 11,
   "metadata": {
    "collapsed": false
   },
   "outputs": [
    {
     "data": {
      "text/html": [
       "<div style=\"max-height:1000px;max-width:1500px;overflow:auto;\">\n",
       "<table border=\"1\" class=\"dataframe\">\n",
       "  <thead>\n",
       "    <tr style=\"text-align: right;\">\n",
       "      <th></th>\n",
       "      <th>open</th>\n",
       "      <th>high</th>\n",
       "      <th>close</th>\n",
       "      <th>low</th>\n",
       "      <th>volume</th>\n",
       "      <th>price_change</th>\n",
       "      <th>p_change</th>\n",
       "      <th>ma5</th>\n",
       "      <th>ma10</th>\n",
       "      <th>ma20</th>\n",
       "      <th>v_ma5</th>\n",
       "      <th>v_ma10</th>\n",
       "      <th>v_ma20</th>\n",
       "      <th>turnover</th>\n",
       "    </tr>\n",
       "  </thead>\n",
       "  <tbody>\n",
       "    <tr>\n",
       "      <th>count</th>\n",
       "      <td> 20.000000</td>\n",
       "      <td> 20.000000</td>\n",
       "      <td> 20.000000</td>\n",
       "      <td> 20.000000</td>\n",
       "      <td>      20.000000</td>\n",
       "      <td> 20.00000</td>\n",
       "      <td> 20.000000</td>\n",
       "      <td> 20.000000</td>\n",
       "      <td> 20.000000</td>\n",
       "      <td> 20.000000</td>\n",
       "      <td>      20.000000</td>\n",
       "      <td>      20.000000</td>\n",
       "      <td>      20.000000</td>\n",
       "      <td> 20.00000</td>\n",
       "    </tr>\n",
       "    <tr>\n",
       "      <th>mean</th>\n",
       "      <td> 14.655000</td>\n",
       "      <td> 14.984000</td>\n",
       "      <td> 14.665000</td>\n",
       "      <td> 14.433000</td>\n",
       "      <td> 1547106.162500</td>\n",
       "      <td> -0.09550</td>\n",
       "      <td> -0.599000</td>\n",
       "      <td> 14.817700</td>\n",
       "      <td> 14.902300</td>\n",
       "      <td> 14.926100</td>\n",
       "      <td> 1684265.081000</td>\n",
       "      <td> 1807385.316000</td>\n",
       "      <td> 2082896.547500</td>\n",
       "      <td>  1.57250</td>\n",
       "    </tr>\n",
       "    <tr>\n",
       "      <th>std</th>\n",
       "      <td>  0.701911</td>\n",
       "      <td>  0.741488</td>\n",
       "      <td>  0.677142</td>\n",
       "      <td>  0.642389</td>\n",
       "      <td>  534104.460601</td>\n",
       "      <td>  0.43511</td>\n",
       "      <td>  2.885541</td>\n",
       "      <td>  0.559332</td>\n",
       "      <td>  0.409793</td>\n",
       "      <td>  0.124865</td>\n",
       "      <td>  417395.932792</td>\n",
       "      <td>  356737.889023</td>\n",
       "      <td>  336430.880365</td>\n",
       "      <td>  0.54275</td>\n",
       "    </tr>\n",
       "    <tr>\n",
       "      <th>min</th>\n",
       "      <td> 13.820000</td>\n",
       "      <td> 14.010000</td>\n",
       "      <td> 13.830000</td>\n",
       "      <td> 13.560000</td>\n",
       "      <td>  816874.750000</td>\n",
       "      <td> -1.54000</td>\n",
       "      <td>-10.020000</td>\n",
       "      <td> 14.044000</td>\n",
       "      <td> 14.100000</td>\n",
       "      <td> 14.665000</td>\n",
       "      <td> 1116969.570000</td>\n",
       "      <td> 1386771.810000</td>\n",
       "      <td> 1547106.160000</td>\n",
       "      <td>  0.83000</td>\n",
       "    </tr>\n",
       "    <tr>\n",
       "      <th>25%</th>\n",
       "      <td> 13.990000</td>\n",
       "      <td> 14.422500</td>\n",
       "      <td> 14.042500</td>\n",
       "      <td> 13.822500</td>\n",
       "      <td> 1241847.160000</td>\n",
       "      <td> -0.25500</td>\n",
       "      <td> -1.600000</td>\n",
       "      <td> 14.282000</td>\n",
       "      <td> 14.565250</td>\n",
       "      <td> 14.836750</td>\n",
       "      <td> 1408526.557500</td>\n",
       "      <td> 1473547.897500</td>\n",
       "      <td> 1845449.972500</td>\n",
       "      <td>  1.26000</td>\n",
       "    </tr>\n",
       "    <tr>\n",
       "      <th>50%</th>\n",
       "      <td> 14.505000</td>\n",
       "      <td> 14.765000</td>\n",
       "      <td> 14.550000</td>\n",
       "      <td> 14.400000</td>\n",
       "      <td> 1433448.065000</td>\n",
       "      <td> -0.03000</td>\n",
       "      <td> -0.210000</td>\n",
       "      <td> 14.834000</td>\n",
       "      <td> 15.067000</td>\n",
       "      <td> 14.939500</td>\n",
       "      <td> 1567568.900000</td>\n",
       "      <td> 1671274.875000</td>\n",
       "      <td> 2018782.650000</td>\n",
       "      <td>  1.45500</td>\n",
       "    </tr>\n",
       "    <tr>\n",
       "      <th>75%</th>\n",
       "      <td> 15.025000</td>\n",
       "      <td> 15.582500</td>\n",
       "      <td> 15.147500</td>\n",
       "      <td> 14.757500</td>\n",
       "      <td> 1760223.060000</td>\n",
       "      <td>  0.10500</td>\n",
       "      <td>  0.725000</td>\n",
       "      <td> 15.276500</td>\n",
       "      <td> 15.246250</td>\n",
       "      <td> 15.009250</td>\n",
       "      <td> 1927145.055000</td>\n",
       "      <td> 2194516.657500</td>\n",
       "      <td> 2307477.822500</td>\n",
       "      <td>  1.79000</td>\n",
       "    </tr>\n",
       "    <tr>\n",
       "      <th>max</th>\n",
       "      <td> 15.990000</td>\n",
       "      <td> 16.390000</td>\n",
       "      <td> 16.020000</td>\n",
       "      <td> 15.600000</td>\n",
       "      <td> 2860436.500000</td>\n",
       "      <td>  0.59000</td>\n",
       "      <td>  4.270000</td>\n",
       "      <td> 15.724000</td>\n",
       "      <td> 15.345000</td>\n",
       "      <td> 15.120000</td>\n",
       "      <td> 2529960.450000</td>\n",
       "      <td> 2408901.260000</td>\n",
       "      <td> 2739781.610000</td>\n",
       "      <td>  2.91000</td>\n",
       "    </tr>\n",
       "  </tbody>\n",
       "</table>\n",
       "</div>"
      ],
      "text/plain": [
       "            open       high      close        low          volume  price_change   p_change        ma5       ma10       ma20           v_ma5          v_ma10          v_ma20  turnover\n",
       "count  20.000000  20.000000  20.000000  20.000000       20.000000      20.00000  20.000000  20.000000  20.000000  20.000000       20.000000       20.000000       20.000000  20.00000\n",
       "mean   14.655000  14.984000  14.665000  14.433000  1547106.162500      -0.09550  -0.599000  14.817700  14.902300  14.926100  1684265.081000  1807385.316000  2082896.547500   1.57250\n",
       "std     0.701911   0.741488   0.677142   0.642389   534104.460601       0.43511   2.885541   0.559332   0.409793   0.124865   417395.932792   356737.889023   336430.880365   0.54275\n",
       "min    13.820000  14.010000  13.830000  13.560000   816874.750000      -1.54000 -10.020000  14.044000  14.100000  14.665000  1116969.570000  1386771.810000  1547106.160000   0.83000\n",
       "25%    13.990000  14.422500  14.042500  13.822500  1241847.160000      -0.25500  -1.600000  14.282000  14.565250  14.836750  1408526.557500  1473547.897500  1845449.972500   1.26000\n",
       "50%    14.505000  14.765000  14.550000  14.400000  1433448.065000      -0.03000  -0.210000  14.834000  15.067000  14.939500  1567568.900000  1671274.875000  2018782.650000   1.45500\n",
       "75%    15.025000  15.582500  15.147500  14.757500  1760223.060000       0.10500   0.725000  15.276500  15.246250  15.009250  1927145.055000  2194516.657500  2307477.822500   1.79000\n",
       "max    15.990000  16.390000  16.020000  15.600000  2860436.500000       0.59000   4.270000  15.724000  15.345000  15.120000  2529960.450000  2408901.260000  2739781.610000   2.91000"
      ]
     },
     "execution_count": 11,
     "metadata": {},
     "output_type": "execute_result"
    }
   ],
   "source": [
    "df.describe()"
   ]
  },
  {
   "cell_type": "markdown",
   "metadata": {},
   "source": [
    "对数据的排序将便利我们观察数据，DataFrame提供了两种形式的排序。一种是按行列排序，即按照索引（行名）或者列名进行排序，可调用dataframe.sort_index，指定axis=0表示按索引（行名）排序，axis=1表示按列名排序，并可指定升序或者降序："
   ]
  },
  {
   "cell_type": "code",
   "execution_count": 12,
   "metadata": {
    "collapsed": false
   },
   "outputs": [
    {
     "name": "stdout",
     "output_type": "stream",
     "text": [
      "Order by column names, descending:\n"
     ]
    },
    {
     "data": {
      "text/html": [
       "<div style=\"max-height:1000px;max-width:1500px;overflow:auto;\">\n",
       "<table border=\"1\" class=\"dataframe\">\n",
       "  <thead>\n",
       "    <tr style=\"text-align: right;\">\n",
       "      <th></th>\n",
       "      <th>volume</th>\n",
       "      <th>v_ma5</th>\n",
       "      <th>v_ma20</th>\n",
       "      <th>v_ma10</th>\n",
       "      <th>turnover</th>\n",
       "      <th>price_change</th>\n",
       "      <th>p_change</th>\n",
       "      <th>open</th>\n",
       "      <th>ma5</th>\n",
       "      <th>ma20</th>\n",
       "      <th>ma10</th>\n",
       "      <th>low</th>\n",
       "      <th>high</th>\n",
       "      <th>close</th>\n",
       "    </tr>\n",
       "    <tr>\n",
       "      <th>date</th>\n",
       "      <th></th>\n",
       "      <th></th>\n",
       "      <th></th>\n",
       "      <th></th>\n",
       "      <th></th>\n",
       "      <th></th>\n",
       "      <th></th>\n",
       "      <th></th>\n",
       "      <th></th>\n",
       "      <th></th>\n",
       "      <th></th>\n",
       "      <th></th>\n",
       "      <th></th>\n",
       "      <th></th>\n",
       "    </tr>\n",
       "  </thead>\n",
       "  <tbody>\n",
       "    <tr>\n",
       "      <th>2015-01-30</th>\n",
       "      <td>  930116.69</td>\n",
       "      <td> 1116969.57</td>\n",
       "      <td> 1547106.16</td>\n",
       "      <td> 1386771.81</td>\n",
       "      <td> 0.95</td>\n",
       "      <td> 0.03</td>\n",
       "      <td> 0.22</td>\n",
       "      <td> 13.93</td>\n",
       "      <td> 14.044</td>\n",
       "      <td> 14.665</td>\n",
       "      <td> 14.100</td>\n",
       "      <td> 13.76</td>\n",
       "      <td> 14.12</td>\n",
       "      <td> 13.93</td>\n",
       "    </tr>\n",
       "    <tr>\n",
       "      <th>2015-01-29</th>\n",
       "      <td> 1016753.31</td>\n",
       "      <td> 1222782.61</td>\n",
       "      <td> 1620603.62</td>\n",
       "      <td> 1449344.78</td>\n",
       "      <td> 1.03</td>\n",
       "      <td>-0.16</td>\n",
       "      <td>-1.14</td>\n",
       "      <td> 13.82</td>\n",
       "      <td> 14.138</td>\n",
       "      <td> 14.761</td>\n",
       "      <td> 14.244</td>\n",
       "      <td> 13.75</td>\n",
       "      <td> 14.01</td>\n",
       "      <td> 13.90</td>\n",
       "    </tr>\n",
       "    <tr>\n",
       "      <th>2015-01-28</th>\n",
       "      <td> 1240877.50</td>\n",
       "      <td> 1270435.17</td>\n",
       "      <td> 1688069.88</td>\n",
       "      <td> 1471886.49</td>\n",
       "      <td> 1.26</td>\n",
       "      <td> 0.07</td>\n",
       "      <td> 0.50</td>\n",
       "      <td> 13.87</td>\n",
       "      <td> 14.218</td>\n",
       "      <td> 14.841</td>\n",
       "      <td> 14.389</td>\n",
       "      <td> 13.80</td>\n",
       "      <td> 14.30</td>\n",
       "      <td> 14.06</td>\n",
       "    </tr>\n",
       "    <tr>\n",
       "      <th>2015-01-27</th>\n",
       "      <td> 1339494.62</td>\n",
       "      <td> 1410365.75</td>\n",
       "      <td> 1755333.41</td>\n",
       "      <td> 1474101.70</td>\n",
       "      <td> 1.36</td>\n",
       "      <td>-0.35</td>\n",
       "      <td>-2.44</td>\n",
       "      <td> 14.35</td>\n",
       "      <td> 14.290</td>\n",
       "      <td> 14.884</td>\n",
       "      <td> 14.464</td>\n",
       "      <td> 13.83</td>\n",
       "      <td> 14.37</td>\n",
       "      <td> 13.99</td>\n",
       "    </tr>\n",
       "    <tr>\n",
       "      <th>2015-01-26</th>\n",
       "      <td> 1057605.75</td>\n",
       "      <td> 1440670.45</td>\n",
       "      <td> 1810212.34</td>\n",
       "      <td> 1421839.71</td>\n",
       "      <td> 1.08</td>\n",
       "      <td>-0.06</td>\n",
       "      <td>-0.42</td>\n",
       "      <td> 14.36</td>\n",
       "      <td> 14.258</td>\n",
       "      <td> 14.939</td>\n",
       "      <td> 14.533</td>\n",
       "      <td> 14.16</td>\n",
       "      <td> 14.44</td>\n",
       "      <td> 14.34</td>\n",
       "    </tr>\n",
       "  </tbody>\n",
       "</table>\n",
       "</div>"
      ],
      "text/plain": [
       "                volume       v_ma5      v_ma20      v_ma10  turnover  price_change  p_change   open     ma5    ma20    ma10    low   high  close\n",
       "date                                                                                                                                            \n",
       "2015-01-30   930116.69  1116969.57  1547106.16  1386771.81      0.95          0.03      0.22  13.93  14.044  14.665  14.100  13.76  14.12  13.93\n",
       "2015-01-29  1016753.31  1222782.61  1620603.62  1449344.78      1.03         -0.16     -1.14  13.82  14.138  14.761  14.244  13.75  14.01  13.90\n",
       "2015-01-28  1240877.50  1270435.17  1688069.88  1471886.49      1.26          0.07      0.50  13.87  14.218  14.841  14.389  13.80  14.30  14.06\n",
       "2015-01-27  1339494.62  1410365.75  1755333.41  1474101.70      1.36         -0.35     -2.44  14.35  14.290  14.884  14.464  13.83  14.37  13.99\n",
       "2015-01-26  1057605.75  1440670.45  1810212.34  1421839.71      1.08         -0.06     -0.42  14.36  14.258  14.939  14.533  14.16  14.44  14.34"
      ]
     },
     "execution_count": 12,
     "metadata": {},
     "output_type": "execute_result"
    }
   ],
   "source": [
    "print(\"Order by column names, descending:\")\n",
    "df.sort_index(axis=1, ascending=False).head()"
   ]
  },
  {
   "cell_type": "markdown",
   "metadata": {},
   "source": [
    "第二种排序是按值排序，可指定列名和排序方式，默认的是升序排序："
   ]
  },
  {
   "cell_type": "code",
   "execution_count": 13,
   "metadata": {
    "collapsed": false
   },
   "outputs": [
    {
     "name": "stdout",
     "output_type": "stream",
     "text": [
      "Order by column value, ascending:\n"
     ]
    },
    {
     "data": {
      "text/html": [
       "<div style=\"max-height:1000px;max-width:1500px;overflow:auto;\">\n",
       "<table border=\"1\" class=\"dataframe\">\n",
       "  <thead>\n",
       "    <tr style=\"text-align: right;\">\n",
       "      <th></th>\n",
       "      <th>open</th>\n",
       "      <th>high</th>\n",
       "      <th>close</th>\n",
       "      <th>low</th>\n",
       "      <th>volume</th>\n",
       "      <th>price_change</th>\n",
       "      <th>p_change</th>\n",
       "      <th>ma5</th>\n",
       "      <th>ma10</th>\n",
       "      <th>ma20</th>\n",
       "      <th>v_ma5</th>\n",
       "      <th>v_ma10</th>\n",
       "      <th>v_ma20</th>\n",
       "      <th>turnover</th>\n",
       "    </tr>\n",
       "    <tr>\n",
       "      <th>date</th>\n",
       "      <th></th>\n",
       "      <th></th>\n",
       "      <th></th>\n",
       "      <th></th>\n",
       "      <th></th>\n",
       "      <th></th>\n",
       "      <th></th>\n",
       "      <th></th>\n",
       "      <th></th>\n",
       "      <th></th>\n",
       "      <th></th>\n",
       "      <th></th>\n",
       "      <th></th>\n",
       "      <th></th>\n",
       "    </tr>\n",
       "  </thead>\n",
       "  <tbody>\n",
       "    <tr>\n",
       "      <th>2015-01-06</th>\n",
       "      <td> 15.85</td>\n",
       "      <td> 16.39</td>\n",
       "      <td> 15.78</td>\n",
       "      <td> 15.55</td>\n",
       "      <td> 2166421.50</td>\n",
       "      <td>-0.24</td>\n",
       "      <td>-1.50</td>\n",
       "      <td> 15.612</td>\n",
       "      <td> 15.201</td>\n",
       "      <td> 14.811</td>\n",
       "      <td> 2475830.10</td>\n",
       "      <td> 2408901.26</td>\n",
       "      <td> 2627417.84</td>\n",
       "      <td> 2.20</td>\n",
       "    </tr>\n",
       "    <tr>\n",
       "      <th>2015-01-05</th>\n",
       "      <td> 15.99</td>\n",
       "      <td> 16.28</td>\n",
       "      <td> 16.02</td>\n",
       "      <td> 15.60</td>\n",
       "      <td> 2860436.50</td>\n",
       "      <td> 0.18</td>\n",
       "      <td> 1.14</td>\n",
       "      <td> 15.476</td>\n",
       "      <td> 15.123</td>\n",
       "      <td> 14.749</td>\n",
       "      <td> 2529960.45</td>\n",
       "      <td> 2385799.70</td>\n",
       "      <td> 2739781.61</td>\n",
       "      <td> 2.91</td>\n",
       "    </tr>\n",
       "    <tr>\n",
       "      <th>2015-01-09</th>\n",
       "      <td> 14.90</td>\n",
       "      <td> 15.87</td>\n",
       "      <td> 15.08</td>\n",
       "      <td> 14.71</td>\n",
       "      <td> 2508500.25</td>\n",
       "      <td> 0.12</td>\n",
       "      <td> 0.80</td>\n",
       "      <td> 15.464</td>\n",
       "      <td> 15.337</td>\n",
       "      <td> 14.931</td>\n",
       "      <td> 2128638.62</td>\n",
       "      <td> 2242983.48</td>\n",
       "      <td> 2333154.26</td>\n",
       "      <td> 2.55</td>\n",
       "    </tr>\n",
       "    <tr>\n",
       "      <th>2015-01-07</th>\n",
       "      <td> 15.56</td>\n",
       "      <td> 15.83</td>\n",
       "      <td> 15.48</td>\n",
       "      <td> 15.30</td>\n",
       "      <td> 1700120.62</td>\n",
       "      <td>-0.30</td>\n",
       "      <td>-1.90</td>\n",
       "      <td> 15.724</td>\n",
       "      <td> 15.215</td>\n",
       "      <td> 14.824</td>\n",
       "      <td> 2298624.57</td>\n",
       "      <td> 2232174.20</td>\n",
       "      <td> 2516006.74</td>\n",
       "      <td> 1.73</td>\n",
       "    </tr>\n",
       "    <tr>\n",
       "      <th>2015-01-16</th>\n",
       "      <td> 15.40</td>\n",
       "      <td> 15.62</td>\n",
       "      <td> 15.37</td>\n",
       "      <td> 15.18</td>\n",
       "      <td> 1555846.38</td>\n",
       "      <td> 0.02</td>\n",
       "      <td> 0.13</td>\n",
       "      <td> 14.996</td>\n",
       "      <td> 15.230</td>\n",
       "      <td> 15.120</td>\n",
       "      <td> 1286242.40</td>\n",
       "      <td> 1707440.51</td>\n",
       "      <td> 2027110.83</td>\n",
       "      <td> 1.58</td>\n",
       "    </tr>\n",
       "  </tbody>\n",
       "</table>\n",
       "</div>"
      ],
      "text/plain": [
       "             open   high  close    low      volume  price_change  p_change     ma5    ma10    ma20       v_ma5      v_ma10      v_ma20  turnover\n",
       "date                                                                                                                                            \n",
       "2015-01-06  15.85  16.39  15.78  15.55  2166421.50         -0.24     -1.50  15.612  15.201  14.811  2475830.10  2408901.26  2627417.84      2.20\n",
       "2015-01-05  15.99  16.28  16.02  15.60  2860436.50          0.18      1.14  15.476  15.123  14.749  2529960.45  2385799.70  2739781.61      2.91\n",
       "2015-01-09  14.90  15.87  15.08  14.71  2508500.25          0.12      0.80  15.464  15.337  14.931  2128638.62  2242983.48  2333154.26      2.55\n",
       "2015-01-07  15.56  15.83  15.48  15.30  1700120.62         -0.30     -1.90  15.724  15.215  14.824  2298624.57  2232174.20  2516006.74      1.73\n",
       "2015-01-16  15.40  15.62  15.37  15.18  1555846.38          0.02      0.13  14.996  15.230  15.120  1286242.40  1707440.51  2027110.83      1.58"
      ]
     },
     "execution_count": 13,
     "metadata": {},
     "output_type": "execute_result"
    }
   ],
   "source": [
    "print(\"Order by column value, ascending:\")\n",
    "df.sort(columns='high').head()\n",
    "df.sort(columns='high', ascending=False).head()"
   ]
  },
  {
   "cell_type": "code",
   "execution_count": 14,
   "metadata": {
    "collapsed": false
   },
   "outputs": [
    {
     "name": "stdout",
     "output_type": "stream",
     "text": [
      "Order by multiple columns value:\n"
     ]
    },
    {
     "data": {
      "text/html": [
       "<div style=\"max-height:1000px;max-width:1500px;overflow:auto;\">\n",
       "<table border=\"1\" class=\"dataframe\">\n",
       "  <thead>\n",
       "    <tr style=\"text-align: right;\">\n",
       "      <th></th>\n",
       "      <th>open</th>\n",
       "      <th>high</th>\n",
       "      <th>close</th>\n",
       "      <th>low</th>\n",
       "      <th>volume</th>\n",
       "      <th>price_change</th>\n",
       "      <th>p_change</th>\n",
       "      <th>ma5</th>\n",
       "      <th>ma10</th>\n",
       "      <th>ma20</th>\n",
       "      <th>v_ma5</th>\n",
       "      <th>v_ma10</th>\n",
       "      <th>v_ma20</th>\n",
       "      <th>turnover</th>\n",
       "    </tr>\n",
       "    <tr>\n",
       "      <th>date</th>\n",
       "      <th></th>\n",
       "      <th></th>\n",
       "      <th></th>\n",
       "      <th></th>\n",
       "      <th></th>\n",
       "      <th></th>\n",
       "      <th></th>\n",
       "      <th></th>\n",
       "      <th></th>\n",
       "      <th></th>\n",
       "      <th></th>\n",
       "      <th></th>\n",
       "      <th></th>\n",
       "      <th></th>\n",
       "    </tr>\n",
       "  </thead>\n",
       "  <tbody>\n",
       "    <tr>\n",
       "      <th>2015-01-05</th>\n",
       "      <td> 15.99</td>\n",
       "      <td> 16.28</td>\n",
       "      <td> 16.02</td>\n",
       "      <td> 15.60</td>\n",
       "      <td> 2860436.50</td>\n",
       "      <td> 0.18</td>\n",
       "      <td>  1.14</td>\n",
       "      <td> 15.476</td>\n",
       "      <td> 15.123</td>\n",
       "      <td> 14.749</td>\n",
       "      <td> 2529960.45</td>\n",
       "      <td> 2385799.70</td>\n",
       "      <td> 2739781.61</td>\n",
       "      <td> 2.91</td>\n",
       "    </tr>\n",
       "    <tr>\n",
       "      <th>2015-01-09</th>\n",
       "      <td> 14.90</td>\n",
       "      <td> 15.87</td>\n",
       "      <td> 15.08</td>\n",
       "      <td> 14.71</td>\n",
       "      <td> 2508500.25</td>\n",
       "      <td> 0.12</td>\n",
       "      <td>  0.80</td>\n",
       "      <td> 15.464</td>\n",
       "      <td> 15.337</td>\n",
       "      <td> 14.931</td>\n",
       "      <td> 2128638.62</td>\n",
       "      <td> 2242983.48</td>\n",
       "      <td> 2333154.26</td>\n",
       "      <td> 2.55</td>\n",
       "    </tr>\n",
       "    <tr>\n",
       "      <th>2015-01-06</th>\n",
       "      <td> 15.85</td>\n",
       "      <td> 16.39</td>\n",
       "      <td> 15.78</td>\n",
       "      <td> 15.55</td>\n",
       "      <td> 2166421.50</td>\n",
       "      <td>-0.24</td>\n",
       "      <td> -1.50</td>\n",
       "      <td> 15.612</td>\n",
       "      <td> 15.201</td>\n",
       "      <td> 14.811</td>\n",
       "      <td> 2475830.10</td>\n",
       "      <td> 2408901.26</td>\n",
       "      <td> 2627417.84</td>\n",
       "      <td> 2.20</td>\n",
       "    </tr>\n",
       "    <tr>\n",
       "      <th>2015-01-19</th>\n",
       "      <td> 14.01</td>\n",
       "      <td> 14.57</td>\n",
       "      <td> 13.83</td>\n",
       "      <td> 13.83</td>\n",
       "      <td> 2137123.75</td>\n",
       "      <td>-1.54</td>\n",
       "      <td>-10.02</td>\n",
       "      <td> 14.808</td>\n",
       "      <td> 15.011</td>\n",
       "      <td> 15.067</td>\n",
       "      <td> 1403008.98</td>\n",
       "      <td> 1635109.24</td>\n",
       "      <td> 2010454.47</td>\n",
       "      <td> 2.17</td>\n",
       "    </tr>\n",
       "    <tr>\n",
       "      <th>2015-01-21</th>\n",
       "      <td> 13.88</td>\n",
       "      <td> 14.60</td>\n",
       "      <td> 14.42</td>\n",
       "      <td> 13.75</td>\n",
       "      <td> 1940530.38</td>\n",
       "      <td> 0.59</td>\n",
       "      <td>  4.27</td>\n",
       "      <td> 14.560</td>\n",
       "      <td> 14.710</td>\n",
       "      <td> 14.963</td>\n",
       "      <td> 1673337.80</td>\n",
       "      <td> 1591609.88</td>\n",
       "      <td> 1911892.04</td>\n",
       "      <td> 1.97</td>\n",
       "    </tr>\n",
       "  </tbody>\n",
       "</table>\n",
       "</div>"
      ],
      "text/plain": [
       "             open   high  close    low      volume  price_change  p_change     ma5    ma10    ma20       v_ma5      v_ma10      v_ma20  turnover\n",
       "date                                                                                                                                            \n",
       "2015-01-05  15.99  16.28  16.02  15.60  2860436.50          0.18      1.14  15.476  15.123  14.749  2529960.45  2385799.70  2739781.61      2.91\n",
       "2015-01-09  14.90  15.87  15.08  14.71  2508500.25          0.12      0.80  15.464  15.337  14.931  2128638.62  2242983.48  2333154.26      2.55\n",
       "2015-01-06  15.85  16.39  15.78  15.55  2166421.50         -0.24     -1.50  15.612  15.201  14.811  2475830.10  2408901.26  2627417.84      2.20\n",
       "2015-01-19  14.01  14.57  13.83  13.83  2137123.75         -1.54    -10.02  14.808  15.011  15.067  1403008.98  1635109.24  2010454.47      2.17\n",
       "2015-01-21  13.88  14.60  14.42  13.75  1940530.38          0.59      4.27  14.560  14.710  14.963  1673337.80  1591609.88  1911892.04      1.97"
      ]
     },
     "execution_count": 14,
     "metadata": {},
     "output_type": "execute_result"
    }
   ],
   "source": [
    "print(\"Order by multiple columns value:\")\n",
    "df.sort(columns=['volume', 'low'], ascending=[False, True]).head()"
   ]
  },
  {
   "cell_type": "markdown",
   "metadata": {},
   "source": [
    "#### 三、数据的访问和操作\n",
    "\n",
    "\n",
    "##### 3.1 再谈数据的访问\n",
    "\n",
    "上篇中已经介绍了使用loc、iloc、at、iat、ix以及[]访问DataFrame数据的几种方式，这里再介绍一种方法，使用\":\"来获取部行或者全部列："
   ]
  },
  {
   "cell_type": "code",
   "execution_count": 20,
   "metadata": {
    "collapsed": false
   },
   "outputs": [
    {
     "data": {
      "text/html": [
       "<div style=\"max-height:1000px;max-width:1500px;overflow:auto;\">\n",
       "<table border=\"1\" class=\"dataframe\">\n",
       "  <thead>\n",
       "    <tr style=\"text-align: right;\">\n",
       "      <th></th>\n",
       "      <th>open</th>\n",
       "      <th>high</th>\n",
       "      <th>close</th>\n",
       "      <th>low</th>\n",
       "      <th>volume</th>\n",
       "      <th>price_change</th>\n",
       "      <th>p_change</th>\n",
       "      <th>ma5</th>\n",
       "      <th>ma10</th>\n",
       "      <th>ma20</th>\n",
       "      <th>v_ma5</th>\n",
       "      <th>v_ma10</th>\n",
       "      <th>v_ma20</th>\n",
       "      <th>turnover</th>\n",
       "    </tr>\n",
       "    <tr>\n",
       "      <th>date</th>\n",
       "      <th></th>\n",
       "      <th></th>\n",
       "      <th></th>\n",
       "      <th></th>\n",
       "      <th></th>\n",
       "      <th></th>\n",
       "      <th></th>\n",
       "      <th></th>\n",
       "      <th></th>\n",
       "      <th></th>\n",
       "      <th></th>\n",
       "      <th></th>\n",
       "      <th></th>\n",
       "      <th></th>\n",
       "    </tr>\n",
       "  </thead>\n",
       "  <tbody>\n",
       "    <tr>\n",
       "      <th>2015-01-29</th>\n",
       "      <td> 13.82</td>\n",
       "      <td> 14.01</td>\n",
       "      <td> 13.90</td>\n",
       "      <td> 13.75</td>\n",
       "      <td> 1016753.31</td>\n",
       "      <td>-0.16</td>\n",
       "      <td>-1.14</td>\n",
       "      <td> 14.138</td>\n",
       "      <td> 14.244</td>\n",
       "      <td> 14.761</td>\n",
       "      <td> 1222782.61</td>\n",
       "      <td> 1449344.78</td>\n",
       "      <td> 1620603.62</td>\n",
       "      <td> 1.03</td>\n",
       "    </tr>\n",
       "    <tr>\n",
       "      <th>2015-01-28</th>\n",
       "      <td> 13.87</td>\n",
       "      <td> 14.30</td>\n",
       "      <td> 14.06</td>\n",
       "      <td> 13.80</td>\n",
       "      <td> 1240877.50</td>\n",
       "      <td> 0.07</td>\n",
       "      <td> 0.50</td>\n",
       "      <td> 14.218</td>\n",
       "      <td> 14.389</td>\n",
       "      <td> 14.841</td>\n",
       "      <td> 1270435.17</td>\n",
       "      <td> 1471886.49</td>\n",
       "      <td> 1688069.88</td>\n",
       "      <td> 1.26</td>\n",
       "    </tr>\n",
       "    <tr>\n",
       "      <th>2015-01-27</th>\n",
       "      <td> 14.35</td>\n",
       "      <td> 14.37</td>\n",
       "      <td> 13.99</td>\n",
       "      <td> 13.83</td>\n",
       "      <td> 1339494.62</td>\n",
       "      <td>-0.35</td>\n",
       "      <td>-2.44</td>\n",
       "      <td> 14.290</td>\n",
       "      <td> 14.464</td>\n",
       "      <td> 14.884</td>\n",
       "      <td> 1410365.75</td>\n",
       "      <td> 1474101.70</td>\n",
       "      <td> 1755333.41</td>\n",
       "      <td> 1.36</td>\n",
       "    </tr>\n",
       "  </tbody>\n",
       "</table>\n",
       "</div>"
      ],
      "text/plain": [
       "             open   high  close    low      volume  price_change  p_change     ma5    ma10    ma20       v_ma5      v_ma10      v_ma20  turnover\n",
       "date                                                                                                                                            \n",
       "2015-01-29  13.82  14.01  13.90  13.75  1016753.31         -0.16     -1.14  14.138  14.244  14.761  1222782.61  1449344.78  1620603.62      1.03\n",
       "2015-01-28  13.87  14.30  14.06  13.80  1240877.50          0.07      0.50  14.218  14.389  14.841  1270435.17  1471886.49  1688069.88      1.26\n",
       "2015-01-27  14.35  14.37  13.99  13.83  1339494.62         -0.35     -2.44  14.290  14.464  14.884  1410365.75  1474101.70  1755333.41      1.36"
      ]
     },
     "execution_count": 20,
     "metadata": {},
     "output_type": "execute_result"
    }
   ],
   "source": [
    "df.iloc[1:4][:]"
   ]
  },
  {
   "cell_type": "markdown",
   "metadata": {},
   "source": [
    "我们可以扩展上篇介绍的使用布尔类型的向量获取数据的方法，可以很方便地过滤数据，例如，我们要选出收盘价在均值以上的数据："
   ]
  },
  {
   "cell_type": "code",
   "execution_count": 23,
   "metadata": {
    "collapsed": false
   },
   "outputs": [
    {
     "data": {
      "text/html": [
       "<div style=\"max-height:1000px;max-width:1500px;overflow:auto;\">\n",
       "<table border=\"1\" class=\"dataframe\">\n",
       "  <thead>\n",
       "    <tr style=\"text-align: right;\">\n",
       "      <th></th>\n",
       "      <th>open</th>\n",
       "      <th>high</th>\n",
       "      <th>close</th>\n",
       "      <th>low</th>\n",
       "      <th>volume</th>\n",
       "      <th>price_change</th>\n",
       "      <th>p_change</th>\n",
       "      <th>ma5</th>\n",
       "      <th>ma10</th>\n",
       "      <th>ma20</th>\n",
       "      <th>v_ma5</th>\n",
       "      <th>v_ma10</th>\n",
       "      <th>v_ma20</th>\n",
       "      <th>turnover</th>\n",
       "    </tr>\n",
       "    <tr>\n",
       "      <th>date</th>\n",
       "      <th></th>\n",
       "      <th></th>\n",
       "      <th></th>\n",
       "      <th></th>\n",
       "      <th></th>\n",
       "      <th></th>\n",
       "      <th></th>\n",
       "      <th></th>\n",
       "      <th></th>\n",
       "      <th></th>\n",
       "      <th></th>\n",
       "      <th></th>\n",
       "      <th></th>\n",
       "      <th></th>\n",
       "    </tr>\n",
       "  </thead>\n",
       "  <tbody>\n",
       "    <tr>\n",
       "      <th>2015-01-16</th>\n",
       "      <td> 15.40</td>\n",
       "      <td> 15.62</td>\n",
       "      <td> 15.37</td>\n",
       "      <td> 15.18</td>\n",
       "      <td> 1555846.38</td>\n",
       "      <td> 0.02</td>\n",
       "      <td> 0.13</td>\n",
       "      <td> 14.996</td>\n",
       "      <td> 15.230</td>\n",
       "      <td> 15.120</td>\n",
       "      <td> 1286242.40</td>\n",
       "      <td> 1707440.51</td>\n",
       "      <td> 2027110.83</td>\n",
       "      <td> 1.58</td>\n",
       "    </tr>\n",
       "    <tr>\n",
       "      <th>2015-01-15</th>\n",
       "      <td> 14.85</td>\n",
       "      <td> 15.35</td>\n",
       "      <td> 15.35</td>\n",
       "      <td> 14.71</td>\n",
       "      <td> 1242170.38</td>\n",
       "      <td> 0.54</td>\n",
       "      <td> 3.65</td>\n",
       "      <td> 14.938</td>\n",
       "      <td> 15.277</td>\n",
       "      <td> 15.120</td>\n",
       "      <td> 1476773.18</td>\n",
       "      <td> 1791862.45</td>\n",
       "      <td> 2169326.81</td>\n",
       "      <td> 1.26</td>\n",
       "    </tr>\n",
       "    <tr>\n",
       "      <th>2015-01-14</th>\n",
       "      <td> 14.78</td>\n",
       "      <td> 15.20</td>\n",
       "      <td> 14.81</td>\n",
       "      <td> 14.70</td>\n",
       "      <td> 1263029.62</td>\n",
       "      <td> 0.13</td>\n",
       "      <td> 0.89</td>\n",
       "      <td> 14.860</td>\n",
       "      <td> 15.292</td>\n",
       "      <td> 15.072</td>\n",
       "      <td> 1509881.95</td>\n",
       "      <td> 1904253.26</td>\n",
       "      <td> 2230671.94</td>\n",
       "      <td> 1.28</td>\n",
       "    </tr>\n",
       "    <tr>\n",
       "      <th>2015-01-13</th>\n",
       "      <td> 14.65</td>\n",
       "      <td> 14.90</td>\n",
       "      <td> 14.68</td>\n",
       "      <td> 14.61</td>\n",
       "      <td>  816874.75</td>\n",
       "      <td>-0.09</td>\n",
       "      <td>-0.61</td>\n",
       "      <td> 14.994</td>\n",
       "      <td> 15.303</td>\n",
       "      <td> 15.010</td>\n",
       "      <td> 1597300.15</td>\n",
       "      <td> 2036565.13</td>\n",
       "      <td> 2257567.29</td>\n",
       "      <td> 0.83</td>\n",
       "    </tr>\n",
       "    <tr>\n",
       "      <th>2015-01-12</th>\n",
       "      <td> 14.87</td>\n",
       "      <td> 15.05</td>\n",
       "      <td> 14.77</td>\n",
       "      <td> 14.50</td>\n",
       "      <td> 1553290.88</td>\n",
       "      <td>-0.31</td>\n",
       "      <td>-2.06</td>\n",
       "      <td> 15.214</td>\n",
       "      <td> 15.345</td>\n",
       "      <td> 14.973</td>\n",
       "      <td> 1867209.50</td>\n",
       "      <td> 2198584.98</td>\n",
       "      <td> 2298919.01</td>\n",
       "      <td> 1.58</td>\n",
       "    </tr>\n",
       "  </tbody>\n",
       "</table>\n",
       "</div>"
      ],
      "text/plain": [
       "             open   high  close    low      volume  price_change  p_change     ma5    ma10    ma20       v_ma5      v_ma10      v_ma20  turnover\n",
       "date                                                                                                                                            \n",
       "2015-01-16  15.40  15.62  15.37  15.18  1555846.38          0.02      0.13  14.996  15.230  15.120  1286242.40  1707440.51  2027110.83      1.58\n",
       "2015-01-15  14.85  15.35  15.35  14.71  1242170.38          0.54      3.65  14.938  15.277  15.120  1476773.18  1791862.45  2169326.81      1.26\n",
       "2015-01-14  14.78  15.20  14.81  14.70  1263029.62          0.13      0.89  14.860  15.292  15.072  1509881.95  1904253.26  2230671.94      1.28\n",
       "2015-01-13  14.65  14.90  14.68  14.61   816874.75         -0.09     -0.61  14.994  15.303  15.010  1597300.15  2036565.13  2257567.29      0.83\n",
       "2015-01-12  14.87  15.05  14.77  14.50  1553290.88         -0.31     -2.06  15.214  15.345  14.973  1867209.50  2198584.98  2298919.01      1.58"
      ]
     },
     "execution_count": 23,
     "metadata": {},
     "output_type": "execute_result"
    }
   ],
   "source": [
    "df[df.close > df.close.mean()].head()"
   ]
  },
  {
   "cell_type": "markdown",
   "metadata": {},
   "source": [
    "isin()函数可方便地过滤DataFrame中的数据："
   ]
  },
  {
   "cell_type": "code",
   "execution_count": 27,
   "metadata": {
    "collapsed": false
   },
   "outputs": [
    {
     "name": "stdout",
     "output_type": "stream",
     "text": [
      "(20, 14)\n"
     ]
    },
    {
     "data": {
      "text/html": [
       "<div style=\"max-height:1000px;max-width:1500px;overflow:auto;\">\n",
       "<table border=\"1\" class=\"dataframe\">\n",
       "  <thead>\n",
       "    <tr style=\"text-align: right;\">\n",
       "      <th></th>\n",
       "      <th>open</th>\n",
       "      <th>high</th>\n",
       "      <th>close</th>\n",
       "      <th>low</th>\n",
       "      <th>volume</th>\n",
       "      <th>price_change</th>\n",
       "      <th>p_change</th>\n",
       "      <th>ma5</th>\n",
       "      <th>ma10</th>\n",
       "      <th>ma20</th>\n",
       "      <th>v_ma5</th>\n",
       "      <th>v_ma10</th>\n",
       "      <th>v_ma20</th>\n",
       "      <th>turnover</th>\n",
       "    </tr>\n",
       "    <tr>\n",
       "      <th>date</th>\n",
       "      <th></th>\n",
       "      <th></th>\n",
       "      <th></th>\n",
       "      <th></th>\n",
       "      <th></th>\n",
       "      <th></th>\n",
       "      <th></th>\n",
       "      <th></th>\n",
       "      <th></th>\n",
       "      <th></th>\n",
       "      <th></th>\n",
       "      <th></th>\n",
       "      <th></th>\n",
       "      <th></th>\n",
       "    </tr>\n",
       "  </thead>\n",
       "  <tbody>\n",
       "    <tr>\n",
       "      <th>2015-01-16</th>\n",
       "      <td> 15.40</td>\n",
       "      <td> 15.62</td>\n",
       "      <td> 15.37</td>\n",
       "      <td> 15.18</td>\n",
       "      <td> 1555846.38</td>\n",
       "      <td> 0.02</td>\n",
       "      <td> 0.13</td>\n",
       "      <td> 14.996</td>\n",
       "      <td> 15.230</td>\n",
       "      <td> 15.12</td>\n",
       "      <td> 1286242.40</td>\n",
       "      <td> 1707440.51</td>\n",
       "      <td> 2027110.83</td>\n",
       "      <td> 1.58</td>\n",
       "    </tr>\n",
       "    <tr>\n",
       "      <th>2015-01-15</th>\n",
       "      <td> 14.85</td>\n",
       "      <td> 15.35</td>\n",
       "      <td> 15.35</td>\n",
       "      <td> 14.71</td>\n",
       "      <td> 1242170.38</td>\n",
       "      <td> 0.54</td>\n",
       "      <td> 3.65</td>\n",
       "      <td> 14.938</td>\n",
       "      <td> 15.277</td>\n",
       "      <td> 15.12</td>\n",
       "      <td> 1476773.18</td>\n",
       "      <td> 1791862.45</td>\n",
       "      <td> 2169326.81</td>\n",
       "      <td> 1.26</td>\n",
       "    </tr>\n",
       "  </tbody>\n",
       "</table>\n",
       "</div>"
      ],
      "text/plain": [
       "             open   high  close    low      volume  price_change  p_change     ma5    ma10   ma20       v_ma5      v_ma10      v_ma20  turnover\n",
       "date                                                                                                                                           \n",
       "2015-01-16  15.40  15.62  15.37  15.18  1555846.38          0.02      0.13  14.996  15.230  15.12  1286242.40  1707440.51  2027110.83      1.58\n",
       "2015-01-15  14.85  15.35  15.35  14.71  1242170.38          0.54      3.65  14.938  15.277  15.12  1476773.18  1791862.45  2169326.81      1.26"
      ]
     },
     "execution_count": 27,
     "metadata": {},
     "output_type": "execute_result"
    }
   ],
   "source": [
    "df_filtered = df[df['open'].isin([15.4, 14.85])]\n",
    "print(df.shape) # => df is not modified\n",
    "df_filtered"
   ]
  },
  {
   "cell_type": "markdown",
   "metadata": {},
   "source": [
    "##### 3.2 处理缺失数据\n",
    "\n",
    "在访问数据的基础上，我们可以更改数据，例如，修改某些元素为缺失值："
   ]
  },
  {
   "cell_type": "code",
   "execution_count": 34,
   "metadata": {
    "collapsed": false,
    "scrolled": true
   },
   "outputs": [
    {
     "name": "stdout",
     "output_type": "stream",
     "text": [
      "             open   high  close    low      volume\n",
      "date                                              \n",
      "2015-01-30  13.93  14.12    NaN  13.76   930116.69\n",
      "2015-01-29  13.82  14.01    NaN  13.75  1016753.31\n",
      "2015-01-28  13.87  14.30    NaN  13.80  1240877.50\n",
      "2015-01-27  14.35  14.37    NaN  13.83  1339494.62\n",
      "2015-01-26  14.36  14.44    NaN  14.16  1057605.75\n",
      "2015-01-23  14.36  14.63    NaN  14.30  1459181.88\n",
      "2015-01-22  14.34  14.52    NaN  14.16  1255016.12\n",
      "2015-01-21  13.88  14.60  14.42  13.75  1940530.38\n",
      "2015-01-20  13.83  14.06    NaN  13.56  1491018.12\n",
      "2015-01-19  14.01  14.57  13.83  13.83  2137123.75\n",
      "2015-01-16  15.40  15.62    NaN  15.18  1555846.38\n",
      "2015-01-15  14.85  15.35    NaN  14.71  1242170.38\n",
      "2015-01-14  14.78  15.20    NaN  14.70  1263029.62\n",
      "2015-01-13  14.65  14.90    NaN  14.61   816874.75\n",
      "2015-01-12  14.87  15.05  14.77  14.50  1553290.88\n",
      "2015-01-09  14.90  15.87  15.08  14.71  2508500.25\n",
      "2015-01-08  15.50  15.57    NaN  14.90  1407714.25\n",
      "2015-01-07  15.56  15.83  15.48  15.30  1700120.62\n",
      "2015-01-06  15.85  16.39  15.78  15.55  2166421.50\n",
      "2015-01-05  15.99  16.28  16.02  15.60  2860436.50\n"
     ]
    },
    {
     "name": "stderr",
     "output_type": "stream",
     "text": [
      "C:\\Anaconda3\\lib\\site-packages\\pandas\\core\\generic.py:3368: SettingWithCopyWarning: \n",
      "A value is trying to be set on a copy of a slice from a DataFrame\n",
      "\n",
      "See the the caveats in the documentation: http://pandas.pydata.org/pandas-docs/stable/indexing.html#indexing-view-versus-copy\n",
      "  self._update_inplace(new_data)\n",
      "C:\\Anaconda3\\lib\\site-packages\\IPython\\core\\interactiveshell.py:2885: SettingWithCopyWarning: \n",
      "A value is trying to be set on a copy of a slice from a DataFrame\n",
      "\n",
      "See the the caveats in the documentation: http://pandas.pydata.org/pandas-docs/stable/indexing.html#indexing-view-versus-copy\n",
      "  exec(code_obj, self.user_global_ns, self.user_ns)\n"
     ]
    },
    {
     "data": {
      "text/html": [
       "<div style=\"max-height:1000px;max-width:1500px;overflow:auto;\">\n",
       "<table border=\"1\" class=\"dataframe\">\n",
       "  <thead>\n",
       "    <tr style=\"text-align: right;\">\n",
       "      <th></th>\n",
       "      <th>open</th>\n",
       "      <th>high</th>\n",
       "      <th>close</th>\n",
       "      <th>low</th>\n",
       "      <th>volume</th>\n",
       "    </tr>\n",
       "    <tr>\n",
       "      <th>date</th>\n",
       "      <th></th>\n",
       "      <th></th>\n",
       "      <th></th>\n",
       "      <th></th>\n",
       "      <th></th>\n",
       "    </tr>\n",
       "  </thead>\n",
       "  <tbody>\n",
       "    <tr>\n",
       "      <th>2015-01-30</th>\n",
       "      <td> 13.93</td>\n",
       "      <td> 14.12</td>\n",
       "      <td>   NaN</td>\n",
       "      <td> 13.76</td>\n",
       "      <td>  930116.69</td>\n",
       "    </tr>\n",
       "    <tr>\n",
       "      <th>2015-01-29</th>\n",
       "      <td> 13.82</td>\n",
       "      <td> 14.01</td>\n",
       "      <td>   NaN</td>\n",
       "      <td> 13.75</td>\n",
       "      <td> 1016753.31</td>\n",
       "    </tr>\n",
       "    <tr>\n",
       "      <th>2015-01-28</th>\n",
       "      <td> 13.87</td>\n",
       "      <td> 14.30</td>\n",
       "      <td>   NaN</td>\n",
       "      <td> 13.80</td>\n",
       "      <td> 1240877.50</td>\n",
       "    </tr>\n",
       "    <tr>\n",
       "      <th>2015-01-27</th>\n",
       "      <td> 14.35</td>\n",
       "      <td> 14.37</td>\n",
       "      <td>   NaN</td>\n",
       "      <td> 13.83</td>\n",
       "      <td> 1339494.62</td>\n",
       "    </tr>\n",
       "    <tr>\n",
       "      <th>2015-01-26</th>\n",
       "      <td> 14.36</td>\n",
       "      <td> 14.44</td>\n",
       "      <td>   NaN</td>\n",
       "      <td> 14.16</td>\n",
       "      <td> 1057605.75</td>\n",
       "    </tr>\n",
       "    <tr>\n",
       "      <th>2015-01-23</th>\n",
       "      <td> 14.36</td>\n",
       "      <td> 14.63</td>\n",
       "      <td>   NaN</td>\n",
       "      <td> 14.30</td>\n",
       "      <td> 1459181.88</td>\n",
       "    </tr>\n",
       "    <tr>\n",
       "      <th>2015-01-22</th>\n",
       "      <td> 14.34</td>\n",
       "      <td> 14.52</td>\n",
       "      <td>   NaN</td>\n",
       "      <td> 14.16</td>\n",
       "      <td> 1255016.12</td>\n",
       "    </tr>\n",
       "    <tr>\n",
       "      <th>2015-01-21</th>\n",
       "      <td> 13.88</td>\n",
       "      <td> 14.60</td>\n",
       "      <td> 14.42</td>\n",
       "      <td> 13.75</td>\n",
       "      <td> 1940530.38</td>\n",
       "    </tr>\n",
       "    <tr>\n",
       "      <th>2015-01-20</th>\n",
       "      <td> 13.83</td>\n",
       "      <td> 14.06</td>\n",
       "      <td>   NaN</td>\n",
       "      <td> 13.56</td>\n",
       "      <td> 1491018.12</td>\n",
       "    </tr>\n",
       "    <tr>\n",
       "      <th>2015-01-19</th>\n",
       "      <td> 14.01</td>\n",
       "      <td> 14.57</td>\n",
       "      <td> 13.83</td>\n",
       "      <td> 13.83</td>\n",
       "      <td> 2137123.75</td>\n",
       "    </tr>\n",
       "    <tr>\n",
       "      <th>2015-01-16</th>\n",
       "      <td> 15.40</td>\n",
       "      <td> 15.62</td>\n",
       "      <td>   NaN</td>\n",
       "      <td> 15.18</td>\n",
       "      <td> 1555846.38</td>\n",
       "    </tr>\n",
       "    <tr>\n",
       "      <th>2015-01-15</th>\n",
       "      <td> 14.85</td>\n",
       "      <td> 15.35</td>\n",
       "      <td>   NaN</td>\n",
       "      <td> 14.71</td>\n",
       "      <td> 1242170.38</td>\n",
       "    </tr>\n",
       "    <tr>\n",
       "      <th>2015-01-14</th>\n",
       "      <td> 14.78</td>\n",
       "      <td> 15.20</td>\n",
       "      <td>   NaN</td>\n",
       "      <td> 14.70</td>\n",
       "      <td> 1263029.62</td>\n",
       "    </tr>\n",
       "    <tr>\n",
       "      <th>2015-01-13</th>\n",
       "      <td> 14.65</td>\n",
       "      <td> 14.90</td>\n",
       "      <td>   NaN</td>\n",
       "      <td> 14.61</td>\n",
       "      <td>  816874.75</td>\n",
       "    </tr>\n",
       "    <tr>\n",
       "      <th>2015-01-12</th>\n",
       "      <td> 14.87</td>\n",
       "      <td> 15.05</td>\n",
       "      <td> 14.77</td>\n",
       "      <td> 14.50</td>\n",
       "      <td> 1553290.88</td>\n",
       "    </tr>\n",
       "    <tr>\n",
       "      <th>2015-01-09</th>\n",
       "      <td> 14.90</td>\n",
       "      <td> 15.87</td>\n",
       "      <td> 15.08</td>\n",
       "      <td> 14.71</td>\n",
       "      <td> 2508500.25</td>\n",
       "    </tr>\n",
       "    <tr>\n",
       "      <th>2015-01-08</th>\n",
       "      <td> 15.50</td>\n",
       "      <td> 15.57</td>\n",
       "      <td>   NaN</td>\n",
       "      <td> 14.90</td>\n",
       "      <td> 1407714.25</td>\n",
       "    </tr>\n",
       "    <tr>\n",
       "      <th>2015-01-07</th>\n",
       "      <td> 15.56</td>\n",
       "      <td> 15.83</td>\n",
       "      <td> 15.48</td>\n",
       "      <td> 15.30</td>\n",
       "      <td> 1700120.62</td>\n",
       "    </tr>\n",
       "    <tr>\n",
       "      <th>2015-01-06</th>\n",
       "      <td> 15.85</td>\n",
       "      <td> 16.39</td>\n",
       "      <td> 15.78</td>\n",
       "      <td> 15.55</td>\n",
       "      <td> 2166421.50</td>\n",
       "    </tr>\n",
       "    <tr>\n",
       "      <th>2015-01-05</th>\n",
       "      <td> 15.99</td>\n",
       "      <td> 16.28</td>\n",
       "      <td> 16.02</td>\n",
       "      <td> 15.60</td>\n",
       "      <td> 2860436.50</td>\n",
       "    </tr>\n",
       "  </tbody>\n",
       "</table>\n",
       "</div>"
      ],
      "text/plain": [
       "             open   high  close    low      volume\n",
       "date                                              \n",
       "2015-01-30  13.93  14.12    NaN  13.76   930116.69\n",
       "2015-01-29  13.82  14.01    NaN  13.75  1016753.31\n",
       "2015-01-28  13.87  14.30    NaN  13.80  1240877.50\n",
       "2015-01-27  14.35  14.37    NaN  13.83  1339494.62\n",
       "2015-01-26  14.36  14.44    NaN  14.16  1057605.75\n",
       "2015-01-23  14.36  14.63    NaN  14.30  1459181.88\n",
       "2015-01-22  14.34  14.52    NaN  14.16  1255016.12\n",
       "2015-01-21  13.88  14.60  14.42  13.75  1940530.38\n",
       "2015-01-20  13.83  14.06    NaN  13.56  1491018.12\n",
       "2015-01-19  14.01  14.57  13.83  13.83  2137123.75\n",
       "2015-01-16  15.40  15.62    NaN  15.18  1555846.38\n",
       "2015-01-15  14.85  15.35    NaN  14.71  1242170.38\n",
       "2015-01-14  14.78  15.20    NaN  14.70  1263029.62\n",
       "2015-01-13  14.65  14.90    NaN  14.61   816874.75\n",
       "2015-01-12  14.87  15.05  14.77  14.50  1553290.88\n",
       "2015-01-09  14.90  15.87  15.08  14.71  2508500.25\n",
       "2015-01-08  15.50  15.57    NaN  14.90  1407714.25\n",
       "2015-01-07  15.56  15.83  15.48  15.30  1700120.62\n",
       "2015-01-06  15.85  16.39  15.78  15.55  2166421.50\n",
       "2015-01-05  15.99  16.28  16.02  15.60  2860436.50"
      ]
     },
     "execution_count": 34,
     "metadata": {},
     "output_type": "execute_result"
    }
   ],
   "source": [
    "df = df[['open', 'high', 'close', 'low', 'volume']]\n",
    "print(df)\n",
    "# df_mini['close'][df['volume'] < 1500000] = np.nan\n",
    "# df_mini\n",
    "# try to modify a slice from a DataFrame will get warning\n",
    "df['close'][df['volume'] < 1500000] = np.nan\n",
    "df"
   ]
  },
  {
   "cell_type": "markdown",
   "metadata": {},
   "source": [
    "\n",
    "原始数据中很可能存在一些数据的缺失，就如同现在处理的这个样例数据一样，处理缺失数据有多种方式。通常使用dataframe.dropna()，dataframe.dropna()可以按行丢弃带有nan的数据；若指定how='all'（默认是'any'），则只在整行全部是nan时丢弃数据；若指定thresh，则表示当某行数据非缺失列数超过指定数值时才保留；要指定根据某列丢弃可以通过subset完成。"
   ]
  },
  {
   "cell_type": "code",
   "execution_count": 41,
   "metadata": {
    "collapsed": false
   },
   "outputs": [
    {
     "name": "stdout",
     "output_type": "stream",
     "text": [
      "Data size before filtering:\n",
      "(20, 5)\n",
      "Drop all rows that have any NaN values:\n",
      "Data size after filtering:\n",
      "(7, 5)\n",
      "             open   high  close    low      volume\n",
      "date                                              \n",
      "2015-01-21  13.88  14.60  14.42  13.75  1940530.38\n",
      "2015-01-19  14.01  14.57  13.83  13.83  2137123.75\n",
      "2015-01-12  14.87  15.05  14.77  14.50  1553290.88\n",
      "Drop only if all columns are NaN:\n",
      "Data size after filtering:\n",
      "(20, 5)\n",
      "             open   high  close    low      volume\n",
      "date                                              \n",
      "2015-01-30  13.93  14.12    NaN  13.76   930116.69\n",
      "2015-01-29  13.82  14.01    NaN  13.75  1016753.31\n",
      "2015-01-28  13.87  14.30    NaN  13.80  1240877.50\n",
      "Drop rows who do not have at least six values that are not NaN\n",
      "Data size after filtering:\n",
      "(0, 5)\n",
      "Empty DataFrame\n",
      "Columns: [open, high, close, low, volume]\n",
      "Index: []\n",
      "Drop only if NaN in specific column:\n",
      "Data size after filtering:\n",
      "(7, 5)\n",
      "             open   high  close    low      volume\n",
      "date                                              \n",
      "2015-01-21  13.88  14.60  14.42  13.75  1940530.38\n",
      "2015-01-19  14.01  14.57  13.83  13.83  2137123.75\n",
      "2015-01-12  14.87  15.05  14.77  14.50  1553290.88\n"
     ]
    }
   ],
   "source": [
    "print(\"Data size before filtering:\")\n",
    "print(df.shape)\n",
    "\n",
    "print(\"Drop all rows that have any NaN values:\")\n",
    "print(\"Data size after filtering:\")\n",
    "print(df.dropna().shape)\n",
    "print(df.dropna().head(3))\n",
    "\n",
    "print(\"Drop only if all columns are NaN:\")\n",
    "print(\"Data size after filtering:\")\n",
    "print(df.dropna(how='all').shape)\n",
    "print(df.dropna(how='all').head(3))\n",
    "\n",
    "print(\"Drop rows who do not have at least six values that are not NaN\")\n",
    "print(\"Data size after filtering:\")\n",
    "print(df.dropna(thresh=6).shape)\n",
    "print(df.dropna(thresh=6).head(3))\n",
    "\n",
    "\n",
    "print(\"Drop only if NaN in specific column:\")\n",
    "print(\"Data size after filtering:\")\n",
    "print(df.dropna(subset=['close']).shape)\n",
    "print(df.dropna(subset=['close']).head(3))"
   ]
  },
  {
   "cell_type": "markdown",
   "metadata": {},
   "source": [
    "有数据缺失时也未必是全部丢弃，dataframe.fillna(value=value)可以指定填补缺失值的数值"
   ]
  },
  {
   "cell_type": "code",
   "execution_count": 44,
   "metadata": {
    "collapsed": false,
    "scrolled": true
   },
   "outputs": [
    {
     "data": {
      "text/html": [
       "<div style=\"max-height:1000px;max-width:1500px;overflow:auto;\">\n",
       "<table border=\"1\" class=\"dataframe\">\n",
       "  <thead>\n",
       "    <tr style=\"text-align: right;\">\n",
       "      <th></th>\n",
       "      <th>open</th>\n",
       "      <th>high</th>\n",
       "      <th>close</th>\n",
       "      <th>low</th>\n",
       "      <th>volume</th>\n",
       "    </tr>\n",
       "    <tr>\n",
       "      <th>date</th>\n",
       "      <th></th>\n",
       "      <th></th>\n",
       "      <th></th>\n",
       "      <th></th>\n",
       "      <th></th>\n",
       "    </tr>\n",
       "  </thead>\n",
       "  <tbody>\n",
       "    <tr>\n",
       "      <th>2015-01-30</th>\n",
       "      <td> 13.93</td>\n",
       "      <td> 14.12</td>\n",
       "      <td> 1000.00</td>\n",
       "      <td> 13.76</td>\n",
       "      <td>  930116.69</td>\n",
       "    </tr>\n",
       "    <tr>\n",
       "      <th>2015-01-29</th>\n",
       "      <td> 13.82</td>\n",
       "      <td> 14.01</td>\n",
       "      <td> 1000.00</td>\n",
       "      <td> 13.75</td>\n",
       "      <td> 1016753.31</td>\n",
       "    </tr>\n",
       "    <tr>\n",
       "      <th>2015-01-28</th>\n",
       "      <td> 13.87</td>\n",
       "      <td> 14.30</td>\n",
       "      <td> 1000.00</td>\n",
       "      <td> 13.80</td>\n",
       "      <td> 1240877.50</td>\n",
       "    </tr>\n",
       "    <tr>\n",
       "      <th>2015-01-27</th>\n",
       "      <td> 14.35</td>\n",
       "      <td> 14.37</td>\n",
       "      <td> 1000.00</td>\n",
       "      <td> 13.83</td>\n",
       "      <td> 1339494.62</td>\n",
       "    </tr>\n",
       "    <tr>\n",
       "      <th>2015-01-26</th>\n",
       "      <td> 14.36</td>\n",
       "      <td> 14.44</td>\n",
       "      <td> 1000.00</td>\n",
       "      <td> 14.16</td>\n",
       "      <td> 1057605.75</td>\n",
       "    </tr>\n",
       "    <tr>\n",
       "      <th>2015-01-23</th>\n",
       "      <td> 14.36</td>\n",
       "      <td> 14.63</td>\n",
       "      <td> 1000.00</td>\n",
       "      <td> 14.30</td>\n",
       "      <td> 1459181.88</td>\n",
       "    </tr>\n",
       "    <tr>\n",
       "      <th>2015-01-22</th>\n",
       "      <td> 14.34</td>\n",
       "      <td> 14.52</td>\n",
       "      <td> 1000.00</td>\n",
       "      <td> 14.16</td>\n",
       "      <td> 1255016.12</td>\n",
       "    </tr>\n",
       "    <tr>\n",
       "      <th>2015-01-21</th>\n",
       "      <td> 13.88</td>\n",
       "      <td> 14.60</td>\n",
       "      <td>   14.42</td>\n",
       "      <td> 13.75</td>\n",
       "      <td> 1940530.38</td>\n",
       "    </tr>\n",
       "    <tr>\n",
       "      <th>2015-01-20</th>\n",
       "      <td> 13.83</td>\n",
       "      <td> 14.06</td>\n",
       "      <td> 1000.00</td>\n",
       "      <td> 13.56</td>\n",
       "      <td> 1491018.12</td>\n",
       "    </tr>\n",
       "    <tr>\n",
       "      <th>2015-01-19</th>\n",
       "      <td> 14.01</td>\n",
       "      <td> 14.57</td>\n",
       "      <td>   13.83</td>\n",
       "      <td> 13.83</td>\n",
       "      <td> 2137123.75</td>\n",
       "    </tr>\n",
       "    <tr>\n",
       "      <th>2015-01-16</th>\n",
       "      <td> 15.40</td>\n",
       "      <td> 15.62</td>\n",
       "      <td> 1000.00</td>\n",
       "      <td> 15.18</td>\n",
       "      <td> 1555846.38</td>\n",
       "    </tr>\n",
       "    <tr>\n",
       "      <th>2015-01-15</th>\n",
       "      <td> 14.85</td>\n",
       "      <td> 15.35</td>\n",
       "      <td> 1000.00</td>\n",
       "      <td> 14.71</td>\n",
       "      <td> 1242170.38</td>\n",
       "    </tr>\n",
       "    <tr>\n",
       "      <th>2015-01-14</th>\n",
       "      <td> 14.78</td>\n",
       "      <td> 15.20</td>\n",
       "      <td> 1000.00</td>\n",
       "      <td> 14.70</td>\n",
       "      <td> 1263029.62</td>\n",
       "    </tr>\n",
       "    <tr>\n",
       "      <th>2015-01-13</th>\n",
       "      <td> 14.65</td>\n",
       "      <td> 14.90</td>\n",
       "      <td> 1000.00</td>\n",
       "      <td> 14.61</td>\n",
       "      <td>  816874.75</td>\n",
       "    </tr>\n",
       "    <tr>\n",
       "      <th>2015-01-12</th>\n",
       "      <td> 14.87</td>\n",
       "      <td> 15.05</td>\n",
       "      <td>   14.77</td>\n",
       "      <td> 14.50</td>\n",
       "      <td> 1553290.88</td>\n",
       "    </tr>\n",
       "    <tr>\n",
       "      <th>2015-01-09</th>\n",
       "      <td> 14.90</td>\n",
       "      <td> 15.87</td>\n",
       "      <td>   15.08</td>\n",
       "      <td> 14.71</td>\n",
       "      <td> 2508500.25</td>\n",
       "    </tr>\n",
       "    <tr>\n",
       "      <th>2015-01-08</th>\n",
       "      <td> 15.50</td>\n",
       "      <td> 15.57</td>\n",
       "      <td> 1000.00</td>\n",
       "      <td> 14.90</td>\n",
       "      <td> 1407714.25</td>\n",
       "    </tr>\n",
       "    <tr>\n",
       "      <th>2015-01-07</th>\n",
       "      <td> 15.56</td>\n",
       "      <td> 15.83</td>\n",
       "      <td>   15.48</td>\n",
       "      <td> 15.30</td>\n",
       "      <td> 1700120.62</td>\n",
       "    </tr>\n",
       "    <tr>\n",
       "      <th>2015-01-06</th>\n",
       "      <td> 15.85</td>\n",
       "      <td> 16.39</td>\n",
       "      <td>   15.78</td>\n",
       "      <td> 15.55</td>\n",
       "      <td> 2166421.50</td>\n",
       "    </tr>\n",
       "    <tr>\n",
       "      <th>2015-01-05</th>\n",
       "      <td> 15.99</td>\n",
       "      <td> 16.28</td>\n",
       "      <td>   16.02</td>\n",
       "      <td> 15.60</td>\n",
       "      <td> 2860436.50</td>\n",
       "    </tr>\n",
       "  </tbody>\n",
       "</table>\n",
       "</div>"
      ],
      "text/plain": [
       "             open   high    close    low      volume\n",
       "date                                                \n",
       "2015-01-30  13.93  14.12  1000.00  13.76   930116.69\n",
       "2015-01-29  13.82  14.01  1000.00  13.75  1016753.31\n",
       "2015-01-28  13.87  14.30  1000.00  13.80  1240877.50\n",
       "2015-01-27  14.35  14.37  1000.00  13.83  1339494.62\n",
       "2015-01-26  14.36  14.44  1000.00  14.16  1057605.75\n",
       "2015-01-23  14.36  14.63  1000.00  14.30  1459181.88\n",
       "2015-01-22  14.34  14.52  1000.00  14.16  1255016.12\n",
       "2015-01-21  13.88  14.60    14.42  13.75  1940530.38\n",
       "2015-01-20  13.83  14.06  1000.00  13.56  1491018.12\n",
       "2015-01-19  14.01  14.57    13.83  13.83  2137123.75\n",
       "2015-01-16  15.40  15.62  1000.00  15.18  1555846.38\n",
       "2015-01-15  14.85  15.35  1000.00  14.71  1242170.38\n",
       "2015-01-14  14.78  15.20  1000.00  14.70  1263029.62\n",
       "2015-01-13  14.65  14.90  1000.00  14.61   816874.75\n",
       "2015-01-12  14.87  15.05    14.77  14.50  1553290.88\n",
       "2015-01-09  14.90  15.87    15.08  14.71  2508500.25\n",
       "2015-01-08  15.50  15.57  1000.00  14.90  1407714.25\n",
       "2015-01-07  15.56  15.83    15.48  15.30  1700120.62\n",
       "2015-01-06  15.85  16.39    15.78  15.55  2166421.50\n",
       "2015-01-05  15.99  16.28    16.02  15.60  2860436.50"
      ]
     },
     "execution_count": 44,
     "metadata": {},
     "output_type": "execute_result"
    }
   ],
   "source": [
    "df.fillna(value=1000)"
   ]
  },
  {
   "cell_type": "markdown",
   "metadata": {},
   "source": [
    "##### 3.3 数据操作\n",
    "\n",
    "Series和DataFrame的类函数提供了一些函数，如mean()、sum()等，指定0按列进行，指定1按行进行："
   ]
  },
  {
   "cell_type": "code",
   "execution_count": 50,
   "metadata": {
    "collapsed": false
   },
   "outputs": [
    {
     "data": {
      "text/plain": [
       "open           14.655000\n",
       "high           14.984000\n",
       "close          15.054286\n",
       "low            14.433000\n",
       "volume    1547106.162500\n",
       "dtype: float64"
      ]
     },
     "execution_count": 50,
     "metadata": {},
     "output_type": "execute_result"
    }
   ],
   "source": [
    "df.mean(0)"
   ]
  },
  {
   "cell_type": "markdown",
   "metadata": {},
   "source": [
    "value_counts函数可以方便地统计频数："
   ]
  },
  {
   "cell_type": "code",
   "execution_count": 55,
   "metadata": {
    "collapsed": false
   },
   "outputs": [
    {
     "data": {
      "text/plain": [
       "15.78    1\n",
       "14.42    1\n",
       "16.02    1\n",
       "14.77    1\n",
       "15.48    1\n",
       "15.08    1\n",
       "13.83    1\n",
       "dtype: int64"
      ]
     },
     "execution_count": 55,
     "metadata": {},
     "output_type": "execute_result"
    }
   ],
   "source": [
    "df['close'].value_counts()"
   ]
  },
  {
   "cell_type": "markdown",
   "metadata": {},
   "source": [
    "在panda中，Series可以调用map函数来对每个元素应用一个函数，DataFrame可以调用apply函数对每一列（行）应用一个函数，applymap对每个元素应用一个函数。这里面的函数可以是用户自定义的一个lambda函数，也可以是已有的其他函数。下例展示了将收盘价调整到[0, 1]区间："
   ]
  },
  {
   "cell_type": "code",
   "execution_count": 56,
   "metadata": {
    "collapsed": false,
    "scrolled": true
   },
   "outputs": [
    {
     "data": {
      "text/html": [
       "<div style=\"max-height:1000px;max-width:1500px;overflow:auto;\">\n",
       "<table border=\"1\" class=\"dataframe\">\n",
       "  <thead>\n",
       "    <tr style=\"text-align: right;\">\n",
       "      <th></th>\n",
       "      <th>close</th>\n",
       "    </tr>\n",
       "    <tr>\n",
       "      <th>date</th>\n",
       "      <th></th>\n",
       "    </tr>\n",
       "  </thead>\n",
       "  <tbody>\n",
       "    <tr>\n",
       "      <th>2015-01-30</th>\n",
       "      <td>      NaN</td>\n",
       "    </tr>\n",
       "    <tr>\n",
       "      <th>2015-01-29</th>\n",
       "      <td>      NaN</td>\n",
       "    </tr>\n",
       "    <tr>\n",
       "      <th>2015-01-28</th>\n",
       "      <td>      NaN</td>\n",
       "    </tr>\n",
       "    <tr>\n",
       "      <th>2015-01-27</th>\n",
       "      <td>      NaN</td>\n",
       "    </tr>\n",
       "    <tr>\n",
       "      <th>2015-01-26</th>\n",
       "      <td>      NaN</td>\n",
       "    </tr>\n",
       "    <tr>\n",
       "      <th>2015-01-23</th>\n",
       "      <td>      NaN</td>\n",
       "    </tr>\n",
       "    <tr>\n",
       "      <th>2015-01-22</th>\n",
       "      <td>      NaN</td>\n",
       "    </tr>\n",
       "    <tr>\n",
       "      <th>2015-01-21</th>\n",
       "      <td> 0.269406</td>\n",
       "    </tr>\n",
       "    <tr>\n",
       "      <th>2015-01-20</th>\n",
       "      <td>      NaN</td>\n",
       "    </tr>\n",
       "    <tr>\n",
       "      <th>2015-01-19</th>\n",
       "      <td> 0.000000</td>\n",
       "    </tr>\n",
       "    <tr>\n",
       "      <th>2015-01-16</th>\n",
       "      <td>      NaN</td>\n",
       "    </tr>\n",
       "    <tr>\n",
       "      <th>2015-01-15</th>\n",
       "      <td>      NaN</td>\n",
       "    </tr>\n",
       "    <tr>\n",
       "      <th>2015-01-14</th>\n",
       "      <td>      NaN</td>\n",
       "    </tr>\n",
       "    <tr>\n",
       "      <th>2015-01-13</th>\n",
       "      <td>      NaN</td>\n",
       "    </tr>\n",
       "    <tr>\n",
       "      <th>2015-01-12</th>\n",
       "      <td> 0.429224</td>\n",
       "    </tr>\n",
       "    <tr>\n",
       "      <th>2015-01-09</th>\n",
       "      <td> 0.570776</td>\n",
       "    </tr>\n",
       "    <tr>\n",
       "      <th>2015-01-08</th>\n",
       "      <td>      NaN</td>\n",
       "    </tr>\n",
       "    <tr>\n",
       "      <th>2015-01-07</th>\n",
       "      <td> 0.753425</td>\n",
       "    </tr>\n",
       "    <tr>\n",
       "      <th>2015-01-06</th>\n",
       "      <td> 0.890411</td>\n",
       "    </tr>\n",
       "    <tr>\n",
       "      <th>2015-01-05</th>\n",
       "      <td> 1.000000</td>\n",
       "    </tr>\n",
       "  </tbody>\n",
       "</table>\n",
       "</div>"
      ],
      "text/plain": [
       "               close\n",
       "date                \n",
       "2015-01-30       NaN\n",
       "2015-01-29       NaN\n",
       "2015-01-28       NaN\n",
       "2015-01-27       NaN\n",
       "2015-01-26       NaN\n",
       "2015-01-23       NaN\n",
       "2015-01-22       NaN\n",
       "2015-01-21  0.269406\n",
       "2015-01-20       NaN\n",
       "2015-01-19  0.000000\n",
       "2015-01-16       NaN\n",
       "2015-01-15       NaN\n",
       "2015-01-14       NaN\n",
       "2015-01-13       NaN\n",
       "2015-01-12  0.429224\n",
       "2015-01-09  0.570776\n",
       "2015-01-08       NaN\n",
       "2015-01-07  0.753425\n",
       "2015-01-06  0.890411\n",
       "2015-01-05  1.000000"
      ]
     },
     "execution_count": 56,
     "metadata": {},
     "output_type": "execute_result"
    }
   ],
   "source": [
    "df[['close']].apply(lambda x: (x - x.min()) / (x.max() - x.min()))"
   ]
  },
  {
   "cell_type": "markdown",
   "metadata": {},
   "source": [
    "使用append可以在Series后添加元素，以及在DataFrame尾部添加一行："
   ]
  },
  {
   "cell_type": "code",
   "execution_count": 59,
   "metadata": {
    "collapsed": false
   },
   "outputs": [
    {
     "name": "stdout",
     "output_type": "stream",
     "text": [
      "Before appending:\n",
      "             open  close\n",
      "date                    \n",
      "2015-01-30  13.93    NaN\n",
      "2015-01-29  13.82    NaN\n",
      "2015-01-28  13.87    NaN\n",
      "2015-01-27  14.35    NaN\n",
      "2015-01-26  14.36    NaN\n",
      "After appending:\n",
      "    open  close\n",
      "0  13.93    NaN\n",
      "1  13.82    NaN\n",
      "2  13.87    NaN\n",
      "3  14.35    NaN\n",
      "4  14.36    NaN\n",
      "5  13.87    NaN\n"
     ]
    }
   ],
   "source": [
    "dat1 = df[['open', 'close']].head()\n",
    "dat2 = df[['open', 'close']].iloc[2]\n",
    "print(\"Before appending:\")\n",
    "print(dat1)\n",
    "dat = dat1.append(dat2, ignore_index=True)\n",
    "print(\"After appending:\")\n",
    "print(dat)"
   ]
  },
  {
   "cell_type": "markdown",
   "metadata": {},
   "source": [
    "DataFrame可以像在SQL中一样进行合并，在上篇中，我们介绍了使用concat函数创建DataFrame，这就是一种合并的方式。另外一种方式使用merge函数，需要指定依照哪些列进行合并，下例展示了如何根据security ID和交易日合并数据："
   ]
  },
  {
   "cell_type": "code",
   "execution_count": 61,
   "metadata": {
    "collapsed": false
   },
   "outputs": [
    {
     "name": "stdout",
     "output_type": "stream",
     "text": [
      "The first DataFrame:\n",
      "             open  close   high\n",
      "date                           \n",
      "2015-01-30  13.93    NaN  14.12\n",
      "2015-01-29  13.82    NaN  14.01\n",
      "2015-01-28  13.87    NaN  14.30\n",
      "2015-01-27  14.35    NaN  14.37\n",
      "2015-01-26  14.36    NaN  14.44\n",
      "The second DataFrame:\n",
      "             open  close      volume\n",
      "date                                \n",
      "2015-01-30  13.93    NaN   930116.69\n",
      "2015-01-29  13.82    NaN  1016753.31\n",
      "2015-01-28  13.87    NaN  1240877.50\n",
      "2015-01-27  14.35    NaN  1339494.62\n",
      "2015-01-26  14.36    NaN  1057605.75\n",
      "Merged DataFrame:\n",
      "    open  close   high      volume\n",
      "0  13.93    NaN  14.12   930116.69\n",
      "1  13.82    NaN  14.01  1016753.31\n",
      "2  13.87    NaN  14.30  1240877.50\n",
      "3  14.35    NaN  14.37  1339494.62\n",
      "4  14.36    NaN  14.44  1057605.75\n"
     ]
    }
   ],
   "source": [
    "dat1 = df[['open', 'close', 'high']]\n",
    "dat2 = df[['open', 'close', 'volume']]\n",
    "dat = dat1.merge(dat2, on=['open', 'close'])\n",
    "print(\"The first DataFrame:\")\n",
    "print(dat1.head())\n",
    "print(\"The second DataFrame:\")\n",
    "print(dat2.head())\n",
    "print(\"Merged DataFrame:\")\n",
    "print(dat.head())"
   ]
  },
  {
   "cell_type": "markdown",
   "metadata": {},
   "source": [
    "DataFrame另一个强大的函数是groupby，可以十分方便地对数据分组处理，我们对2015年一月内十支股票的开盘价，最高价，最低价，收盘价和成交量求平均值："
   ]
  },
  {
   "cell_type": "code",
   "execution_count": null,
   "metadata": {
    "collapsed": true
   },
   "outputs": [],
   "source": [
    "df_grp = df.groupby('secID')\n",
    "grp_mean = df_grp.mean()\n",
    "print(grp_mean)\n",
    "#              openPrice  highestPrice  lowestPrice  closePrice  turnoverVol\n",
    "# secID                                                                     \n",
    "# 000001.XSHE    14.6550       14.9840      14.4330     14.6650    154710615\n",
    "# 000002.XSHE    13.3815       13.7530      13.0575     13.4100    277459431\n",
    "# 000568.XSHE    19.7220       20.1015      19.4990     19.7935     29199107\n",
    "# 000625.XSHE    19.4915       20.2275      19.1040     19.7170     42633332\n",
    "# 000768.XSHE    22.4345       23.4625      21.8830     22.6905     92781199\n",
    "# 600028.XSHG     6.6060        6.7885       6.4715      6.6240    531966632\n",
    "# 600030.XSHG    31.1505       32.0825      30.4950     31.2325    611544509\n",
    "# 601111.XSHG     8.4320        8.6520       8.2330      8.4505    104143358\n",
    "# 601390.XSHG     8.4060        8.6625       8.2005      8.4100    362831455\n",
    "# 601998.XSHG     7.4305        7.6260       7.2780      7.4345    177541066"
   ]
  },
  {
   "cell_type": "markdown",
   "metadata": {},
   "source": [
    "如果希望取每只股票的最新数据，应该怎么操作呢？drop_duplicates可以实现这个功能，首先对数据按日期排序，再按security ID去重："
   ]
  },
  {
   "cell_type": "code",
   "execution_count": null,
   "metadata": {
    "collapsed": true
   },
   "outputs": [],
   "source": [
    "df2 = df.sort(columns=['secID', 'tradeDate'], ascending=[True, False])\n",
    "print(df2.drop_duplicates(subset='secID'))\n",
    "\n",
    "#            secID   tradeDate secShortName  openPrice  highestPrice  lowestPrice  closePrice  turnoverVol\n",
    "# 19   000001.XSHE  2015-01-30         平安银行      13.93         14.12        13.76       13.93     93011669\n",
    "# 39   000002.XSHE  2015-01-30          万科A      13.09         13.49        12.80       13.12    209624706\n",
    "# 59   000568.XSHE  2015-01-30         泸州老窖      19.15         19.51        19.11       19.12     14177179\n",
    "# 79   000625.XSHE  2015-01-30         长安汽车      19.16         19.45        18.92       19.18     21233495\n",
    "# 99   000768.XSHE  2015-01-30         中航飞机      25.38         25.65        24.28       24.60     59550293\n",
    "# 119  600028.XSHG  2015-01-30         中国石化       6.14          6.17         6.02        6.03    502445638\n",
    "# 139  600030.XSHG  2015-01-30         中信证券      28.50         28.72        27.78       27.86    304218245\n",
    "# 159  601111.XSHG  2015-01-30         中国国航       7.92          8.03         7.65        7.69     61877792\n",
    "# 179  601390.XSHG  2015-01-30         中国中铁       8.69          8.69         8.12        8.14    352357431\n",
    "# 199  601998.XSHG  2015-01-30         中信银行       7.10          7.14         6.92        6.95     68146718"
   ]
  },
  {
   "cell_type": "markdown",
   "metadata": {},
   "source": [
    "若想要保留最老的数据，可以在降序排列后取最后一个记录，通过指定take_last=True（默认值为False，取第一条记录）可以实现："
   ]
  },
  {
   "cell_type": "code",
   "execution_count": null,
   "metadata": {
    "collapsed": true
   },
   "outputs": [],
   "source": [
    "print(df2.drop_duplicates(subset='secID', take_last=True))\n",
    "\n",
    "#            secID   tradeDate secShortName  openPrice  highestPrice  lowestPrice  closePrice  turnoverVol\n",
    "# 0    000001.XSHE  2015-01-05         平安银行      15.99         16.28        15.60       16.02    286043643\n",
    "# 20   000002.XSHE  2015-01-05          万科A      14.39         15.29        14.22       14.91    656083570\n",
    "# 40   000568.XSHE  2015-01-05         泸州老窖      20.50         21.99        20.32       21.90     59304755\n",
    "# 60   000625.XSHE  2015-01-05         长安汽车      16.40         18.07        16.32       18.07     82087982\n",
    "# 80   000768.XSHE  2015-01-05         中航飞机      18.76         19.88        18.41       19.33     84199357\n",
    "# 100  600028.XSHG  2015-01-05         中国石化       6.59          7.14         6.45        7.14   1186499645\n",
    "# 120  600030.XSHG  2015-01-05         中信证券      33.90         35.25        33.01       34.66    698627215\n",
    "# 140  601111.XSHG  2015-01-05         中国国航       7.98          8.62         7.98        8.62    231611758\n",
    "# 160  601390.XSHG  2015-01-05         中国中铁       9.37          9.37         8.90        9.13    469902172\n",
    "# 180  601998.XSHG  2015-01-05         中信银行       8.15          8.33         7.91        8.16    337368242"
   ]
  },
  {
   "cell_type": "markdown",
   "metadata": {},
   "source": [
    "#### 四、数据可视化\n",
    "\n",
    "pandas数据直接可以绘图查看，下例中我们采用中国石化一月的收盘价进行绘图，其中set_index('tradeDate')['closePrice']表示将DataFrame的'tradeDate'这一列作为索引，将'closePrice'这一列作为Series的值，返回一个Series对象，随后调用plot函数绘图，更多的参数可以在matplotlib的文档中查看。"
   ]
  },
  {
   "cell_type": "code",
   "execution_count": 64,
   "metadata": {
    "collapsed": false
   },
   "outputs": [
    {
     "data": {
      "text/plain": [
       "<matplotlib.axes._subplots.AxesSubplot at 0x726ed90>"
      ]
     },
     "execution_count": 64,
     "metadata": {},
     "output_type": "execute_result"
    },
    {
     "data": {
      "image/png": "[encoded data removed]",
      "text/plain": [
       "<matplotlib.figure.Figure at 0x61463f0>"
      ]
     },
     "metadata": {},
     "output_type": "display_data"
    }
   ],
   "source": [
    "%matplotlib inline\n",
    "# dat = df[df['secID'] == '600028.XSHG'].set_index('tradeDate')['closePrice']\n",
    "dat.plot(title=\"Close Price of SINOPEC (600028) during Jan, 2015\")\n",
    "\n",
    "dat = df[df['close'] > 0]['open']\n",
    "dat.plot(title=\"Price - during Jan, 2015\")\n",
    "\n"
   ]
  },
  {
   "cell_type": "markdown",
   "metadata": {
    "collapsed": true
   },
   "source": [
    "#### 参考文献\n",
    "\n",
    "http://pandas.pydata.org/pandas-docs/version/0.14.1"
   ]
  }
 ],
 "metadata": {
  "kernelspec": {
   "display_name": "Python 3",
   "language": "python",
   "name": "python3"
  },
  "language_info": {
   "codemirror_mode": {
    "name": "ipython",
    "version": 3
   },
   "file_extension": ".py",
   "mimetype": "text/x-python",
   "name": "python",
   "nbconvert_exporter": "python",
   "pygments_lexer": "ipython3",
   "version": "3.4.3"
  }
 },
 "nbformat": 4,
 "nbformat_minor": 0
}
